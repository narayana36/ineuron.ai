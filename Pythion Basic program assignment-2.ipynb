{
 "cells": [
  {
   "cell_type": "code",
   "execution_count": 3,
   "metadata": {},
   "outputs": [
    {
     "name": "stdout",
     "output_type": "stream",
     "text": [
      "Enter value of kilometers is:4.5\n",
      "4.50 kilometers is equal to 2.80 miles\n"
     ]
    }
   ],
   "source": [
    "#1.Write a Python program to convert kilometers to miles?\n",
    "#taking kilometers input from the user\n",
    "kilometers=float(input(\"Enter value of kilometers is:\"))\n",
    "\n",
    "#conversion factor\n",
    "conv_fac=0.621371\n",
    "\n",
    "#taking miles to the user\n",
    "miles=kilometers*conv_fac\n",
    "print('%0.2f kilometers is equal to %0.2f miles' %(kilometers, miles))"
   ]
  },
  {
   "cell_type": "code",
   "execution_count": 13,
   "metadata": {},
   "outputs": [
    {
     "name": "stdout",
     "output_type": "stream",
     "text": [
      "37.2 degree celsius is equal to 99.0 degree fahrenheit\n"
     ]
    }
   ],
   "source": [
    "#2.Write a Python program to convert Celsius to Fahrenheit?\n",
    "#convert celsius to fahrenheit\n",
    "\n",
    "celsius=37.2\n",
    "\n",
    "#calculate fahrenheit\n",
    "fahrenheit = (celsius*1.8) + 32\n",
    "\n",
    "print('%0.1f degree celsius is equal to %0.1f degree fahrenheit' %(celsius,fahrenheit))\n"
   ]
  },
  {
   "cell_type": "code",
   "execution_count": 15,
   "metadata": {},
   "outputs": [
    {
     "name": "stdout",
     "output_type": "stream",
     "text": [
      "Enter year1998\n",
      "Enter month11\n",
      "   November 1998\n",
      "Mo Tu We Th Fr Sa Su\n",
      "                   1\n",
      " 2  3  4  5  6  7  8\n",
      " 9 10 11 12 13 14 15\n",
      "16 17 18 19 20 21 22\n",
      "23 24 25 26 27 28 29\n",
      "30\n",
      "\n"
     ]
    }
   ],
   "source": [
    "#3.Write a Python program to display calendar?\n",
    "#importing calendar module\n",
    "import calendar\n",
    "#To take year and month input from the user \n",
    "year=int(input(\"Enter year\"))\n",
    "month=int(input(\"Enter month\"))\n",
    "#display the calendar\n",
    "print(calendar.month(year,month))"
   ]
  },
  {
   "cell_type": "code",
   "execution_count": 26,
   "metadata": {},
   "outputs": [
    {
     "name": "stdout",
     "output_type": "stream",
     "text": [
      "The roots are\n",
      "(-3.414213562373095+0j)\n",
      "(-0.5857864376269049+0j)\n"
     ]
    }
   ],
   "source": [
    "#4.Write a Python program to solve quadratic equation?\n",
    "# import complex math module\n",
    "import cmath\n",
    "\n",
    "a = 1\n",
    "b = 4\n",
    "c = 2\n",
    "\n",
    "# calculating the discriminant\n",
    "d = (b**2) - (4 * a*c)\n",
    "\n",
    "# find two results\n",
    "s1 = (-b-cmath.sqrt(d))/(2 * a)\n",
    "s2 = (-b + cmath.sqrt(d))/(2 * a)\n",
    "\n",
    "# printing the results\n",
    "print('The roots are')\n",
    "print(s1)\n",
    "print(s2)\n"
   ]
  },
  {
   "cell_type": "code",
   "execution_count": 25,
   "metadata": {},
   "outputs": [
    {
     "name": "stdout",
     "output_type": "stream",
     "text": [
      "Enter value is 5\n",
      "Enter value is 8\n",
      "Before swaping :\n",
      "value of x 5 value of y 8\n",
      "After swaping:\n",
      "value of x 8 value of y 5\n"
     ]
    }
   ],
   "source": [
    "#5.Write a Python program to swap two variables without temp variable?\n",
    "\n",
    "#taking input from the user\n",
    "x=int(input(\"Enter value is \"))\n",
    "y=int(input(\"Enter value is \"))\n",
    "\n",
    "print(\"Before swaping :\")\n",
    "print(\"value of x\",x,\"value of y\",y)\n",
    "#code to swap 'x' and 'y'\n",
    "x,y=y,x\n",
    "print(\"After swaping:\")\n",
    "print(\"value of x\",x,\"value of y\",y)"
   ]
  },
  {
   "cell_type": "code",
   "execution_count": null,
   "metadata": {},
   "outputs": [],
   "source": []
  }
 ],
 "metadata": {
  "kernelspec": {
   "display_name": "Python 3",
   "language": "python",
   "name": "python3"
  },
  "language_info": {
   "codemirror_mode": {
    "name": "ipython",
    "version": 3
   },
   "file_extension": ".py",
   "mimetype": "text/x-python",
   "name": "python",
   "nbconvert_exporter": "python",
   "pygments_lexer": "ipython3",
   "version": "3.7.3"
  }
 },
 "nbformat": 4,
 "nbformat_minor": 2
}
