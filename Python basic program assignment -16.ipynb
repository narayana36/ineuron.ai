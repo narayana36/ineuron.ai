{
 "cells": [
  {
   "cell_type": "markdown",
   "id": "9ee49b57",
   "metadata": {},
   "source": [
    "1. Write a function that stutters a word as if someone is struggling to read it. The\n",
    "first two letters are repeated twice with an ellipsis ... and space after each, and then the\n",
    "word is pronounced with a question mark ?.\n",
    "\n",
    "Examples\n",
    "\n",
    "stutter(&quot;incredible&quot;) ➞ &quot;in... in... incredible?&quot;\n",
    "\n",
    "stutter(&quot;enthusiastic&quot;) ➞ &quot;en... en... enthusiastic?&quot;\n",
    "\n",
    "stutter(&quot;outstanding&quot;) ➞ &quot;ou... ou... outstanding?&quot;\n",
    "\n",
    "Hint :- Assume all input is in lower case and at least two characters long."
   ]
  },
  {
   "cell_type": "code",
   "execution_count": 1,
   "id": "de1f15e8",
   "metadata": {},
   "outputs": [
    {
     "name": "stdout",
     "output_type": "stream",
     "text": [
      "in...in...incredible?\n",
      "en...en...enthusiastic?\n",
      "ou...ou...outstanding?\n"
     ]
    }
   ],
   "source": [
    "def stutter(word):\n",
    "    s = word[:2]\n",
    "    return (2*(s + '...') + word + '?')\n",
    "print(stutter('incredible'))\n",
    "print(stutter('enthusiastic'))\n",
    "print(stutter('outstanding'))"
   ]
  },
  {
   "cell_type": "markdown",
   "id": "692b1505",
   "metadata": {},
   "source": [
    "2.Create a function that takes an angle in radians and returns the corresponding\n",
    "angle in degrees rounded to one decimal place.\n",
    "\n",
    "Examples\n",
    "\n",
    "radians_to_degrees(1) ➞ 57.3\n",
    "\n",
    "radians_to_degrees(20) ➞ 1145.9\n",
    "\n",
    "radians_to_degrees(50) ➞ 2864.8"
   ]
  },
  {
   "cell_type": "code",
   "execution_count": 2,
   "id": "98cf3a03",
   "metadata": {},
   "outputs": [
    {
     "name": "stdout",
     "output_type": "stream",
     "text": [
      "Enter the Radian: 20\n",
      "degree = 1145.9165581759555\n"
     ]
    }
   ],
   "source": [
    "def radian_to_degrees(radian):\n",
    "    pi = 3.14159\n",
    "    degree = radian * (180/pi)\n",
    "    return degree\n",
    "radian = float(input('Enter the Radian: '))\n",
    "print('degree =',(radian_to_degrees(radian)))"
   ]
  },
  {
   "cell_type": "markdown",
   "id": "374f47a6",
   "metadata": {},
   "source": [
    " 3.In this challenge, establish if a given integer num is a Curzon number. If 1 plus\n",
    "2 elevated to num is exactly divisible by 1 plus 2 multiplied by num, then num is a Curzon\n",
    "number.\n",
    "\n",
    "Given a non-negative integer num, implement a function that returns True if num is a Curzon\n",
    "number, or False otherwise.\n",
    "\n",
    "Examples\n",
    "\n",
    "is_curzon(5) ➞ True\n",
    "\n",
    "> 2 ** 5 + 1 = 33\n",
    "\n",
    ">2 * 5 + 1 = 11\n",
    "\n",
    "> 33 is a multiple of 11\n",
    "\n",
    "is_curzon(10) ➞ False\n",
    "\n",
    ">2 ** 10 + 1 = 1025\n",
    "\n",
    "> 2 * 10 + 1 = 21\n",
    "\n",
    "> 1025 is not a multiple of 21\n",
    "\n",
    "is_curzon(14) ➞ True\n",
    "\n",
    "> 2 ** 14 + 1 = 16385\n",
    "\n",
    "> 2 * 14 + 1 = 29\n",
    "\n",
    "> 16385 is a multiple of 29\n"
   ]
  },
  {
   "cell_type": "code",
   "execution_count": 3,
   "id": "62aeb8d6",
   "metadata": {},
   "outputs": [
    {
     "name": "stdout",
     "output_type": "stream",
     "text": [
      "Enter a number: 5\n",
      "5 is Curzon Number\n"
     ]
    }
   ],
   "source": [
    "def CurzonNumber(n):\n",
    "    power,product = 0,0\n",
    "    \n",
    "    #Find 2**n + 1\n",
    "    power = pow(2,n)+ 1\n",
    "    \n",
    "    #find 2*n +1\n",
    "    product = 2*n +1\n",
    "    \n",
    "    #check for divisibility\n",
    "    if (power % product == 0):\n",
    "        print(n, \"is Curzon Number\")\n",
    "    else:\n",
    "        print(n, 'is not Curzon Number')\n",
    "        \n",
    "n = int(input(\"Enter a number: \"))\n",
    "CurzonNumber(n)"
   ]
  },
  {
   "cell_type": "markdown",
   "id": "b4d198d1",
   "metadata": {},
   "source": [
    "4.Given the side length x find the area of a hexagon.\n",
    "\n",
    "Examples\n",
    "\n",
    "area_of_hexagon(1) ➞ 2.6\n",
    "\n",
    "area_of_hexagon(2) ➞ 10.4\n",
    "\n",
    "area_of_hexagon(3) ➞ 23.4"
   ]
  },
  {
   "cell_type": "code",
   "execution_count": 4,
   "id": "daadb71c",
   "metadata": {},
   "outputs": [
    {
     "name": "stdout",
     "output_type": "stream",
     "text": [
      "enter the length: 3\n",
      "Area:  23.3827\n"
     ]
    }
   ],
   "source": [
    "import math\n",
    "\n",
    "def area_of_hexagon(s):\n",
    "    return ((3 * math.sqrt(3)*(sideLength * sideLength)) / 2);\n",
    "\n",
    "sideLength = float(input('enter the length: '))\n",
    "\n",
    "print(\"Area: \",\"{0:.4f}\".format(area_of_hexagon(sideLength)))"
   ]
  },
  {
   "cell_type": "markdown",
   "id": "e0dff3e2",
   "metadata": {},
   "source": [
    "5. Create a function that returns a base-2 (binary) representation of a base-10\n",
    "(decimal) string number. To convert is simple: ((2) means base-2 and (10) means base-10)\n",
    "010101001(2) = 1 + 8 + 32 + 128.\n",
    "\n",
    "Going from right to left, the value of the most right bit is 1, now from that every bit to the left\n",
    "will be x2 the value, value of an 8 bit binary numbers are (256, 128, 64, 32, 16, 8, 4, 2, 1).\n",
    "\n",
    "Examples\n",
    "\n",
    "binary(1) ➞ &quot;1&quot;\n",
    "\n",
    "> 1*1 = 1\n",
    "\n",
    "binary(5) ➞ &quot;101&quot;\n",
    "\n",
    "> 1 *1 + 1*4 = 5\n",
    "\n",
    "binary(10) ➞ &quot;1010&quot;\n",
    "\n",
    "> 1 *2 + 1*8 = 10"
   ]
  },
  {
   "cell_type": "code",
   "execution_count": 5,
   "id": "149b847f",
   "metadata": {},
   "outputs": [
    {
     "name": "stdout",
     "output_type": "stream",
     "text": [
      "0\n",
      "1\n",
      "10\n",
      "11\n",
      "100\n",
      "101\n",
      "110\n",
      "111\n",
      "1000\n",
      "1001\n",
      "1010\n",
      "1011\n",
      "1100\n",
      "1101\n",
      "1110\n",
      "1111\n",
      "10000\n",
      "10001\n",
      "10010\n",
      "10011\n",
      "10100\n",
      "10101\n",
      "10110\n",
      "10111\n",
      "11000\n"
     ]
    }
   ],
   "source": [
    "def Binary(n):\n",
    "    return bin(n).replace('0b','')\n",
    "\n",
    "for i in range(0,25):\n",
    "    print(Binary(i))"
   ]
  },
  {
   "cell_type": "code",
   "execution_count": null,
   "id": "4eaf8247",
   "metadata": {},
   "outputs": [],
   "source": []
  }
 ],
 "metadata": {
  "kernelspec": {
   "display_name": "Python 3 (ipykernel)",
   "language": "python",
   "name": "python3"
  },
  "language_info": {
   "codemirror_mode": {
    "name": "ipython",
    "version": 3
   },
   "file_extension": ".py",
   "mimetype": "text/x-python",
   "name": "python",
   "nbconvert_exporter": "python",
   "pygments_lexer": "ipython3",
   "version": "3.9.12"
  }
 },
 "nbformat": 4,
 "nbformat_minor": 5
}
