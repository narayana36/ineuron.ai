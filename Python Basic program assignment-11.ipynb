{
 "cells": [
  {
   "cell_type": "markdown",
   "id": "b23461be",
   "metadata": {},
   "source": [
    "1. Write a Python program to find words which are greater than given length k?"
   ]
  },
  {
   "cell_type": "code",
   "execution_count": 1,
   "id": "574e5305",
   "metadata": {},
   "outputs": [
    {
     "name": "stdout",
     "output_type": "stream",
     "text": [
      "Science\n"
     ]
    }
   ],
   "source": [
    "def word_k(k,s):\n",
    "    word = s.split()\n",
    "    for x in word:\n",
    "        if len(x)>k:\n",
    "            print(x)\n",
    "            \n",
    "k=6\n",
    "s=\"Full Stack Data Science\"\n",
    "word_k(k, s)"
   ]
  },
  {
   "cell_type": "markdown",
   "id": "a74f242c",
   "metadata": {},
   "source": [
    "2. Write a Python program for removing i-th character from a string?"
   ]
  },
  {
   "cell_type": "code",
   "execution_count": 2,
   "id": "12cac272",
   "metadata": {},
   "outputs": [
    {
     "name": "stdout",
     "output_type": "stream",
     "text": [
      "Pythonsgood\n"
     ]
    }
   ],
   "source": [
    "def remove_char(s, i):\n",
    "    a = s[ : i]\n",
    "    b = s[i + 1:]\n",
    "    \n",
    "    return a+b\n",
    "\n",
    "string = \"Pythonisgood\"\n",
    "i=7\n",
    "print(remove_char(string,i-1))"
   ]
  },
  {
   "cell_type": "markdown",
   "id": "96d4a995",
   "metadata": {},
   "source": [
    "3. Write a Python program to split and join a string?"
   ]
  },
  {
   "cell_type": "code",
   "execution_count": 3,
   "id": "e1ca99ec",
   "metadata": {},
   "outputs": [
    {
     "name": "stdout",
     "output_type": "stream",
     "text": [
      "After Splitting:  ['Welcome', 'to', 'FSDS', 'Batch']\n",
      "After Joining:  Welcome-to-FSDS-Batch\n"
     ]
    }
   ],
   "source": [
    "def split_string(string):\n",
    "    list_string = string.split(' ')\n",
    "    return list_string\n",
    "def join_string(list_string):\n",
    "    string = '-'.join(list_string)\n",
    "    return string\n",
    "\n",
    "string = 'Welcome to FSDS Batch'\n",
    "list_string = split_string(string)\n",
    "print(\"After Splitting: \", list_string)\n",
    "\n",
    "res_string = join_string(list_string)\n",
    "print(\"After Joining: \", res_string)"
   ]
  },
  {
   "cell_type": "markdown",
   "id": "e059bb15",
   "metadata": {},
   "source": [
    "4. Write a Python to check if a given string is binary string or not?"
   ]
  },
  {
   "cell_type": "code",
   "execution_count": 4,
   "id": "67bef378",
   "metadata": {},
   "outputs": [
    {
     "name": "stdout",
     "output_type": "stream",
     "text": [
      "Binary string\n",
      "Not Binary string\n"
     ]
    }
   ],
   "source": [
    "def check(string):\n",
    "    b = set(string)\n",
    "    s = {'0','1'}\n",
    "    if s == b or b == {'0'} or b == {'1'}:\n",
    "        print(\"Binary string\")\n",
    "    else:\n",
    "        print(\"Not Binary string\")\n",
    "        \n",
    "        \n",
    "s1='00110101'\n",
    "check(s1)\n",
    "s2='010101200100'\n",
    "check(s2)"
   ]
  },
  {
   "cell_type": "markdown",
   "id": "8d77b7d4",
   "metadata": {},
   "source": [
    "5. Write a Python program to find uncommon words from two Strings?"
   ]
  },
  {
   "cell_type": "code",
   "execution_count": 5,
   "id": "5ceed47e",
   "metadata": {},
   "outputs": [
    {
     "name": "stdout",
     "output_type": "stream",
     "text": [
      "['Ineuron', 'Python']\n"
     ]
    }
   ],
   "source": [
    "def uncommon_words(s1, s2):\n",
    "    count={}\n",
    "    for word in s1.split():\n",
    "        count[word] = count.get(word, 0) + 1\n",
    "        \n",
    "    for word in s2.split():\n",
    "        count[word] = count.get(word, 0) + 1\n",
    "        \n",
    "    return [word for word in count if count[word] == 1]\n",
    "\n",
    "s1 = \"Ineuron is good\"\n",
    "s2 = \"Python is good\"\n",
    "\n",
    "print(uncommon_words(s1, s2))"
   ]
  },
  {
   "cell_type": "markdown",
   "id": "8bcea89c",
   "metadata": {},
   "source": [
    "6. Write a Python to find all duplicate characters in string?"
   ]
  },
  {
   "cell_type": "code",
   "execution_count": 6,
   "id": "9a4060a8",
   "metadata": {},
   "outputs": [
    {
     "name": "stdout",
     "output_type": "stream",
     "text": [
      "Duplicates character in a given string: \n",
      "e\n",
      "l\n",
      "c\n",
      "o\n",
      "t\n",
      "s\n",
      "a\n"
     ]
    }
   ],
   "source": [
    "string = \"welcome to full stack data science\"\n",
    "print(\"Duplicates character in a given string: \")\n",
    "for i in range(0, len(string)):\n",
    "    count = 1\n",
    "    for j in range(i+1, len(string)):\n",
    "        if (string[i] == string[j] and string[i]!= ' '):\n",
    "            count = count + 1\n",
    "            string = string[:j] + '0' + string[j+1:]\n",
    "            \n",
    "    if(count>1 and string[i]!= '0'):\n",
    "            print(string[i])"
   ]
  },
  {
   "cell_type": "markdown",
   "id": "2493ffa1",
   "metadata": {},
   "source": [
    "7. Write a Python Program to check if a string contains any special character?"
   ]
  },
  {
   "cell_type": "code",
   "execution_count": 7,
   "id": "83d8ae68",
   "metadata": {},
   "outputs": [
    {
     "name": "stdout",
     "output_type": "stream",
     "text": [
      "Special characters in a string\n"
     ]
    }
   ],
   "source": [
    "import re\n",
    "\n",
    "str1=\"Welcome@@to@Full#$%Data^&Science*&?/\\$\"\n",
    "\n",
    "regex=re.compile('[@_!#$%^&*()<>?/\\|}{~:]')\n",
    "\n",
    "if regex.search(str1) == None:\n",
    "    print(\"No special characters in a string\")\n",
    "else:\n",
    "    print(\"Special characters in a string\")\n"
   ]
  },
  {
   "cell_type": "code",
   "execution_count": null,
   "id": "bc80c242",
   "metadata": {},
   "outputs": [],
   "source": []
  }
 ],
 "metadata": {
  "kernelspec": {
   "display_name": "Python 3 (ipykernel)",
   "language": "python",
   "name": "python3"
  },
  "language_info": {
   "codemirror_mode": {
    "name": "ipython",
    "version": 3
   },
   "file_extension": ".py",
   "mimetype": "text/x-python",
   "name": "python",
   "nbconvert_exporter": "python",
   "pygments_lexer": "ipython3",
   "version": "3.9.12"
  }
 },
 "nbformat": 4,
 "nbformat_minor": 5
}
