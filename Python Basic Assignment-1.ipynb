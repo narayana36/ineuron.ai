{
 "cells": [
  {
   "cell_type": "code",
   "execution_count": null,
   "metadata": {},
   "outputs": [],
   "source": [
    "#1. In the below elements which of them are values or an expression? \n",
    "eg:- values can be integer or string and expressions will be mathematical operators.\n",
    "\n",
    "*: It is an expression\n",
    "'hello': It is an string\n",
    "-87.8: It is a negative value\n",
    "-: It is an expression\n",
    "/ : It is expression\n",
    "+ : It is an expression\n",
    "6 : It is a positive value"
   ]
  },
  {
   "cell_type": "code",
   "execution_count": null,
   "metadata": {},
   "outputs": [],
   "source": [
    "#2. What is the difference between string and variable?\n",
    "\n",
    "A String is a sequence of characters enclosed within single quotes or double quotes and multiple single quotes.(eg.\"ineuron\")\n",
    "A Variable is a reserved memory location to store values.(eg.x=10), Variable can be either mutable or immutable. \n",
    "Variables are case-sentive"
   ]
  },
  {
   "cell_type": "code",
   "execution_count": null,
   "metadata": {},
   "outputs": [],
   "source": [
    "#3. Describe three different data types.\n",
    "\n",
    "Data type represent the type of data present inside a variable. Python are serveral inbuilt fuctions. The data types are:\n",
    "1.int:\n",
    "  The int() is one of the data type.The int is a data type that returns interger type values In Python, integers are zero, positive or negative whole numbers without a fractional part and having unlimited precision.\n",
    " e.g. 0, 100, -10.\n",
    " Integers can be binary, octal, and hexadecimal values.\n",
    "2.float:\n",
    " Floates are the values with the decimal points diving the integer and the fractional part of numbers. use  float data type to store decimal values.The float data type values are only decimal values.\n",
    "eg.x=13.2344\n",
    "3.complex:\n",
    "  The complex is the numbers that come with the real and imaginary part. A complex number is the form of a+bj, where a and b contains interger and floating-point values.\n",
    " eg.X= 2+6j"
   ]
  },
  {
   "cell_type": "code",
   "execution_count": null,
   "metadata": {},
   "outputs": [],
   "source": [
    "#4. What is an expression made up of? What do all expressions do?\n",
    "\n",
    "Expression is made up of values, containers, and mathematical operators (operands) \n",
    "e.g. a = 6+4 and an expressions are used to evaluate the values.  "
   ]
  },
  {
   "cell_type": "code",
   "execution_count": null,
   "metadata": {},
   "outputs": [],
   "source": [
    "#5. This assignment statements, like spam = 10. What is the difference between an expression and a statement?\n",
    "\n",
    "Expression is made up of values, containers, and mathamatical operators (operands).\n",
    "Statement is just like a command that a python interpreter executes like print. "
   ]
  },
  {
   "cell_type": "code",
   "execution_count": null,
   "metadata": {},
   "outputs": [],
   "source": [
    "#6. After running the following code, what does the variable bacon contain?\n",
    "bacon = 22\n",
    "bacon + 1\n",
    "\n",
    "output:23"
   ]
  },
  {
   "cell_type": "code",
   "execution_count": null,
   "metadata": {},
   "outputs": [],
   "source": [
    "#7. What should the values of the following two terms be?\n",
    "a='spam' + 'spamspam'\n",
    "b='spam' * 3\n",
    "\n",
    "print(a)\n",
    "'spamspamspam'\n",
    "print(b)\n",
    "'spamspamspam'"
   ]
  },
  {
   "cell_type": "code",
   "execution_count": null,
   "metadata": {},
   "outputs": [],
   "source": [
    "#8. Why is eggs a valid variable name while 100 is invalid?\n",
    "\n",
    "Variables are can't begin with number"
   ]
  },
  {
   "cell_type": "code",
   "execution_count": null,
   "metadata": {},
   "outputs": [],
   "source": [
    "#9. What three functions can be used to get the integer, floating-point number, or string version of a value?\n",
    "\n",
    "int(), float(), Str()"
   ]
  },
  {
   "cell_type": "code",
   "execution_count": null,
   "metadata": {},
   "outputs": [],
   "source": [
    "#10. Why does this expression cause an error? How can you fix it?\n",
    "'I have eaten ' + 99 + ' burritos.'\n",
    "\n",
    "integer is not concatenated with string so concatenate with strings or text "
   ]
  }
 ],
 "metadata": {
  "kernelspec": {
   "display_name": "Python 3",
   "language": "python",
   "name": "python3"
  },
  "language_info": {
   "codemirror_mode": {
    "name": "ipython",
    "version": 3
   },
   "file_extension": ".py",
   "mimetype": "text/x-python",
   "name": "python",
   "nbconvert_exporter": "python",
   "pygments_lexer": "ipython3",
   "version": "3.7.3"
  }
 },
 "nbformat": 4,
 "nbformat_minor": 2
}
