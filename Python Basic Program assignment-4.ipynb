{
 "cells": [
  {
   "cell_type": "markdown",
   "id": "a418f54a",
   "metadata": {},
   "source": [
    "1. Write a Python Program to Find the Factorial of a Number?"
   ]
  },
  {
   "cell_type": "code",
   "execution_count": 1,
   "id": "47d12afd",
   "metadata": {},
   "outputs": [
    {
     "name": "stdout",
     "output_type": "stream",
     "text": [
      "Enter n7\n",
      "Factorial of 7 is 5040\n"
     ]
    }
   ],
   "source": [
    "n = int(input(\"Enter n\"))\n",
    "\n",
    "if (n<0):\n",
    "    print(\"invalid number\")\n",
    "elif (n==0):\n",
    "    print(\"factorial of 0 is 1\")\n",
    "else:\n",
    "    mul = 1\n",
    "    for i in range(1,n+1):\n",
    "        mul = mul * i\n",
    "    print(\"Factorial of {} is {}\" .format(n, mul))"
   ]
  },
  {
   "cell_type": "markdown",
   "id": "c5b037e2",
   "metadata": {},
   "source": [
    "2. Write a Python Program to Display the multiplication Table?"
   ]
  },
  {
   "cell_type": "code",
   "execution_count": 2,
   "id": "8253484e",
   "metadata": {},
   "outputs": [
    {
     "name": "stdout",
     "output_type": "stream",
     "text": [
      "Enter a number6\n",
      "6 * 1 = 6\n",
      "6 * 2 = 12\n",
      "6 * 3 = 18\n",
      "6 * 4 = 24\n",
      "6 * 5 = 30\n",
      "6 * 6 = 36\n",
      "6 * 7 = 42\n",
      "6 * 8 = 48\n",
      "6 * 9 = 54\n",
      "6 * 10 = 60\n",
      "6 * 11 = 66\n",
      "6 * 12 = 72\n",
      "6 * 13 = 78\n",
      "6 * 14 = 84\n",
      "6 * 15 = 90\n",
      "6 * 16 = 96\n",
      "6 * 17 = 102\n",
      "6 * 18 = 108\n",
      "6 * 19 = 114\n",
      "6 * 20 = 120\n"
     ]
    }
   ],
   "source": [
    "n = int(input(\"Enter a number\"))\n",
    "for i in range(1,21):\n",
    "    print(n,\"*\",i,\"=\",n*i)"
   ]
  },
  {
   "cell_type": "markdown",
   "id": "ed889514",
   "metadata": {},
   "source": [
    "3. Write a Python Program to Print the Fibonacci sequence?"
   ]
  },
  {
   "cell_type": "code",
   "execution_count": 3,
   "id": "a17e2f8d",
   "metadata": {},
   "outputs": [
    {
     "name": "stdout",
     "output_type": "stream",
     "text": [
      "Enter how many numbers you want in this series:15\n",
      "0\n",
      "1\n",
      "1\n",
      "2\n",
      "3\n",
      "5\n",
      "8\n",
      "13\n",
      "21\n",
      "34\n",
      "55\n",
      "89\n",
      "144\n",
      "233\n",
      "377\n"
     ]
    }
   ],
   "source": [
    "n = int(input(\"Enter how many numbers you want in this series:\"))\n",
    "first = 0\n",
    "second = 1\n",
    "for i in range(n):\n",
    "    print(first)\n",
    "    temp= first\n",
    "    first = second\n",
    "    second = temp+second"
   ]
  },
  {
   "cell_type": "markdown",
   "id": "a6b49794",
   "metadata": {},
   "source": [
    "4. Write a Python Program to Check Armstrong Number?"
   ]
  },
  {
   "cell_type": "code",
   "execution_count": 4,
   "id": "bb44e7e5",
   "metadata": {},
   "outputs": [
    {
     "name": "stdout",
     "output_type": "stream",
     "text": [
      "Enter a number to check armstrong number153\n",
      "153 is armstrong number\n"
     ]
    }
   ],
   "source": [
    "i = int(input(\"Enter a number to check armstrong number\"))\n",
    "org= i\n",
    "sum =0\n",
    "while(i>0):\n",
    "    sum = sum+(i%10)*(i%10)*(i%10)\n",
    "    i = i//10\n",
    "if org==sum:  \n",
    "    print(org,\"is armstrong number\")\n",
    "else:\n",
    "    print(org,\"is not armstrong number\")"
   ]
  },
  {
   "cell_type": "markdown",
   "id": "bc8d97de",
   "metadata": {},
   "source": [
    "5. Write a Python Program to Find Armstrong Number in an Interval?"
   ]
  },
  {
   "cell_type": "code",
   "execution_count": 5,
   "id": "6dda309a",
   "metadata": {
    "scrolled": true
   },
   "outputs": [
    {
     "name": "stdout",
     "output_type": "stream",
     "text": [
      "Enter lower: 100\n",
      "Enter upper: 10000\n",
      "153\n",
      "370\n",
      "371\n",
      "407\n",
      "1634\n",
      "8208\n",
      "9474\n"
     ]
    }
   ],
   "source": [
    "lower = int(input(\"Enter lower: \"))\n",
    "upper = int(input(\"Enter upper: \"))\n",
    "\n",
    "for num in range(lower, upper+1):\n",
    "    order = len(str(num))\n",
    "    Sum = 0\n",
    "    temp = num\n",
    "    \n",
    "    while temp>0:\n",
    "        digit  = temp%10\n",
    "        Sum  = Sum + digit**order\n",
    "        temp = temp//10\n",
    "    if Sum == num:\n",
    "        print(num)"
   ]
  },
  {
   "cell_type": "markdown",
   "id": "a0984383",
   "metadata": {},
   "source": [
    "6. Write a Python Program to Find the Sum of Natural Numbers?"
   ]
  },
  {
   "cell_type": "code",
   "execution_count": 6,
   "id": "706936fd",
   "metadata": {},
   "outputs": [
    {
     "name": "stdout",
     "output_type": "stream",
     "text": [
      "Enter a number50\n",
      "Sum =  1275\n"
     ]
    }
   ],
   "source": [
    "n = int(input(\"Enter a number\"))\n",
    "i = 1\n",
    "sum  = 0\n",
    "while(i<=n):\n",
    "    sum = sum +i\n",
    "    i = i+1\n",
    "print(\"Sum = \", sum)"
   ]
  },
  {
   "cell_type": "code",
   "execution_count": null,
   "id": "fe1d9ba1",
   "metadata": {},
   "outputs": [],
   "source": []
  }
 ],
 "metadata": {
  "kernelspec": {
   "display_name": "Python 3 (ipykernel)",
   "language": "python",
   "name": "python3"
  },
  "language_info": {
   "codemirror_mode": {
    "name": "ipython",
    "version": 3
   },
   "file_extension": ".py",
   "mimetype": "text/x-python",
   "name": "python",
   "nbconvert_exporter": "python",
   "pygments_lexer": "ipython3",
   "version": "3.9.12"
  }
 },
 "nbformat": 4,
 "nbformat_minor": 5
}
