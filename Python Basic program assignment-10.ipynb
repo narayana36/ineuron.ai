{
 "cells": [
  {
   "cell_type": "markdown",
   "id": "0cc4737c",
   "metadata": {},
   "source": [
    "1. Write a Python program to find sum of elements in list?"
   ]
  },
  {
   "cell_type": "code",
   "execution_count": 1,
   "id": "38cd16a4",
   "metadata": {},
   "outputs": [
    {
     "data": {
      "text/plain": [
       "215"
      ]
     },
     "execution_count": 1,
     "metadata": {},
     "output_type": "execute_result"
    }
   ],
   "source": [
    "#sum() method\n",
    "a=[1,34,2,13,67,98]\n",
    "sum(a)"
   ]
  },
  {
   "cell_type": "code",
   "execution_count": 2,
   "id": "f1b0595d",
   "metadata": {},
   "outputs": [
    {
     "name": "stdout",
     "output_type": "stream",
     "text": [
      "Sum of elements in list is:  314\n"
     ]
    }
   ],
   "source": [
    "#for loop method\n",
    "list=[23,34,45,67,89,56]\n",
    "total=0\n",
    "\n",
    "for i in range(0,len(list)):\n",
    "    total=total+list[i]\n",
    "print(\"Sum of elements in list is: \", total)"
   ]
  },
  {
   "cell_type": "markdown",
   "id": "847506bc",
   "metadata": {},
   "source": [
    "2. Write a Python program to Multiply all numbers in the list?"
   ]
  },
  {
   "cell_type": "code",
   "execution_count": 3,
   "id": "799b84f5",
   "metadata": {},
   "outputs": [
    {
     "name": "stdout",
     "output_type": "stream",
     "text": [
      "Multiply all numbers in the list is:  720\n"
     ]
    }
   ],
   "source": [
    "# for loop method\n",
    "list=[2,3,4,5,6]\n",
    "result=1\n",
    "for x in list:\n",
    "    result=result*x\n",
    "print(\"Multiply all numbers in the list is: \", result)"
   ]
  },
  {
   "cell_type": "code",
   "execution_count": 4,
   "id": "de9a0ca5",
   "metadata": {},
   "outputs": [
    {
     "name": "stdout",
     "output_type": "stream",
     "text": [
      "5040\n"
     ]
    }
   ],
   "source": [
    "#using numpy.prod()\n",
    "import numpy\n",
    "list=[2,4,5,6,3,7]\n",
    "result=numpy.prod(list)\n",
    "print(result)"
   ]
  },
  {
   "cell_type": "markdown",
   "id": "0f20d4ac",
   "metadata": {},
   "source": [
    "3. Write a Python program to find smallest number in a list?"
   ]
  },
  {
   "cell_type": "code",
   "execution_count": 5,
   "id": "ffecbae8",
   "metadata": {},
   "outputs": [
    {
     "name": "stdout",
     "output_type": "stream",
     "text": [
      "smallest number in a list is:  34\n"
     ]
    }
   ],
   "source": [
    "list=[37,34,456,100,10000,2098]\n",
    "print(\"smallest number in a list is: \",min(list))"
   ]
  },
  {
   "cell_type": "markdown",
   "id": "002ac2b6",
   "metadata": {},
   "source": [
    "4. Write a Python program to find largest number in a list?"
   ]
  },
  {
   "cell_type": "code",
   "execution_count": 6,
   "id": "b0495127",
   "metadata": {},
   "outputs": [
    {
     "name": "stdout",
     "output_type": "stream",
     "text": [
      "largest number in a list is:  313\n"
     ]
    }
   ],
   "source": [
    "list=[2,34,23,4,56,101,313]\n",
    "print(\"largest number in a list is: \", max(list))"
   ]
  },
  {
   "cell_type": "markdown",
   "id": "11323c6e",
   "metadata": {},
   "source": [
    "5. Write a Python program to find second largest number in a list?"
   ]
  },
  {
   "cell_type": "code",
   "execution_count": 7,
   "id": "38f90789",
   "metadata": {},
   "outputs": [
    {
     "name": "stdout",
     "output_type": "stream",
     "text": [
      "[2, 34, 67, 78, 98, 100]\n",
      "Second largest number is:  98\n"
     ]
    }
   ],
   "source": [
    "list=[34,2,67,98,78,100]\n",
    "list.sort()\n",
    "print(list)\n",
    "print(\"Second largest number is: \",list[-2])"
   ]
  },
  {
   "cell_type": "markdown",
   "id": "25dcb96e",
   "metadata": {},
   "source": [
    "6. Write a Python program to find N largest elements from a list?"
   ]
  },
  {
   "cell_type": "code",
   "execution_count": 8,
   "id": "561627a5",
   "metadata": {},
   "outputs": [
    {
     "name": "stdout",
     "output_type": "stream",
     "text": [
      "N largest element is:  [47, 78, 98, 258]\n"
     ]
    }
   ],
   "source": [
    "list=[23,34,258,78,47,98]\n",
    "n=4\n",
    "list.sort()\n",
    "print(\"N largest element is: \",list[-n:])"
   ]
  },
  {
   "cell_type": "markdown",
   "id": "1a590f2d",
   "metadata": {},
   "source": [
    "7. Write a Python program to print even numbers in a list?"
   ]
  },
  {
   "cell_type": "code",
   "execution_count": 9,
   "id": "1e5087a0",
   "metadata": {},
   "outputs": [
    {
     "name": "stdout",
     "output_type": "stream",
     "text": [
      "2\n",
      "4\n",
      "6\n",
      "8\n",
      "98\n",
      "24\n",
      "56\n"
     ]
    }
   ],
   "source": [
    "list=[1,2,4,5,6,8,98,37,24,56]\n",
    "for x in list:\n",
    "    if(x%2==0):\n",
    "        print(x)"
   ]
  },
  {
   "cell_type": "markdown",
   "id": "1394c600",
   "metadata": {},
   "source": [
    "8. Write a Python program to print odd numbers in a List?"
   ]
  },
  {
   "cell_type": "code",
   "execution_count": 10,
   "id": "a3bb5345",
   "metadata": {},
   "outputs": [
    {
     "name": "stdout",
     "output_type": "stream",
     "text": [
      "1\n",
      "5\n",
      "97\n",
      "39\n",
      "27\n",
      "65\n"
     ]
    }
   ],
   "source": [
    "list=[1,2,4,5,6,8,97,39,27,65]\n",
    "for x in list:\n",
    "      if(x%2!=0):\n",
    "        print(x)"
   ]
  },
  {
   "cell_type": "markdown",
   "id": "7e3da42f",
   "metadata": {},
   "source": [
    "9. Write a Python program to Remove empty List from List?"
   ]
  },
  {
   "cell_type": "code",
   "execution_count": 11,
   "id": "87bef157",
   "metadata": {},
   "outputs": [
    {
     "data": {
      "text/plain": [
       "[23, 313, 2, 67, 31, 4, 100]"
      ]
     },
     "execution_count": 11,
     "metadata": {},
     "output_type": "execute_result"
    }
   ],
   "source": [
    "list=[23,313,[],2,[],'',67,(),{},\"\",31,[],4,[],100]\n",
    "[x for x in list]\n",
    "[x for x in list if x]"
   ]
  },
  {
   "cell_type": "markdown",
   "id": "b9668f63",
   "metadata": {},
   "source": [
    "10. Write a Python program to Cloning or Copying a list?"
   ]
  },
  {
   "cell_type": "code",
   "execution_count": 12,
   "id": "698e6ee8",
   "metadata": {},
   "outputs": [
    {
     "name": "stdout",
     "output_type": "stream",
     "text": [
      "Copying list:  [2, 3, 4, 5, 7, 8]\n"
     ]
    }
   ],
   "source": [
    "list=[2,3,4,5,7,8]\n",
    "list_copy=list[:]\n",
    "print(\"Copying list: \", list_copy)"
   ]
  },
  {
   "cell_type": "markdown",
   "id": "6d66836d",
   "metadata": {},
   "source": [
    "11. Write a Python program to Count occurrences of an element in a list?"
   ]
  },
  {
   "cell_type": "code",
   "execution_count": 13,
   "id": "6153cee9",
   "metadata": {},
   "outputs": [
    {
     "name": "stdout",
     "output_type": "stream",
     "text": [
      "10 has occured 3 times\n"
     ]
    }
   ],
   "source": [
    "list=[7,10,9,8,9,10,10,54]\n",
    "x=10\n",
    "print(\"{} has occured {} times\".format(x,list.count(x)))"
   ]
  },
  {
   "cell_type": "code",
   "execution_count": null,
   "id": "4bc81d38",
   "metadata": {},
   "outputs": [],
   "source": []
  }
 ],
 "metadata": {
  "kernelspec": {
   "display_name": "Python 3 (ipykernel)",
   "language": "python",
   "name": "python3"
  },
  "language_info": {
   "codemirror_mode": {
    "name": "ipython",
    "version": 3
   },
   "file_extension": ".py",
   "mimetype": "text/x-python",
   "name": "python",
   "nbconvert_exporter": "python",
   "pygments_lexer": "ipython3",
   "version": "3.9.12"
  }
 },
 "nbformat": 4,
 "nbformat_minor": 5
}
