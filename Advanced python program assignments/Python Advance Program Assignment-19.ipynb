{
 "cells": [
  {
   "cell_type": "markdown",
   "id": "4e5d08bf",
   "metadata": {},
   "source": [
    "#### 1. Create a checker board generator, which takes as inputs n and 2 elements to generate an n x n checkerboard with those two elements as alternating squares.\n",
    "\n",
    "Examples\n",
    "\n",
    "checker_board(2, 7, 6) ➞ [\n",
    "[7, 6],\n",
    "[6, 7]\n",
    "]\n",
    "\n",
    "checker_board(3, &quot;A&quot;, &quot;B&quot;) ➞ [\n",
    "[&quot;A&quot;, &quot;B&quot;, &quot;A&quot;],\n",
    "[&quot;B&quot;, &quot;A&quot;, &quot;B&quot;],\n",
    "[&quot;A&quot;, &quot;B&quot;, &quot;A&quot;]\n",
    "]\n",
    "\n",
    "checker_board(4, &quot;c&quot;, &quot;d&quot;) ➞ [\n",
    "[&quot;c&quot;, &quot;d&quot;, &quot;c&quot;, &quot;d&quot;],\n",
    "[&quot;d&quot;, &quot;c&quot;, &quot;d&quot;, &quot;c&quot;],\n",
    "[&quot;c&quot;, &quot;d&quot;, &quot;c&quot;, &quot;d&quot;],\n",
    "[&quot;d&quot;, &quot;c&quot;, &quot;d&quot;, &quot;c&quot;]\n",
    "]\n",
    "\n",
    "checker_board(4, &quot;c&quot;, &quot;c&quot;) ➞ &quot;invalid&quot;"
   ]
  },
  {
   "cell_type": "code",
   "execution_count": 1,
   "id": "9f915cfd",
   "metadata": {},
   "outputs": [],
   "source": [
    "def checker_board(n,i1,i2):\n",
    "    if(i1==i2):\n",
    "        return \"invalid\"\n",
    "    else:\n",
    "        matrix=[]\n",
    "        for i in range(n):          \n",
    "            a =[] \n",
    "            for j in range(n):    \n",
    "                a.append(i1)\n",
    " \n",
    "                i1, i2 = i2, i1\n",
    "            matrix.append(a)\n",
    "            if n%2==0:\n",
    "                i1, i2 = i2, i1\n",
    "        return matrix"
   ]
  },
  {
   "cell_type": "code",
   "execution_count": 2,
   "id": "081debae",
   "metadata": {},
   "outputs": [
    {
     "data": {
      "text/plain": [
       "[[7, 6], [6, 7]]"
      ]
     },
     "execution_count": 2,
     "metadata": {},
     "output_type": "execute_result"
    }
   ],
   "source": [
    "checker_board(2, 7, 6)"
   ]
  },
  {
   "cell_type": "code",
   "execution_count": 3,
   "id": "28bc1403",
   "metadata": {},
   "outputs": [
    {
     "data": {
      "text/plain": [
       "[['A', 'B', 'A'], ['B', 'A', 'B'], ['A', 'B', 'A']]"
      ]
     },
     "execution_count": 3,
     "metadata": {},
     "output_type": "execute_result"
    }
   ],
   "source": [
    "checker_board(3, \"A\", \"B\")"
   ]
  },
  {
   "cell_type": "code",
   "execution_count": 4,
   "id": "68b72939",
   "metadata": {},
   "outputs": [
    {
     "data": {
      "text/plain": [
       "[['c', 'd', 'c', 'd'],\n",
       " ['d', 'c', 'd', 'c'],\n",
       " ['c', 'd', 'c', 'd'],\n",
       " ['d', 'c', 'd', 'c']]"
      ]
     },
     "execution_count": 4,
     "metadata": {},
     "output_type": "execute_result"
    }
   ],
   "source": [
    "checker_board(4, \"c\", \"d\")"
   ]
  },
  {
   "cell_type": "code",
   "execution_count": 5,
   "id": "d387a433",
   "metadata": {},
   "outputs": [
    {
     "data": {
      "text/plain": [
       "'invalid'"
      ]
     },
     "execution_count": 5,
     "metadata": {},
     "output_type": "execute_result"
    }
   ],
   "source": [
    "checker_board(4, \"c\", \"c\")"
   ]
  },
  {
   "cell_type": "markdown",
   "id": "db45a790",
   "metadata": {},
   "source": [
    "#### 2. A string is an almost-palindrome if, by changing only one character, you can make it a palindrome. Create a function that returns True if a string is an almost-palindrome and False otherwise.\n",
    "\n",
    "Examples\n",
    "\n",
    "almost_palindrome(&quot;abcdcbg&quot;) ➞ True\n",
    " Transformed to &quot;abcdcba&quot; by changing &quot;g&quot; to &quot;a&quot;.\n",
    "\n",
    "almost_palindrome(&quot;abccia&quot;) ➞ True\n",
    " Transformed to &quot;abccba&quot; by changing &quot;i&quot; to &quot;b&quot;.\n",
    "\n",
    "almost_palindrome(&quot;abcdaaa&quot;) ➞ False\n",
    " Can&#39;t be transformed to a palindrome in exactly 1 turn.\n",
    "\n",
    "almost_palindrome(&quot;1234312&quot;) ➞ False"
   ]
  },
  {
   "cell_type": "code",
   "execution_count": 6,
   "id": "85d7084b",
   "metadata": {},
   "outputs": [],
   "source": [
    "def almost_palindrome(s):\n",
    "    rs=s[::-1]\n",
    "    count=0\n",
    "    for i in range(len(s)):\n",
    "        if s[i]!=rs[i]:\n",
    "            count+=1\n",
    "    if count >2 :\n",
    "        return False\n",
    "    return True"
   ]
  },
  {
   "cell_type": "code",
   "execution_count": 7,
   "id": "2ff5ab48",
   "metadata": {},
   "outputs": [
    {
     "data": {
      "text/plain": [
       "True"
      ]
     },
     "execution_count": 7,
     "metadata": {},
     "output_type": "execute_result"
    }
   ],
   "source": [
    "almost_palindrome(\"abcdcbg\")"
   ]
  },
  {
   "cell_type": "code",
   "execution_count": 8,
   "id": "6ccfaacc",
   "metadata": {},
   "outputs": [
    {
     "data": {
      "text/plain": [
       "True"
      ]
     },
     "execution_count": 8,
     "metadata": {},
     "output_type": "execute_result"
    }
   ],
   "source": [
    "almost_palindrome(\"abccia\")"
   ]
  },
  {
   "cell_type": "code",
   "execution_count": 9,
   "id": "528320ef",
   "metadata": {},
   "outputs": [
    {
     "data": {
      "text/plain": [
       "False"
      ]
     },
     "execution_count": 9,
     "metadata": {},
     "output_type": "execute_result"
    }
   ],
   "source": [
    "almost_palindrome(\"abcdaaa\")"
   ]
  },
  {
   "cell_type": "code",
   "execution_count": 10,
   "id": "8b236f41",
   "metadata": {},
   "outputs": [
    {
     "data": {
      "text/plain": [
       "False"
      ]
     },
     "execution_count": 10,
     "metadata": {},
     "output_type": "execute_result"
    }
   ],
   "source": [
    "almost_palindrome(\"1234312\")"
   ]
  },
  {
   "cell_type": "markdown",
   "id": "685befdd",
   "metadata": {},
   "source": [
    "#### 3. Create a function that finds how many prime numbers there are, up to the given integer.\n",
    "\n",
    "Examples\n",
    "\n",
    "prime_numbers(10) ➞ 4\n",
    " 2, 3, 5 and 7\n",
    "\n",
    "prime_numbers(20) ➞ 8\n",
    " 2, 3, 5, 7, 11, 13, 17 and 19\n",
    "\n",
    "prime_numbers(30) ➞ 10\n",
    "2, 3, 5, 7, 11, 13, 17, 19, 23 and 29"
   ]
  },
  {
   "cell_type": "code",
   "execution_count": 11,
   "id": "36dd0bfc",
   "metadata": {},
   "outputs": [],
   "source": [
    "def prime_numbers(n):\n",
    "    count=0\n",
    "    for i in range(n+1):\n",
    "        if i>1:\n",
    "            for j in range(2,i):\n",
    "                if(i % j==0):\n",
    "                    break\n",
    "            else:\n",
    "    \n",
    "                count+=1\n",
    "    return count"
   ]
  },
  {
   "cell_type": "code",
   "execution_count": 12,
   "id": "8fcc9f36",
   "metadata": {},
   "outputs": [
    {
     "data": {
      "text/plain": [
       "4"
      ]
     },
     "execution_count": 12,
     "metadata": {},
     "output_type": "execute_result"
    }
   ],
   "source": [
    "prime_numbers(10)"
   ]
  },
  {
   "cell_type": "code",
   "execution_count": 13,
   "id": "7cf564f2",
   "metadata": {},
   "outputs": [
    {
     "data": {
      "text/plain": [
       "8"
      ]
     },
     "execution_count": 13,
     "metadata": {},
     "output_type": "execute_result"
    }
   ],
   "source": [
    "prime_numbers(20) "
   ]
  },
  {
   "cell_type": "code",
   "execution_count": 14,
   "id": "2438b285",
   "metadata": {},
   "outputs": [
    {
     "data": {
      "text/plain": [
       "10"
      ]
     },
     "execution_count": 14,
     "metadata": {},
     "output_type": "execute_result"
    }
   ],
   "source": [
    "prime_numbers(30)"
   ]
  },
  {
   "cell_type": "markdown",
   "id": "e165c61b",
   "metadata": {},
   "source": [
    "#### 4. If today was Monday, in two days, it would be Wednesday. Create a function that takes in a list of days as input and the number of days to increment by. Return a list of days after n number of days has passed.\n",
    "\n",
    "Examples\n",
    "\n",
    "after_n_days([&quot;Thursday&quot;, &quot;Monday&quot;], 4) ➞ [&quot;Monday&quot;, &quot;Friday&quot;]\n",
    "\n",
    "after_n_days([&quot;Sunday&quot;, &quot;Sunday&quot;, &quot;Sunday&quot;], 1) ➞ [&quot;Monday&quot;, &quot;Monday&quot;,\n",
    "&quot;Monday&quot;]\n",
    "\n",
    "after_n_days([&quot;Monday&quot;, &quot;Tuesday&quot;, &quot;Friday&quot;], 1) ➞ [&quot;Tuesday&quot;, &quot;Wednesday&quot;,\n",
    "&quot;Saturday&quot;]"
   ]
  },
  {
   "cell_type": "code",
   "execution_count": 15,
   "id": "a48dff5e",
   "metadata": {},
   "outputs": [],
   "source": [
    "def after_n_days(lst,n):\n",
    "    index=[]\n",
    "    new=[]\n",
    "    days=[\"Monday\",\"Tuesday\",\"Wednesday\",\"Thursday\",\"Friday\",\"Saturday\",\"Sunday\"]\n",
    "    index=[days.index(i) for i in lst]\n",
    "    index=[(i+n)%7 for i in index]\n",
    "    for i in index:\n",
    "        new.append(days[i])\n",
    "    return new"
   ]
  },
  {
   "cell_type": "code",
   "execution_count": 16,
   "id": "45cf6752",
   "metadata": {},
   "outputs": [
    {
     "data": {
      "text/plain": [
       "['Monday', 'Friday']"
      ]
     },
     "execution_count": 16,
     "metadata": {},
     "output_type": "execute_result"
    }
   ],
   "source": [
    "after_n_days([\"Thursday\", \"Monday\"], 4)"
   ]
  },
  {
   "cell_type": "code",
   "execution_count": 17,
   "id": "016419a5",
   "metadata": {},
   "outputs": [
    {
     "data": {
      "text/plain": [
       "['Monday', 'Monday', 'Monday']"
      ]
     },
     "execution_count": 17,
     "metadata": {},
     "output_type": "execute_result"
    }
   ],
   "source": [
    "after_n_days([\"Sunday\", \"Sunday\", \"Sunday\"], 1)"
   ]
  },
  {
   "cell_type": "code",
   "execution_count": 18,
   "id": "d10c205d",
   "metadata": {},
   "outputs": [
    {
     "data": {
      "text/plain": [
       "['Tuesday', 'Wednesday', 'Saturday']"
      ]
     },
     "execution_count": 18,
     "metadata": {},
     "output_type": "execute_result"
    }
   ],
   "source": [
    "after_n_days([\"Monday\", \"Tuesday\", \"Friday\"], 1)"
   ]
  },
  {
   "cell_type": "markdown",
   "id": "46b01e3a",
   "metadata": {},
   "source": [
    "#### 5. You are in the process of creating a chat application and want to add an anonymous name feature. This anonymous name feature will create an alias that consists of two capitalized words beginning with the same letter as the users first name. Create a function that determines if the list of users is mapped to a list of anonymous names correctly.\n",
    "\n",
    "Examples\n",
    "\n",
    "is_correct_aliases([&quot;Adrian M.&quot;, &quot;Harriet S.&quot;, &quot;Mandy T.&quot;], [&quot;Amazing\n",
    "Artichoke&quot;, &quot;Hopeful Hedgehog&quot;, &quot;Marvelous Mouse&quot;]) ➞ True\n",
    "\n",
    "is_correct_aliases([&quot;Rachel F.&quot;, &quot;Pam G.&quot;, &quot;Fred Z.&quot;, &quot;Nancy K.&quot;],\n",
    "[&quot;Reassuring Rat&quot;, &quot;Peaceful Panda&quot;, &quot;Fantastic Frog&quot;, &quot;Notable Nickel&quot;]) ➞\n",
    "True\n",
    "\n",
    "is_correct_aliases([&quot;Beth T.&quot;], [&quot;Brandishing Mimosa&quot;]) ➞ False\n",
    "\n",
    " Both words in &quot;Brandishing Mimosa&quot; should begin with a &quot;B&quot; - &quot;Brandishing\n",
    "Beaver&quot; would do the trick."
   ]
  },
  {
   "cell_type": "code",
   "execution_count": 19,
   "id": "c926853a",
   "metadata": {},
   "outputs": [],
   "source": [
    "def is_correct_aliases(lst1,lst2):\n",
    "    new=[]\n",
    "    for i in lst2:\n",
    "        x=i.split()\n",
    "        new.append(x)\n",
    "    for i in range(len(lst1)):\n",
    "\n",
    "        if lst1[i][0]!=new[i][0][0] or lst1[i][0] !=new[i][1][0]:\n",
    "            return False\n",
    "    return True"
   ]
  },
  {
   "cell_type": "code",
   "execution_count": 20,
   "id": "5f09d710",
   "metadata": {},
   "outputs": [
    {
     "data": {
      "text/plain": [
       "True"
      ]
     },
     "execution_count": 20,
     "metadata": {},
     "output_type": "execute_result"
    }
   ],
   "source": [
    "is_correct_aliases([\"Adrian M.\", \"Harriet S.\", \"Mandy T.\"], [\"Amazing Artichoke\", \"Hopeful Hedgehog\", \"Marvelous Mouse\"])"
   ]
  },
  {
   "cell_type": "code",
   "execution_count": 21,
   "id": "7739a518",
   "metadata": {},
   "outputs": [
    {
     "data": {
      "text/plain": [
       "True"
      ]
     },
     "execution_count": 21,
     "metadata": {},
     "output_type": "execute_result"
    }
   ],
   "source": [
    "is_correct_aliases([\"Rachel F.\", \"Pam G.\", \"Fred Z.\", \"Nancy K.\"], [\"Reassuring Rat\", \"Peaceful Panda\", \"Fantastic Frog\", \"Notable Nickel\"])"
   ]
  },
  {
   "cell_type": "code",
   "execution_count": 22,
   "id": "896fd1fc",
   "metadata": {},
   "outputs": [
    {
     "data": {
      "text/plain": [
       "False"
      ]
     },
     "execution_count": 22,
     "metadata": {},
     "output_type": "execute_result"
    }
   ],
   "source": [
    "is_correct_aliases([\"Beth T.\"], [\"Brandishing Mimosa\"])"
   ]
  },
  {
   "cell_type": "code",
   "execution_count": null,
   "id": "e0812fe6",
   "metadata": {},
   "outputs": [],
   "source": []
  }
 ],
 "metadata": {
  "kernelspec": {
   "display_name": "Python 3 (ipykernel)",
   "language": "python",
   "name": "python3"
  },
  "language_info": {
   "codemirror_mode": {
    "name": "ipython",
    "version": 3
   },
   "file_extension": ".py",
   "mimetype": "text/x-python",
   "name": "python",
   "nbconvert_exporter": "python",
   "pygments_lexer": "ipython3",
   "version": "3.9.12"
  }
 },
 "nbformat": 4,
 "nbformat_minor": 5
}
