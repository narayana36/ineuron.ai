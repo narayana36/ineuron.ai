{
 "cells": [
  {
   "cell_type": "markdown",
   "id": "7a25a578",
   "metadata": {},
   "source": [
    "#### Q1. \n",
    "Create a class Sudoku that takes a string as an argument. The string will\n",
    "contain the numbers of a regular 9x9 sudoku board left to right and top to\n",
    "bottom, with zeros filling up the empty cells.\n",
    "Attributes\n",
    "An instance of the class Sudoku will have one attribute:\n",
    "- board: a list representing the board, with sublits for each row, with the\n",
    "numbers as integers. Empty cell represented with 0.\n",
    "Methods\n",
    "An instance of the class Sudoku wil have three methods:\n",
    "- get_row(n): will return the row in position n.\n",
    "- get_col(n): will return the column in position n.\n",
    "- get_sqr([n, m]): will return the square in position n if only one argument is\n",
    "given, and the square to which the cell in position (n, m) belongs to if two\n",
    "arguments are given.\n",
    "Example\n",
    "\n",
    "game =\n",
    "Sudoku(&quot;417950030000000700060007000050009106800600000000003400\n",
    "900005000000430000200701580&quot;)\n",
    "\n",
    "game.board ➞ [\n",
    "[4, 1, 7, 9, 5, 0, 0, 3, 0],\n",
    "[0, 0, 0, 0, 0, 0, 7, 0, 0],\n",
    "[0, 6, 0, 0, 0, 7, 0, 0, 0],\n",
    "[0, 5, 0, 0, 0, 9, 1, 0, 6],\n",
    "[8, 0, 0, 6, 0, 0, 0, 0, 0],\n",
    "[0, 0, 0, 0, 0, 3, 4, 0, 0],\n",
    "[9, 0, 0, 0, 0, 5, 0, 0, 0],\n",
    "[0, 0, 0, 4, 3, 0, 0, 0, 0],\n",
    "[2, 0, 0, 7, 0, 1, 5, 8, 0]\n",
    "]\n",
    "game.get_row(0) ➞ [4, 1, 7, 9, 5, 0, 0, 3, 0]\n",
    "\n",
    "game.get_col(8) ➞ [0, 0, 0, 6, 0, 0, 0, 0, 0]\n",
    "\n",
    "game.get_sqr(1) ➞ [9, 5, 0, 0, 0, 0, 0, 0, 7]\n",
    "\n",
    "game.get_sqr(1, 8) ➞ [0, 3, 0, 7, 0, 0, 0, 0, 0]\n",
    "\n",
    "game.get_sqr(8, 3) ➞ [0, 0, 5, 4, 3, 0, 7, 0, 1]"
   ]
  },
  {
   "cell_type": "code",
   "execution_count": 1,
   "id": "6ba7ac71",
   "metadata": {},
   "outputs": [
    {
     "data": {
      "text/plain": [
       "[[4, 1, 7, 9, 5, 0, 0, 3, 0],\n",
       " [0, 0, 0, 0, 0, 0, 7, 0, 0],\n",
       " [0, 6, 0, 0, 0, 7, 0, 0, 0],\n",
       " [0, 5, 0, 0, 0, 9, 1, 0, 6],\n",
       " [8, 0, 0, 6, 0, 0, 0, 0, 0],\n",
       " [0, 0, 0, 0, 0, 3, 4, 0, 0],\n",
       " [9, 0, 0, 0, 0, 5, 0, 0, 0],\n",
       " [0, 0, 0, 4, 3, 0, 0, 0, 0],\n",
       " [2, 0, 0, 7, 0, 1, 5, 8, 0]]"
      ]
     },
     "metadata": {},
     "output_type": "display_data"
    }
   ],
   "source": [
    "class Sudoku:\n",
    "    def __init__(self,in_string):\n",
    "        self.board = []\n",
    "        for ele in range(0,len(in_string),9):\n",
    "            self.board.append([int(string) for string in in_string[ele:ele+9]])\n",
    "            \n",
    "    def get_row(self,row):\n",
    "        return self.board[row]\n",
    "    \n",
    "    def get_col(self,column):\n",
    "        output = []\n",
    "        for ele in self.board:\n",
    "            output.append(ele[column])\n",
    "        return output\n",
    "    \n",
    "    def get_sqr(self,row,column=None):\n",
    "        output = []\n",
    "        square_to_cell = {\n",
    "            0 : [[0,1,2],[0,1,2]],\n",
    "            1 : [[0,1,2],[3,4,5]],\n",
    "            2 : [[0,1,2],[6,7,8]],\n",
    "            3 : [[3,4,5],[0,1,2]],\n",
    "            4 : [[3,4,5],[3,4,5]],\n",
    "            5 : [[3,4,5],[6,7,8]],\n",
    "            6 : [[6,7,8],[0,1,2]],\n",
    "            7 : [[6,7,8],[3,4,5]],\n",
    "            8 : [[6,7,8],[6,7,8]]\n",
    "        }\n",
    "        \n",
    "        if column == None:\n",
    "            for i in square_to_cell[row][0]:\n",
    "                for j in square_to_cell[row][1]:\n",
    "                    output.append(self.board[i][j])\n",
    "        else:\n",
    "            square = None\n",
    "            if row <= 2:\n",
    "                square = 0 if column <=2 else 1 if column <=5 else 2\n",
    "            elif row <= 5:\n",
    "                square = 3 if column <=2 else 4 if column <=5 else 5\n",
    "            else:\n",
    "                square = 6 if column <=2 else 7 if column <=5 else 8\n",
    "            for i in square_to_cell[square][0]:\n",
    "                for j in square_to_cell[square][1]:\n",
    "                    output.append(self.board[i][j])\n",
    "        return (output)\n",
    "                            \n",
    "game = Sudoku(\"417950030000000700060007000050009106800600000000003400900005000000430000200701580\")\n",
    "display(game.board)"
   ]
  },
  {
   "cell_type": "code",
   "execution_count": 2,
   "id": "b6118c8e",
   "metadata": {},
   "outputs": [
    {
     "data": {
      "text/plain": [
       "[0, 0, 0, 6, 0, 0, 0, 0, 0]"
      ]
     },
     "execution_count": 2,
     "metadata": {},
     "output_type": "execute_result"
    }
   ],
   "source": [
    "game.get_col(8)"
   ]
  },
  {
   "cell_type": "code",
   "execution_count": 3,
   "id": "901ab016",
   "metadata": {},
   "outputs": [
    {
     "data": {
      "text/plain": [
       "[9, 5, 0, 0, 0, 0, 0, 0, 7]"
      ]
     },
     "execution_count": 3,
     "metadata": {},
     "output_type": "execute_result"
    }
   ],
   "source": [
    "game.get_sqr(1)"
   ]
  },
  {
   "cell_type": "code",
   "execution_count": 4,
   "id": "d160da5e",
   "metadata": {},
   "outputs": [
    {
     "data": {
      "text/plain": [
       "[0, 3, 0, 7, 0, 0, 0, 0, 0]"
      ]
     },
     "execution_count": 4,
     "metadata": {},
     "output_type": "execute_result"
    }
   ],
   "source": [
    "game.get_sqr(1, 8)"
   ]
  },
  {
   "cell_type": "code",
   "execution_count": 5,
   "id": "c15c30b2",
   "metadata": {},
   "outputs": [
    {
     "data": {
      "text/plain": [
       "[0, 0, 5, 4, 3, 0, 7, 0, 1]"
      ]
     },
     "execution_count": 5,
     "metadata": {},
     "output_type": "execute_result"
    }
   ],
   "source": [
    "game.get_sqr(8, 3)"
   ]
  },
  {
   "cell_type": "markdown",
   "id": "a6348b23",
   "metadata": {},
   "source": [
    "#### Q2. \n",
    "The function input is two non-empty linked lists representing two non-\n",
    "negative integers. The digits are stored in reverse order, and each of their\n",
    "nodes contains a single digit. Add the two numbers and return the sum as a\n",
    "linked list, in which the digits are also stored in reversed order. The class\n",
    "ListNode, building block of the linked list, is defined in the Tests tab.\n",
    "Class definition\n",
    "class ListNode:\n",
    "def __init__(self, val=0, next=None):\n",
    "self.val = val\n",
    "self.next = next\n",
    "Examples\n",
    "lt1 = ListNode(2)\n",
    "lt1.add_data([4, 3])\n",
    "lt2 = ListNode(5)\n",
    "lt2.add_data([6, 4])\n",
    " print(lt1.get_data()) # [2, 4, 3]\n",
    " print(lt2.get_data()) # [5, 6, 4]\n",
    " print(342 + 465) # 807\n",
    "add_two_numbers(lt1, lt2).get_data() ➞ [7, 0, 8]\n",
    "lt1 = ListNode(0)\n",
    "lt2 = ListNode(0)\n",
    " print(lt1.get_data()) # [0]\n",
    "\n",
    " print(lt2.get_data()) # [0]\n",
    " print(0 + 0) # 0\n",
    "add_two_numbers(lt1, lt2).get_data() ➞ [0]\n",
    "lt1 = ListNode(9)\n",
    "lt1.add_data([9,9,9,9,9,9])\n",
    "lt2 = ListNode(9)\n",
    "lt2.add_data([9,9,9])\n",
    " print(lt1.get_data()) # [9, 9, 9, 9, 9, 9, 9]\n",
    " print(lt2.get_data()) # [9, 9, 9, 9]\n",
    " print(9999999 + 9999) # 10009998\n",
    "add_two_numbers(lt1, lt2).get_data() ➞ [8, 9, 9, 9, 0, 0, 0, 1]"
   ]
  },
  {
   "cell_type": "code",
   "execution_count": 6,
   "id": "3ee4f58e",
   "metadata": {},
   "outputs": [
    {
     "name": "stdout",
     "output_type": "stream",
     "text": [
      "lt1.get_data() ➞ [2, 4, 3]\n",
      "lt2.get_data() ➞ [5, 6, 4]\n",
      "add_two_numbers(lt1, lt2).get_data() ➞ [7, 0, 8]\n",
      "\n",
      "lt1.get_data() ➞ [0]\n",
      "lt2.get_data() ➞ [0]\n",
      "add_two_numbers(lt1, lt2).get_data() ➞ [0]\n",
      "\n"
     ]
    }
   ],
   "source": [
    "class ListNode:\n",
    "    def __init__(self, val=0, next=None):\n",
    "        self.val = val\n",
    "        self.next = next\n",
    "        self.num_list = []\n",
    "        self.num_list.append(val)       \n",
    "    def add_data(self,in_list):\n",
    "        self.num_list.extend(in_list)\n",
    "    def get_data(self):\n",
    "        return self.num_list\n",
    "    \n",
    "class add_two_numbers:\n",
    "    def __init__(self,ob1,ob2):\n",
    "        self.ob1 = ob1\n",
    "        self.ob2 = ob2  \n",
    "    def get_data(self):\n",
    "        it1 = ''.join([str(ele) for ele in self.ob1.get_data()[::-1]])\n",
    "        it2 = ''.join([str(ele) for ele in self.ob2.get_data()[::-1]])\n",
    "        return [int(x) for x in str(int(it1)+int(it2))[::-1]]   \n",
    "    \n",
    "lt1 = ListNode(2)\n",
    "lt1.add_data([4, 3])\n",
    "\n",
    "lt2 = ListNode(5)\n",
    "lt2.add_data([6, 4])\n",
    "\n",
    "print(f'lt1.get_data() ➞ {lt1.get_data()}') \n",
    "print(f'lt2.get_data() ➞ {lt2.get_data()}') \n",
    "print(f'add_two_numbers(lt1, lt2).get_data() ➞ {add_two_numbers(lt1, lt2).get_data()}',end='\\n\\n')\n",
    "\n",
    "lt1 = ListNode(0)\n",
    "lt2 = ListNode(0)\n",
    "\n",
    "print(f'lt1.get_data() ➞ {lt1.get_data()}') \n",
    "print(f'lt2.get_data() ➞ {lt2.get_data()}') \n",
    "print(f'add_two_numbers(lt1, lt2).get_data() ➞ {add_two_numbers(lt1, lt2).get_data()}',end='\\n\\n')\n",
    "\n",
    "lt1 = ListNode(9)\n",
    "lt1.add_data([9,9,9,9,9,9])\n",
    "\n",
    "lt2 = ListNode(9)\n",
    "lt2.add_data([9,9,9])"
   ]
  },
  {
   "cell_type": "code",
   "execution_count": 7,
   "id": "c05712a6",
   "metadata": {},
   "outputs": [
    {
     "name": "stdout",
     "output_type": "stream",
     "text": [
      "lt1.get_data() ➞ [9, 9, 9, 9, 9, 9, 9]\n",
      "lt2.get_data() ➞ [9, 9, 9, 9]\n",
      "add_two_numbers(lt1, lt2).get_data() ➞ [8, 9, 9, 9, 0, 0, 0, 1]\n"
     ]
    }
   ],
   "source": [
    "print(f'lt1.get_data() ➞ {lt1.get_data()}') \n",
    "print(f'lt2.get_data() ➞ {lt2.get_data()}') \n",
    "print(f'add_two_numbers(lt1, lt2).get_data() ➞ {add_two_numbers(lt1, lt2).get_data()}')"
   ]
  }
 ],
 "metadata": {
  "kernelspec": {
   "display_name": "Python 3 (ipykernel)",
   "language": "python",
   "name": "python3"
  },
  "language_info": {
   "codemirror_mode": {
    "name": "ipython",
    "version": 3
   },
   "file_extension": ".py",
   "mimetype": "text/x-python",
   "name": "python",
   "nbconvert_exporter": "python",
   "pygments_lexer": "ipython3",
   "version": "3.9.12"
  }
 },
 "nbformat": 4,
 "nbformat_minor": 5
}
