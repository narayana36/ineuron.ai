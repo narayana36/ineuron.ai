{
 "cells": [
  {
   "cell_type": "markdown",
   "id": "ed84ed43",
   "metadata": {},
   "source": [
    "#### 1. Write four functions that directly mutate a list:\n",
    "1. repeat(lst, n): Repeat lst n times.\n",
    "2. add(lst, x): Adds x to the end of the lst.\n",
    "3. remove(lst, m, n): Removes all elements between indices m and n\n",
    "inclusive in lst.\n",
    "4. concat(lst, x): concatenates lst with x (another list).\n",
    "Examples\n",
    "lst = [1, 2, 3, 4]\n",
    "repeat(lst, 3) ➞ [1, 2, 3, 4, 1, 2, 3, 4, 1, 2, 3, 4]\n",
    "add(lst, 1) ➞ [1, 2, 3, 4, 1, 2, 3, 4, 1, 2, 3, 4, 1]\n",
    "remove(lst, 1, 12) ➞ [1]\n",
    "concat(lst, [3, 4]) ➞ [1, 3, 4]"
   ]
  },
  {
   "cell_type": "code",
   "execution_count": 1,
   "id": "59cdc5f1",
   "metadata": {},
   "outputs": [
    {
     "name": "stdout",
     "output_type": "stream",
     "text": [
      "Repeating list [1, 2, 3, 4, 1, 2, 3, 4, 1, 2, 3, 4]\n",
      "adding at the end of list [1, 2, 3, 4, 1, 2, 3, 4, 1, 2, 3, 4, 8]\n",
      "Removing some elements form list [1, 2, 3, 4, 8]\n",
      "concating list [1, 2, 3, 4, 8, 6, 8]\n"
     ]
    }
   ],
   "source": [
    "def repeat(lst,n):\n",
    "    return lst * n\n",
    "\n",
    "def add(lst, x):\n",
    "    lst.append(x)\n",
    "    return lst\n",
    "\n",
    "def remove(lst,m,n):\n",
    "    del lst[m:n+1]\n",
    "    return lst\n",
    "\n",
    "def concat(lst,lst2):\n",
    "    return lst + lst2\n",
    "    \n",
    "\n",
    "lst = [1,2,3,4]\n",
    "lst = repeat(lst,3)\n",
    "print('Repeating list', lst)\n",
    "lst = add(lst,8)\n",
    "print(\"adding at the end of list\",lst)\n",
    "lst = remove(lst,1,8)\n",
    "print('Removing some elements form list',lst)\n",
    "lst = concat(lst,[6,8])\n",
    "print('concating list',lst)"
   ]
  },
  {
   "cell_type": "markdown",
   "id": "5928ae94",
   "metadata": {},
   "source": [
    "#### 2. The classic game of Mastermind is played on a tray on which the Mastermind conceals a code and the Guesser has 10 tries to guess it. The code is a sequence of 4 (or 6, sometimes more) pegs of different colors. Each guess is a corresponding sequence of 4 (or more) pegs of different colors. A guess is &quot;correct&quot; when the color of every peg in the guess exactly matches the corresponding peg in the Mastermind&#39;s code. After each guess by the Guesser, the Mastermind will give a score comprising black &amp; white pegs, not arranged in any order:\n",
    "- Black peg == guess peg matches the color of a code peg in the same\n",
    "position.\n",
    "- White peg == guess peg matches the color of a code peg in another\n",
    "position.\n",
    "Create a function that takes two strings, code and guess as arguments, and\n",
    "returns the score in a dictionary.\n",
    "- The code and guess are strings of numeric digits\n",
    "- The color of the pegs are represented by numeric digits\n",
    "- no &quot;peg&quot; may be double-scored\n",
    "Examples\n",
    "guess_score(&quot;1423&quot;, &quot;5678&quot;) ➞ {&quot;black&quot;: 0, &quot;white&quot;: 0}\n",
    "\n",
    "guess_score(&quot;1423&quot;, &quot;2222&quot;) ➞ {&quot;black&quot;: 1, &quot;white&quot;: 0}\n",
    "guess_score(&quot;1423&quot;, &quot;1234&quot;) ➞ {&quot;black&quot;: 1, &quot;white&quot;: 3}\n",
    "guess_score(&quot;1423&quot;, &quot;2211&quot;) ➞ {&quot;black&quot;: 0, &quot;white&quot;: 2}"
   ]
  },
  {
   "cell_type": "code",
   "execution_count": 2,
   "id": "1498372d",
   "metadata": {},
   "outputs": [],
   "source": [
    "def guess_score(code, guesser):\n",
    "    \n",
    "    dict = {'black' : 0, 'white' : 0}\n",
    "    BlackCnt = 0\n",
    "    whiteCnt = 0\n",
    "\n",
    "    if len(code) != len(guesser):\n",
    "        print('code and guesser are of not of equal lenth')\n",
    "        return False\n",
    "\n",
    "    code = [code[x] for x in range(len(code))]    \n",
    "  \n",
    "    # find the black match\n",
    "    for i in range(len(guesser)):\n",
    "        if code[i] == guesser[i]:                \n",
    "            code[i] = '-'                        \n",
    "            BlackCnt += 1 \n",
    "            dict['black'] = BlackCnt             \n",
    "            \n",
    "    #for white matches\n",
    "    for i in range(len(guesser)):\n",
    "        for j in range(len(code)):               \n",
    "            if guesser[i] == code[j]:\n",
    "                code[j] = '-'                   \n",
    "                whiteCnt += 1\n",
    "                dict['white'] = whiteCnt          \n",
    "\n",
    "    return dict"
   ]
  },
  {
   "cell_type": "code",
   "execution_count": 3,
   "id": "45de769e",
   "metadata": {},
   "outputs": [
    {
     "data": {
      "text/plain": [
       "{'black': 0, 'white': 0}"
      ]
     },
     "execution_count": 3,
     "metadata": {},
     "output_type": "execute_result"
    }
   ],
   "source": [
    "guess_score('1423', '5678')"
   ]
  },
  {
   "cell_type": "code",
   "execution_count": 4,
   "id": "d8e24afe",
   "metadata": {},
   "outputs": [
    {
     "data": {
      "text/plain": [
       "{'black': 1, 'white': 0}"
      ]
     },
     "execution_count": 4,
     "metadata": {},
     "output_type": "execute_result"
    }
   ],
   "source": [
    "guess_score('1423', '2222')"
   ]
  },
  {
   "cell_type": "code",
   "execution_count": 5,
   "id": "4ac9ca64",
   "metadata": {},
   "outputs": [
    {
     "data": {
      "text/plain": [
       "{'black': 1, 'white': 3}"
      ]
     },
     "execution_count": 5,
     "metadata": {},
     "output_type": "execute_result"
    }
   ],
   "source": [
    "guess_score('1423', '1234')"
   ]
  },
  {
   "cell_type": "code",
   "execution_count": 6,
   "id": "29882783",
   "metadata": {},
   "outputs": [
    {
     "data": {
      "text/plain": [
       "{'black': 0, 'white': 2}"
      ]
     },
     "execution_count": 6,
     "metadata": {},
     "output_type": "execute_result"
    }
   ],
   "source": [
    "guess_score('1423', '2211')"
   ]
  },
  {
   "cell_type": "markdown",
   "id": "04bb1516",
   "metadata": {},
   "source": [
    "#### 3. Create a function that takes a list lst and a number N and returns a list of two integers from lst whose product equals N.\n",
    "\n",
    "Examples\n",
    "\n",
    "two_product([1, 2, -1, 4, 5], 20) ➞ [4, 5]\n",
    "\n",
    "two_product([1, 2, 3, 4, 5], 10) ➞ [2, 5]\n",
    "\n",
    "two_product([100, 12, 4, 1, 2], 15) ➞ None"
   ]
  },
  {
   "cell_type": "code",
   "execution_count": 7,
   "id": "28c062b8",
   "metadata": {},
   "outputs": [],
   "source": [
    "def two_product(lst, n):\n",
    "    lst = sorted(lst,reverse = True)\n",
    "    divisors = []\n",
    "    for i in range(len(lst)):\n",
    "        for j in range(i+1,len(lst)):\n",
    "            if lst[i]*lst[j] == n:\n",
    "                divisors.append(lst[i])            \n",
    "                divisors.append(lst[j])\n",
    "                break            \n",
    "    return sorted(divisors)"
   ]
  },
  {
   "cell_type": "code",
   "execution_count": 8,
   "id": "6b5bd11a",
   "metadata": {},
   "outputs": [
    {
     "data": {
      "text/plain": [
       "[4, 5]"
      ]
     },
     "execution_count": 8,
     "metadata": {},
     "output_type": "execute_result"
    }
   ],
   "source": [
    "two_product([1, 2, -1, 4, 5], 20)"
   ]
  },
  {
   "cell_type": "code",
   "execution_count": 9,
   "id": "23698984",
   "metadata": {},
   "outputs": [
    {
     "data": {
      "text/plain": [
       "[2, 5]"
      ]
     },
     "execution_count": 9,
     "metadata": {},
     "output_type": "execute_result"
    }
   ],
   "source": [
    "two_product([1, 2, 3, 4, 5], 10)"
   ]
  },
  {
   "cell_type": "code",
   "execution_count": 10,
   "id": "f73b43d5",
   "metadata": {},
   "outputs": [
    {
     "data": {
      "text/plain": [
       "[]"
      ]
     },
     "execution_count": 10,
     "metadata": {},
     "output_type": "execute_result"
    }
   ],
   "source": [
    "two_product([100, 12, 4, 1, 2], 15)"
   ]
  },
  {
   "cell_type": "markdown",
   "id": "17d4bb26",
   "metadata": {},
   "source": [
    "#### 4. In this challenge, sort a list containing a series of dates given as strings. \n",
    "Each date is given in the format DD-MM-YYYY_HH:MM:\n",
    "&quot;12-02-2012_13:44&quot;\n",
    "The priority of criteria used for sorting will be:\n",
    "- Year\n",
    "- Month\n",
    "- Day\n",
    "- Hours\n",
    "- Minutes\n",
    "Given a list lst and a string mode, implement a function that returns:\n",
    "- if mode is equal to &quot;ASC&quot;, the list lst sorted in ascending order.\n",
    "- if mode is equal to &quot;DSC&quot;, the list lst sorted in descending order.\n",
    "\n",
    "Examples\n",
    "\n",
    "sort_dates([&quot;10-02-2018_12:30&quot;, &quot;10-02-2016_12:30&quot;, &quot;10-02-2018_12:15&quot;],\n",
    "&quot;ASC&quot;) ➞ [&quot;10-02-2016_12:30&quot;, &quot;10-02-2018_12:15&quot;, &quot;10-02-2018_12:30&quot;]\n",
    "\n",
    "sort_dates([&quot;10-02-2018_12:30&quot;, &quot;10-02-2016_12:30&quot;, &quot;10-02-2018_12:15&quot;],\n",
    "&quot;DSC&quot;) ➞ [&quot;10-02-2018_12:30&quot;, &quot;10-02-2018_12:15&quot;, &quot;10-02-2016_12:30&quot;]\n",
    "\n",
    "sort_dates([&quot;09-02-2000_10:03&quot;, &quot;10-02-2000_18:29&quot;, &quot;01-01-1999_00:55&quot;],\n",
    "&quot;ASC&quot;) ➞ [&quot;01-01-1999_00:55&quot;, &quot;09-02-2000_10:03&quot;, &quot;10-02-2000_18:29&quot;]"
   ]
  },
  {
   "cell_type": "code",
   "execution_count": 11,
   "id": "f8bb04e5",
   "metadata": {},
   "outputs": [],
   "source": [
    "\n",
    "import datetime\n",
    "def sort_dates(d, sort):\n",
    "    if sort == 'ASC':\n",
    "        print(\"Sorting in Ascending order\")\n",
    "        return sorted(d, key=lambda x: datetime.datetime.strptime(x, '%d-%m-%Y_%H:%M'), reverse = False)\n",
    "    elif sort == 'DSC':\n",
    "        print(\"Sorting in Descending order\")\n",
    "        return sorted(d, key=lambda x: datetime.datetime.strptime(x, '%d-%m-%Y_%H:%M'), reverse = True)\n",
    "    else:\n",
    "        print(\"Provide right sorting order\")"
   ]
  },
  {
   "cell_type": "code",
   "execution_count": 12,
   "id": "154613da",
   "metadata": {},
   "outputs": [
    {
     "name": "stdout",
     "output_type": "stream",
     "text": [
      "Sorting in Ascending order\n"
     ]
    },
    {
     "data": {
      "text/plain": [
       "['10-02-2016_12:30', '10-02-2018_12:15', '10-02-2018_12:30']"
      ]
     },
     "execution_count": 12,
     "metadata": {},
     "output_type": "execute_result"
    }
   ],
   "source": [
    "sort_dates(['10-02-2018_12:30', '10-02-2016_12:30', '10-02-2018_12:15'],\n",
    "'ASC')"
   ]
  },
  {
   "cell_type": "code",
   "execution_count": 13,
   "id": "929ea664",
   "metadata": {},
   "outputs": [
    {
     "name": "stdout",
     "output_type": "stream",
     "text": [
      "Sorting in Descending order\n"
     ]
    },
    {
     "data": {
      "text/plain": [
       "['10-02-2018_12:30', '10-02-2018_12:15', '10-02-2016_12:30']"
      ]
     },
     "execution_count": 13,
     "metadata": {},
     "output_type": "execute_result"
    }
   ],
   "source": [
    "sort_dates(['10-02-2018_12:30', '10-02-2016_12:30', '10-02-2018_12:15'],\n",
    "'DSC')"
   ]
  },
  {
   "cell_type": "code",
   "execution_count": null,
   "id": "edbd6e9c",
   "metadata": {},
   "outputs": [],
   "source": []
  },
  {
   "cell_type": "code",
   "execution_count": null,
   "id": "1314e7cd",
   "metadata": {},
   "outputs": [],
   "source": []
  },
  {
   "cell_type": "markdown",
   "id": "07aecff6",
   "metadata": {},
   "source": [
    "#### 5. Write a function that selects all words that have all the same vowels (in any order and/or number) as the first word, including the first word.\n",
    "\n",
    "Examples\n",
    "\n",
    "same_vowel_group([&quot;toe&quot;, &quot;ocelot&quot;, &quot;maniac&quot;]) ➞ [&quot;toe&quot;, &quot;ocelot&quot;]\n",
    "\n",
    "same_vowel_group([&quot;many&quot;, &quot;carriage&quot;, &quot;emit&quot;, &quot;apricot&quot;, &quot;animal&quot;]) ➞\n",
    "[&quot;many&quot;]\n",
    "\n",
    "same_vowel_group([&quot;hoops&quot;, &quot;chuff&quot;, &quot;bot&quot;, &quot;bottom&quot;]) ➞ [&quot;hoops&quot;, &quot;bot&quot;,\n",
    "&quot;bottom&quot;]"
   ]
  },
  {
   "cell_type": "code",
   "execution_count": 14,
   "id": "fdce9092",
   "metadata": {},
   "outputs": [],
   "source": [
    "def findVowelInWord(word):\n",
    "    lstvowstr = ''    \n",
    "    for i in range(len(word)):        \n",
    "        if word[i] in vowel:\n",
    "            lstvowstr = lstvowstr + word[i]\n",
    "    return ''.join(set(lstvowstr))\n",
    "\n",
    "\n",
    "def same_vowel_group(lst):\n",
    "    vowel = 'aeiou'\n",
    "    resultlst = []\n",
    "    test = findVowelInWord(lst[0])   \n",
    "    resultlst.append(lst[0]) \n",
    "    for i in range(1,len(lst)):\n",
    "        vowWord = findVowelInWord(lst[i])\n",
    "        if test == vowWord: \n",
    "            resultlst.append(lst[i])\n",
    "    return resultlst\n"
   ]
  },
  {
   "cell_type": "markdown",
   "id": "2772c3fd",
   "metadata": {},
   "source": [
    "#### 6. Create a function that takes a list of more than three numbers and returns the Least Common Multiple (LCM).\n",
    "\n",
    "Examples\n",
    "\n",
    "lcm_of_list([1, 2, 3, 4, 5, 6, 7, 8, 9, 10]) ➞ 2520\n",
    "\n",
    "lcm_of_list([13, 6, 17, 18, 19, 20, 37]) ➞ 27965340\n",
    "\n",
    "lcm_of_list([44, 64, 12, 17, 65]) ➞ 2333760"
   ]
  },
  {
   "cell_type": "code",
   "execution_count": 15,
   "id": "f8055b12",
   "metadata": {},
   "outputs": [],
   "source": [
    "from math import gcd\n",
    "def lcm_of_list(lst):\n",
    "    a = [100, 200, 150]   \n",
    "    lcm = 1\n",
    "    for i in lst:\n",
    "        lcm = lcm*i//gcd(lcm, i)\n",
    "    return lcm"
   ]
  },
  {
   "cell_type": "code",
   "execution_count": 16,
   "id": "e448d78e",
   "metadata": {},
   "outputs": [
    {
     "data": {
      "text/plain": [
       "2520"
      ]
     },
     "execution_count": 16,
     "metadata": {},
     "output_type": "execute_result"
    }
   ],
   "source": [
    "lcm_of_list([1, 2, 3, 4, 5, 6, 7, 8, 9, 10]) "
   ]
  },
  {
   "cell_type": "code",
   "execution_count": 17,
   "id": "7dd1fa8e",
   "metadata": {},
   "outputs": [
    {
     "data": {
      "text/plain": [
       "27965340"
      ]
     },
     "execution_count": 17,
     "metadata": {},
     "output_type": "execute_result"
    }
   ],
   "source": [
    "lcm_of_list([13, 6, 17, 18, 19, 20, 37])"
   ]
  },
  {
   "cell_type": "code",
   "execution_count": 18,
   "id": "f711bf83",
   "metadata": {},
   "outputs": [
    {
     "data": {
      "text/plain": [
       "2333760"
      ]
     },
     "execution_count": 18,
     "metadata": {},
     "output_type": "execute_result"
    }
   ],
   "source": [
    "lcm_of_list([44, 64, 12, 17, 65])"
   ]
  },
  {
   "cell_type": "code",
   "execution_count": null,
   "id": "3ca79271",
   "metadata": {},
   "outputs": [],
   "source": []
  }
 ],
 "metadata": {
  "kernelspec": {
   "display_name": "Python 3 (ipykernel)",
   "language": "python",
   "name": "python3"
  },
  "language_info": {
   "codemirror_mode": {
    "name": "ipython",
    "version": 3
   },
   "file_extension": ".py",
   "mimetype": "text/x-python",
   "name": "python",
   "nbconvert_exporter": "python",
   "pygments_lexer": "ipython3",
   "version": "3.9.12"
  }
 },
 "nbformat": 4,
 "nbformat_minor": 5
}
