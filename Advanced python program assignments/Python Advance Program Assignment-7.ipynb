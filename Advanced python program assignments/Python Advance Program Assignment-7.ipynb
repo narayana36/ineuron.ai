{
 "cells": [
  {
   "cell_type": "markdown",
   "id": "0d2e9284",
   "metadata": {},
   "source": [
    "#### 1. Write a function that counts how many concentric layers a rug.\n",
    "\n",
    "Examples\n",
    "\n",
    "count_layers([\n",
    "&quot;AAAA&quot;,\n",
    "&quot;ABBA&quot;,\n",
    "&quot;AAAA&quot;\n",
    "]) ➞ 2\n",
    "\n",
    "count_layers([\n",
    "&quot;AAAAAAAAA&quot;,\n",
    "&quot;ABBBBBBBA&quot;,\n",
    "&quot;ABBAAABBA&quot;,\n",
    "&quot;ABBBBBBBA&quot;,\n",
    "&quot;AAAAAAAAA&quot;\n",
    "]) ➞ 3\n",
    "\n",
    "count_layers([\n",
    "&quot;AAAAAAAAAAA&quot;,\n",
    "&quot;AABBBBBBBAA&quot;,\n",
    "&quot;AABCCCCCBAA&quot;,\n",
    "&quot;AABCAAACBAA&quot;,\n",
    "&quot;AABCADACBAA&quot;,\n",
    "&quot;AABCAAACBAA&quot;,\n",
    "&quot;AABCCCCCBAA&quot;,\n",
    "&quot;AABBBBBBBAA&quot;,\n",
    "&quot;AAAAAAAAAAA&quot;\n",
    "]) ➞ 5"
   ]
  },
  {
   "cell_type": "code",
   "execution_count": 1,
   "id": "ef0a6859",
   "metadata": {},
   "outputs": [],
   "source": [
    "def count_layers(lst):\n",
    "    layers = lenth = len(lst)\n",
    "    if layers % 2 == 0:\n",
    "        print(\"Not a concentric layers\")\n",
    "    else:\n",
    "        mid = len(lst)//2\n",
    "    i = 0\n",
    "    layerCnt = 0\n",
    "    while (i <= mid):     \n",
    "        print(lst[lenth-1])\n",
    "        if lst[i] == lst[lenth-1]: \n",
    "            layerCnt +=1\n",
    "            lenth -=1\n",
    "            i +=1\n",
    "        else:\n",
    "            print('not a concentric layer')\n",
    "            return False\n",
    "    return \"Number of layers -> \",layerCnt"
   ]
  },
  {
   "cell_type": "code",
   "execution_count": 2,
   "id": "f3dfd2a0",
   "metadata": {},
   "outputs": [
    {
     "name": "stdout",
     "output_type": "stream",
     "text": [
      "AAAA\n",
      "ABBA\n"
     ]
    },
    {
     "data": {
      "text/plain": [
       "('Number of layers -> ', 2)"
      ]
     },
     "execution_count": 2,
     "metadata": {},
     "output_type": "execute_result"
    }
   ],
   "source": [
    "count_layers([ \"AAAA\", \"ABBA\", \"AAAA\" ])"
   ]
  },
  {
   "cell_type": "code",
   "execution_count": 3,
   "id": "f9a0d006",
   "metadata": {},
   "outputs": [
    {
     "name": "stdout",
     "output_type": "stream",
     "text": [
      "AAAAAAAAA\n",
      "ABBBBBBBA\n",
      "ABBAAABBA\n"
     ]
    },
    {
     "data": {
      "text/plain": [
       "('Number of layers -> ', 3)"
      ]
     },
     "execution_count": 3,
     "metadata": {},
     "output_type": "execute_result"
    }
   ],
   "source": [
    "count_layers([ \"AAAAAAAAA\", \"ABBBBBBBA\", \"ABBAAABBA\", \"ABBBBBBBA\", \"AAAAAAAAA\" ]) "
   ]
  },
  {
   "cell_type": "code",
   "execution_count": 4,
   "id": "799cde21",
   "metadata": {},
   "outputs": [
    {
     "name": "stdout",
     "output_type": "stream",
     "text": [
      "AAAAAAAAAAA\n",
      "AABBBBBBBAA\n",
      "AABCCCCCBAA\n",
      "AABCAAACBAA\n",
      "AABCADACBAA\n"
     ]
    },
    {
     "data": {
      "text/plain": [
       "('Number of layers -> ', 5)"
      ]
     },
     "execution_count": 4,
     "metadata": {},
     "output_type": "execute_result"
    }
   ],
   "source": [
    "count_layers([ \"AAAAAAAAAAA\", \"AABBBBBBBAA\", \"AABCCCCCBAA\", \"AABCAAACBAA\", \"AABCADACBAA\", \"AABCAAACBAA\", \"AABCCCCCBAA\", \"AABBBBBBBAA\", \"AAAAAAAAAAA\" ])"
   ]
  },
  {
   "cell_type": "markdown",
   "id": "c35faaef",
   "metadata": {},
   "source": [
    "#### 2. There are many different styles of music and many albums exhibit multiple styles. Create a function that takes a list of musical styles from albums and returns how many styles are unique.\n",
    "\n",
    "Examples\n",
    "\n",
    "unique_styles([\n",
    "&quot;Dub,Dancehall&quot;,\n",
    "&quot;Industrial,Heavy Metal&quot;,\n",
    "&quot;Techno,Dubstep&quot;,\n",
    "&quot;Synth-pop,Euro-Disco&quot;,\n",
    "&quot;Industrial,Techno,Minimal&quot;\n",
    "]) ➞ 9\n",
    "\n",
    "unique_styles([\n",
    "&quot;Soul&quot;,\n",
    "&quot;House,Folk&quot;,\n",
    "&quot;Trance,Downtempo,Big Beat,House&quot;,\n",
    "&quot;Deep House&quot;,\n",
    "&quot;Soul&quot;\n",
    "]) ➞ 7"
   ]
  },
  {
   "cell_type": "code",
   "execution_count": null,
   "id": "fe512519",
   "metadata": {},
   "outputs": [],
   "source": []
  },
  {
   "cell_type": "code",
   "execution_count": 7,
   "id": "dbdf6ecc",
   "metadata": {},
   "outputs": [],
   "source": [
    "def unique_styles(lst):\n",
    "    uplst = []\n",
    "    for i in lst:\n",
    "        uplst.extend(i.split(','))\n",
    "    return len(set(uplst))"
   ]
  },
  {
   "cell_type": "code",
   "execution_count": 8,
   "id": "309451ee",
   "metadata": {},
   "outputs": [
    {
     "data": {
      "text/plain": [
       "9"
      ]
     },
     "execution_count": 8,
     "metadata": {},
     "output_type": "execute_result"
    }
   ],
   "source": [
    "unique_styles([ \"Dub,Dancehall\", \"Industrial,Heavy Metal\", \"Techno,Dubstep\", \"Synth-pop,Euro-Disco\", \"Industrial,Techno,Minimal\" ])"
   ]
  },
  {
   "cell_type": "code",
   "execution_count": 9,
   "id": "88dc368f",
   "metadata": {},
   "outputs": [
    {
     "data": {
      "text/plain": [
       "7"
      ]
     },
     "execution_count": 9,
     "metadata": {},
     "output_type": "execute_result"
    }
   ],
   "source": [
    "unique_styles([ \"Soul\", \"House,Folk\", \"Trance,Downtempo,Big Beat,House\", \"Deep House\", \"Soul\" ])"
   ]
  },
  {
   "cell_type": "markdown",
   "id": "ac58894c",
   "metadata": {},
   "source": [
    "#### 3. Create a function that finds a target number in a list of prime numbers. Implement a binary search algorithm in your function. The target number will be from 2 through 97. If the target is prime then return &quot;yes&quot; else return &quot;no&quot;.\n",
    "\n",
    "Examples\n",
    "\n",
    "primes = [2, 3, 5, 7, 11, 13, 17, 19, 23, 29, 31, 37, 41, 43, 47, 53, 59, 61, 67,\n",
    "71, 73, 79, 83, 89, 97]\n",
    "\n",
    "is_prime(primes, 3) ➞ &quot;yes&quot;\n",
    "\n",
    "is_prime(primes, 4) ➞ &quot;no&quot;\n",
    "\n",
    "is_prime(primes, 67) ➞ &quot;yes&quot;\n",
    "\n",
    "is_prime(primes, 36) ➞ &quot;no&quot;"
   ]
  },
  {
   "cell_type": "code",
   "execution_count": 10,
   "id": "4e2bdb15",
   "metadata": {},
   "outputs": [],
   "source": [
    "primes = [2, 3, 5, 7, 11, 13, 17, 19, 23, 29, 31, 37, 41, 43, 47, 53, 59, 61, 67,71, 73, 79, 83, 89, 97]\n",
    "\n",
    "def is_prime(primes,item):\n",
    "    first = 0\n",
    "    last = len(primes)-1\n",
    "    found = False\n",
    "    yes = 'No'\n",
    "    while( first<=last and not found):\n",
    "        mid = (first + last)//2\n",
    "        if primes[mid] == item :\n",
    "            found = True\n",
    "            yes = 'Yes'\n",
    "        else:\n",
    "            if item < primes[mid]:\n",
    "                last = mid - 1\n",
    "            else:\n",
    "                first = mid + 1\t\n",
    "    return yes"
   ]
  },
  {
   "cell_type": "code",
   "execution_count": 11,
   "id": "51ee9309",
   "metadata": {},
   "outputs": [
    {
     "data": {
      "text/plain": [
       "'Yes'"
      ]
     },
     "execution_count": 11,
     "metadata": {},
     "output_type": "execute_result"
    }
   ],
   "source": [
    "is_prime(primes, 3) "
   ]
  },
  {
   "cell_type": "code",
   "execution_count": 12,
   "id": "2ae19287",
   "metadata": {},
   "outputs": [
    {
     "data": {
      "text/plain": [
       "'No'"
      ]
     },
     "execution_count": 12,
     "metadata": {},
     "output_type": "execute_result"
    }
   ],
   "source": [
    "is_prime(primes, 4) "
   ]
  },
  {
   "cell_type": "code",
   "execution_count": 13,
   "id": "be475e87",
   "metadata": {},
   "outputs": [
    {
     "data": {
      "text/plain": [
       "'Yes'"
      ]
     },
     "execution_count": 13,
     "metadata": {},
     "output_type": "execute_result"
    }
   ],
   "source": [
    "is_prime(primes, 67)"
   ]
  },
  {
   "cell_type": "code",
   "execution_count": 14,
   "id": "fe392d6b",
   "metadata": {},
   "outputs": [
    {
     "data": {
      "text/plain": [
       "'No'"
      ]
     },
     "execution_count": 14,
     "metadata": {},
     "output_type": "execute_result"
    }
   ],
   "source": [
    "is_prime(primes, 36) "
   ]
  },
  {
   "cell_type": "markdown",
   "id": "cde7d5b6",
   "metadata": {},
   "source": [
    "#### 4. Create a function that takes in n, a, b and returns the number of positive values raised to the nth power that lie in the range [a, b], inclusive.\n",
    "\n",
    "Examples\n",
    "\n",
    "power_ranger(2, 49, 65) ➞ 2\n",
    "\n",
    "2 squares (n^2) lie between 49 and 65, 49 (7^2) and 64 (8^2)\n",
    "\n",
    "power_ranger(3, 1, 27) ➞ 3\n",
    "\n",
    "3 cubes (n^3) lie between 1 and 27, 1 (1^3), 8 (2^3) and 27 (3^3)\n",
    "\n",
    "power_ranger(10, 1, 5) ➞ 1\n",
    "\n",
    "1 value raised to the 10th power lies between 1 and 5, 1 (1^10)\n",
    "\n",
    "power_ranger(5, 31, 33) ➞ 1\n",
    "\n",
    "power_ranger(4, 250, 1300) ➞ 3"
   ]
  },
  {
   "cell_type": "code",
   "execution_count": 15,
   "id": "1591df7b",
   "metadata": {},
   "outputs": [],
   "source": [
    "def power_ranger(n, min, max):\n",
    "    count = 0 \n",
    "  \n",
    "    for i in range(max): \n",
    "        if i**n in range(min,max): \n",
    "            print('{}^{} lies between {} and {}'.format(i,n,min,max)) \n",
    "            count += 1 \n",
    "    return 'Total values found =',count\n"
   ]
  },
  {
   "cell_type": "code",
   "execution_count": 16,
   "id": "6d0856d5",
   "metadata": {},
   "outputs": [
    {
     "name": "stdout",
     "output_type": "stream",
     "text": [
      "7^2 lies between 49 and 65\n",
      "8^2 lies between 49 and 65\n"
     ]
    },
    {
     "data": {
      "text/plain": [
       "('Total values found =', 2)"
      ]
     },
     "execution_count": 16,
     "metadata": {},
     "output_type": "execute_result"
    }
   ],
   "source": [
    "power_ranger(2, 49, 65)"
   ]
  },
  {
   "cell_type": "code",
   "execution_count": 17,
   "id": "4e7d49ea",
   "metadata": {},
   "outputs": [
    {
     "name": "stdout",
     "output_type": "stream",
     "text": [
      "1^3 lies between 1 and 27\n",
      "2^3 lies between 1 and 27\n"
     ]
    },
    {
     "data": {
      "text/plain": [
       "('Total values found =', 2)"
      ]
     },
     "execution_count": 17,
     "metadata": {},
     "output_type": "execute_result"
    }
   ],
   "source": [
    "power_ranger(3, 1, 27) "
   ]
  },
  {
   "cell_type": "code",
   "execution_count": 18,
   "id": "335c8786",
   "metadata": {},
   "outputs": [
    {
     "name": "stdout",
     "output_type": "stream",
     "text": [
      "1^10 lies between 1 and 5\n"
     ]
    },
    {
     "data": {
      "text/plain": [
       "('Total values found =', 1)"
      ]
     },
     "execution_count": 18,
     "metadata": {},
     "output_type": "execute_result"
    }
   ],
   "source": [
    "power_ranger(10, 1, 5)"
   ]
  },
  {
   "cell_type": "code",
   "execution_count": 19,
   "id": "f8b87630",
   "metadata": {},
   "outputs": [
    {
     "name": "stdout",
     "output_type": "stream",
     "text": [
      "2^5 lies between 31 and 33\n"
     ]
    },
    {
     "data": {
      "text/plain": [
       "('Total values found =', 1)"
      ]
     },
     "execution_count": 19,
     "metadata": {},
     "output_type": "execute_result"
    }
   ],
   "source": [
    "power_ranger(5, 31, 33)"
   ]
  },
  {
   "cell_type": "code",
   "execution_count": 20,
   "id": "ad811f9c",
   "metadata": {},
   "outputs": [
    {
     "name": "stdout",
     "output_type": "stream",
     "text": [
      "4^4 lies between 250 and 1300\n",
      "5^4 lies between 250 and 1300\n",
      "6^4 lies between 250 and 1300\n"
     ]
    },
    {
     "data": {
      "text/plain": [
       "('Total values found =', 3)"
      ]
     },
     "execution_count": 20,
     "metadata": {},
     "output_type": "execute_result"
    }
   ],
   "source": [
    "power_ranger(4, 250, 1300)"
   ]
  },
  {
   "cell_type": "markdown",
   "id": "a26913d0",
   "metadata": {},
   "source": [
    "#### 5. Given a number, return the difference between the maximum and minimum numbers that can be formed when the digits are rearranged.\n",
    "\n",
    "Examples\n",
    "\n",
    "rearranged_difference(972882) ➞ 760833\n",
    "\n",
    "988722 - 227889 = 760833\n",
    "\n",
    "rearranged_difference(3320707) ➞ 7709823\n",
    "\n",
    "7733200 - 23377 = 7709823\n",
    "\n",
    "rearranged_difference(90010) ➞ 90981\n",
    "\n",
    "91000 - 19 = 90981"
   ]
  },
  {
   "cell_type": "code",
   "execution_count": 22,
   "id": "a37317ad",
   "metadata": {},
   "outputs": [],
   "source": [
    "def findDigit(n):\n",
    "    rev = 0\n",
    "    digit = [] \n",
    "    while(n > 0): \n",
    "        a = n % 10\n",
    "        rev = rev * 10 + a \n",
    "        digit.append(a)\n",
    "        n = n // 10  \n",
    "    return digit\n",
    "    \n",
    "\n",
    "def findMax(digit):\n",
    "    max = int(''.join([str(i) for i in sorted(digit,reverse = True)]))\n",
    "    return max\n",
    "      \n",
    "def finMin(digit):  \n",
    "    min = int(''.join([str(i) for i in sorted(digit,reverse = False)]))\n",
    "    return min\n",
    "def rearranged_difference(n):\n",
    "    digit = findDigit(n)\n",
    "    return findMax(digit) - finMin(digit)"
   ]
  },
  {
   "cell_type": "code",
   "execution_count": 23,
   "id": "18dba877",
   "metadata": {},
   "outputs": [
    {
     "data": {
      "text/plain": [
       "760833"
      ]
     },
     "execution_count": 23,
     "metadata": {},
     "output_type": "execute_result"
    }
   ],
   "source": [
    "rearranged_difference(972882)"
   ]
  },
  {
   "cell_type": "code",
   "execution_count": 24,
   "id": "d2e51b57",
   "metadata": {},
   "outputs": [
    {
     "data": {
      "text/plain": [
       "7709823"
      ]
     },
     "execution_count": 24,
     "metadata": {},
     "output_type": "execute_result"
    }
   ],
   "source": [
    "rearranged_difference(3320707)"
   ]
  },
  {
   "cell_type": "code",
   "execution_count": 25,
   "id": "6947b3fc",
   "metadata": {},
   "outputs": [
    {
     "data": {
      "text/plain": [
       "90981"
      ]
     },
     "execution_count": 25,
     "metadata": {},
     "output_type": "execute_result"
    }
   ],
   "source": [
    "rearranged_difference(90010)"
   ]
  },
  {
   "cell_type": "code",
   "execution_count": null,
   "id": "513b6deb",
   "metadata": {},
   "outputs": [],
   "source": []
  }
 ],
 "metadata": {
  "kernelspec": {
   "display_name": "Python 3 (ipykernel)",
   "language": "python",
   "name": "python3"
  },
  "language_info": {
   "codemirror_mode": {
    "name": "ipython",
    "version": 3
   },
   "file_extension": ".py",
   "mimetype": "text/x-python",
   "name": "python",
   "nbconvert_exporter": "python",
   "pygments_lexer": "ipython3",
   "version": "3.9.12"
  }
 },
 "nbformat": 4,
 "nbformat_minor": 5
}
