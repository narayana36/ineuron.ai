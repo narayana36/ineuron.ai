{
 "cells": [
  {
   "cell_type": "markdown",
   "id": "54739a3d",
   "metadata": {},
   "source": [
    "#### 1. Create a function that takes the width, height and character and returns a picture frame as a 2D list.\n",
    "\n",
    "Examples\n",
    "\n",
    "get_frame(4, 5, &quot;#&quot;) ➞ [\n",
    "[&quot;####&quot;],\n",
    "[&quot;# #&quot;],\n",
    "[&quot;# #&quot;],\n",
    "[&quot;# #&quot;],\n",
    "[&quot;####&quot;]\n",
    "]\n",
    "Frame is 4 characters wide and 5 characters tall.\n",
    "\n",
    "get_frame(10, 3, &quot;*&quot;) ➞ [\n",
    "[&quot;**********&quot;],\n",
    "[&quot;* *&quot;],\n",
    "[&quot;**********&quot;]\n",
    "]\n",
    "\n",
    "Frame is 10 characters and wide and 3 characters tall.\n",
    "\n",
    "get_frame(2, 5, &quot;0&quot;) ➞ &quot;invalid&quot;\n",
    "Frame&#39;s width is not more than 2."
   ]
  },
  {
   "cell_type": "code",
   "execution_count": 2,
   "id": "674a915a",
   "metadata": {},
   "outputs": [],
   "source": [
    "def get_frame(m, n,sign) :\n",
    "    row = []\n",
    "    frame = []\n",
    "    boxStr = '' \n",
    "    if m <= 2 or n <= 2:\n",
    "        return \"invalid\"\n",
    "    for i in range(1, n+1) :\n",
    "        boxStr = ''\n",
    "        row = []\n",
    "        for j in range(1, m+1) :\n",
    "            if (i == 1 or i == n or\n",
    "                j == 1 or j == m) :\n",
    "                boxStr = boxStr + sign\n",
    "            else :\n",
    "                boxStr = boxStr + ' '\n",
    "        row.append(boxStr)\n",
    "        frame.append(row)\n",
    "    for i in frame:\n",
    "        print(i)"
   ]
  },
  {
   "cell_type": "code",
   "execution_count": 6,
   "id": "eb050043",
   "metadata": {},
   "outputs": [
    {
     "name": "stdout",
     "output_type": "stream",
     "text": [
      "['####']\n",
      "['#  #']\n",
      "['#  #']\n",
      "['#  #']\n",
      "['####']\n"
     ]
    }
   ],
   "source": [
    "get_frame(4, 5, '#')"
   ]
  },
  {
   "cell_type": "code",
   "execution_count": 4,
   "id": "9e0b5c34",
   "metadata": {},
   "outputs": [
    {
     "name": "stdout",
     "output_type": "stream",
     "text": [
      "['']\n",
      "['        ']\n",
      "['']\n"
     ]
    }
   ],
   "source": [
    "get_frame(10, 3, \"\") "
   ]
  },
  {
   "cell_type": "code",
   "execution_count": 5,
   "id": "4c2befab",
   "metadata": {},
   "outputs": [
    {
     "data": {
      "text/plain": [
       "'invalid'"
      ]
     },
     "execution_count": 5,
     "metadata": {},
     "output_type": "execute_result"
    }
   ],
   "source": [
    "get_frame(2, 5, \"0\")"
   ]
  },
  {
   "cell_type": "markdown",
   "id": "b2b0c98e",
   "metadata": {},
   "source": [
    "#### 2. Write three functions:\n",
    "\n",
    "1. boolean_and\n",
    "\n",
    "2. boolean_or\n",
    "\n",
    "3. boolean_xor\n",
    "\n",
    "These functions should evaluate a list of True and False values, starting from the leftmost element and evaluating pairwise.\n",
    "\n",
    "Examples\n",
    "\n",
    "boolean_and([True, True, False, True]) ➞ False\n",
    "[True, True, False, True] =&gt; [True, False, True] =&gt; [False, True] =&gt; False\n",
    "\n",
    "boolean_or([True, True, False, False]) ➞ True\n",
    "[True, True, False, True] =&gt; [True, False, False] =&gt; [True, False] =&gt; True\n",
    "\n",
    "boolean_xor([True, True, False, False]) ➞ False\n",
    " [True, True, False, False] =&gt; [False, False, False] =&gt; [False, False] =&gt;\n",
    "False"
   ]
  },
  {
   "cell_type": "code",
   "execution_count": 7,
   "id": "0e3a5a01",
   "metadata": {},
   "outputs": [],
   "source": [
    "from functools import reduce\n",
    "\n",
    "def boolean_and(items):\n",
    "    status = reduce(lambda a,b: True if (a & b) else False, items)\n",
    "    return status\n",
    "\n",
    "def boolean_or(items):\n",
    "    status = reduce(lambda a,b: True if (a | b) else False, items)\n",
    "    return status\n",
    "\n",
    "def boolean_xor(items):\n",
    "    status = reduce(lambda a,b: True if (a ^ b) else False, items)\n",
    "    return status"
   ]
  },
  {
   "cell_type": "code",
   "execution_count": 8,
   "id": "b2bb131c",
   "metadata": {},
   "outputs": [
    {
     "data": {
      "text/plain": [
       "False"
      ]
     },
     "execution_count": 8,
     "metadata": {},
     "output_type": "execute_result"
    }
   ],
   "source": [
    "boolean_and([True, True, False, True])"
   ]
  },
  {
   "cell_type": "code",
   "execution_count": 9,
   "id": "ff803530",
   "metadata": {},
   "outputs": [
    {
     "data": {
      "text/plain": [
       "True"
      ]
     },
     "execution_count": 9,
     "metadata": {},
     "output_type": "execute_result"
    }
   ],
   "source": [
    "boolean_or([True, True, False, False])"
   ]
  },
  {
   "cell_type": "code",
   "execution_count": 10,
   "id": "708b74ca",
   "metadata": {},
   "outputs": [
    {
     "data": {
      "text/plain": [
       "False"
      ]
     },
     "execution_count": 10,
     "metadata": {},
     "output_type": "execute_result"
    }
   ],
   "source": [
    "boolean_xor([True, True, False, False])"
   ]
  },
  {
   "cell_type": "markdown",
   "id": "f50ac5b3",
   "metadata": {},
   "source": [
    "#### 3. Create a function that creates a box based on dimension n.\n",
    "\n",
    "Examples\n",
    "\n",
    "make_box(5) ➞ [\n",
    "&quot;#####&quot;,\n",
    "&quot;# #&quot;,\n",
    "&quot;# #&quot;,\n",
    "&quot;# #&quot;,\n",
    "&quot;#####&quot;\n",
    "]\n",
    "\n",
    "make_box(3) ➞ [\n",
    "&quot;###&quot;,\n",
    "&quot;# #&quot;,\n",
    "&quot;###&quot;\n",
    "]\n",
    "\n",
    "make_box(2) ➞ [\n",
    "&quot;##&quot;,\n",
    "&quot;##&quot;\n",
    "]\n",
    "\n",
    "make_box(1) ➞ [\n",
    "&quot;#&quot;\n",
    "]"
   ]
  },
  {
   "cell_type": "code",
   "execution_count": 13,
   "id": "f0f06e3b",
   "metadata": {},
   "outputs": [],
   "source": [
    "def make_box(n) :\n",
    "    box = []\n",
    "    boxStr =''\n",
    "    for i in range(1, n+1) :\n",
    "        boxStr = ''\n",
    "        for j in range(1, n+1) :\n",
    "            if (i == 1 or i == n or\n",
    "                j == 1 or j == n) :           \n",
    "                boxStr = boxStr + '#'\n",
    "            else :\n",
    "                boxStr = boxStr + ' '\n",
    "        box.append(boxStr)\n",
    "    for i in range(len(box)):\n",
    "        print(box[i],end='\\n')\n",
    "    "
   ]
  },
  {
   "cell_type": "code",
   "execution_count": 14,
   "id": "28f8b1de",
   "metadata": {},
   "outputs": [
    {
     "name": "stdout",
     "output_type": "stream",
     "text": [
      "#####\n",
      "#   #\n",
      "#   #\n",
      "#   #\n",
      "#####\n"
     ]
    }
   ],
   "source": [
    "make_box(5)"
   ]
  },
  {
   "cell_type": "code",
   "execution_count": 15,
   "id": "bc5cc245",
   "metadata": {},
   "outputs": [
    {
     "name": "stdout",
     "output_type": "stream",
     "text": [
      "###\n",
      "# #\n",
      "###\n"
     ]
    }
   ],
   "source": [
    "make_box(3)"
   ]
  },
  {
   "cell_type": "code",
   "execution_count": 16,
   "id": "0ef3f4ad",
   "metadata": {},
   "outputs": [
    {
     "name": "stdout",
     "output_type": "stream",
     "text": [
      "##\n",
      "##\n"
     ]
    }
   ],
   "source": [
    "make_box(2)"
   ]
  },
  {
   "cell_type": "code",
   "execution_count": 17,
   "id": "f3f1e48e",
   "metadata": {},
   "outputs": [
    {
     "name": "stdout",
     "output_type": "stream",
     "text": [
      "#\n"
     ]
    }
   ],
   "source": [
    "make_box(1)"
   ]
  },
  {
   "cell_type": "markdown",
   "id": "442c24d5",
   "metadata": {},
   "source": [
    "#### 4. Given a common phrase, return False if any individual word in the phrase contains duplicate letters. Return True otherwise.\n",
    "\n",
    "Examples\n",
    "\n",
    "no_duplicate_letters(&quot;Fortune favours the bold.&quot;) ➞ True\n",
    "\n",
    "no_duplicate_letters(&quot;You can lead a horse to water, but you can&#39;t make him\n",
    "drink.&quot;) ➞ True\n",
    "\n",
    "no_duplicate_letters(&quot;Look before you leap.&quot;) ➞ False\n",
    " Duplicate letters in &quot;Look&quot; and &quot;before&quot;.\n",
    "no_duplicate_letters(&quot;An apple a day keeps the doctor away.&quot;) ➞ False\n",
    " Duplicate letters in &quot;apple&quot;, &quot;keeps&quot;, &quot;doctor&quot;, and &quot;away&quot;."
   ]
  },
  {
   "cell_type": "code",
   "execution_count": 18,
   "id": "c9d508f2",
   "metadata": {},
   "outputs": [],
   "source": [
    "def no_duplicate_letters(text):\n",
    "     \n",
    "    lst = text.split(' ')\n",
    "    for word in lst:\n",
    "        for i in range(len(word)):\n",
    "            for j in range(i + 1,len(word)):\n",
    "                if(word[i] == word[j]):\n",
    "                    return False;\n",
    "\n",
    "        \n",
    "    return True;\n",
    "     "
   ]
  },
  {
   "cell_type": "code",
   "execution_count": 19,
   "id": "7d3051c9",
   "metadata": {},
   "outputs": [
    {
     "data": {
      "text/plain": [
       "True"
      ]
     },
     "execution_count": 19,
     "metadata": {},
     "output_type": "execute_result"
    }
   ],
   "source": [
    "no_duplicate_letters(\"Fortune favours the bold.\")"
   ]
  },
  {
   "cell_type": "code",
   "execution_count": 20,
   "id": "ec6100ad",
   "metadata": {},
   "outputs": [
    {
     "data": {
      "text/plain": [
       "True"
      ]
     },
     "execution_count": 20,
     "metadata": {},
     "output_type": "execute_result"
    }
   ],
   "source": [
    "no_duplicate_letters(\"You can lead a horse to water, but you can't make him drink.\")"
   ]
  },
  {
   "cell_type": "code",
   "execution_count": 21,
   "id": "0523b945",
   "metadata": {},
   "outputs": [
    {
     "data": {
      "text/plain": [
       "False"
      ]
     },
     "execution_count": 21,
     "metadata": {},
     "output_type": "execute_result"
    }
   ],
   "source": [
    "no_duplicate_letters(\"Look before you leap.\") "
   ]
  },
  {
   "cell_type": "code",
   "execution_count": 22,
   "id": "93e00a67",
   "metadata": {},
   "outputs": [
    {
     "data": {
      "text/plain": [
       "False"
      ]
     },
     "execution_count": 22,
     "metadata": {},
     "output_type": "execute_result"
    }
   ],
   "source": [
    "no_duplicate_letters('An apple a day keeps the doctor away.')"
   ]
  },
  {
   "cell_type": "markdown",
   "id": "39e2f6a9",
   "metadata": {},
   "source": [
    "#### 5. Write a regular expression that will match the states that voted yes to President Trump&#39;s impeachment. You must use RegEx positive lookahead.\n",
    "\n",
    "Example\n",
    "\n",
    "txt = &quot;Texas = no, California = yes, Florida = yes, Michigan = no&quot;\n",
    "pattern = &quot;yourregularexpressionhere&quot;\n",
    "re.findall(pattern, txt) ➞ [&quot;California&quot;, &quot;Florida&quot;]"
   ]
  },
  {
   "cell_type": "code",
   "execution_count": 23,
   "id": "1b49e31a",
   "metadata": {},
   "outputs": [
    {
     "name": "stdout",
     "output_type": "stream",
     "text": [
      "['California', 'Florida']\n"
     ]
    }
   ],
   "source": [
    "txt = 'Texas = no, California = yes, Florida = yes, Michigan = no'\n",
    "pattern = '?=yes'\n",
    "import re\n",
    "pattern = r'\\w+(?= = yes)'\n",
    "result = re.findall(pattern, txt) \n",
    "print(result)"
   ]
  },
  {
   "cell_type": "code",
   "execution_count": null,
   "id": "ea2c863c",
   "metadata": {},
   "outputs": [],
   "source": []
  }
 ],
 "metadata": {
  "kernelspec": {
   "display_name": "Python 3 (ipykernel)",
   "language": "python",
   "name": "python3"
  },
  "language_info": {
   "codemirror_mode": {
    "name": "ipython",
    "version": 3
   },
   "file_extension": ".py",
   "mimetype": "text/x-python",
   "name": "python",
   "nbconvert_exporter": "python",
   "pygments_lexer": "ipython3",
   "version": "3.9.12"
  }
 },
 "nbformat": 4,
 "nbformat_minor": 5
}
