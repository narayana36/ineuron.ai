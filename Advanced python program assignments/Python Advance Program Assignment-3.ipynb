{
 "cells": [
  {
   "cell_type": "markdown",
   "id": "ccf74ddd",
   "metadata": {},
   "source": [
    "#### Q1.\n",
    "Create a function to perform basic arithmetic operations that includes addition, subtraction, multiplication and division on a string number (e.g. &quot;12 + 24&quot; or &quot;23 - 21&quot; or &quot;12 // 12&quot; or &quot;12 * 21&quot;).\n",
    "Here, we have 1 followed by a space, operator followed by another space and 2. For the challenge, we are going to have only two numbers between 1 valid operator. The return value should be a number. eval() is not allowed. In case of division, whenever the second number equals &quot;0&quot; return -1.\n",
    "\n",
    "For example:\n",
    "&quot;15 // 0&quot; ➞ -1\n",
    "\n",
    "#### Examples\n",
    "arithmetic_operation(&quot;12 + 12&quot;) ➞ 24 // 12 + 12 = 24\n",
    "\n",
    "arithmetic_operation(&quot;12 - 12&quot;) ➞ 24 // 12 - 12 = 0\n",
    "\n",
    "arithmetic_operation(&quot;12 * 12&quot;) ➞ 144 // 12 * 12 = 144\n",
    "\n",
    "arithmetic_operation(&quot;12 // 0&quot;) ➞ -1 // 12 / 0 = -1"
   ]
  },
  {
   "cell_type": "code",
   "execution_count": 1,
   "id": "7f9668f4",
   "metadata": {},
   "outputs": [],
   "source": [
    "def arithmetic_operation(str):\n",
    "    operators=['+','-','*','//','/','%']\n",
    "    exp=list(str.split())\n",
    "    if exp[1]=='+':\n",
    "        print(\"The expression: \",str)\n",
    "        return int(exp[0]) + int(exp[2])\n",
    "    elif exp[1]=='-':\n",
    "        print(\"The expression: \",str)\n",
    "        return int(exp[0]) - int(exp[2])\n",
    "    elif exp[1]=='*':\n",
    "        print(\"The expression: \",str)\n",
    "        return int(exp[0]) * int(exp[2])\n",
    "    elif exp[1]=='//':\n",
    "        print(\"The expression: \",str)\n",
    "        if int(exp[2])==0 or int(exp[0])==0:\n",
    "            return -1\n",
    "        else:\n",
    "            return int(exp[0]) // int(exp(2))\n",
    "    elif exp[1]=='/':\n",
    "        print(\"The expression: \",str)\n",
    "        if int(exp[2])==0 or int(exp[0])==0:\n",
    "            return -1\n",
    "        else:\n",
    "            return int(exp[0]) / int(exp(2))\n",
    "    elif exp[1]=='%':\n",
    "        print(\"The expression: \",str)\n",
    "        return int(exp[0]) % int(exp[2])"
   ]
  },
  {
   "cell_type": "code",
   "execution_count": 2,
   "id": "cb767488",
   "metadata": {},
   "outputs": [
    {
     "name": "stdout",
     "output_type": "stream",
     "text": [
      "The expression:  12 + 12\n"
     ]
    },
    {
     "data": {
      "text/plain": [
       "24"
      ]
     },
     "execution_count": 2,
     "metadata": {},
     "output_type": "execute_result"
    }
   ],
   "source": [
    "arithmetic_operation('12 + 12')"
   ]
  },
  {
   "cell_type": "code",
   "execution_count": 3,
   "id": "a7d70752",
   "metadata": {},
   "outputs": [
    {
     "name": "stdout",
     "output_type": "stream",
     "text": [
      "The expression:  12 - 12\n"
     ]
    },
    {
     "data": {
      "text/plain": [
       "0"
      ]
     },
     "execution_count": 3,
     "metadata": {},
     "output_type": "execute_result"
    }
   ],
   "source": [
    "arithmetic_operation('12 - 12')"
   ]
  },
  {
   "cell_type": "code",
   "execution_count": 4,
   "id": "63c07858",
   "metadata": {},
   "outputs": [
    {
     "name": "stdout",
     "output_type": "stream",
     "text": [
      "The expression:  12 * 12\n"
     ]
    },
    {
     "data": {
      "text/plain": [
       "144"
      ]
     },
     "execution_count": 4,
     "metadata": {},
     "output_type": "execute_result"
    }
   ],
   "source": [
    "arithmetic_operation('12 * 12')"
   ]
  },
  {
   "cell_type": "code",
   "execution_count": 5,
   "id": "2c491b05",
   "metadata": {},
   "outputs": [
    {
     "name": "stdout",
     "output_type": "stream",
     "text": [
      "The expression:  12 // 0\n"
     ]
    },
    {
     "data": {
      "text/plain": [
       "-1"
      ]
     },
     "execution_count": 5,
     "metadata": {},
     "output_type": "execute_result"
    }
   ],
   "source": [
    "arithmetic_operation('12 // 0')"
   ]
  },
  {
   "cell_type": "code",
   "execution_count": 6,
   "id": "b3955920",
   "metadata": {},
   "outputs": [
    {
     "name": "stdout",
     "output_type": "stream",
     "text": [
      "The expression:  12 / 0\n"
     ]
    },
    {
     "data": {
      "text/plain": [
       "-1"
      ]
     },
     "execution_count": 6,
     "metadata": {},
     "output_type": "execute_result"
    }
   ],
   "source": [
    "arithmetic_operation('12 / 0')"
   ]
  },
  {
   "cell_type": "code",
   "execution_count": 7,
   "id": "ffc2f7c7",
   "metadata": {},
   "outputs": [
    {
     "name": "stdout",
     "output_type": "stream",
     "text": [
      "The expression:  12 % 12\n"
     ]
    },
    {
     "data": {
      "text/plain": [
       "0"
      ]
     },
     "execution_count": 7,
     "metadata": {},
     "output_type": "execute_result"
    }
   ],
   "source": [
    "arithmetic_operation('12 % 12')"
   ]
  },
  {
   "cell_type": "code",
   "execution_count": 8,
   "id": "2798f358",
   "metadata": {},
   "outputs": [
    {
     "name": "stdout",
     "output_type": "stream",
     "text": [
      "The expression:  0 // 0\n"
     ]
    },
    {
     "data": {
      "text/plain": [
       "-1"
      ]
     },
     "execution_count": 8,
     "metadata": {},
     "output_type": "execute_result"
    }
   ],
   "source": [
    "arithmetic_operation('0 // 0')"
   ]
  },
  {
   "cell_type": "code",
   "execution_count": 9,
   "id": "67c8cdc5",
   "metadata": {},
   "outputs": [
    {
     "name": "stdout",
     "output_type": "stream",
     "text": [
      "The expression:  0 / 9\n"
     ]
    },
    {
     "data": {
      "text/plain": [
       "-1"
      ]
     },
     "execution_count": 9,
     "metadata": {},
     "output_type": "execute_result"
    }
   ],
   "source": [
    "arithmetic_operation('0 / 9')"
   ]
  },
  {
   "cell_type": "markdown",
   "id": "198d07ba",
   "metadata": {},
   "source": [
    "#### Q2. \n",
    "Write a function that takes the coordinates of three points in the form of a\n",
    "2d array and returns the perimeter of the triangle. The given points are the\n",
    "vertices of a triangle on a two-dimensional plane.\n",
    "#### Examples\n",
    "perimeter( [ [15, 7], [5, 22], [11, 1] ] ) ➞ 47.08\n",
    "\n",
    "perimeter( [ [0, 0], [0, 1], [1, 0] ] ) ➞ 3.42\n",
    "\n",
    "perimeter( [ [-10, -10], [10, 10 ], [-10, 10] ] ) ➞ 68.28"
   ]
  },
  {
   "cell_type": "code",
   "execution_count": 10,
   "id": "95b165a8",
   "metadata": {},
   "outputs": [],
   "source": [
    "import math\n",
    "def perimeter(ary):\n",
    "    x=ary[0]\n",
    "    y=ary[1]\n",
    "    z=ary[2]\n",
    "    # find lenth of 3 sides\n",
    "    a=math.sqrt((x[0]-x[1])**2 + (y[0]-y[1])**2)\n",
    "    b=math.sqrt((y[0]-y[1])**2 + (z[0]-z[1])**2)\n",
    "    c=math.sqrt((z[0]-z[1])**2 + (x[0]-x[1])**2)\n",
    "    perimeter=a+b+c\n",
    "    print(\"The coordinates are: \",x,y,z)\n",
    "    return perimeter"
   ]
  },
  {
   "cell_type": "code",
   "execution_count": 11,
   "id": "81f13c2e",
   "metadata": {},
   "outputs": [
    {
     "name": "stdout",
     "output_type": "stream",
     "text": [
      "The coordinates are:  [15, 7] [5, 22] [11, 1]\n"
     ]
    },
    {
     "data": {
      "text/plain": [
       "51.31762562623766"
      ]
     },
     "execution_count": 11,
     "metadata": {},
     "output_type": "execute_result"
    }
   ],
   "source": [
    "perimeter([[15,7],[5,22],[11,1]])"
   ]
  },
  {
   "cell_type": "code",
   "execution_count": 12,
   "id": "2b686954",
   "metadata": {},
   "outputs": [
    {
     "name": "stdout",
     "output_type": "stream",
     "text": [
      "The coordinates are:  [0, 0] [0, 1] [1, 0]\n"
     ]
    },
    {
     "data": {
      "text/plain": [
       "3.414213562373095"
      ]
     },
     "execution_count": 12,
     "metadata": {},
     "output_type": "execute_result"
    }
   ],
   "source": [
    "perimeter( [ [0, 0], [0, 1], [1, 0] ] )"
   ]
  },
  {
   "cell_type": "code",
   "execution_count": 13,
   "id": "16f73f94",
   "metadata": {},
   "outputs": [
    {
     "name": "stdout",
     "output_type": "stream",
     "text": [
      "The coordinates are:  [-10, -10] [10, 10] [-10, 10]\n"
     ]
    },
    {
     "data": {
      "text/plain": [
       "40.0"
      ]
     },
     "execution_count": 13,
     "metadata": {},
     "output_type": "execute_result"
    }
   ],
   "source": [
    "perimeter( [ [-10, -10], [10, 10 ], [-10, 10] ] )"
   ]
  },
  {
   "cell_type": "markdown",
   "id": "93553cdb",
   "metadata": {},
   "source": [
    "#### Q3. \n",
    "A city skyline can be represented as a 2-D list with 1s representing\n",
    "buildings. In the example below, the height of the tallest building is 4 (second-\n",
    "most right column).\n",
    "[[0, 0, 0, 0, 0, 0],\n",
    "[0, 0, 0, 0, 1, 0],\n",
    "[0, 0, 1, 0, 1, 0],\n",
    "[0, 1, 1, 1, 1, 0],\n",
    "\n",
    "[1, 1, 1, 1, 1, 1]]\n",
    "Create a function that takes a skyline (2-D list of 0&#39;s and 1&#39;s) and returns the\n",
    "height of the tallest skyscraper.\n",
    "### Examples\n",
    "tallest_skyscraper([\n",
    "[0, 0, 0, 0],\n",
    "[0, 1, 0, 0],\n",
    "[0, 1, 1, 0],\n",
    "[1, 1, 1, 1]\n",
    "]) ➞ 3\n",
    "\n",
    "tallest_skyscraper([\n",
    "[0, 1, 0, 0],\n",
    "[0, 1, 0, 0],\n",
    "[0, 1, 1, 0],\n",
    "[1, 1, 1, 1]\n",
    "]) ➞ 4\n",
    "\n",
    "tallest_skyscraper([\n",
    "[0, 0, 0, 0],\n",
    "[0, 0, 0, 0],\n",
    "[1, 1, 1, 0],\n",
    "[1, 1, 1, 1]\n",
    "]) ➞ 2"
   ]
  },
  {
   "cell_type": "code",
   "execution_count": 14,
   "id": "1977326a",
   "metadata": {},
   "outputs": [],
   "source": [
    "def tallest_skyscraper(array):\n",
    "    list_of_height=[]\n",
    "    sum=0\n",
    "    for i in range(len(array[0])):\n",
    "        for j in range(len(array)):\n",
    "            sum=sum+array[j][i]\n",
    "        list_of_height.append(sum)\n",
    "        sum=0\n",
    "    return \"The height of the tallest building: \",max(list_of_height)"
   ]
  },
  {
   "cell_type": "code",
   "execution_count": 15,
   "id": "f6ffce9b",
   "metadata": {},
   "outputs": [
    {
     "data": {
      "text/plain": [
       "('The height of the tallest building: ', 3)"
      ]
     },
     "execution_count": 15,
     "metadata": {},
     "output_type": "execute_result"
    }
   ],
   "source": [
    "tallest_skyscraper([\n",
    "[0, 0, 0, 0],\n",
    "[0, 1, 0, 0],\n",
    "[0, 1, 1, 0],\n",
    "[1, 1, 1, 1]\n",
    "])"
   ]
  },
  {
   "cell_type": "code",
   "execution_count": 16,
   "id": "1f16feba",
   "metadata": {},
   "outputs": [
    {
     "data": {
      "text/plain": [
       "('The height of the tallest building: ', 4)"
      ]
     },
     "execution_count": 16,
     "metadata": {},
     "output_type": "execute_result"
    }
   ],
   "source": [
    "tallest_skyscraper([\n",
    "[0, 1, 0, 0],\n",
    "[0, 1, 0, 0],\n",
    "[0, 1, 1, 0],\n",
    "[1, 1, 1, 1]\n",
    "])"
   ]
  },
  {
   "cell_type": "code",
   "execution_count": 17,
   "id": "a4e83f59",
   "metadata": {},
   "outputs": [
    {
     "data": {
      "text/plain": [
       "('The height of the tallest building: ', 2)"
      ]
     },
     "execution_count": 17,
     "metadata": {},
     "output_type": "execute_result"
    }
   ],
   "source": [
    "tallest_skyscraper([\n",
    "[0, 0, 0, 0],\n",
    "[0, 0, 0, 0],\n",
    "[1, 1, 1, 0],\n",
    "[1, 1, 1, 1]\n",
    "])"
   ]
  },
  {
   "cell_type": "markdown",
   "id": "96294d49",
   "metadata": {},
   "source": [
    "#### Q4. \n",
    "A financial institution provides professional services to banks and claims\n",
    "charges from the customers based on the number of man-days provided.\n",
    "Internally, it has set a scheme to motivate and reward staff to meet and\n",
    "exceed targeted billable utilization and revenues by paying a bonus for each\n",
    "day claimed from customers in excess of a threshold target.\n",
    "This quarterly scheme is calculated with a threshold target of 32 days per\n",
    "quarter, and the incentive payment for each billable day in excess of such\n",
    "threshold target is shown as follows:\n",
    "Days Bonus\n",
    "0 to 32 days Zero\n",
    "33 to 40 days SGD$325 per billable day\n",
    "41 to 48 days SGD$550 per billable day\n",
    "Greater than 48 days SGD$600 per billable day\n",
    "\n",
    "Please note that incentive payment is calculated progressively. As an\n",
    "example, if an employee reached total billable days of 45 in a quarter, his/her\n",
    "incentive payment is computed as follows:\n",
    "32*0 + 8*325 + 5*550 = 5350\n",
    "Write a function to read the billable days of an employee and return the bonus\n",
    "he/she has obtained in that quarter.\n",
    "#### Examples\n",
    "bonus(15) ➞ 0\n",
    "\n",
    "bonus(37) ➞ 1625\n",
    "\n",
    "bonus(50) ➞ 8200"
   ]
  },
  {
   "cell_type": "code",
   "execution_count": 18,
   "id": "b0cc8648",
   "metadata": {},
   "outputs": [],
   "source": [
    "def bonus(day):\n",
    "    days=[32,40,48]\n",
    "    inc=0\n",
    "    while True:\n",
    "        if day<=32:\n",
    "            break\n",
    "        if day > 48:\n",
    "            inc=inc + (day - days[2])*600\n",
    "            day=day-(day-days[2])\n",
    "            print(inc)\n",
    "        elif day > 40:\n",
    "            inc=inc + (day - days[1])*550\n",
    "            day=day-(day -days[1])\n",
    "        elif day > 32:\n",
    "            inc = inc + (day - days[0])*325\n",
    "            day = day - (day - days[0])\n",
    "    return 'The incentive is: ',inc"
   ]
  },
  {
   "cell_type": "code",
   "execution_count": 19,
   "id": "88943836",
   "metadata": {},
   "outputs": [
    {
     "data": {
      "text/plain": [
       "('The incentive is: ', 0)"
      ]
     },
     "execution_count": 19,
     "metadata": {},
     "output_type": "execute_result"
    }
   ],
   "source": [
    "bonus(15)"
   ]
  },
  {
   "cell_type": "code",
   "execution_count": 20,
   "id": "f3d3e33f",
   "metadata": {},
   "outputs": [
    {
     "data": {
      "text/plain": [
       "('The incentive is: ', 1625)"
      ]
     },
     "execution_count": 20,
     "metadata": {},
     "output_type": "execute_result"
    }
   ],
   "source": [
    "bonus(37)"
   ]
  },
  {
   "cell_type": "code",
   "execution_count": 21,
   "id": "be19cb9b",
   "metadata": {},
   "outputs": [
    {
     "name": "stdout",
     "output_type": "stream",
     "text": [
      "1200\n"
     ]
    },
    {
     "data": {
      "text/plain": [
       "('The incentive is: ', 8200)"
      ]
     },
     "execution_count": 21,
     "metadata": {},
     "output_type": "execute_result"
    }
   ],
   "source": [
    "bonus(50)"
   ]
  },
  {
   "cell_type": "markdown",
   "id": "730975af",
   "metadata": {},
   "source": [
    "#### Q5.\n",
    "A number is said to be Disarium if the sum of its digits raised to their\n",
    "respective positions is the number itself.\n",
    "Create a function that determines whether a number is a Disarium or not.\n",
    "#### Examples\n",
    "\n",
    "is_disarium(75) ➞ False\n",
    " 7^1 + 5^2 = 7 + 25 = 32\n",
    "\n",
    "is_disarium(135) ➞ True\n",
    " 1^1 + 3^2 + 5^3 = 1 + 9 + 125 = 135\n",
    "\n",
    "is_disarium(544) ➞ False\n",
    "\n",
    "is_disarium(518) ➞ True\n",
    "\n",
    "is_disarium(466) ➞ False\n",
    "\n",
    "is_disarium(8) ➞ True"
   ]
  },
  {
   "cell_type": "code",
   "execution_count": 22,
   "id": "da0385c0",
   "metadata": {},
   "outputs": [],
   "source": [
    "def is_disarium(num):\n",
    "    dig_num=len(str(num))\n",
    "    count=0\n",
    "    sum=0\n",
    "    for i in str(num):\n",
    "        count+=1\n",
    "        for j in range(count, dig_num+1):\n",
    "            sum += int(i)**j\n",
    "            break\n",
    "    if num==sum:\n",
    "        print('This is disarium number',num,True)\n",
    "    else:\n",
    "        print('This is not disarium number',num,False)"
   ]
  },
  {
   "cell_type": "code",
   "execution_count": 23,
   "id": "62055e09",
   "metadata": {},
   "outputs": [
    {
     "name": "stdout",
     "output_type": "stream",
     "text": [
      "This is not disarium number 75 False\n"
     ]
    }
   ],
   "source": [
    "is_disarium(75)"
   ]
  },
  {
   "cell_type": "code",
   "execution_count": 24,
   "id": "fb1f53b9",
   "metadata": {},
   "outputs": [
    {
     "name": "stdout",
     "output_type": "stream",
     "text": [
      "This is disarium number 135 True\n"
     ]
    }
   ],
   "source": [
    "is_disarium(135)"
   ]
  },
  {
   "cell_type": "code",
   "execution_count": 25,
   "id": "6de54006",
   "metadata": {},
   "outputs": [
    {
     "name": "stdout",
     "output_type": "stream",
     "text": [
      "This is not disarium number 544 False\n"
     ]
    }
   ],
   "source": [
    "is_disarium(544)"
   ]
  },
  {
   "cell_type": "code",
   "execution_count": 26,
   "id": "f3afaa80",
   "metadata": {},
   "outputs": [
    {
     "name": "stdout",
     "output_type": "stream",
     "text": [
      "This is disarium number 518 True\n"
     ]
    }
   ],
   "source": [
    "is_disarium(518)"
   ]
  },
  {
   "cell_type": "code",
   "execution_count": 27,
   "id": "dbfd1332",
   "metadata": {},
   "outputs": [
    {
     "name": "stdout",
     "output_type": "stream",
     "text": [
      "This is not disarium number 466 False\n"
     ]
    }
   ],
   "source": [
    "is_disarium(466)"
   ]
  },
  {
   "cell_type": "code",
   "execution_count": 28,
   "id": "f4a78277",
   "metadata": {},
   "outputs": [
    {
     "name": "stdout",
     "output_type": "stream",
     "text": [
      "This is disarium number 8 True\n"
     ]
    }
   ],
   "source": [
    "is_disarium(8)"
   ]
  },
  {
   "cell_type": "code",
   "execution_count": null,
   "id": "aff2c0c9",
   "metadata": {},
   "outputs": [],
   "source": []
  }
 ],
 "metadata": {
  "kernelspec": {
   "display_name": "Python 3 (ipykernel)",
   "language": "python",
   "name": "python3"
  },
  "language_info": {
   "codemirror_mode": {
    "name": "ipython",
    "version": 3
   },
   "file_extension": ".py",
   "mimetype": "text/x-python",
   "name": "python",
   "nbconvert_exporter": "python",
   "pygments_lexer": "ipython3",
   "version": "3.9.12"
  }
 },
 "nbformat": 4,
 "nbformat_minor": 5
}
