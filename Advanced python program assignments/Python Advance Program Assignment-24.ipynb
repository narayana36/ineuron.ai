{
 "cells": [
  {
   "cell_type": "markdown",
   "id": "638ff48b",
   "metadata": {},
   "source": [
    "#### Q1. \n",
    "Implement a class iterator to flatten a nested list of lists of integers. Each\n",
    "list element is either an integer or a list. There can be many levels of nested\n",
    "lists in lists.\n",
    "The class initializes with a nested list. It also has two methods:\n",
    "1. next() returns an integer in the order of appearance.\n",
    "2. hasNext() returns True / False regarding if all integers have been\n",
    "retrieved or not.\n",
    "Write the Class implementation for three required methods.\n",
    "Examples\n",
    "ni, actual = NestedIterator([[1, 1], 2, [1, 1]]), []\n",
    "while ni.hasNext():\n",
    "actual.append(ni.next())\n",
    "actual ➞ [1, 1, 2, 1, 1]\n",
    "ni, actual = NestedIterator([1, [4, [6]]]), []\n",
    "while ni.hasNext():\n",
    "actual.append(ni.next())\n",
    "actual ➞ [1, 4, 6]\n",
    "ni, actual = NestedIterator([[[]], []]), []\n",
    "while ni.hasNext():\n",
    "actual.append(ni.next())\n",
    "actual ➞ []"
   ]
  },
  {
   "cell_type": "code",
   "execution_count": 1,
   "id": "f9e7d7dc",
   "metadata": {},
   "outputs": [],
   "source": [
    "class NestedIterator:\n",
    "    def __init__(self,in_list):\n",
    "        self.list = in_list\n",
    "        self.flatten_list = []\n",
    "        self.test(self.list)\n",
    "    \n",
    "    def test(self,in_list):\n",
    "        for ele in in_list:\n",
    "            if isinstance(ele,int):\n",
    "                self.flatten_list.append(ele)\n",
    "            else:\n",
    "                self.test(ele)\n",
    "                \n",
    "    def hasNext(self):\n",
    "        return True if len(self.flatten_list) > 0 else False\n",
    "    \n",
    "    def next(self):\n",
    "        return self.flatten_list.pop(0)"
   ]
  },
  {
   "cell_type": "code",
   "execution_count": 2,
   "id": "0b89d341",
   "metadata": {},
   "outputs": [
    {
     "name": "stdout",
     "output_type": "stream",
     "text": [
      "actual ➞ [1, 1, 2, 1, 1]\n"
     ]
    }
   ],
   "source": [
    "ni, actual = NestedIterator([[1, 1], 2, [1, 1]]), []\n",
    "while ni.hasNext():\n",
    "    actual.append(ni.next())\n",
    "print(f'actual ➞ {actual}')"
   ]
  },
  {
   "cell_type": "code",
   "execution_count": 3,
   "id": "a4971b80",
   "metadata": {},
   "outputs": [
    {
     "name": "stdout",
     "output_type": "stream",
     "text": [
      "actual ➞ [1, 4, 6]\n"
     ]
    }
   ],
   "source": [
    "ni, actual = NestedIterator([1, [4, [6]]]), []\n",
    "while ni.hasNext():\n",
    "    actual.append(ni.next())\n",
    "print(f'actual ➞ {actual}')\n"
   ]
  },
  {
   "cell_type": "code",
   "execution_count": 4,
   "id": "f24ebe5e",
   "metadata": {},
   "outputs": [
    {
     "name": "stdout",
     "output_type": "stream",
     "text": [
      "actual ➞ []\n"
     ]
    }
   ],
   "source": [
    "ni, actual = NestedIterator([[[]], []]), []\n",
    "while ni.hasNext():\n",
    "    actual.append(ni.next())\n",
    "print(f'actual ➞ {actual}')"
   ]
  },
  {
   "cell_type": "markdown",
   "id": "c6e1b329",
   "metadata": {},
   "source": [
    "#### Q3. \n",
    "Given a 3x3 matrix of a completed tic-tac-toe game, create a function that\n",
    "returns whether the game is a win for &quot;X&quot;, &quot;O&quot;, or a &quot;Draw&quot;, where &quot;X&quot; and &quot;O&quot;\n",
    "represent themselves on the matrix, and &quot;E&quot; represents an empty spot.\n",
    "Examples\n",
    "tic_tac_toe([\n",
    "[&quot;X&quot;, &quot;O&quot;, &quot;X&quot;],\n",
    "[&quot;O&quot;, &quot;X&quot;, &quot;O&quot;],\n",
    "[&quot;O&quot;, &quot;X&quot;, &quot;X&quot;]\n",
    "]) ➞ &quot;X&quot;\n",
    "tic_tac_toe([\n",
    "[&quot;O&quot;, &quot;O&quot;, &quot;O&quot;],\n",
    "[&quot;O&quot;, &quot;X&quot;, &quot;X&quot;],\n",
    "[&quot;E&quot;, &quot;X&quot;, &quot;X&quot;]\n",
    "]) ➞ &quot;O&quot;\n",
    "\n",
    "tic_tac_toe([\n",
    "[&quot;X&quot;, &quot;X&quot;, &quot;O&quot;],\n",
    "[&quot;O&quot;, &quot;O&quot;, &quot;X&quot;],\n",
    "[&quot;X&quot;, &quot;X&quot;, &quot;O&quot;]\n",
    "]) ➞ &quot;Draw&quot;"
   ]
  },
  {
   "cell_type": "code",
   "execution_count": 5,
   "id": "cad19dfb",
   "metadata": {},
   "outputs": [],
   "source": [
    "def tic_tac_toe(in_list):\n",
    "    output = None  \n",
    "    # Case 1 to search for horizontal match\n",
    "    for ele in in_list:\n",
    "        if len(list(set(ele))) == 1:\n",
    "            output = list(set(ele))[0]\n",
    "            break\n",
    "    # Case 2 to search for vertical match   \n",
    "    if output == None:\n",
    "        for i in range(len(in_list)):\n",
    "            temp = []\n",
    "            for j in range(len(in_list)): temp.append(in_list[j][i])\n",
    "            if len(list(set(temp))) == 1: output = list(set(temp))[0]\n",
    "    # Case 3 to search for diagonal match\n",
    "    if output == None:\n",
    "        temp = []\n",
    "        for ele in [0,1,2]:\n",
    "            temp.append(in_list[ele][ele])\n",
    "        if len(list(set(temp))) == 1: output = list(set(temp))[0]\n",
    "    # Case 4 to search for reverse diagonal match\n",
    "    if output == None:\n",
    "        temp = []\n",
    "        for i in [0,1,2]:\n",
    "            for j in [0,1,2]:\n",
    "                if sum([i,j]) == 2: temp.append(in_list[i][j])\n",
    "        if len(list(set(temp))) == 1: output = list(set(temp))[0]\n",
    "    # Case 5 Draw Condition\n",
    "    if output == None: output = 'Draw'\n",
    "    print(f'tic_tac_toe({in_list}) ➞ \"{output}\"')"
   ]
  },
  {
   "cell_type": "code",
   "execution_count": 6,
   "id": "3dda0ef1",
   "metadata": {},
   "outputs": [
    {
     "name": "stdout",
     "output_type": "stream",
     "text": [
      "tic_tac_toe([['X', 'O', 'X'], ['O', 'X', 'O'], ['O', 'X', 'X']]) ➞ \"X\"\n"
     ]
    }
   ],
   "source": [
    "tic_tac_toe([[\"X\", \"O\", \"X\"],[\"O\", \"X\", \"O\"],[\"O\", \"X\", \"X\"]])"
   ]
  },
  {
   "cell_type": "code",
   "execution_count": 7,
   "id": "f38351b0",
   "metadata": {},
   "outputs": [
    {
     "name": "stdout",
     "output_type": "stream",
     "text": [
      "tic_tac_toe([['O', 'O', 'O'], ['O', 'X', 'X'], ['E', 'X', 'X']]) ➞ \"O\"\n"
     ]
    }
   ],
   "source": [
    "tic_tac_toe([[\"O\", \"O\", \"O\"],[\"O\",\"X\", \"X\"],[\"E\", \"X\", \"X\"]])"
   ]
  },
  {
   "cell_type": "code",
   "execution_count": 8,
   "id": "73568a10",
   "metadata": {},
   "outputs": [
    {
     "name": "stdout",
     "output_type": "stream",
     "text": [
      "tic_tac_toe([['X', 'X', 'O'], ['O', 'O', 'X'], ['X', 'X', 'O']]) ➞ \"Draw\"\n"
     ]
    }
   ],
   "source": [
    "tic_tac_toe([[\"X\", \"X\", \"O\"],[\"O\", \"O\", \"X\"],[\"X\", \"X\", \"O\"]])"
   ]
  },
  {
   "cell_type": "code",
   "execution_count": 9,
   "id": "fc4c313d",
   "metadata": {},
   "outputs": [
    {
     "name": "stdout",
     "output_type": "stream",
     "text": [
      "tic_tac_toe([['X', 'X', 'O'], ['X', 'O', 'X'], ['X', 'O', 'O']]) ➞ \"X\"\n"
     ]
    }
   ],
   "source": [
    "tic_tac_toe([[\"X\", \"X\", \"O\"],[\"X\", \"O\", \"X\"],[\"X\", \"O\", \"O\"]])"
   ]
  },
  {
   "cell_type": "code",
   "execution_count": 10,
   "id": "bf2913bf",
   "metadata": {},
   "outputs": [
    {
     "name": "stdout",
     "output_type": "stream",
     "text": [
      "tic_tac_toe([['O', 'O', 'X'], ['O', 'X', 'O'], ['X', 'O', 'O']]) ➞ \"X\"\n"
     ]
    }
   ],
   "source": [
    "tic_tac_toe([[\"O\", \"O\", \"X\"],[\"O\", \"X\", \"O\"],[\"X\", \"O\", \"O\"]])"
   ]
  },
  {
   "cell_type": "markdown",
   "id": "42f1778b",
   "metadata": {},
   "source": [
    "#### Q4. \n",
    "Your computer might have been infected by a virus! Create a function that\n",
    "finds the viruses in files and removes them from your computer.\n",
    "Examples\n",
    "remove_virus(&quot;PC Files: spotifysetup.exe, virus.exe, dog.jpg&quot;) ➞ &quot;PC Files:\n",
    "spotifysetup.exe, dog.jpg&quot;\n",
    "remove_virus(&quot;PC Files: antivirus.exe, cat.pdf, lethalmalware.exe,\n",
    "dangerousvirus.exe &quot;) ➞ &quot;PC Files: antivirus.exe, cat.pdf&quot;\n",
    "remove_virus(&quot;PC Files: notvirus.exe, funnycat.gif&quot;) ➞ &quot;PC Files:\n",
    "notvirus.exe, funnycat.gif&quot;)"
   ]
  },
  {
   "cell_type": "code",
   "execution_count": 11,
   "id": "d483d1d3",
   "metadata": {},
   "outputs": [],
   "source": [
    "import re\n",
    "def remove_virus(in_string):\n",
    "    in_list = [x.strip() for x in re.split(\", \",in_string)]\n",
    "    output = []\n",
    "    for ele in in_list:\n",
    "        if ele not in ['virus.exe','dangerousvirus.exe','lethalmalware.exe']:\n",
    "            output.append(ele)\n",
    "    print(f'remove_virus({in_string}) ➞ \"{\", \".join(output)}\"')"
   ]
  },
  {
   "cell_type": "code",
   "execution_count": 12,
   "id": "f27a6d51",
   "metadata": {},
   "outputs": [
    {
     "name": "stdout",
     "output_type": "stream",
     "text": [
      "remove_virus(PC Files: spotifysetup.exe, virus.exe, dog.jpg) ➞ \"PC Files: spotifysetup.exe, dog.jpg\"\n"
     ]
    }
   ],
   "source": [
    "remove_virus(\"PC Files: spotifysetup.exe, virus.exe, dog.jpg\")"
   ]
  },
  {
   "cell_type": "code",
   "execution_count": 13,
   "id": "20a4e315",
   "metadata": {},
   "outputs": [
    {
     "name": "stdout",
     "output_type": "stream",
     "text": [
      "remove_virus(PC Files: antivirus.exe, cat.pdf, lethalmalware.exe, dangerousvirus.exe ) ➞ \"PC Files: antivirus.exe, cat.pdf\"\n"
     ]
    }
   ],
   "source": [
    "remove_virus(\"PC Files: antivirus.exe, cat.pdf, lethalmalware.exe, dangerousvirus.exe \")"
   ]
  },
  {
   "cell_type": "code",
   "execution_count": 14,
   "id": "1c073107",
   "metadata": {},
   "outputs": [
    {
     "name": "stdout",
     "output_type": "stream",
     "text": [
      "remove_virus(PC Files: notvirus.exe, funnycat.gif) ➞ \"PC Files: notvirus.exe, funnycat.gif\"\n"
     ]
    }
   ],
   "source": [
    "remove_virus(\"PC Files: notvirus.exe, funnycat.gif\")"
   ]
  },
  {
   "cell_type": "markdown",
   "id": "7fe4745c",
   "metadata": {},
   "source": [
    "#### Q5. \n",
    "In a video game, a meteor will fall toward the main character&#39;s home\n",
    "planet. Given the meteor&#39;s trajectory as a string in the form y = mx + b and\n",
    "the character&#39;s position as a tuple of (x, y), return True if the meteor will hit\n",
    "the character and False if it will not.\n",
    "Examples\n",
    "will_hit(&quot;y = 2x - 5&quot;, (0, 0)) ➞ False\n",
    "will_hit(&quot;y = -4x + 6&quot;, (1, 2)) ➞ True\n",
    "will_hit(&quot;y = 2x + 6&quot;, (3, 2)) ➞ False"
   ]
  },
  {
   "cell_type": "code",
   "execution_count": 15,
   "id": "a24e76d3",
   "metadata": {},
   "outputs": [],
   "source": [
    "def will_hit(in_eq,in_loc):\n",
    "    in_eq_list = in_eq.split(\" \")\n",
    "    temp_list = []\n",
    "    for ele in in_eq_list:\n",
    "        if 'x' in ele or 'y'in ele:\n",
    "            if len(ele) == 1:\n",
    "                temp_list.append(ele.replace('x',str(in_loc[0]))) if 'x' in ele else temp_list.append(ele.replace('y',str(in_loc[1])))\n",
    "            else:\n",
    "                temp_list.append(ele.replace('x',f'*{in_loc[0]}')) if 'x' in ele else temp_list.append(ele.replace('y',f'*{in_loc[1]}'))\n",
    "        else:\n",
    "            temp_list.append(\"==\") if ele == \"=\" else temp_list.append(ele)\n",
    "    print(f'will_hit{in_eq,in_loc} ➞ {eval(\" \".join(temp_list))}')"
   ]
  },
  {
   "cell_type": "code",
   "execution_count": 16,
   "id": "f9e4de88",
   "metadata": {},
   "outputs": [
    {
     "name": "stdout",
     "output_type": "stream",
     "text": [
      "will_hit('y = 2x - 5', (0, 0)) ➞ False\n"
     ]
    }
   ],
   "source": [
    "will_hit(\"y = 2x - 5\", (0, 0))"
   ]
  },
  {
   "cell_type": "code",
   "execution_count": 17,
   "id": "60c8f740",
   "metadata": {},
   "outputs": [
    {
     "name": "stdout",
     "output_type": "stream",
     "text": [
      "will_hit('y = -4x + 6', (1, 2)) ➞ True\n"
     ]
    }
   ],
   "source": [
    "will_hit(\"y = -4x + 6\", (1, 2))"
   ]
  },
  {
   "cell_type": "code",
   "execution_count": 18,
   "id": "be519116",
   "metadata": {},
   "outputs": [
    {
     "name": "stdout",
     "output_type": "stream",
     "text": [
      "will_hit('y = 2x + 6', (3, 2)) ➞ False\n"
     ]
    }
   ],
   "source": [
    "will_hit(\"y = 2x + 6\", (3, 2))"
   ]
  },
  {
   "cell_type": "code",
   "execution_count": null,
   "id": "482440f7",
   "metadata": {},
   "outputs": [],
   "source": []
  }
 ],
 "metadata": {
  "kernelspec": {
   "display_name": "Python 3 (ipykernel)",
   "language": "python",
   "name": "python3"
  },
  "language_info": {
   "codemirror_mode": {
    "name": "ipython",
    "version": 3
   },
   "file_extension": ".py",
   "mimetype": "text/x-python",
   "name": "python",
   "nbconvert_exporter": "python",
   "pygments_lexer": "ipython3",
   "version": "3.9.12"
  }
 },
 "nbformat": 4,
 "nbformat_minor": 5
}
