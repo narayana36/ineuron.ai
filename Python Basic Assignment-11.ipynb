{
 "cells": [
  {
   "cell_type": "markdown",
   "id": "820b2f82",
   "metadata": {},
   "source": [
    "#### 1. Create an assert statement that throws an AssertionError if the variable spam is a negative integer."
   ]
  },
  {
   "cell_type": "markdown",
   "id": "837ec5aa",
   "metadata": {},
   "source": [
    "assert(spam>0, the spam variables are negative intergers)"
   ]
  },
  {
   "cell_type": "markdown",
   "id": "dcfde9be",
   "metadata": {},
   "source": [
    "#### 2. Write an assert statement that triggers an AssertionError if the variables eggs and bacon contain strings that are the same as each other, even if their cases are different (that is, 'hello' and 'hello' are considered the same, and 'goodbye' and 'GOODbye' are also considered the same)."
   ]
  },
  {
   "cell_type": "code",
   "execution_count": 6,
   "id": "77665997",
   "metadata": {},
   "outputs": [
    {
     "name": "stderr",
     "output_type": "stream",
     "text": [
      "<>:3: SyntaxWarning: assertion is always true, perhaps remove parentheses?\n",
      "<>:3: SyntaxWarning: assertion is always true, perhaps remove parentheses?\n",
      "C:\\Users\\pagad\\AppData\\Local\\Temp\\ipykernel_20172\\5944514.py:3: SyntaxWarning: assertion is always true, perhaps remove parentheses?\n",
      "  assert(eggs.lower() != bacon.lower(), 'The eggs and bacon variables are the same!')\n"
     ]
    }
   ],
   "source": [
    "eggs = 'hello'\n",
    "bacon = 'GOOD'\n",
    "assert(eggs.lower() != bacon.lower(), 'The eggs and bacon variables are the same!')"
   ]
  },
  {
   "cell_type": "markdown",
   "id": "a9cf5ab1",
   "metadata": {},
   "source": [
    "#### 3. Create an assert statement that throws an AssertionError every time."
   ]
  },
  {
   "cell_type": "code",
   "execution_count": 19,
   "id": "a6c38c4b",
   "metadata": {},
   "outputs": [
    {
     "name": "stdout",
     "output_type": "stream",
     "text": [
      "Invalide operation\n"
     ]
    }
   ],
   "source": [
    "try:\n",
    "    x=1\n",
    "    y=0\n",
    "    assert y != 0, \"Invalide operation\"\n",
    "    print(x/y)\n",
    "except AssertionError as msg:\n",
    "    print(msg)"
   ]
  },
  {
   "cell_type": "markdown",
   "id": "236e6f0c",
   "metadata": {},
   "source": [
    "#### 4. What are the two lines that must be present in your software in order to call logging.debug()?"
   ]
  },
  {
   "cell_type": "markdown",
   "id": "b9e8ff09",
   "metadata": {},
   "source": [
    "To be order to call logging.debug(). you must have these two lines to start your program: import logging,  logging.basicConfig(level=logging.DEBUG,format='%(asctime)s-%(levelname)s-%(message)s')"
   ]
  },
  {
   "cell_type": "markdown",
   "id": "252393a3",
   "metadata": {},
   "source": [
    "#### 5. What are the two lines that your program must have in order to have logging.debug() send a logging message to a file named programLog.txt?"
   ]
  },
  {
   "cell_type": "markdown",
   "id": "4fa4ceda",
   "metadata": {},
   "source": [
    "import logging, logging.basicConfig(filename= 'programLog.txt',level = logging.DEBUG, format = '%(asctime)s - %(levelname)s - %(message)s')"
   ]
  },
  {
   "cell_type": "markdown",
   "id": "f642b670",
   "metadata": {},
   "source": [
    "#### 6. What are the five levels of logging?"
   ]
  },
  {
   "cell_type": "markdown",
   "id": "550613aa",
   "metadata": {},
   "source": [
    "DEBUG, INFO, WARNING, ERROR and CRITICAL"
   ]
  },
  {
   "cell_type": "markdown",
   "id": "f6270fa5",
   "metadata": {},
   "source": [
    "#### 7. What line of code would you add to your software to disable all logging messages?"
   ]
  },
  {
   "cell_type": "markdown",
   "id": "44057a61",
   "metadata": {},
   "source": [
    "logger=logging.getLogger('my-logger')logger.propagate=False"
   ]
  },
  {
   "cell_type": "markdown",
   "id": "56dd5047",
   "metadata": {},
   "source": [
    "#### 8.Why is using logging messages better than using print() to display the same message?"
   ]
  },
  {
   "cell_type": "markdown",
   "id": "a5a4e733",
   "metadata": {},
   "source": [
    "1.More consistent log messages \n",
    "\n",
    "2.Can write to files easily\n",
    "\n",
    "3.Let’s us do search and filter on these log files\n",
    "\n",
    "4.Loads of extra metadata just from configuring the log message format once\n",
    "\n",
    "5.We can categorize logs based on severity\n",
    "\n",
    "6.Keep getting logs once code is deployed for better monitoring"
   ]
  },
  {
   "cell_type": "markdown",
   "id": "1bba678b",
   "metadata": {},
   "source": [
    "#### 9. What are the differences between the Step Over, Step In, and Step Out buttons in the debugger?"
   ]
  },
  {
   "cell_type": "markdown",
   "id": "df8c7e32",
   "metadata": {},
   "source": [
    "Step Over: Step Over will tell the debugger to execute the next function and break afterwards.\n",
    "    \n",
    "Step in: Step in will cause to go the next function call and break there.\n",
    "    \n",
    "Step Out: Step Out will tell the debugger to finsh current fucntion and beak after it."
   ]
  },
  {
   "cell_type": "markdown",
   "id": "8ac8393f",
   "metadata": {},
   "source": [
    "#### 10.After you click Continue, when will the debugger stop ?"
   ]
  },
  {
   "cell_type": "markdown",
   "id": "977bae86",
   "metadata": {},
   "source": [
    "Click Continue, the debugger will stop when it has reached at the end of the program or a line with a break point "
   ]
  },
  {
   "cell_type": "markdown",
   "id": "bb3594b7",
   "metadata": {},
   "source": [
    "#### 11. What is the concept of a breakpoint?"
   ]
  },
  {
   "cell_type": "markdown",
   "id": "264e24e4",
   "metadata": {},
   "source": [
    "breakpoint is a setting on a line of code that causes the debugger to pause when the program execution reaches the line"
   ]
  },
  {
   "cell_type": "code",
   "execution_count": null,
   "id": "938e5126",
   "metadata": {},
   "outputs": [],
   "source": []
  }
 ],
 "metadata": {
  "kernelspec": {
   "display_name": "Python 3 (ipykernel)",
   "language": "python",
   "name": "python3"
  },
  "language_info": {
   "codemirror_mode": {
    "name": "ipython",
    "version": 3
   },
   "file_extension": ".py",
   "mimetype": "text/x-python",
   "name": "python",
   "nbconvert_exporter": "python",
   "pygments_lexer": "ipython3",
   "version": "3.9.12"
  }
 },
 "nbformat": 4,
 "nbformat_minor": 5
}
