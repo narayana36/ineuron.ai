{
 "cells": [
  {
   "cell_type": "markdown",
   "id": "808c8540",
   "metadata": {},
   "source": [
    "#### Q1. What is a probability distribution, exactly? If the values are meant to be random, how can you predict them at all?"
   ]
  },
  {
   "cell_type": "code",
   "execution_count": null,
   "id": "f14de68d",
   "metadata": {},
   "outputs": [],
   "source": [
    " A probability distribution describes how a random variable is distributed.\n",
    "    It tells us which values a random variable is most likely to take on and which values are less likely.\n",
    "Based on the previous data and the occurences of the random event, we can predict the outcome in terms of probabilities."
   ]
  },
  {
   "cell_type": "markdown",
   "id": "c32d1c07",
   "metadata": {},
   "source": [
    "#### Q2. Is there a distinction between true random numbers and pseudo-random numbers, if there is one? Why are the latter considered “good enough”?"
   ]
  },
  {
   "cell_type": "code",
   "execution_count": null,
   "id": "7323f5e7",
   "metadata": {},
   "outputs": [],
   "source": [
    "True Random Numbers are true physical values while pseudo-random numbers are generated internally by a program . \n",
    "        Latter is considered good enough as they have sort of uniform distribution"
   ]
  },
  {
   "cell_type": "markdown",
   "id": "53befc2a",
   "metadata": {},
   "source": [
    "#### Q3. What are the two main factors that influence the behaviour of a &quot;normal&quot; probability distribution?"
   ]
  },
  {
   "cell_type": "code",
   "execution_count": null,
   "id": "d7809137",
   "metadata": {},
   "outputs": [],
   "source": [
    "Normal Probability Distribution are influenced by two factors mean and the variance."
   ]
  },
  {
   "cell_type": "markdown",
   "id": "0141da00",
   "metadata": {},
   "source": [
    "#### Q4. Provide a real-life example of a normal distribution."
   ]
  },
  {
   "cell_type": "code",
   "execution_count": null,
   "id": "20cb935d",
   "metadata": {},
   "outputs": [],
   "source": [
    "A Real-life example of a normal distribution are heights or blood pressure measurements."
   ]
  },
  {
   "cell_type": "markdown",
   "id": "6ab02dba",
   "metadata": {},
   "source": [
    "#### Q5. In the short term, how can you expect a probability distribution to behave? What do you think will happen as the number of trials grows?"
   ]
  },
  {
   "cell_type": "code",
   "execution_count": null,
   "id": "264a043b",
   "metadata": {},
   "outputs": [],
   "source": [
    "Variance will decrease with number of trials."
   ]
  },
  {
   "cell_type": "markdown",
   "id": "0d9e81c5",
   "metadata": {},
   "source": [
    "#### Q6. What kind of object can be shuffled by using random.shuffle?"
   ]
  },
  {
   "cell_type": "code",
   "execution_count": null,
   "id": "e3b6fc2a",
   "metadata": {},
   "outputs": [],
   "source": [
    "lists (list), strings (str) and tuples (tuple) objects can be shuffled by using random.shuffle."
   ]
  },
  {
   "cell_type": "markdown",
   "id": "bc7222f1",
   "metadata": {},
   "source": [
    "#### Q7. Describe the math package&#39;s general categories of functions."
   ]
  },
  {
   "cell_type": "code",
   "execution_count": null,
   "id": "82ebc86a",
   "metadata": {},
   "outputs": [],
   "source": [
    "The Math package's general categories of functions are:\n",
    "\n",
    ">Trigonometric functions\n",
    ">Quadratic functions\n",
    ">Exponential functions\n",
    ">Periodic functions\n",
    ">Logarithimic functions\n",
    ">Conversions to Integer"
   ]
  },
  {
   "cell_type": "markdown",
   "id": "e00dfb8e",
   "metadata": {},
   "source": [
    "#### Q8. What is the relationship between exponentiation and logarithms?"
   ]
  },
  {
   "cell_type": "code",
   "execution_count": null,
   "id": "19c00292",
   "metadata": {},
   "outputs": [],
   "source": [
    "  Exponentiation and logarithms are inverse of each other."
   ]
  },
  {
   "cell_type": "markdown",
   "id": "8e71146f",
   "metadata": {},
   "source": [
    "#### Q9. What are the three logarithmic functions that Python supports?"
   ]
  },
  {
   "cell_type": "code",
   "execution_count": null,
   "id": "27882892",
   "metadata": {},
   "outputs": [],
   "source": [
    "The Three Logarithmic Functions that Python supports are:\n",
    "\n",
    ">log2(x) - logarithmic value of x to base 2\n",
    ">log10(x) - logarithmic value of x to base 10\n",
    ">log1p(a) - This function is used to compute logarithm(1+a) ."
   ]
  }
 ],
 "metadata": {
  "kernelspec": {
   "display_name": "Python 3 (ipykernel)",
   "language": "python",
   "name": "python3"
  },
  "language_info": {
   "codemirror_mode": {
    "name": "ipython",
    "version": 3
   },
   "file_extension": ".py",
   "mimetype": "text/x-python",
   "name": "python",
   "nbconvert_exporter": "python",
   "pygments_lexer": "ipython3",
   "version": "3.9.12"
  }
 },
 "nbformat": 4,
 "nbformat_minor": 5
}
