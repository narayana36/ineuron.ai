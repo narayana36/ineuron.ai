{
 "cells": [
  {
   "cell_type": "markdown",
   "id": "4c6d6e8a",
   "metadata": {},
   "source": [
    "#### Q1. What is the distinction between a numpy array and a pandas data frame? Is there a way to convert between the two if there is?"
   ]
  },
  {
   "cell_type": "code",
   "execution_count": null,
   "id": "22ecb6c1",
   "metadata": {},
   "outputs": [],
   "source": [
    "Numpy Ndarray provides a lot of convenient and optimized methods for performing several mathematical operations on\n",
    "    vectors.\n",
    "Pandas Dataframe is an in-memory 2-dimensional tabular representation of data. In simpler words, it can be seen as a\n",
    "spreadsheet having rows and columns.\n",
    "Conversion : Dataframe=pandas.DataFrame(array)"
   ]
  },
  {
   "cell_type": "markdown",
   "id": "83d64419",
   "metadata": {},
   "source": [
    "#### Q2. What can go wrong when an user enters in a stock-ticker symbol, and how do you handle it?"
   ]
  },
  {
   "cell_type": "code",
   "execution_count": null,
   "id": "e1750841",
   "metadata": {},
   "outputs": [],
   "source": [
    "I am coding a project in which the user inputs the ticker of a stock, and then the program scrapes information about \n",
    "    that stock from a specific website and returns the data. I have a fully working program, but an issue I have is that\n",
    "    if the user enters a nonexistent stock ticker, the program gives an error and stops working. How can I fix this? \n",
    "    Here is the relevant code segment for reference:"
   ]
  },
  {
   "cell_type": "markdown",
   "id": "fd3d446d",
   "metadata": {},
   "source": [
    "#### Q3. Identify some of the plotting techniques that are used to produce a stock-market chart."
   ]
  },
  {
   "cell_type": "code",
   "execution_count": null,
   "id": "2f355274",
   "metadata": {},
   "outputs": [],
   "source": [
    "Bar chart, Line Chart are used for plotting."
   ]
  },
  {
   "cell_type": "markdown",
   "id": "8df1feee",
   "metadata": {},
   "source": [
    "#### Q4. Why is it essential to print a legend on a stock market chart?"
   ]
  },
  {
   "cell_type": "code",
   "execution_count": null,
   "id": "49ab1d14",
   "metadata": {},
   "outputs": [],
   "source": [
    " Legend will help comparison between different stocks, so will be essential on a stock market chart"
   ]
  },
  {
   "cell_type": "markdown",
   "id": "22e15a96",
   "metadata": {},
   "source": [
    "#### Q5. What is the best way to limit the length of a pandas data frame to less than a year?"
   ]
  },
  {
   "cell_type": "code",
   "execution_count": null,
   "id": "efd923fc",
   "metadata": {},
   "outputs": [],
   "source": [
    "We can use start and end parameters for that. In start we write the date from where we are starting and at the\n",
    "     end we write the end date. SO within this span we can restric the duration.Also we can use the parameters like periods\n",
    "    for how much times we need the duration and we can also use the frequency parameter."
   ]
  },
  {
   "cell_type": "markdown",
   "id": "fd81838b",
   "metadata": {},
   "source": [
    "#### Q6. What is the definition of a 180-day moving average?"
   ]
  },
  {
   "cell_type": "code",
   "execution_count": null,
   "id": "3b9625fc",
   "metadata": {},
   "outputs": [],
   "source": [
    "The 180-day moving average is represented as a line on charts and represents the average price over the past 180 \n",
    "    days. The moving average can give traders a sense regarding whether the trend is up or down, while also identifying \n",
    "    potential support or resistance areas."
   ]
  },
  {
   "cell_type": "markdown",
   "id": "784ed8bf",
   "metadata": {},
   "source": [
    "#### Q7. Did the chapter&#39;s final example use &quot;indirect&quot; importing? If so, how exactly do you do it?"
   ]
  },
  {
   "cell_type": "code",
   "execution_count": null,
   "id": "5e270404",
   "metadata": {},
   "outputs": [],
   "source": [
    "So there's four different ways to import: Import the whole module using its original name: pycon import random.\n",
    "       Import specific things from the module: pycon from random import choice, randint. Import the whole module and rename \n",
    "        it, usually using a shorter variable name: pycon import pandas as pd."
   ]
  }
 ],
 "metadata": {
  "kernelspec": {
   "display_name": "Python 3 (ipykernel)",
   "language": "python",
   "name": "python3"
  },
  "language_info": {
   "codemirror_mode": {
    "name": "ipython",
    "version": 3
   },
   "file_extension": ".py",
   "mimetype": "text/x-python",
   "name": "python",
   "nbconvert_exporter": "python",
   "pygments_lexer": "ipython3",
   "version": "3.9.12"
  }
 },
 "nbformat": 4,
 "nbformat_minor": 5
}
