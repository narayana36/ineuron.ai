{
 "cells": [
  {
   "cell_type": "markdown",
   "id": "23a8c25e",
   "metadata": {},
   "source": [
    "#### 1. Compare and contrast the float and Decimal classes&#39; benefits and drawbacks."
   ]
  },
  {
   "cell_type": "code",
   "execution_count": null,
   "id": "dbda87c6",
   "metadata": {},
   "outputs": [],
   "source": [
    "Both the float and decimal types store numerical values in Python.\n",
    "\n",
    "Use floats when convenience and speed matter. A float gives you an approximation of the number you declare.\n",
    "\n",
    "Use decimals when precision matters. Decimals can suffer from their own precision issues, but generally, decimals are more\n",
    "precise than floats. The performance difference between float and decimal, with Python 3, is not outlandish, and in my\n",
    "experience, the precision benefits of a decimal outweigh the performance benefits of a float."
   ]
  },
  {
   "cell_type": "markdown",
   "id": "9b6147a3",
   "metadata": {},
   "source": [
    "#### 2. Decimal(&#39;1.200&#39;) and Decimal(&#39;1.2&#39;) are two objects to consider. In what sense are these the same object? Are these just two ways of representing the exact same value, or do they correspond to different internal states?"
   ]
  },
  {
   "cell_type": "code",
   "execution_count": null,
   "id": "5a81d69b",
   "metadata": {},
   "outputs": [],
   "source": [
    "Both values are same but internal representation at storage Is different. Precsion differs, Decimal('1.200') gives \n",
    "    internally 1.200 and Decimal('1.2') gives 1.2."
   ]
  },
  {
   "cell_type": "markdown",
   "id": "deecff84",
   "metadata": {},
   "source": [
    "#### 3. What happens if the equality of Decimal(&#39;1.200&#39;) and Decimal(&#39;1.2&#39;) is checked?"
   ]
  },
  {
   "cell_type": "code",
   "execution_count": null,
   "id": "a4380d67",
   "metadata": {},
   "outputs": [],
   "source": [
    "Both values are checked to be equal , they only differ in precision."
   ]
  },
  {
   "cell_type": "markdown",
   "id": "650901c0",
   "metadata": {},
   "source": [
    "#### 4. Why is it preferable to start a Decimal object with a string rather than a floating-point value?"
   ]
  },
  {
   "cell_type": "code",
   "execution_count": null,
   "id": "40a11b50",
   "metadata": {},
   "outputs": [],
   "source": [
    "Floating-point value is converted to Decimal format. Decimal can store float value with absolute precision.\n",
    "    But when float value is given as Decimal object,it first has to be converted from floating point value which might\n",
    "    already have rounding error.\n",
    "Hence it is preferable to start a Decimal object with a string."
   ]
  },
  {
   "cell_type": "markdown",
   "id": "f2adc68b",
   "metadata": {},
   "source": [
    "#### 5. In an arithmetic phrase, how simple is it to combine Decimal objects with integers?"
   ]
  },
  {
   "cell_type": "code",
   "execution_count": null,
   "id": "31a2fdb9",
   "metadata": {},
   "outputs": [],
   "source": [
    "We can do it with use of Decimal()."
   ]
  },
  {
   "cell_type": "markdown",
   "id": "f9e15ca1",
   "metadata": {},
   "source": [
    "#### 6. Can Decimal objects and floating-point values be combined easily?"
   ]
  },
  {
   "cell_type": "code",
   "execution_count": null,
   "id": "f68b9b8a",
   "metadata": {},
   "outputs": [],
   "source": [
    "Arithmetic operfations like Adding,subtracting or multiplying a Decimal object by a floating-point value is\n",
    "    generates an error.\n",
    "    To do these operations, the floating point has to be converted to a Decimal."
   ]
  },
  {
   "cell_type": "markdown",
   "id": "33e48483",
   "metadata": {},
   "source": [
    "#### 7. Using the Fraction class but not the Decimal class, give an example of a quantity that can be expressed with absolute precision."
   ]
  },
  {
   "cell_type": "code",
   "execution_count": null,
   "id": "db269f2c",
   "metadata": {},
   "outputs": [],
   "source": [
    "Value of 0.5 will be represented as ½."
   ]
  },
  {
   "cell_type": "markdown",
   "id": "2726e00b",
   "metadata": {},
   "source": [
    "#### 8. Describe a quantity that can be accurately expressed by the Decimal or Fraction classes but not by a floating-point value."
   ]
  },
  {
   "cell_type": "code",
   "execution_count": null,
   "id": "202c6127",
   "metadata": {},
   "outputs": [],
   "source": [
    "Both will be reduced to 1/2"
   ]
  },
  {
   "cell_type": "markdown",
   "id": "25598541",
   "metadata": {},
   "source": [
    "#### Q9.Consider the following two fraction objects: Fraction(1, 2) and Fraction(1, 2). (5, 10). Is the internal state of these two objects the same? Why do you think that is?"
   ]
  },
  {
   "cell_type": "code",
   "execution_count": null,
   "id": "e5fdb81c",
   "metadata": {},
   "outputs": [],
   "source": [
    "Fraction class and integer type(int) are related in form of a container.It contains two ints, one the numerator and\n",
    "    the other the denominator"
   ]
  },
  {
   "cell_type": "markdown",
   "id": "cab2f424",
   "metadata": {},
   "source": [
    "#### Q10. How do the Fraction class and the integer type (int) relate to each other? Containment or inheritance?"
   ]
  },
  {
   "cell_type": "code",
   "execution_count": null,
   "id": "54a95963",
   "metadata": {},
   "outputs": [],
   "source": [
    "You have two options:\n",
    "        \n",
    ">Use float.as_integer_ratio() : >>> (0.25).as_integer_ratio() (1, 4) (as of Python 3.6, you can do the same with a decimal. Decimal() object.)\n",
    ">Use the fractions.Fraction() type: >>> from fractions import Fraction >>> Fraction(0.25) Fraction(1, 4)"
   ]
  }
 ],
 "metadata": {
  "kernelspec": {
   "display_name": "Python 3 (ipykernel)",
   "language": "python",
   "name": "python3"
  },
  "language_info": {
   "codemirror_mode": {
    "name": "ipython",
    "version": 3
   },
   "file_extension": ".py",
   "mimetype": "text/x-python",
   "name": "python",
   "nbconvert_exporter": "python",
   "pygments_lexer": "ipython3",
   "version": "3.9.12"
  }
 },
 "nbformat": 4,
 "nbformat_minor": 5
}
