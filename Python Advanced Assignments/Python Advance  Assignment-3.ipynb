{
 "cells": [
  {
   "cell_type": "markdown",
   "id": "456789f7",
   "metadata": {},
   "source": [
    "#### 1. What is the concept of an abstract superclass?"
   ]
  },
  {
   "cell_type": "code",
   "execution_count": null,
   "id": "ee2ea9a1",
   "metadata": {},
   "outputs": [],
   "source": [
    "Ans:-  A class is called an Abstract class if it contains one or more abstract methods.\n",
    "    An abstract method is a method that is declared, but contains no implementation.\n",
    "    Abstract classes may not be instantiated, and its abstract methods must be implemented by its \n",
    "    subclasses.\n",
    "Example:-"
   ]
  },
  {
   "cell_type": "code",
   "execution_count": 1,
   "id": "07e0fdeb",
   "metadata": {},
   "outputs": [
    {
     "name": "stdout",
     "output_type": "stream",
     "text": [
      "area:  200\n"
     ]
    }
   ],
   "source": [
    "import abc\n",
    "class Shape(metaclass=abc.ABCMeta):\n",
    "    @abc.abstractmethod\n",
    "    def area(self):\n",
    "         pass\n",
    "class Rectangle(Shape):\n",
    "    def __init__(self, x,y):\n",
    "        self.l = x\n",
    "        self.b=y\n",
    "    def area(self):\n",
    "        return self.l*self.b\n",
    "r = Rectangle(10,20)\n",
    "print ('area: ',r.area())\n"
   ]
  },
  {
   "cell_type": "markdown",
   "id": "f6a90bff",
   "metadata": {},
   "source": [
    "#### 2. What happens when a class statement&#39;s top level contains a basic assignment statement?"
   ]
  },
  {
   "cell_type": "code",
   "execution_count": null,
   "id": "0928a5ae",
   "metadata": {},
   "outputs": [],
   "source": [
    "Ans:- When a Class statement's top level contains a basic assignment statement, its usually treated as a class attribute or class level variable.\n",
    "\n",
    "where as assignment statements inside methods are treated as instance attributes or local attributes.\n",
    "\n",
    "When an instance of a class is created a single copy of class attributes is maintained and\n",
    "shared to all instances of class. where as each instance object maintains its own copy of instance \n",
    "variables.\n",
    "\n",
    "Example:-"
   ]
  },
  {
   "cell_type": "code",
   "execution_count": 2,
   "id": "27de56f8",
   "metadata": {},
   "outputs": [],
   "source": [
    " class Person:\n",
    "    species = 'Homesapiens' # class attribute\n",
    "    def __init__(self,name,gender):\n",
    "        self.name = name # instance attributes\n",
    "        self.gender = gender"
   ]
  },
  {
   "cell_type": "markdown",
   "id": "ce367f81",
   "metadata": {},
   "source": [
    "#### 3. Why does a class need to manually call a superclass&#39;s __init__ method?"
   ]
  },
  {
   "cell_type": "code",
   "execution_count": null,
   "id": "56a8f0a9",
   "metadata": {},
   "outputs": [],
   "source": [
    "Ans:- The main reason for always calling base class _init__ is that base class may typically create\n",
    "    member variable and initialize them to defaults. So if you don't call base class init,\n",
    "    none of that code would be executed and you would end up with base class that has no member\n",
    "    variables.\n",
    "Example:- \n",
    "    class Base:\n",
    "    def __init__(self):\n",
    "        print('base init')\n",
    "\n",
    "class Derived1(Base):\n",
    "    def __init__(self):\n",
    "        print('derived1 init')\n",
    "\n",
    "class Derived2(Base):\n",
    "    def __init__(self):\n",
    "         super(Derived2, self).__init__()\n",
    "    print('derived2 init')\n",
    "\n",
    "print('Creating Derived1...')\n",
    "d1 = Derived1()\n",
    "print('Creating Derived2...')\n",
    "d2 = Derived2()"
   ]
  },
  {
   "cell_type": "code",
   "execution_count": 3,
   "id": "6bf95e06",
   "metadata": {},
   "outputs": [
    {
     "name": "stdout",
     "output_type": "stream",
     "text": [
      "derived2 init\n",
      "Creating Derived1...\n",
      "derived1 init\n",
      "Creating Derived2...\n",
      "base init\n"
     ]
    }
   ],
   "source": [
    "class Base:\n",
    "    def __init__(self):\n",
    "        print('base init')\n",
    "\n",
    "class Derived1(Base):\n",
    "    def __init__(self):\n",
    "        print('derived1 init')\n",
    "\n",
    "class Derived2(Base):\n",
    "    def __init__(self):\n",
    "         super(Derived2, self).__init__()\n",
    "    print('derived2 init')\n",
    "\n",
    "print('Creating Derived1...')\n",
    "d1 = Derived1()\n",
    "print('Creating Derived2...')\n",
    "d2 = Derived2()"
   ]
  },
  {
   "cell_type": "markdown",
   "id": "17c5ca4e",
   "metadata": {},
   "source": [
    "#### 4. How can you augment, instead of completely replacing, an inherited method?"
   ]
  },
  {
   "cell_type": "code",
   "execution_count": null,
   "id": "e6519148",
   "metadata": {},
   "outputs": [],
   "source": [
    "Ans:- A more sophisticated way to augment an inherited method involves forwarding. \n",
    "    Message forwarding allows you to augment an inherited method in such a way that it can perform\n",
    "    its inherited action and some new action.\n",
    "    \n",
    "Example:-"
   ]
  },
  {
   "cell_type": "code",
   "execution_count": 4,
   "id": "b94cd951",
   "metadata": {},
   "outputs": [
    {
     "name": "stdout",
     "output_type": "stream",
     "text": [
      "{'name': 'Raj', 'gender': 'Male', 'salary': 10000}\n"
     ]
    }
   ],
   "source": [
    "class Person:\n",
    "    def __init__(self,name,gender):\n",
    "        self.name = name\n",
    "        self.gender = gender\n",
    "class Employee(Person):\n",
    "    def __init__(self,name,gender,salary):\n",
    "        super().__init__(name,gender) \n",
    "        self.salary = salary\n",
    "emp_1 = Employee('Raj','Male',10000)\n",
    "print(emp_1.__dict__)\n"
   ]
  },
  {
   "cell_type": "markdown",
   "id": "b36d4f2f",
   "metadata": {},
   "source": [
    "#### 5. How is the local scope of a class different from that of a function?"
   ]
  },
  {
   "cell_type": "code",
   "execution_count": null,
   "id": "954e83ba",
   "metadata": {},
   "outputs": [],
   "source": [
    "A global variable is a variable that is accessible globally.\n",
    "    A local variable is one that is only accessible to the current scope.\n",
    "Example:- "
   ]
  },
  {
   "cell_type": "code",
   "execution_count": 5,
   "id": "5f03ef05",
   "metadata": {},
   "outputs": [
    {
     "name": "stdout",
     "output_type": "stream",
     "text": [
      "Me Tarzan, You Jane.\n",
      "I love coffee\n"
     ]
    }
   ],
   "source": [
    "q = \"I love coffee\" # global variable\n",
    "def f():\n",
    "    p = \"Me Tarzan, You Jane.\" # local variable\n",
    "    print (p)\n",
    "f() \n",
    "print (q)"
   ]
  },
  {
   "cell_type": "code",
   "execution_count": null,
   "id": "72a7d927",
   "metadata": {},
   "outputs": [],
   "source": []
  }
 ],
 "metadata": {
  "kernelspec": {
   "display_name": "Python 3 (ipykernel)",
   "language": "python",
   "name": "python3"
  },
  "language_info": {
   "codemirror_mode": {
    "name": "ipython",
    "version": 3
   },
   "file_extension": ".py",
   "mimetype": "text/x-python",
   "name": "python",
   "nbconvert_exporter": "python",
   "pygments_lexer": "ipython3",
   "version": "3.9.12"
  }
 },
 "nbformat": 4,
 "nbformat_minor": 5
}
