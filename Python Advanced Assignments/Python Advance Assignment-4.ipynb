{
 "cells": [
  {
   "cell_type": "markdown",
   "id": "4ec9d626",
   "metadata": {},
   "source": [
    "#### Q1. Which two operator overloading methods can you use in your classes to support iteration?"
   ]
  },
  {
   "cell_type": "code",
   "execution_count": null,
   "id": "31778380",
   "metadata": {},
   "outputs": [],
   "source": [
    "Ans:- __iter__ and __next__ are the operator overloading methods in python that support iteration and are collectively called iterator protocol.\n",
    "\n",
    "__iter__ returns the iterator object and is called at the start of loop in our respective class.\n",
    "__next__ is called at each loop increment, it returns the incremented value. Also Stopiteration is raised when there is no value to return.\n",
    "\n",
    "Example:- "
   ]
  },
  {
   "cell_type": "code",
   "execution_count": 1,
   "id": "76acb322",
   "metadata": {},
   "outputs": [
    {
     "name": "stdout",
     "output_type": "stream",
     "text": [
      "5 6 7 8 9 10 11 12 13 14 15 "
     ]
    }
   ],
   "source": [
    "class Counter:\n",
    "    def __init__(self,low,high):\n",
    "        self.current = low\n",
    "        self.high = high\n",
    "    def __iter__(self):\n",
    "        return self\n",
    "    def __next__(self):\n",
    "        if self.current > self.high:\n",
    "            raise StopIteration\n",
    "        else:\n",
    "            self.current += 1\n",
    "            return self.current - 1\n",
    "for ele in Counter(5,15):\n",
    "    print(ele, end=\" \")"
   ]
  },
  {
   "cell_type": "markdown",
   "id": "576f993a",
   "metadata": {},
   "source": [
    "#### Q2. In what contexts do the two operator overloading methods manage printing?"
   ]
  },
  {
   "cell_type": "code",
   "execution_count": null,
   "id": "072363aa",
   "metadata": {},
   "outputs": [],
   "source": [
    "Ans:- __str__ and __repr__ are two operator overloading methods that manage printing.\n",
    "\n",
    ".In Short, the difference between both these operators is the goal of __repr__ is to be unambiguous and __str__ is to be readable.\n",
    ".Whenever we are printing any object reference internally __str__ method will be called by default.\n",
    ".The main purpose of __str__ is for readability. it prints the informal string representation of an object, one that is useful for printing the object. it may not be possible to convert result string to original object.\n",
    ".__repr__ is used to print official string representation of an object, so it includes all information and development.\n",
    "\n",
    "Example:-"
   ]
  },
  {
   "cell_type": "code",
   "execution_count": 2,
   "id": "7ed819ba",
   "metadata": {},
   "outputs": [
    {
     "name": "stdout",
     "output_type": "stream",
     "text": [
      "<__main__.Student object at 0x000001730EAB9880>\n",
      "Student Name: Raj and Roll No: 1\n",
      "2023-01-06 16:54:27.541908\n",
      "Unable to convert back to original object\n",
      "datetime.datetime(2023, 1, 6, 16, 54, 27, 541908)\n",
      "2023-01-06 16:54:27.541908\n"
     ]
    }
   ],
   "source": [
    "class Student:\n",
    "    def __init__(self,name,roll_no):\n",
    "        self.name = name\n",
    "        self.roll_no = roll_no\n",
    "        \n",
    "s1 = Student(\"Raj\",1)\n",
    "print(str(s1))\n",
    "\n",
    "class Student:\n",
    "    def __init__(self,name,roll_no):\n",
    "        self.name = name\n",
    "        self.roll_no = roll_no\n",
    "    def __str__(self):\n",
    "        return f'Student Name: {self.name} and Roll No: {self.roll_no}'\n",
    "    \n",
    "s1 = Student(\"Raj\",1)\n",
    "print(str(s1))\n",
    "\n",
    "import datetime\n",
    "today = datetime.datetime.now()\n",
    "\n",
    "s = str(today) # converting datetime object to presentable str\n",
    "print(s)\n",
    "try: d = eval(s) # converting str back to datetime object\n",
    "except: print(\"Unable to convert back to original object\")\n",
    "    \n",
    "u = repr(today) # converting datetime object to str\n",
    "print(u)\n",
    "e = eval(u) # converting str back to datetime object\n",
    "print(e)"
   ]
  },
  {
   "cell_type": "markdown",
   "id": "f75ec57e",
   "metadata": {},
   "source": [
    "#### Q3. In a class, how do you intercept slice operations?"
   ]
  },
  {
   "cell_type": "code",
   "execution_count": null,
   "id": "8222f8f6",
   "metadata": {},
   "outputs": [],
   "source": [
    "Ans:- The __getitem__ method is used for accessing list items, array elements, dictionary entries etc. \n",
    "    slice is a constructor in Python that creates slice object to represent set of indices that the range(start, stop, step) \n",
    "    specifies. __getitem__ method can be implement in a class, and the behavior of slicing can be defined inside it.\n",
    "    \n",
    "    Syntax:\n",
    "\n",
    "__getitem__(slice(start, stop, step))\n",
    "\n",
    "Parameter:\n",
    "\n",
    ".slice() : constructor to create slice object.\n",
    ".start: An integer number specifying start index.It is optional and default is 0.\n",
    ".stop: An integer number specifying end index.\n",
    ".step: An integer number specifying the step of slicing. It is optional and\n",
    "default is 1.\n",
    "    \n",
    "Example:- \n",
    " # abcde is string can be \n",
    "# an array as well.sliced ='abcde'.__getitem__(slice(0, 2, 1)) \n",
    "print(sliced)\n",
    "\n",
    "Output:-\n",
    "ab"
   ]
  },
  {
   "cell_type": "markdown",
   "id": "88d7448c",
   "metadata": {},
   "source": [
    "#### Q4. In a class, how do you capture in-place addition?"
   ]
  },
  {
   "cell_type": "code",
   "execution_count": null,
   "id": "b95778c8",
   "metadata": {},
   "outputs": [],
   "source": [
    "Ans:- a+b is normal addition. Whereas a+=b is inplace addition operation. In this in-place addition a itself will store the \n",
    "    value of addition. In a class __iadd__ method is used for this in-place operation.\n",
    "\n",
    "Example:-"
   ]
  },
  {
   "cell_type": "code",
   "execution_count": 3,
   "id": "ba593b28",
   "metadata": {},
   "outputs": [
    {
     "name": "stdout",
     "output_type": "stream",
     "text": [
      "500\n"
     ]
    }
   ],
   "source": [
    "class Book:\n",
    "    def __init__(self,pages):\n",
    "        self.pages = pages\n",
    "    def __iadd__(self,other):\n",
    "        self.pages += other.pages\n",
    "        return self.pages\n",
    "        \n",
    "b1 = Book(300)\n",
    "b2 = Book(200)\n",
    "b1+=b2\n",
    "print(b1)"
   ]
  },
  {
   "cell_type": "markdown",
   "id": "bd90f1b4",
   "metadata": {},
   "source": [
    "#### Q5. When is it appropriate to use operator overloading?"
   ]
  },
  {
   "cell_type": "code",
   "execution_count": null,
   "id": "33c7cb84",
   "metadata": {},
   "outputs": [],
   "source": [
    "Ans:- Operator overloading is mostly useful when you're making a new class that falls into an existing\n",
    "    \"Abstract Base Class\" (ABC) -- indeed, many of the ABCs in standard library module collections rely on the presence of \n",
    "    certain special methods (and special methods, one with names starting and ending with double underscores .\n",
    " \n",
    "Example:-"
   ]
  },
  {
   "cell_type": "code",
   "execution_count": 4,
   "id": "7b334563",
   "metadata": {},
   "outputs": [
    {
     "name": "stdout",
     "output_type": "stream",
     "text": [
      "Total Number of Pages -> 300\n"
     ]
    }
   ],
   "source": [
    "class Book:\n",
    "    def __init__(self,pages):\n",
    "        self.pages = pages\n",
    "    def __add__(self,other):\n",
    "        return self.pages+other.pages\n",
    "b1 = Book(100)\n",
    "b2 = Book(200)\n",
    "print(f'Total Number of Pages -> {b1+b2}')"
   ]
  },
  {
   "cell_type": "code",
   "execution_count": null,
   "id": "fa86d515",
   "metadata": {},
   "outputs": [],
   "source": []
  }
 ],
 "metadata": {
  "kernelspec": {
   "display_name": "Python 3 (ipykernel)",
   "language": "python",
   "name": "python3"
  },
  "language_info": {
   "codemirror_mode": {
    "name": "ipython",
    "version": 3
   },
   "file_extension": ".py",
   "mimetype": "text/x-python",
   "name": "python",
   "nbconvert_exporter": "python",
   "pygments_lexer": "ipython3",
   "version": "3.9.12"
  }
 },
 "nbformat": 4,
 "nbformat_minor": 5
}
