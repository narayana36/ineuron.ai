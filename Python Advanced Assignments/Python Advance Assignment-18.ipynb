{
 "cells": [
  {
   "cell_type": "markdown",
   "id": "8f610fa0",
   "metadata": {},
   "source": [
    "#### Q1. Describe the differences between text and binary files in a single paragraph."
   ]
  },
  {
   "cell_type": "code",
   "execution_count": null,
   "id": "94c74686",
   "metadata": {},
   "outputs": [],
   "source": [
    "Text files are special subset of binary files that are used to store human readable characters as a rich text document or\n",
    "plain text document. Text files also store data in sequential bytes but bits in text file represents characters.\n",
    "\n",
    "Binary files are those typical files that store data in the form of sequence of bytes grouped into eight bits or sometimes \n",
    "sixteen bits. These bits represent custom data and such files can store multiple types of data (images, audio, text, etc) \n",
    "under a single file."
   ]
  },
  {
   "cell_type": "markdown",
   "id": "bb8dd8bd",
   "metadata": {},
   "source": [
    "#### Q2. What are some scenarios where using text files will be the better option? When would you like to use binary files instead of text files?"
   ]
  },
  {
   "cell_type": "code",
   "execution_count": null,
   "id": "9f7a0d35",
   "metadata": {},
   "outputs": [],
   "source": [
    "Text files are less prone to get corrupted as any undesired change may just show up once the file is opened and then \n",
    "    can easily be removed. Whereas Use binary files instead of text files for image data."
   ]
  },
  {
   "cell_type": "markdown",
   "id": "479985fa",
   "metadata": {},
   "source": [
    "#### Q3. What are some of the issues with using binary operations to read and write a Python integer directly to disc?"
   ]
  },
  {
   "cell_type": "code",
   "execution_count": null,
   "id": "99794cd4",
   "metadata": {},
   "outputs": [],
   "source": [
    "When we read or write a python integer using binary operations\n",
    "\n",
    "->Binary operations deal with raw data\n",
    "->One needs to identify how many bytes one would read or write."
   ]
  },
  {
   "cell_type": "markdown",
   "id": "6c19d10e",
   "metadata": {},
   "source": [
    "#### Q4. Describe a benefit of using the with keyword instead of explicitly opening a file."
   ]
  },
  {
   "cell_type": "code",
   "execution_count": null,
   "id": "a70cdbb6",
   "metadata": {},
   "outputs": [],
   "source": [
    "A file is opened using the with keyword, if some exceptions occur after opening a file, or at the end of the file it\n",
    "    automatically does the closing of the file. There by not leaving an file in open mode and there would no need to\n",
    "    explicitly close a file."
   ]
  },
  {
   "cell_type": "markdown",
   "id": "1b188b45",
   "metadata": {},
   "source": [
    "#### Q5. Does Python have the trailing newline while reading a line of text? Does Python append a newline when you write a line of text?"
   ]
  },
  {
   "cell_type": "code",
   "execution_count": null,
   "id": "6f216fe1",
   "metadata": {},
   "outputs": [],
   "source": [
    "Yes, Python have the trailing newline while reading a line of text. When we write a newline has to be provided in \n",
    "    python excpicitly."
   ]
  },
  {
   "cell_type": "markdown",
   "id": "ae262ef2",
   "metadata": {},
   "source": [
    "#### Q6. What file operations enable for random-access operation?"
   ]
  },
  {
   "cell_type": "code",
   "execution_count": null,
   "id": "012e3476",
   "metadata": {},
   "outputs": [],
   "source": [
    "The file operations enable for random-access operation are seek() and tell()"
   ]
  },
  {
   "cell_type": "markdown",
   "id": "7557d86e",
   "metadata": {},
   "source": [
    "#### Q7. When do you think you&#39;ll use the struct package the most?"
   ]
  },
  {
   "cell_type": "code",
   "execution_count": null,
   "id": "eebbd0a1",
   "metadata": {},
   "outputs": [],
   "source": [
    "The struct package is mostly used while converting a common python types into C language types."
   ]
  },
  {
   "cell_type": "markdown",
   "id": "be784316",
   "metadata": {},
   "source": [
    "#### Q8. When is pickling the best option?"
   ]
  },
  {
   "cell_type": "markdown",
   "id": "f19de4cf",
   "metadata": {},
   "source": [
    " Pickling is best option for creating a new binary file using python."
   ]
  },
  {
   "cell_type": "markdown",
   "id": "eb17f024",
   "metadata": {},
   "source": [
    "#### Q9. When will it be best to use the shelve package?"
   ]
  },
  {
   "cell_type": "code",
   "execution_count": null,
   "id": "d889cfb8",
   "metadata": {},
   "outputs": [],
   "source": [
    "Shelve package is used to pickle data but treats the entire file as dictionary."
   ]
  },
  {
   "cell_type": "markdown",
   "id": "079aefc8",
   "metadata": {},
   "source": [
    "#### Q10. What is a special restriction when using the shelve package, as opposed to using other data dictionaries?"
   ]
  },
  {
   "cell_type": "code",
   "execution_count": null,
   "id": "dbed1c09",
   "metadata": {},
   "outputs": [],
   "source": [
    "Only string data type can be used as key in this special dictionary object, whereas any picklable Python object can \n",
    "    be used as value."
   ]
  }
 ],
 "metadata": {
  "kernelspec": {
   "display_name": "Python 3 (ipykernel)",
   "language": "python",
   "name": "python3"
  },
  "language_info": {
   "codemirror_mode": {
    "name": "ipython",
    "version": 3
   },
   "file_extension": ".py",
   "mimetype": "text/x-python",
   "name": "python",
   "nbconvert_exporter": "python",
   "pygments_lexer": "ipython3",
   "version": "3.9.12"
  }
 },
 "nbformat": 4,
 "nbformat_minor": 5
}
