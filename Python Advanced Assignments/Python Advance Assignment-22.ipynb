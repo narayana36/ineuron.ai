{
 "cells": [
  {
   "cell_type": "markdown",
   "id": "ad4ab74a",
   "metadata": {},
   "source": [
    "#### Q1. What are the benefits of the built-in array package, if any?"
   ]
  },
  {
   "cell_type": "code",
   "execution_count": null,
   "id": "a73848bc",
   "metadata": {},
   "outputs": [],
   "source": [
    "This built-in array seems to be quite unique.\n",
    "...\n",
    "Functions of Array\n",
    ">Get the Type Code. Since the type code is very important to an array, which determined what kind of elements that the array can have. ...\n",
    "Get Size of Array Item. ...\n",
    ">Count the Number of Occurrences. ...\n",
    ">Append and Extend. ...\n",
    ">Manipulating the Index. ...\n",
    ">Array to Lis"
   ]
  },
  {
   "cell_type": "markdown",
   "id": "b0321265",
   "metadata": {},
   "source": [
    "#### Q2. What are some of the array package&#39;s limitations?"
   ]
  },
  {
   "cell_type": "code",
   "execution_count": null,
   "id": "e59af1e5",
   "metadata": {},
   "outputs": [],
   "source": [
    "The number of elements to be stored in an array should be known in advance. An array is a static structure\n",
    "    (which means the array is of fixed size). Once declared the size of the array cannot be modified. The memory which is \n",
    "    allocated to it cannot be increased or decreased.\n",
    "    Insertion and deletion are quite difficult in an array as the elements are stored in consecutive memory locations and the \n",
    "    shifting operation is costly.\n",
    "    Allocating more memory than the requirement leads to wastage of memory space and less allocation of memory also leads to\n",
    "    a problem"
   ]
  },
  {
   "cell_type": "markdown",
   "id": "bab81593",
   "metadata": {},
   "source": [
    "#### Q3. Describe the main differences between the array and numpy packages."
   ]
  },
  {
   "cell_type": "code",
   "execution_count": null,
   "id": "54f7131c",
   "metadata": {},
   "outputs": [],
   "source": [
    "NumPy arrays are faster and more compact than Python lists. An array consumes less memory and is convenient to use.\n",
    "    NumPy uses much less memory to store data and it provides a mechanism of specifying the data types. This allows the\n",
    "    code to be optimized even further."
   ]
  },
  {
   "cell_type": "markdown",
   "id": "4def89a9",
   "metadata": {},
   "source": [
    "#### Q4. Explain the distinctions between the empty, ones, and zeros functions."
   ]
  },
  {
   "cell_type": "code",
   "execution_count": null,
   "id": "a0bc1f2d",
   "metadata": {},
   "outputs": [],
   "source": [
    "From the documentation: empty, unlike zeros, does not set the array values to zero, and may therefore be marginally \n",
    "        faster. On the other hand, it requires the user to manually set all the values in the array, and should be used \n",
    "        with caution. Return a new array setting values to zero"
   ]
  },
  {
   "cell_type": "markdown",
   "id": "e744ed67",
   "metadata": {},
   "source": [
    "#### Q5. In the fromfunction function, which is used to construct new arrays, what is the role of the callable argument?"
   ]
  },
  {
   "cell_type": "code",
   "execution_count": null,
   "id": "4df6ccca",
   "metadata": {},
   "outputs": [],
   "source": [
    "Its function is to execute the function over each coordinate and the resulting array. The function is called with\n",
    "    N parameters, where N is the rank of shape. Each parameter represents the coordinates of the array varying along a\n",
    "    specific axis."
   ]
  },
  {
   "cell_type": "markdown",
   "id": "ace1121a",
   "metadata": {},
   "source": [
    "#### Q6. What happens when a numpy array is combined with a single-value operand (a scalar, such as an int or a floating-point value) through addition, as in the expression A + n?"
   ]
  },
  {
   "cell_type": "code",
   "execution_count": null,
   "id": "20cfe3fb",
   "metadata": {},
   "outputs": [],
   "source": [
    "If any scaler value such as integer is added to the numpy array then all the elements inside the array will add that\n",
    "    value in it."
   ]
  },
  {
   "cell_type": "markdown",
   "id": "3a80d00d",
   "metadata": {},
   "source": [
    "#### Q7. Can array-to-scalar operations use combined operation-assign operators (such as += or *=)? What is the outcome?"
   ]
  },
  {
   "cell_type": "code",
   "execution_count": null,
   "id": "93870aee",
   "metadata": {},
   "outputs": [],
   "source": [
    "It will carry out provided operation on all elements of array."
   ]
  },
  {
   "cell_type": "markdown",
   "id": "1419719b",
   "metadata": {},
   "source": [
    "#### Q8. Does a numpy array contain fixed-length strings? What happens if you allocate a longer string to one of these arrays?"
   ]
  },
  {
   "cell_type": "code",
   "execution_count": null,
   "id": "bef2e6d4",
   "metadata": {},
   "outputs": [],
   "source": [
    "Yes, it is possible that we can include a string of fixed length in numpy array. The dtype of any numpy array \n",
    "        containing string values is the maximum length of any string present in the array.Once set, it will only be able\n",
    "        to store new string having length not more than the maximum length at the time of the creation. If we try to \n",
    "        reassign some another string value having length greater than the maximum length of the existing elements, \n",
    "        it simply discards all the values beyond the maximum length accept upto those values which are under the limit."
   ]
  },
  {
   "cell_type": "markdown",
   "id": "d388c41c",
   "metadata": {},
   "source": [
    "#### Q9. What happens when you combine two numpy arrays using an operation like addition (+) or multiplication (*)? What are the conditions for combining two numpy arrays?"
   ]
  },
  {
   "cell_type": "code",
   "execution_count": null,
   "id": "dac185f4",
   "metadata": {},
   "outputs": [],
   "source": [
    "It will simply add or multiply element to element at same position."
   ]
  },
  {
   "cell_type": "markdown",
   "id": "f15d7de6",
   "metadata": {},
   "source": [
    "#### Q10. What is the best way to use a Boolean array to mask another array?"
   ]
  },
  {
   "cell_type": "code",
   "execution_count": null,
   "id": "767e5d72",
   "metadata": {},
   "outputs": [],
   "source": [
    "The best way to use a Boolean array to mask another array is by Using masked_where of numpy package"
   ]
  },
  {
   "cell_type": "markdown",
   "id": "f3708dac",
   "metadata": {},
   "source": [
    "#### Q11. What are three different ways to get the standard deviation of a wide collection of data using both standard Python and its packages? Sort the three of them by how quickly they execute."
   ]
  },
  {
   "cell_type": "code",
   "execution_count": null,
   "id": "ae2306b7",
   "metadata": {},
   "outputs": [],
   "source": [
    "np.std and math package can be used individually."
   ]
  },
  {
   "cell_type": "markdown",
   "id": "05d34651",
   "metadata": {},
   "source": [
    "#### Q12. What is the dimensionality of a Boolean mask-generated array?"
   ]
  },
  {
   "cell_type": "code",
   "execution_count": null,
   "id": "52fe6f61",
   "metadata": {},
   "outputs": [],
   "source": [
    "It will have same dimensionality as input array."
   ]
  }
 ],
 "metadata": {
  "kernelspec": {
   "display_name": "Python 3 (ipykernel)",
   "language": "python",
   "name": "python3"
  },
  "language_info": {
   "codemirror_mode": {
    "name": "ipython",
    "version": 3
   },
   "file_extension": ".py",
   "mimetype": "text/x-python",
   "name": "python",
   "nbconvert_exporter": "python",
   "pygments_lexer": "ipython3",
   "version": "3.9.12"
  }
 },
 "nbformat": 4,
 "nbformat_minor": 5
}
