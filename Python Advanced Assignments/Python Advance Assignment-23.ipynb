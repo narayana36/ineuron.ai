{
 "cells": [
  {
   "cell_type": "markdown",
   "id": "388ce2ee",
   "metadata": {},
   "source": [
    "#### Q1. If you have any, what are your choices for increasing the comparison between different figures on the same graph?"
   ]
  },
  {
   "cell_type": "code",
   "execution_count": null,
   "id": "fff6abce",
   "metadata": {},
   "outputs": [],
   "source": [
    "Matplotlib provides a convenient method called subplots for increasing the comparison between different figures on\n",
    "    the same graph. Subplots mean a group of smaller axes (where each axis is a plot) that can exist together within a \n",
    "    single figure."
   ]
  },
  {
   "cell_type": "markdown",
   "id": "9f23de44",
   "metadata": {},
   "source": [
    "#### Q2. Can you explain the benefit of compound interest over a higher rate of interest that does not compound after reading this chapter?"
   ]
  },
  {
   "cell_type": "code",
   "execution_count": null,
   "id": "b2d55179",
   "metadata": {},
   "outputs": [],
   "source": [
    "Compound interest makes a sum of money grow at a faster rate than simple interest,because in addition to earning \n",
    "    returns on the money you invest, you also earn returns on those returns at the end of every compounding period, which\n",
    "    could be daily, monthly, quarterly or annually."
   ]
  },
  {
   "cell_type": "markdown",
   "id": "52920b23",
   "metadata": {},
   "source": [
    "#### Q3. What is a histogram, exactly? Name a numpy method for creating such a graph."
   ]
  },
  {
   "cell_type": "code",
   "execution_count": null,
   "id": "12f5f8c4",
   "metadata": {},
   "outputs": [],
   "source": [
    "Histogram shows total values of X wrt Y. Which means at any particular position of X, Y value shows the total number\n",
    "    of counts or data below that value of X. numpy.histogram() is the built in function used."
   ]
  },
  {
   "cell_type": "markdown",
   "id": "f6eed69e",
   "metadata": {},
   "source": [
    "#### Q4. If necessary, how do you change the aspect ratios between the X and Y axes?"
   ]
  },
  {
   "cell_type": "code",
   "execution_count": null,
   "id": "5b05c76d",
   "metadata": {},
   "outputs": [],
   "source": [
    "We can use figure(figsize=(10,8)) function inside the matplot.pyplot library which we scale down or up the graph."
   ]
  },
  {
   "cell_type": "markdown",
   "id": "77400705",
   "metadata": {},
   "source": [
    "#### Q5. Compare and contrast the three types of array multiplication between two numpy arrays: dot product, outer product, and regular multiplication of two numpy arrays."
   ]
  },
  {
   "cell_type": "code",
   "execution_count": null,
   "id": "5865a727",
   "metadata": {},
   "outputs": [],
   "source": [
    "In regular multiplication values of same index get multiplied.\n",
    "\n",
    ">In dot product there is row wise multiplication, row of one array with column of second array and so on.\n",
    ">In outer multiplication every element of first array a1 will be multiply by every element of other array a2 such such the\n",
    "number of columns will be equal to the number of element in another array a2.\n"
   ]
  },
  {
   "cell_type": "markdown",
   "id": "b491ba4d",
   "metadata": {},
   "source": [
    "#### Q6. Before you buy a home, which numpy function will you use to measure your monthly mortgage payment?"
   ]
  },
  {
   "cell_type": "code",
   "execution_count": null,
   "id": "07fb231b",
   "metadata": {},
   "outputs": [],
   "source": [
    "np.pmt(rate, nper, pv) function we will be using in order to calculate monthly mortgage payment before you purchase a house.\n",
    "\n",
    ">rate = The periodic interest rate\n",
    ">nper = The number of payment periods\n",
    ">pv = The total value of the mortgage loan"
   ]
  },
  {
   "cell_type": "markdown",
   "id": "5c180dcf",
   "metadata": {},
   "source": [
    "#### Q7. Can string data be stored in numpy arrays? If so, list at least one restriction that applies to this data."
   ]
  },
  {
   "cell_type": "code",
   "execution_count": null,
   "id": "c31c887e",
   "metadata": {},
   "outputs": [],
   "source": [
    " Yes, an array can store the string. The limitation which imposed on the string data is, whenever we store the data\n",
    "    of string dtype then it should should keep in mind that the string which is having the maximum length is the limit."
   ]
  }
 ],
 "metadata": {
  "kernelspec": {
   "display_name": "Python 3 (ipykernel)",
   "language": "python",
   "name": "python3"
  },
  "language_info": {
   "codemirror_mode": {
    "name": "ipython",
    "version": 3
   },
   "file_extension": ".py",
   "mimetype": "text/x-python",
   "name": "python",
   "nbconvert_exporter": "python",
   "pygments_lexer": "ipython3",
   "version": "3.9.12"
  }
 },
 "nbformat": 4,
 "nbformat_minor": 5
}
