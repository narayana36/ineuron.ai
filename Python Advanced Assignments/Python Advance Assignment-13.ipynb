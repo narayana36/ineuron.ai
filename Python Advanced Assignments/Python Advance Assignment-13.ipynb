{
 "cells": [
  {
   "cell_type": "markdown",
   "id": "4dd0138b",
   "metadata": {},
   "source": [
    "#### Q1. Can you create a programme or function that employs both positive and negative indexing? Is there any repercussion if you do so?"
   ]
  },
  {
   "cell_type": "code",
   "execution_count": 1,
   "id": "92ff2a5f",
   "metadata": {},
   "outputs": [
    {
     "name": "stdout",
     "output_type": "stream",
     "text": [
      "Positive Indexing -> 6\n",
      "Negative Indexing -> 10\n"
     ]
    }
   ],
   "source": [
    "my_list = [1,2,3,4,5,6,6,7,8,9,10]\n",
    "def bi_index(in_list,position):\n",
    "    return in_list[position]\n",
    "print('Positive Indexing ->',bi_index(my_list,5))\n",
    "print('Negative Indexing ->',bi_index(my_list,-1))\n"
   ]
  },
  {
   "cell_type": "markdown",
   "id": "28d42395",
   "metadata": {},
   "source": [
    "#### Q2. What is the most effective way of starting with 1,000 elements in a Python list? Assume that all elements should be set to the same value."
   ]
  },
  {
   "cell_type": "code",
   "execution_count": 2,
   "id": "ec7ecae1",
   "metadata": {},
   "outputs": [
    {
     "name": "stdout",
     "output_type": "stream",
     "text": [
      "List 1 is: [0, 1, 2, 3, 4, 5, 6, 7, 8, 9]\n",
      "List 2 is: [0, 1, 2, 3, 4, 5, 6, 7, 8, 9]\n"
     ]
    }
   ],
   "source": [
    "lst = list(range(10)) \n",
    "temp = [] \n",
    "for i in lst: \n",
    "    temp.append(i) \n",
    "print(\"List 1 is:\",lst) \n",
    "print(\"List 2 is:\",temp)\n"
   ]
  },
  {
   "cell_type": "markdown",
   "id": "f4118247",
   "metadata": {},
   "source": [
    "#### Q3. How do you slice a list to get any other part while missing the rest? (For example, suppose you want to make a new list with the elements first, third, fifth, seventh, and so on.)"
   ]
  },
  {
   "cell_type": "code",
   "execution_count": null,
   "id": "abbcb63d",
   "metadata": {},
   "outputs": [],
   "source": [
    "The format for list slicing is [start:stop:step]. start is the index of the list where slicing starts. stop is \n",
    "    the index of the list where slicing ends. step allows you to select nth item within the range start to stop."
   ]
  },
  {
   "cell_type": "code",
   "execution_count": 3,
   "id": "a16c2ad5",
   "metadata": {},
   "outputs": [
    {
     "name": "stdout",
     "output_type": "stream",
     "text": [
      "my_list -> [1, 2, 3, 4, 5, 6, 7, 8, 9, 10, 11, 12, 13, 14]\n",
      "sliced_list -> [1, 3, 5, 7, 9, 11, 13]\n"
     ]
    }
   ],
   "source": [
    "my_list = [x for x in range(1,15)]\n",
    "print(f'my_list -> {my_list}')\n",
    "sliced_list = my_list[::2]\n",
    "print(f'sliced_list -> {sliced_list}')"
   ]
  },
  {
   "cell_type": "markdown",
   "id": "27cb2560",
   "metadata": {},
   "source": [
    "#### Q4. Explain the distinctions between indexing and slicing."
   ]
  },
  {
   "cell_type": "code",
   "execution_count": null,
   "id": "9a6e3881",
   "metadata": {},
   "outputs": [],
   "source": [
    "Indexing: Indexing is used to obtain individual elements.\n",
    "\n",
    "Slicing: Slicing is used to obtain a sequence of elements.\n",
    "\n",
    "Indexing and Slicing can be be done in Python Sequences types like list, string, tuple, range objects."
   ]
  },
  {
   "cell_type": "markdown",
   "id": "5b884465",
   "metadata": {},
   "source": [
    "#### Q5. What happens if one of the slicing expression&#39;s indexes is out of range?"
   ]
  },
  {
   "cell_type": "code",
   "execution_count": null,
   "id": "7f1c573d",
   "metadata": {},
   "outputs": [],
   "source": [
    "The slicing operation doesn't raise an error if both your start and stop indices are larger than the sequence \n",
    "    length. This is in contrast to simple indexing—if you index an element that is out of bounds, Python will throw an \n",
    "    index out of bounds error. However, with slicing it simply returns an empty sequence."
   ]
  },
  {
   "cell_type": "code",
   "execution_count": 4,
   "id": "55112d57",
   "metadata": {},
   "outputs": [
    {
     "name": "stdout",
     "output_type": "stream",
     "text": [
      "my_list -> [1, 2, 3, 4, 5, 6, 7, 8, 9, 10, 11, 12, 13, 14]\n",
      "Case #1 -> []\n",
      "Case #2 -> [11, 12, 13, 14]\n"
     ]
    }
   ],
   "source": [
    "my_list = [x for x in range(1,15)]\n",
    "my_list = [x for x in range(1,15)]\n",
    "print(f'my_list -> {my_list}')\n",
    "print(f'Case #1 -> {my_list[20:]}')\n",
    "print(f'Case #2 -> {my_list[10:100]}')"
   ]
  },
  {
   "cell_type": "markdown",
   "id": "a74b6795",
   "metadata": {},
   "source": [
    "#### Q6. If you pass a list to a function, and if you want the function to be able to change the values of the list—so that the list is different after the function returns—what action should you avoid?"
   ]
  },
  {
   "cell_type": "code",
   "execution_count": null,
   "id": "7b401921",
   "metadata": {},
   "outputs": [],
   "source": [
    " use return statement, if we want the see the changes in the input list."
   ]
  },
  {
   "cell_type": "code",
   "execution_count": 5,
   "id": "8f214659",
   "metadata": {},
   "outputs": [
    {
     "name": "stdout",
     "output_type": "stream",
     "text": [
      "[1, 2, 3, 4, 5, 6, 200]\n"
     ]
    }
   ],
   "source": [
    "my_list = [1,2,3,4,5,6]\n",
    "def modify_list(in_list):\n",
    "    in_list.append(200)\n",
    "    return in_list\n",
    "print(modify_list(my_list))"
   ]
  },
  {
   "cell_type": "markdown",
   "id": "19982eae",
   "metadata": {},
   "source": [
    "#### Q7. What is the concept of an unbalanced matrix?"
   ]
  },
  {
   "cell_type": "code",
   "execution_count": null,
   "id": "6c282d20",
   "metadata": {},
   "outputs": [],
   "source": [
    "In Unbalanced Matrix number of rows is not same as number of columns."
   ]
  },
  {
   "cell_type": "markdown",
   "id": "eb2df4b9",
   "metadata": {},
   "source": [
    "#### Q8. Why is it necessary to use either list comprehension or a loop to create arbitrarily large matrices?"
   ]
  },
  {
   "cell_type": "code",
   "execution_count": null,
   "id": "455eb5af",
   "metadata": {},
   "outputs": [],
   "source": [
    "List comprehension or a Loop helps creation of large matrices easy. it also helps to implemeent and avoid manual \n",
    "    errors. it also makes reading code easy. Also lot of time for manual feeding is reduced."
   ]
  }
 ],
 "metadata": {
  "kernelspec": {
   "display_name": "Python 3 (ipykernel)",
   "language": "python",
   "name": "python3"
  },
  "language_info": {
   "codemirror_mode": {
    "name": "ipython",
    "version": 3
   },
   "file_extension": ".py",
   "mimetype": "text/x-python",
   "name": "python",
   "nbconvert_exporter": "python",
   "pygments_lexer": "ipython3",
   "version": "3.9.12"
  }
 },
 "nbformat": 4,
 "nbformat_minor": 5
}
