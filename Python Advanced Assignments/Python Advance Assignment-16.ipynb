{
 "cells": [
  {
   "cell_type": "markdown",
   "id": "96584222",
   "metadata": {},
   "source": [
    "#### Q1. What is the benefit of regular expressions?"
   ]
  },
  {
   "cell_type": "code",
   "execution_count": null,
   "id": "8dfb2289",
   "metadata": {},
   "outputs": [],
   "source": [
    "Regular Expressions, also known as regex or regexp, are used to match strings of text such as particular characters,\n",
    "    words, or patterns of characters. It means that we can match and extract any string pattern from the text with the\n",
    "    help of regular expressions. it helps the programmers to Write less and cleaner code. it also avoids multiple use of\n",
    "    if/else statements."
   ]
  },
  {
   "cell_type": "markdown",
   "id": "9ad2b6ae",
   "metadata": {},
   "source": [
    "#### Q2. Describe the difference between the effects of &quot;(ab)c+&quot; and &quot;a(bc)+.&quot; Which of these, if any, is the unqualified pattern &quot;abc+&quot;?"
   ]
  },
  {
   "cell_type": "code",
   "execution_count": null,
   "id": "4fab76a2",
   "metadata": {},
   "outputs": [],
   "source": [
    "Both (ab)c+ and a(bc)+ are valid patterns. the difference between both these patterns is in (ab)c+ ab is group \n",
    "    whereas in a(bc)+ bc is a group."
   ]
  },
  {
   "cell_type": "markdown",
   "id": "d78e7438",
   "metadata": {},
   "source": [
    "#### Q3. How much do you need to use the following sentence while using regular expressions?\n",
    "\n",
    "import re"
   ]
  },
  {
   "cell_type": "code",
   "execution_count": null,
   "id": "057fad04",
   "metadata": {},
   "outputs": [],
   "source": [
    "import re statement always has to be imported before using regular expressions."
   ]
  },
  {
   "cell_type": "markdown",
   "id": "8ffc6cf5",
   "metadata": {},
   "source": [
    "#### Q4. Which characters have special significance in square brackets when expressing a range, and under what circumstances?"
   ]
  },
  {
   "cell_type": "code",
   "execution_count": null,
   "id": "6120a972",
   "metadata": {},
   "outputs": [],
   "source": [
    "The Characters .,*,?,^,or,(), have a special signiface when used with square brackets. They need not be be \n",
    "    explicitly escaped by \\ as in case of pattern texts in a raw string."
   ]
  },
  {
   "cell_type": "markdown",
   "id": "fc7eeb09",
   "metadata": {},
   "source": [
    "#### Q5. How does compiling a regular-expression object benefit you?"
   ]
  },
  {
   "cell_type": "code",
   "execution_count": null,
   "id": "e8a37054",
   "metadata": {},
   "outputs": [],
   "source": [
    " We can combine a regular expression pattern into pattern objects, which can be used for pattern matching. \n",
    "    It also helps to search a pattern again without rewriting it"
   ]
  },
  {
   "cell_type": "markdown",
   "id": "1fa1a564",
   "metadata": {},
   "source": [
    "#### Q6. What are some examples of how to use the match object returned by re.match and re.search?"
   ]
  },
  {
   "cell_type": "code",
   "execution_count": null,
   "id": "c4a9d5d1",
   "metadata": {},
   "outputs": [],
   "source": [
    "The re.search() and re.match() both are functions of re module in python. These functions are very efficient and \n",
    "    fast for searching in strings. The function searches for some substring in a string and returns a match object if \n",
    "    found, else it returns none.\n",
    "There is a difference between the use of both functions. Both return the first match of a substring found in the string, \n",
    "but re.match() searches only from the beginning of the string and return match object if found. But if a match of \n",
    "substring is found somewhere in the middle of the string, it returns none.\n",
    "While re.search() searches for the whole string even if the string contains multi-lines and tries to find a match of \n",
    "the substring in all the lines of string\n"
   ]
  },
  {
   "cell_type": "markdown",
   "id": "cd2193a2",
   "metadata": {},
   "source": [
    "#### Q7. What is the difference between using a vertical bar (|) as an alteration and using square brackets as a character set?"
   ]
  },
  {
   "cell_type": "code",
   "execution_count": null,
   "id": "f7b89666",
   "metadata": {},
   "outputs": [],
   "source": [
    "When | us used then patterns searches for or option. i.e <pattern_1>|<pattern_2> means it searches as\n",
    "    <pattern_1>or<<pattern_2> in the searched string. the first occurance of matched string will be returned as the Match \n",
    "    Object. Using Character set in square Brackets searches for all the character set in the square bracket and if match \n",
    "    is found, it returns it."
   ]
  },
  {
   "cell_type": "markdown",
   "id": "ff7dc574",
   "metadata": {},
   "source": [
    "#### Q8. In regular-expression search patterns, why is it necessary to use the raw-string indicator (r)? In   replacement strings?"
   ]
  },
  {
   "cell_type": "code",
   "execution_count": null,
   "id": "0851ec17",
   "metadata": {},
   "outputs": [],
   "source": [
    "Raw Strings are used in the regular-expression search patterns, so that blackslashes donot have to be escaped."
   ]
  }
 ],
 "metadata": {
  "kernelspec": {
   "display_name": "Python 3 (ipykernel)",
   "language": "python",
   "name": "python3"
  },
  "language_info": {
   "codemirror_mode": {
    "name": "ipython",
    "version": 3
   },
   "file_extension": ".py",
   "mimetype": "text/x-python",
   "name": "python",
   "nbconvert_exporter": "python",
   "pygments_lexer": "ipython3",
   "version": "3.9.12"
  }
 },
 "nbformat": 4,
 "nbformat_minor": 5
}
