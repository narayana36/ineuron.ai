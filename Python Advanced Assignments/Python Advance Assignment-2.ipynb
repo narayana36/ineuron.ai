{
 "cells": [
  {
   "cell_type": "markdown",
   "id": "67d76ac4",
   "metadata": {},
   "source": [
    "#### Q1. What is the relationship between classes and modules?"
   ]
  },
  {
   "cell_type": "code",
   "execution_count": null,
   "id": "d840ba59",
   "metadata": {},
   "outputs": [],
   "source": [
    "Ans:- Classes may generate instances (objects), and have per-instance state (instance variables). \n",
    "    Modules may be mixed in to classes and other modules. The mixed in module's constants and methods \n",
    "    blend into that class's own, augmenting the class's functionality. Classes, however, cannot be\n",
    "    mixed in to anything."
   ]
  },
  {
   "cell_type": "markdown",
   "id": "e402a03c",
   "metadata": {},
   "source": [
    "#### Q2. How do you make instances and classes?"
   ]
  },
  {
   "cell_type": "code",
   "execution_count": null,
   "id": "a2b0eb4a",
   "metadata": {},
   "outputs": [],
   "source": [
    "Ans:-\n",
    "    Instantiating a Class:-\n",
    "    The new operator requires a single, postfix argument: a call to a constructor. \n",
    "    The name of the constructor provides the name of the class to instantiate. \n",
    "    The constructor initializes the new object. The new operator returns a reference to the object\n",
    "    it created."
   ]
  },
  {
   "cell_type": "markdown",
   "id": "ece72d39",
   "metadata": {},
   "source": [
    "#### Q3. Where and how should be class attributes created?"
   ]
  },
  {
   "cell_type": "code",
   "execution_count": null,
   "id": "e4e89159",
   "metadata": {},
   "outputs": [],
   "source": [
    "Ans:-\n",
    "    . A class attribute is shared by all instances of the class. To define a class attribute, \n",
    "       you place it outside of the __init__() method.\n",
    "    . Use class_name. ...\n",
    "    . Use class attributes for storing class contants, track data across all instances,\n",
    "       and setting default values for all instances of the class."
   ]
  },
  {
   "cell_type": "markdown",
   "id": "b103529f",
   "metadata": {},
   "source": [
    "#### Q4. Where and how are instance attributes created?"
   ]
  },
  {
   "cell_type": "code",
   "execution_count": null,
   "id": "be7f5cb9",
   "metadata": {},
   "outputs": [],
   "source": [
    "Ans:- Instance attributes are attributes or properties attached to an instance of a class. \n",
    "    Instance attributes are defined in the constructor. Defined directly inside a class.\n",
    "    Defined inside a constructor using the self parameter."
   ]
  },
  {
   "cell_type": "markdown",
   "id": "b6fda46c",
   "metadata": {},
   "source": [
    "#### Q5. What does the term &quot;self&quot; in a Python class mean?"
   ]
  },
  {
   "cell_type": "code",
   "execution_count": null,
   "id": "2ab267d6",
   "metadata": {},
   "outputs": [],
   "source": [
    "Ans:- self represents the instance of the class. By using the “self” \n",
    "    we can access the attributes and methods of the class in python.\n",
    "    It binds the attributes with the given arguments.\n",
    "    The reason you need to use self. is because Python does not use the\n",
    "     @ syntax to refer to instance attributes."
   ]
  },
  {
   "cell_type": "markdown",
   "id": "024e27ea",
   "metadata": {},
   "source": [
    "#### Q6. How does a Python class handle operator overloading?"
   ]
  },
  {
   "cell_type": "code",
   "execution_count": null,
   "id": "c156e612",
   "metadata": {},
   "outputs": [],
   "source": [
    "Ans:- The operator overloading in Python means provide extended meaning beyond their predefined \n",
    "    operational meaning. Such as, we use the \"+\" operator for adding two integers as well as joining\n",
    "    two strings or merging two lists. We can achieve this as the \"+\" operator is overloaded by the\n",
    "    \"int\" class and \"str\" class.\n",
    "    \n",
    "    Example: Magic methods for basic arithmetic operators are:\n",
    "\n",
    "    + -> __add__()\n",
    "    - -> __sub__()\n",
    "    * -> __mul__()\n",
    "    / -> __div__()"
   ]
  },
  {
   "cell_type": "markdown",
   "id": "8d663214",
   "metadata": {},
   "source": [
    "#### Q7. When do you consider allowing operator overloading of your classes?"
   ]
  },
  {
   "cell_type": "code",
   "execution_count": null,
   "id": "9e7e0a16",
   "metadata": {},
   "outputs": [],
   "source": [
    "Ans:-Operator Overloading means giving extended meaning beyond their predefined operational meaning.\n",
    "    For example operator + is used to add two integers as well as join two strings and merge two \n",
    "    lists. It is achievable because ‘+’ operator is overloaded by int class and str class.\n",
    "    You might have noticed that the same built-in operator or function shows different behavior for\n",
    "    objects of different classes, this is called Operator Overloading."
   ]
  },
  {
   "cell_type": "markdown",
   "id": "ba645aea",
   "metadata": {},
   "source": [
    "#### Q8. What is the most popular form of operator overloading?"
   ]
  },
  {
   "cell_type": "code",
   "execution_count": null,
   "id": "fae0ca77",
   "metadata": {},
   "outputs": [],
   "source": [
    "Ans:- A very popular and convenient example is the Addition (+) operator. \n",
    "    Just think how the '+' operator operates on two numbers and the same operator operates on two \n",
    "    strings. It performs “Addition” on numbers whereas it performs “Concatenation” on strings."
   ]
  },
  {
   "cell_type": "markdown",
   "id": "d426e165",
   "metadata": {},
   "source": [
    "#### Q9. What are the two most important concepts to grasp in order to comprehend Python OOP code?"
   ]
  },
  {
   "cell_type": "code",
   "execution_count": null,
   "id": "ae2ce021",
   "metadata": {},
   "outputs": [],
   "source": [
    "Ans:- Classes and objects are the two concepts to comprehend python OOP code as more formally\n",
    "    objects are entities that represent instances of general abstract concept called class\n",
    "\n",
    "Along with classes and objects the important concepts to grasp are:\n",
    "\n",
    ".Inheritence\n",
    ".Abstraction\n",
    ".Polymorphism\n",
    ".Encapsulation"
   ]
  }
 ],
 "metadata": {
  "kernelspec": {
   "display_name": "Python 3 (ipykernel)",
   "language": "python",
   "name": "python3"
  },
  "language_info": {
   "codemirror_mode": {
    "name": "ipython",
    "version": 3
   },
   "file_extension": ".py",
   "mimetype": "text/x-python",
   "name": "python",
   "nbconvert_exporter": "python",
   "pygments_lexer": "ipython3",
   "version": "3.9.12"
  }
 },
 "nbformat": 4,
 "nbformat_minor": 5
}
