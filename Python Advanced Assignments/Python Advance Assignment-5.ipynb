{
 "cells": [
  {
   "cell_type": "markdown",
   "id": "bccbd9a2",
   "metadata": {},
   "source": [
    "#### Q1. What is the meaning of multiple inheritance"
   ]
  },
  {
   "cell_type": "code",
   "execution_count": null,
   "id": "83cf2a9b",
   "metadata": {},
   "outputs": [],
   "source": [
    "Ans:-Multiple inheritance is a feature of some object-oriented computer programming languages in which an object or class\n",
    "    can inherit characteristics and features from more than one parent object or the parent class"
   ]
  },
  {
   "cell_type": "markdown",
   "id": "f9e03382",
   "metadata": {},
   "source": [
    "#### Q2. What is the concept of delegation?"
   ]
  },
  {
   "cell_type": "code",
   "execution_count": null,
   "id": "48606049",
   "metadata": {},
   "outputs": [],
   "source": [
    "Ans:- The delegation pattern is an object-oriented design pattern that allows object composition to achieve the same code \n",
    "    reuse as inheritance."
   ]
  },
  {
   "cell_type": "markdown",
   "id": "8d483343",
   "metadata": {},
   "source": [
    "#### Q3. What is the concept of composition?"
   ]
  },
  {
   "cell_type": "code",
   "execution_count": null,
   "id": "6433d1a4",
   "metadata": {},
   "outputs": [],
   "source": [
    "Ans:-Composition is a concept that models a has a relationship. It enables creating complex types by combining objects of \n",
    "    other types. This means that a class Composite can contain an object of another class Component . This relationship means\n",
    "    that a Composite has a Component "
   ]
  },
  {
   "cell_type": "markdown",
   "id": "317318ab",
   "metadata": {},
   "source": [
    "#### Q4. What are bound methods and how do we use them?"
   ]
  },
  {
   "cell_type": "code",
   "execution_count": null,
   "id": "af982154",
   "metadata": {},
   "outputs": [],
   "source": [
    "Ans:- A bound method is the one which is dependent on the instance of the class as the first argument. It passes the instance\n",
    "    as the first argument which is used to access the variables and functions."
   ]
  },
  {
   "cell_type": "markdown",
   "id": "a0cc72cd",
   "metadata": {},
   "source": [
    "#### Q5. What is the purpose of pseudoprivate attributes?"
   ]
  },
  {
   "cell_type": "code",
   "execution_count": null,
   "id": "4a4b07da",
   "metadata": {},
   "outputs": [],
   "source": [
    "Ans:- Pseudoprivate attributes are also useful in larger frameworks or tools, both to avoid introducing new method names \n",
    "    that might accidentally hide definitions elsewhere in the class tree and to reduce the chance of internal methods being \n",
    "    replaced by names defined lower in the tree"
   ]
  }
 ],
 "metadata": {
  "kernelspec": {
   "display_name": "Python 3 (ipykernel)",
   "language": "python",
   "name": "python3"
  },
  "language_info": {
   "codemirror_mode": {
    "name": "ipython",
    "version": 3
   },
   "file_extension": ".py",
   "mimetype": "text/x-python",
   "name": "python",
   "nbconvert_exporter": "python",
   "pygments_lexer": "ipython3",
   "version": "3.9.12"
  }
 },
 "nbformat": 4,
 "nbformat_minor": 5
}
