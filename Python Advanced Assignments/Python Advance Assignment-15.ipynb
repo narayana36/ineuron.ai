{
 "cells": [
  {
   "cell_type": "markdown",
   "id": "e69cfac4",
   "metadata": {},
   "source": [
    "#### Q1. What are the new features added in Python 3.8 version?"
   ]
  },
  {
   "cell_type": "code",
   "execution_count": null,
   "id": "b4dd9a47",
   "metadata": {},
   "outputs": [],
   "source": [
    "Some New Features Added in Python 3.8 Version are:\n",
    "\n",
    "Walrus Operator: This operator is used to assign and return a value in the same expression. This removes the need for initializing the variable upfront. The major benefit of this is it saves some lines of code. It is also known as The Walrus Operator due to its similarity to the eyes and tusks of a walrus.\n",
    "\n",
    "yield and return statements do not require parentheses to return multiple values.\n",
    "\n",
    "Reversed works with a dictionary. The built-in method reversed() can be used for accessing the elements in the reverse order of insertion\n",
    "\n",
    "Dict comprehensions have been modified so that the key is computed first and the value second.\n",
    "\n",
    "importlib_metadata is a new library added in the Python’s standard utility modules, that provides an API for accessing an installed package’s metadata, such as its entry points or its top-level name.\n",
    "\n",
    "f-strings now support = , to make string interpolation easy. Python 3.8 allows the use of the above-discussed assignment operator and equal sign (=) inside the f-strings.\n",
    "\n",
    "In the three-argument form of pow(), when the exponent is -1, it calculates the modular multiplicative inverse of the given value\n",
    "\n",
    "The csv.DictReader now returns instances of dictionary instead of a collections.OrderedDict.\n",
    "\n",
    "If you miss a comma in your code such as a = [(1, 2) (3, 4)], instead of throwing TypeError, it displays an informative Syntax warning.\n"
   ]
  },
  {
   "cell_type": "markdown",
   "id": "875ad7b2",
   "metadata": {},
   "source": [
    "#### Q2. What is monkey patching in Python?"
   ]
  },
  {
   "cell_type": "code",
   "execution_count": null,
   "id": "99b1eba0",
   "metadata": {},
   "outputs": [],
   "source": [
    "In Python, the term monkey patch refers to dynamic (or run-time) modifications of a class or module. In Python, \n",
    "    we can actually change the behavior of code at run-time. We use above module (monk) in below code and change behavior \n",
    "    of func() at run-time by assigning different value."
   ]
  },
  {
   "cell_type": "markdown",
   "id": "d2fbe675",
   "metadata": {},
   "source": [
    "#### Q3. What is the difference between a shallow copy and deep copy?"
   ]
  },
  {
   "cell_type": "code",
   "execution_count": null,
   "id": "db9d7249",
   "metadata": {},
   "outputs": [],
   "source": [
    "In Shallow copy, a copy of the original object is stored and only the reference address is finally copied. \n",
    "    In Deep copy, the copy of the original object and the repetitive copies both are stored."
   ]
  },
  {
   "cell_type": "markdown",
   "id": "bc97985d",
   "metadata": {},
   "source": [
    "#### Q4. What is the maximum possible length of an identifier?"
   ]
  },
  {
   "cell_type": "code",
   "execution_count": null,
   "id": "e5546472",
   "metadata": {},
   "outputs": [],
   "source": [
    "An identifier can have a maximum length of 79 characters in Python.\n",
    "    Python is one of the most popular programming languages. Guido van Rossum created it, and it was released in 1991. \n",
    "    The language is often used in web development (server-side), software development, mathematics, and system scripting. \n",
    "    The majority of modern operating systems are written in C, which means that compilers and interpreters are also \n",
    "    written in C. This is also true for Python; its most popular/traditional implementation is written in C and is known\n",
    "    as CPython. Regardless of whether you are an experienced programmer with C++, Java, or Python, Python is extremely \n",
    "    suitable for beginners."
   ]
  },
  {
   "cell_type": "markdown",
   "id": "d693a9b0",
   "metadata": {},
   "source": [
    "#### Q5. What is generator comprehension?"
   ]
  },
  {
   "cell_type": "code",
   "execution_count": null,
   "id": "4a77cc17",
   "metadata": {},
   "outputs": [],
   "source": [
    "A generator comprehension is a single-line specification for defining a generator in Python. It is absolutely\n",
    "    essential to learn this syntax in order to write simple and readable code. Note: Generator comprehensions are not\n",
    "        the only method for defining generators in Python"
   ]
  }
 ],
 "metadata": {
  "kernelspec": {
   "display_name": "Python 3 (ipykernel)",
   "language": "python",
   "name": "python3"
  },
  "language_info": {
   "codemirror_mode": {
    "name": "ipython",
    "version": 3
   },
   "file_extension": ".py",
   "mimetype": "text/x-python",
   "name": "python",
   "nbconvert_exporter": "python",
   "pygments_lexer": "ipython3",
   "version": "3.9.12"
  }
 },
 "nbformat": 4,
 "nbformat_minor": 5
}
