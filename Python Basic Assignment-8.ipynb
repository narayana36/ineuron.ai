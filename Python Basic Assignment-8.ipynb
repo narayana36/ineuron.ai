{
 "cells": [
  {
   "cell_type": "markdown",
   "id": "4aa37cde",
   "metadata": {},
   "source": [
    "1. Is the Python Standard Library included with PyInputPlus?"
   ]
  },
  {
   "cell_type": "markdown",
   "id": "1b2d47e8",
   "metadata": {},
   "source": [
    "Ans: PyInputPlus is not a part of the python Standard Library, we must install it separately using Pip."
   ]
  },
  {
   "cell_type": "markdown",
   "id": "2b819b36",
   "metadata": {},
   "source": [
    "2. Why is PyInputPlus commonly imported with import pyinputplus as pypi?"
   ]
  },
  {
   "cell_type": "markdown",
   "id": "c4243609",
   "metadata": {},
   "source": [
    "Ans: You can import the module with import pyinputplus as pyip so that you can enter a shorter name when calling the module's functions "
   ]
  },
  {
   "cell_type": "markdown",
   "id": "e6641c5c",
   "metadata": {},
   "source": [
    "3. How do you distinguish between inputInt() and inputFloat()?"
   ]
  },
  {
   "cell_type": "markdown",
   "id": "10e717db",
   "metadata": {},
   "source": [
    "Ans: The difference is in the data-type when you use the first one the program expects an integer value as input but in the latter it expects a float value i.e number containing a decimal"
   ]
  },
  {
   "cell_type": "markdown",
   "id": "738d0752",
   "metadata": {},
   "source": [
    "4. Using PyInputPlus, how do you ensure that the user enters a whole number between 0 and 99?"
   ]
  },
  {
   "cell_type": "markdown",
   "id": "337fdf1e",
   "metadata": {},
   "source": [
    "Ans: By using pyip.inputint(min=0, max=99)"
   ]
  },
  {
   "cell_type": "markdown",
   "id": "d68a20f9",
   "metadata": {},
   "source": [
    "5. What is transferred to the keyword arguments allowRegexes and blockRegexes?"
   ]
  },
  {
   "cell_type": "markdown",
   "id": "54d6d7c2",
   "metadata": {},
   "source": [
    "Ans: a list of regex strings that are either explicitly allowed or denied"
   ]
  },
  {
   "cell_type": "markdown",
   "id": "284b3fee",
   "metadata": {},
   "source": [
    "6. If a blank input is entered three times, what does inputStr(limit=3) do?"
   ]
  },
  {
   "cell_type": "markdown",
   "id": "0c3fddf7",
   "metadata": {},
   "source": [
    "Ans: The function will raise RetryLimitException."
   ]
  },
  {
   "cell_type": "markdown",
   "id": "4578b949",
   "metadata": {},
   "source": [
    "7. If blank input is entered three times, what does inputStr(limit=3, default='hello') do?"
   ]
  },
  {
   "cell_type": "markdown",
   "id": "f19bfa26",
   "metadata": {},
   "source": [
    "Ans: The function return the value 'hello'"
   ]
  },
  {
   "cell_type": "code",
   "execution_count": null,
   "id": "a1310c56",
   "metadata": {},
   "outputs": [],
   "source": []
  }
 ],
 "metadata": {
  "kernelspec": {
   "display_name": "Python 3 (ipykernel)",
   "language": "python",
   "name": "python3"
  },
  "language_info": {
   "codemirror_mode": {
    "name": "ipython",
    "version": 3
   },
   "file_extension": ".py",
   "mimetype": "text/x-python",
   "name": "python",
   "nbconvert_exporter": "python",
   "pygments_lexer": "ipython3",
   "version": "3.9.12"
  }
 },
 "nbformat": 4,
 "nbformat_minor": 5
}
