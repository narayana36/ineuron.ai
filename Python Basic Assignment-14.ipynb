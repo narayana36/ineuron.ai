{
 "cells": [
  {
   "cell_type": "markdown",
   "id": "e1219fe7",
   "metadata": {},
   "source": [
    "#### 1. What does RGBA stand for?"
   ]
  },
  {
   "cell_type": "code",
   "execution_count": null,
   "id": "e59b7ce8",
   "metadata": {},
   "outputs": [],
   "source": [
    "RGBA - Red, Green, Blue, Alpha"
   ]
  },
  {
   "cell_type": "markdown",
   "id": "4e9d8c60",
   "metadata": {},
   "source": [
    "#### 2. From the Pillow module, how do you get the RGBA value of any images?"
   ]
  },
  {
   "cell_type": "markdown",
   "id": "edf3de61",
   "metadata": {},
   "source": [
    "In Pillow, RGBA values are represented by tuple of four integer values between 0 to 255. from PIL import Image. Open any image and get the RAGBAG values.img = Image.open('image.png'), rgba = img.convert('RGBA'), datas = rgba.getdata() "
   ]
  },
  {
   "cell_type": "markdown",
   "id": "0d29ff8b",
   "metadata": {},
   "source": [
    "#### 3. What is a box tuple, and how does it work?"
   ]
  },
  {
   "cell_type": "markdown",
   "id": "717d7ce8",
   "metadata": {},
   "source": [
    "Many of Pillow's functions and methods take a BOX TUPLE. this is four integer coordinates boxs represented by rectangular region in an image.\n",
    "Box Tuple(Left,Top,Right,Bottom)\n",
    "\n",
    "Left: The x-coordinate of the leftmost edge of the box.\n",
    "\n",
    "Top: The Y-coordinate of top edge of the box.\n",
    "    \n",
    "Right: The Y-coordinate of one pixel to the right of the rightmost edge of the box. This interger must be grater than the left integer.\n",
    "\n",
    "Bottom: The y-coordinate of one pixel lower than the bottom edge of the box. This integer must be greater than the top integer."
   ]
  },
  {
   "cell_type": "markdown",
   "id": "e716d490",
   "metadata": {},
   "source": [
    "#### 4. Use your image and load in notebook then, How can you find out the width and height of an Image object?"
   ]
  },
  {
   "cell_type": "markdown",
   "id": "6b67c672",
   "metadata": {},
   "source": [
    "PIL.Image.open() is used to open the image and then .width and .height property of Image are used to get the height and width of the image. "
   ]
  },
  {
   "cell_type": "code",
   "execution_count": null,
   "id": "b46bb469",
   "metadata": {},
   "outputs": [],
   "source": [
    "from PIL import Image\n",
    "filepath = \"image.jpg\"\n",
    "img = Image.open(filepath)\n",
    "width = img.width\n",
    "height = img.height\n",
    "print(\"Image height is: \",height)\n",
    "print(\"Image width is:\", width)"
   ]
  },
  {
   "cell_type": "markdown",
   "id": "76238e8b",
   "metadata": {},
   "source": [
    "#### 5. What method would you call to get Image object for a 100×100 image, excluding the lower-left quarter of it?"
   ]
  },
  {
   "cell_type": "markdown",
   "id": "4c59f92b",
   "metadata": {},
   "source": [
    "Calling getpixel()method on some coordinate in this image return(0,0,0,0) because the image is transparent."
   ]
  },
  {
   "cell_type": "markdown",
   "id": "1ba70413",
   "metadata": {},
   "source": [
    "#### 6. After making changes to an Image object, how could you save it as an image file?"
   ]
  },
  {
   "cell_type": "markdown",
   "id": "31387f7b",
   "metadata": {},
   "source": [
    "we can use img.save() method to save the image particulary location."
   ]
  },
  {
   "cell_type": "code",
   "execution_count": null,
   "id": "f277bdc4",
   "metadata": {},
   "outputs": [],
   "source": []
  }
 ],
 "metadata": {
  "kernelspec": {
   "display_name": "Python 3 (ipykernel)",
   "language": "python",
   "name": "python3"
  },
  "language_info": {
   "codemirror_mode": {
    "name": "ipython",
    "version": 3
   },
   "file_extension": ".py",
   "mimetype": "text/x-python",
   "name": "python",
   "nbconvert_exporter": "python",
   "pygments_lexer": "ipython3",
   "version": "3.9.12"
  }
 },
 "nbformat": 4,
 "nbformat_minor": 5
}
