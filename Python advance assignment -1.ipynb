{
 "cells": [
  {
   "cell_type": "markdown",
   "id": "8de9817f",
   "metadata": {},
   "source": [
    "#### Q1. What is the purpose of Python&#39;s OOP?"
   ]
  },
  {
   "cell_type": "markdown",
   "id": "fe7bedfc",
   "metadata": {},
   "source": [
    "Object-oriented programming(OOPs) is a programming paradigm based on the concept of \"objects\", which can contain data in the form of \"Attributes\", and functionality in the form of \"Methods\" that are planned and designed using \"classes\". \n",
    "It main aims to implement real-world entites like inheritance, Polymorphisms, encapsulation, etc. in the programming. \n"
   ]
  },
  {
   "cell_type": "markdown",
   "id": "935c6e6a",
   "metadata": {},
   "source": [
    "#### Q2. Where does an inheritance search look for an attribute?"
   ]
  },
  {
   "cell_type": "markdown",
   "id": "4faa24f1",
   "metadata": {},
   "source": [
    "The inheritance search is simply a search of the tree from bottom to top looking for the lowest occurrence of an attribute name "
   ]
  },
  {
   "cell_type": "markdown",
   "id": "d4b27221",
   "metadata": {},
   "source": [
    "#### Q3. How do you distinguish between a class object and an instance object?"
   ]
  },
  {
   "cell_type": "markdown",
   "id": "4008eb87",
   "metadata": {},
   "source": [
    "Every object has a type and the object types are created using classes. Instance is an object that belongs to a class. For instance, list is a class in python. When we create a list, we have an instance of the list class. "
   ]
  },
  {
   "cell_type": "markdown",
   "id": "b7dc1c48",
   "metadata": {},
   "source": [
    "#### Q4. What makes the first argument in a class’s method function special?"
   ]
  },
  {
   "cell_type": "markdown",
   "id": "98519163",
   "metadata": {},
   "source": [
    "In Object oriented programming language, whenever we defined methods for a class, we use the self as the first parameter in each case "
   ]
  },
  {
   "cell_type": "markdown",
   "id": "f0c89c82",
   "metadata": {},
   "source": [
    "#### Q5. What is the purpose of the __init__ method?"
   ]
  },
  {
   "cell_type": "markdown",
   "id": "d6d9da15",
   "metadata": {},
   "source": [
    "\"init\" is a resvered method for python classes. It is called as a constructor in object-oriented terminology. This method called when an object is created form a class and it allows a class to intialize the attributes of the class."
   ]
  },
  {
   "cell_type": "markdown",
   "id": "596ff139",
   "metadata": {},
   "source": [
    "#### Q6. What is the process for creating a class instance?"
   ]
  },
  {
   "cell_type": "markdown",
   "id": "f54c98e0",
   "metadata": {},
   "source": [
    "When you create an object, when you are creating instance of a class, therefore \"instantaiting\" of a class"
   ]
  },
  {
   "cell_type": "code",
   "execution_count": 1,
   "id": "1df0882f",
   "metadata": {},
   "outputs": [
    {
     "name": "stdout",
     "output_type": "stream",
     "text": [
      "18\n"
     ]
    }
   ],
   "source": [
    "class MyNumber:\n",
    "    x=18\n",
    "Number=MyNumber()\n",
    "print(Number.x)"
   ]
  },
  {
   "cell_type": "markdown",
   "id": "f58bedb6",
   "metadata": {},
   "source": [
    "#### Q7. What is the process for creating a class?"
   ]
  },
  {
   "cell_type": "markdown",
   "id": "b5c2ad48",
   "metadata": {},
   "source": [
    "class definition begin with a class keyword"
   ]
  },
  {
   "cell_type": "code",
   "execution_count": 2,
   "id": "a01a19e0",
   "metadata": {},
   "outputs": [],
   "source": [
    "class student:\n",
    "    '''This is a docstring. I have created a new class'''\n",
    "    pass"
   ]
  },
  {
   "cell_type": "markdown",
   "id": "9c76a89a",
   "metadata": {},
   "source": [
    "#### Q8. How would you define the superclasses of a class?"
   ]
  },
  {
   "cell_type": "markdown",
   "id": "6b0883a9",
   "metadata": {},
   "source": [
    "The super() function is returns a parent class object and can be used to access the attributes or methods of the parent class inside the child class   "
   ]
  },
  {
   "cell_type": "code",
   "execution_count": null,
   "id": "38fc17e6",
   "metadata": {},
   "outputs": [],
   "source": []
  }
 ],
 "metadata": {
  "kernelspec": {
   "display_name": "Python 3 (ipykernel)",
   "language": "python",
   "name": "python3"
  },
  "language_info": {
   "codemirror_mode": {
    "name": "ipython",
    "version": 3
   },
   "file_extension": ".py",
   "mimetype": "text/x-python",
   "name": "python",
   "nbconvert_exporter": "python",
   "pygments_lexer": "ipython3",
   "version": "3.9.12"
  }
 },
 "nbformat": 4,
 "nbformat_minor": 5
}
