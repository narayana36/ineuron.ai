{
 "cells": [
  {
   "cell_type": "markdown",
   "id": "2e3b2220",
   "metadata": {},
   "source": [
    "1. How do you distinguish between shutil.copy() and shutil.copytree()?"
   ]
  },
  {
   "cell_type": "markdown",
   "id": "591e0367",
   "metadata": {},
   "source": [
    "Ans: The shutil.copy() function will copy a single file, while shutil.copytree() will copy and entire folder, along with all its contents."
   ]
  },
  {
   "cell_type": "markdown",
   "id": "4a25cb60",
   "metadata": {},
   "source": [
    "2. What function is used to rename files??"
   ]
  },
  {
   "cell_type": "markdown",
   "id": "14597f8d",
   "metadata": {},
   "source": [
    "Ans: The shutil.move() function is used for renaming files, as well as moving them"
   ]
  },
  {
   "cell_type": "markdown",
   "id": "49511a59",
   "metadata": {},
   "source": [
    "3. What is the difference between the delete functions in the send2trash and shutil modules?"
   ]
  },
  {
   "cell_type": "markdown",
   "id": "17349de1",
   "metadata": {},
   "source": [
    "Ans: The send2trash functions will move a file or folder to the recycle bin, while shutil functions will permanently delete files and folders."
   ]
  },
  {
   "cell_type": "markdown",
   "id": "cc0e9a21",
   "metadata": {},
   "source": [
    "4.ZipFile objects have a close() method just like File objects’ close() method. What ZipFile method is\n",
    "equivalent to File objects’ open() method?"
   ]
  },
  {
   "cell_type": "markdown",
   "id": "33faa077",
   "metadata": {},
   "source": [
    "Ans: The zipfile.ZipFile() function is equivalent to the open() function; the first argument is the filename, and the second argument is the mode to open the ZIP file in (read, write or append)."
   ]
  },
  {
   "cell_type": "markdown",
   "id": "a28a9fb5",
   "metadata": {},
   "source": [
    "5. Create a programme that searches a folder tree for files with a certain file extension (such as .pdf\n",
    "or .jpg). Copy these files from whatever location they are in to a new folder."
   ]
  },
  {
   "cell_type": "markdown",
   "id": "11e7124c",
   "metadata": {},
   "source": [
    "Ans: \n",
    "    import os, shutil\n",
    "    \n",
    "    sourcePath = input('Enter the absolute path of the source folder:')\n",
    "    \n",
    "    fileExtType = input('Enter the type of file to copy (such as .pdf or .jpg):').lower()\n",
    "    \n",
    "    desPath = input('Enter the absolute path of the destination folder:')\n",
    "    \n",
    "    for foldername, subfolders, filenames in os.walk(sourcePath:)\n",
    "    \n",
    "    for filename in filenames:\n",
    "    \n",
    "    if filename.lower().endswith(fileExtType):\n",
    "    \n",
    "    #print(foldername + '\\\\' + filename)\n",
    "    \n",
    "    copySourcePath = os.path,join(foldername, filename)\n",
    "    \n",
    "    #print(copySourcePath)\n",
    "    \n",
    "    shutil.copy(copySourcePath, destPath)\n",
    "    \n",
    "    else:\n",
    "    \n",
    "    continue"
   ]
  },
  {
   "cell_type": "markdown",
   "id": "4a1dae16",
   "metadata": {},
   "source": []
  }
 ],
 "metadata": {
  "kernelspec": {
   "display_name": "Python 3 (ipykernel)",
   "language": "python",
   "name": "python3"
  },
  "language_info": {
   "codemirror_mode": {
    "name": "ipython",
    "version": 3
   },
   "file_extension": ".py",
   "mimetype": "text/x-python",
   "name": "python",
   "nbconvert_exporter": "python",
   "pygments_lexer": "ipython3",
   "version": "3.9.12"
  }
 },
 "nbformat": 4,
 "nbformat_minor": 5
}
