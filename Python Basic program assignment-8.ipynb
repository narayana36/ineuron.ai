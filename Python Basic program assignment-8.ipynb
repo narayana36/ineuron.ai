{
 "cells": [
  {
   "cell_type": "markdown",
   "id": "dba8ae93",
   "metadata": {},
   "source": [
    "1. Write a Python Program to Add Two Matrices?"
   ]
  },
  {
   "cell_type": "code",
   "execution_count": 7,
   "id": "3a862856",
   "metadata": {},
   "outputs": [
    {
     "name": "stdout",
     "output_type": "stream",
     "text": [
      "[9, 13, 6]\n",
      "[10, 12, 13]\n",
      "[16, 7, 8]\n"
     ]
    }
   ],
   "source": [
    "x= [[1,9,3],\n",
    "   [4,7,6],\n",
    "   [7,5,7]]\n",
    "\n",
    "y=[[8,4,3],\n",
    "  [6,5,7],\n",
    "  [9,2,1]]\n",
    "\n",
    "result = [[x[i][j] + y[i][j] for j in range\n",
    "(len(x[0]))] for i in range(len(x))]\n",
    "\n",
    "for r in result:\n",
    "    print(r)"
   ]
  },
  {
   "cell_type": "markdown",
   "id": "d1cdefcc",
   "metadata": {},
   "source": [
    "2. Write a Python Program to Multiply Two Matrices?"
   ]
  },
  {
   "cell_type": "code",
   "execution_count": 7,
   "id": "0effc829",
   "metadata": {},
   "outputs": [
    {
     "name": "stdout",
     "output_type": "stream",
     "text": [
      "Enter Number in Pocket [0][0]2\n",
      "Enter Number in Pocket [0][1]3\n",
      "Enter Number in Pocket [0][2]6\n",
      "Enter Number in Pocket [1][0]8\n",
      "Enter Number in Pocket [1][1]3\n",
      "Enter Number in Pocket [1][2]9\n",
      "Enter Number in Pocket [2][0]4\n",
      "Enter Number in Pocket [2][1]7\n",
      "Enter Number in Pocket [2][2]6\n",
      "Enter number in pocket [0][0]8\n",
      "Enter number in pocket [0][1]1\n",
      "Enter number in pocket [0][2]2\n",
      "Enter number in pocket [1][0]7\n",
      "Enter number in pocket [1][1]5\n",
      "Enter number in pocket [1][2]8\n",
      "Enter number in pocket [2][0]3\n",
      "Enter number in pocket [2][1]5\n",
      "Enter number in pocket [2][2]7\n",
      "First Matrix is ...\n",
      "2 3 6 \n",
      "8 3 9 \n",
      "4 7 6 \n",
      "Second Matrix is ...\n",
      "8 1 2 \n",
      "7 5 8 \n",
      "3 5 7 \n",
      "Multiplication of Two matrix is ...\n",
      "55 47 70 \n",
      "112 68 103 \n",
      "99 69 106 \n"
     ]
    }
   ],
   "source": [
    "m=[]\n",
    "for i in range (3):\n",
    "    a =[]\n",
    "    for j in range(3):\n",
    "        j=int(input(\"Enter first matix numbers in Pocket [\"+str(i)+\"][\"+str(j)+\"]\"))\n",
    "        a.append(j)\n",
    "    m.append(a)\n",
    "n=[]\n",
    "for i in range(3):\n",
    "    b=[]\n",
    "    for j in range(3):\n",
    "        j=int(input(\"Enter second matrix numbers in pocket [\"+str(i)+\"][\"+str(j)+\"]\"))\n",
    "        b.append(j)\n",
    "    n.append(b)\n",
    "print(\"First Matrix is ...\")\n",
    "for i in range(3):\n",
    "    for j in range(3):\n",
    "        print(m[i][j], end= \" \")\n",
    "    print()\n",
    "print(\"Second Matrix is ...\")\n",
    "for i in range(3):\n",
    "    for j in range(3):\n",
    "        print(n[i][j], end= \" \")\n",
    "    print()\n",
    "result = [[0,0,0],[0,0,0],[0,0,0]]\n",
    "for i in range(3):\n",
    "    for j in range(3):\n",
    "        for k in range(3):\n",
    "            result[i][j]=result[i][j]+m[i][k]*n[k][j]\n",
    "print(\"Multiplication of Two matrix is ...\")\n",
    "for i in range(3):\n",
    "    for j in range(3):\n",
    "        print(result[i][j], end= ' ')\n",
    "    print()"
   ]
  },
  {
   "cell_type": "markdown",
   "id": "8edc699f",
   "metadata": {},
   "source": [
    "3. Write a Python Program to Transpose a Matrix?"
   ]
  },
  {
   "cell_type": "code",
   "execution_count": 10,
   "id": "5134ebd6",
   "metadata": {},
   "outputs": [
    {
     "name": "stdout",
     "output_type": "stream",
     "text": [
      "Enter the number of rows: 3\n",
      "Enter the number of columns: 3\n",
      "Enter the elements for matrix1: \n",
      "1\n",
      "2\n",
      "3\n",
      "4\n",
      "5\n",
      "6\n",
      "7\n",
      "8\n",
      "9\n",
      "matrix1:\n",
      "1    2    3    \n",
      "4    5    6    \n",
      "7    8    9    \n",
      "Result: \n",
      "1    4    7    \n",
      "2    5    8    \n",
      "3    6    9    \n"
     ]
    }
   ],
   "source": [
    "p= int(input(\"Enter the number of rows: \"))\n",
    "q= int(input(\"Enter the number of columns: \"))\n",
    "\n",
    "print(\"Enter the elements for matrix1: \")\n",
    "matrix1= [[int(input()) for i in range(q)] for j in range(p)]\n",
    "print(\"matrix1:\")\n",
    "for i in range(p):\n",
    "    for j in range(q):\n",
    "        print(format(matrix1[i][j], \"<4\"), end=\" \")\n",
    "    print()\n",
    "    \n",
    "result = [[0 for i in range(p)] for j in range(q)]\n",
    "for i in range(q):\n",
    "    for j in range(p):\n",
    "        result[i][j]=matrix1[j][i]\n",
    "print(\"Result: \")\n",
    "for i in range(q):\n",
    "    for j in range(p):\n",
    "        print(format(result[i][j], \"<4\"), end=\" \")\n",
    "        \n",
    "    print()"
   ]
  },
  {
   "cell_type": "markdown",
   "id": "d0fac244",
   "metadata": {},
   "source": [
    "4. Write a Python Program to Sort Words in Alphabetic Order?"
   ]
  },
  {
   "cell_type": "code",
   "execution_count": 14,
   "id": "8cf177ae",
   "metadata": {},
   "outputs": [
    {
     "name": "stdout",
     "output_type": "stream",
     "text": [
      "a alphabetic are hello, how in order program sort to today, we will words write you?\n"
     ]
    }
   ],
   "source": [
    "s = \" Hello, how are you? Today, we will write a program to sort words in Alphabetic order\"\n",
    "words= s.lower().split()\n",
    "words.sort()\n",
    "print(' '.join(words))"
   ]
  },
  {
   "cell_type": "markdown",
   "id": "ad073175",
   "metadata": {},
   "source": [
    "5. Write a Python Program to Remove Punctuation From a String?"
   ]
  },
  {
   "cell_type": "code",
   "execution_count": 16,
   "id": "ecac8a7a",
   "metadata": {},
   "outputs": [
    {
     "name": "stdout",
     "output_type": "stream",
     "text": [
      "Enter any string: Hii everyone I am not ready *************** bye\n",
      "Original string:  Hii everyone I am not ready *************** bye\n",
      "string without punctuation:  Hii everyone I am not ready  bye\n"
     ]
    }
   ],
   "source": [
    "punctuations = '''!()[]{};:,.<>.?/\\|@#$%^&*~`-_=+'''\n",
    "s = input('Enter any string: ')\n",
    "\n",
    "no_punct = ''\n",
    "for ch in s:\n",
    "    if ch not in punctuations:\n",
    "        no_punct = no_punct + ch\n",
    "        \n",
    "print(\"Original string: \", s)\n",
    "print('string without punctuation: ', no_punct)"
   ]
  },
  {
   "cell_type": "code",
   "execution_count": null,
   "id": "db9e3a32",
   "metadata": {},
   "outputs": [],
   "source": []
  }
 ],
 "metadata": {
  "kernelspec": {
   "display_name": "Python 3 (ipykernel)",
   "language": "python",
   "name": "python3"
  },
  "language_info": {
   "codemirror_mode": {
    "name": "ipython",
    "version": 3
   },
   "file_extension": ".py",
   "mimetype": "text/x-python",
   "name": "python",
   "nbconvert_exporter": "python",
   "pygments_lexer": "ipython3",
   "version": "3.9.12"
  }
 },
 "nbformat": 4,
 "nbformat_minor": 5
}
