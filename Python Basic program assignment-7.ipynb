{
 "cells": [
  {
   "cell_type": "markdown",
   "id": "1b280193",
   "metadata": {},
   "source": [
    "1. Write a Python Program to find sum of array?"
   ]
  },
  {
   "cell_type": "code",
   "execution_count": 1,
   "id": "f29faf99",
   "metadata": {},
   "outputs": [
    {
     "name": "stdout",
     "output_type": "stream",
     "text": [
      "Sum of the array is  73\n"
     ]
    }
   ],
   "source": [
    "arr= [2,3,4,56,8]\n",
    "ans= sum(arr)\n",
    "print(\"Sum of the array is \", ans)"
   ]
  },
  {
   "cell_type": "markdown",
   "id": "77a16eb1",
   "metadata": {},
   "source": [
    "2. Write a Python Program to find largest element in an array?"
   ]
  },
  {
   "cell_type": "code",
   "execution_count": 2,
   "id": "1a80621d",
   "metadata": {},
   "outputs": [
    {
     "name": "stdout",
     "output_type": "stream",
     "text": [
      "Largest element of given array:  98\n"
     ]
    }
   ],
   "source": [
    "arr= [23,45,3,56,78,24,98]\n",
    "max= arr[0]\n",
    "for i in range(0,len(arr)):\n",
    "               if(arr[i] > max):\n",
    "                 max= arr[i]\n",
    "print(\"Largest element of given array: \", str(max))"
   ]
  },
  {
   "cell_type": "markdown",
   "id": "276aa7be",
   "metadata": {},
   "source": [
    "3. Write a Python Program for array rotation?"
   ]
  },
  {
   "cell_type": "code",
   "execution_count": 3,
   "id": "e92ca5be",
   "metadata": {},
   "outputs": [
    {
     "name": "stdout",
     "output_type": "stream",
     "text": [
      "The Given array is : \n",
      " [1, 2, 3, 4, 5, 6]\n",
      "Rotated array list is: \n",
      " [4, 5, 6, 1, 2, 3]\n"
     ]
    }
   ],
   "source": [
    "def rotatelist(arr,d,n):\n",
    "    arr[:]=arr[d:n]+arr[0:d]\n",
    "    return arr\n",
    "arr = [1,2,3,4,5,6]\n",
    "print(\"The Given array is : \\n\",arr)\n",
    "print(\"Rotated array list is: \\n\",rotatelist(arr,3,len(arr)))"
   ]
  },
  {
   "cell_type": "markdown",
   "id": "7b34d423",
   "metadata": {},
   "source": [
    "4. Write a Python Program to Split the array and add the first part to the end?"
   ]
  },
  {
   "cell_type": "code",
   "execution_count": 4,
   "id": "470fcdcb",
   "metadata": {},
   "outputs": [
    {
     "name": "stdout",
     "output_type": "stream",
     "text": [
      "[12, 67, 23, 56, 45, 78]\n",
      "23 56 45 78 12 67 "
     ]
    }
   ],
   "source": [
    "def splitArray(arr,n,k):\n",
    "    for i in range(0,k):\n",
    "        x=arr[0]\n",
    "        for j in range(0,n-1):\n",
    "            arr[j]= arr[j+1]\n",
    "        arr[n-1]=x\n",
    "            \n",
    "arr= [12,67,23,56,45,78]\n",
    "print(arr)\n",
    "n=len(arr)\n",
    "position=2\n",
    "splitArray(arr,n,position)\n",
    "\n",
    "for i in range(0,n):\n",
    "    print(arr[i],end=' ')"
   ]
  },
  {
   "cell_type": "markdown",
   "id": "d5ad7d6c",
   "metadata": {},
   "source": [
    "5. Write a Python Program to check if given array is Monotonic"
   ]
  },
  {
   "cell_type": "code",
   "execution_count": 5,
   "id": "5cdfe19d",
   "metadata": {},
   "outputs": [
    {
     "name": "stdout",
     "output_type": "stream",
     "text": [
      "True\n",
      "False\n",
      "True\n",
      "False\n"
     ]
    }
   ],
   "source": [
    "def Monotonic(A):\n",
    "    return (all(A[i] <= A[i+1] for i in range(len(A)-1)) or \n",
    "            all(A[i] >= A[i+1] for i in range(len(A)-1)))\n",
    "\n",
    "A= [1,2,3,4,4,5,5,6,6,7,8,9]\n",
    "print(Monotonic(A))\n",
    "B= [1,2,4,3,5,6,9,8]\n",
    "print(Monotonic(B))\n",
    "C= [9,8,8,7,6,6,6,5,4]\n",
    "print(Monotonic(C))\n",
    "D= [9,9,6,6,8,7,5,4,3]\n",
    "print(Monotonic(D))"
   ]
  },
  {
   "cell_type": "code",
   "execution_count": null,
   "id": "768ca14f",
   "metadata": {},
   "outputs": [],
   "source": []
  }
 ],
 "metadata": {
  "kernelspec": {
   "display_name": "Python 3 (ipykernel)",
   "language": "python",
   "name": "python3"
  },
  "language_info": {
   "codemirror_mode": {
    "name": "ipython",
    "version": 3
   },
   "file_extension": ".py",
   "mimetype": "text/x-python",
   "name": "python",
   "nbconvert_exporter": "python",
   "pygments_lexer": "ipython3",
   "version": "3.9.12"
  }
 },
 "nbformat": 4,
 "nbformat_minor": 5
}
