{
 "cells": [
  {
   "cell_type": "markdown",
   "id": "91a3e1db",
   "metadata": {},
   "source": [
    "1.Write a program that calculates and prints the value according to the given formula:\n",
    "\n",
    "Q = Square root of [(2 * C * D)/H]\n",
    "\n",
    "Following are the fixed values of C and H:\n",
    "\n",
    "C is 50. H is 30.\n",
    "\n",
    "D is the variable whose values should be input to your program in a comma-separated\n",
    "sequence.\n",
    "\n",
    "Example\n",
    "\n",
    "Let us assume the following comma separated input sequence is given to the program:\n",
    "\n",
    "100,150,180\n",
    "\n",
    "The output of the program should be:\n",
    "\n",
    "18,22,24"
   ]
  },
  {
   "cell_type": "code",
   "execution_count": 1,
   "id": "2b300ddd",
   "metadata": {},
   "outputs": [
    {
     "name": "stdout",
     "output_type": "stream",
     "text": [
      "50,30,60\n",
      "13,10,14\n"
     ]
    }
   ],
   "source": [
    "import math\n",
    "value=[]\n",
    "items = [x for x in input().split(',')]\n",
    "for D in items:\n",
    "    value.append(str(int(round(math.sqrt(2*50*int(D)/30)))))\n",
    "    \n",
    "    \n",
    "print(','.join(value))"
   ]
  },
  {
   "cell_type": "markdown",
   "id": "138eaa65",
   "metadata": {},
   "source": [
    "2.Write a program which takes 2 digits, X,Y as input and generates a 2-dimensional array. The\n",
    "element value in the i-th row and j-th column of the array should be i*j.\n",
    "\n",
    "Note: i=0,1.., X-1; j=0,1,¡Y-1.\n",
    "\n",
    "Example\n",
    "\n",
    "Suppose the following inputs are given to the program:\n",
    "\n",
    "3,5\n",
    "\n",
    "Then, the output of the program should be:\n",
    "\n",
    "[[0, 0, 0, 0, 0], [0, 1, 2, 3, 4], [0, 2, 4, 6, 8]]"
   ]
  },
  {
   "cell_type": "code",
   "execution_count": 10,
   "id": "b7a34309",
   "metadata": {},
   "outputs": [
    {
     "name": "stdout",
     "output_type": "stream",
     "text": [
      "input number of rows: 3\n",
      "input number of columns: 6\n",
      "[[0, 0, 0, 0, 0, 0], [0, 1, 2, 3, 4, 0], [0, 2, 4, 6, 0, 0]]\n"
     ]
    }
   ],
   "source": [
    "i = int(input('input number of rows: '))\n",
    "j = int(input('input number of columns: '))\n",
    "array = [[0 for j in range(j)] for i in range(i)] \n",
    "\n",
    "for i in range(i):\n",
    "    for j in range(j):\n",
    "        array[i][j] = i*j\n",
    "        \n",
    "print(array)"
   ]
  },
  {
   "cell_type": "markdown",
   "id": "88e6c9c0",
   "metadata": {},
   "source": [
    "3.Write a program that accepts a comma separated sequence of words as input and prints the\n",
    "words in a comma-separated sequence after sorting them alphabetically.\n",
    "\n",
    "Suppose the following input is supplied to the program:\n",
    "\n",
    "without,hello,bag,world\n",
    "\n",
    "Then, the output should be:\n",
    "\n",
    "bag,hello,without,world"
   ]
  },
  {
   "cell_type": "code",
   "execution_count": 14,
   "id": "94786088",
   "metadata": {},
   "outputs": [
    {
     "name": "stdout",
     "output_type": "stream",
     "text": [
      "input words: without,hello,bag,word\n",
      "bag,hello,without,word\n"
     ]
    }
   ],
   "source": [
    "words = input('input words: ')\n",
    "\n",
    "words_list = words.split(',')\n",
    "words_list.sort()\n",
    "print((',').join(words_list))"
   ]
  },
  {
   "cell_type": "markdown",
   "id": "41d080e8",
   "metadata": {},
   "source": [
    "4.Write a program that accepts a sequence of whitespace separated words as input and prints\n",
    "the words after removing all duplicate words and sorting them alphanumerically.\n",
    "\n",
    "Suppose the following input is supplied to the program:\n",
    "\n",
    "hello world and practice makes perfect and hello world again\n",
    "\n",
    "Then, the output should be:\n",
    "\n",
    "again and hello makes perfect practice world"
   ]
  },
  {
   "cell_type": "code",
   "execution_count": 19,
   "id": "321ce8c4",
   "metadata": {},
   "outputs": [
    {
     "name": "stdout",
     "output_type": "stream",
     "text": [
      "input words: hello world and practice makes perfect and hello world again\n",
      "again and hello makes perfect practice world\n"
     ]
    }
   ],
   "source": [
    "list = input('input words: ')\n",
    "\n",
    "words_splited = list.split(' ')\n",
    "words_list = []\n",
    "for i in words_splited:\n",
    "    if i not in words_list:\n",
    "        words_list.append(i)\n",
    "    else:\n",
    "        continue\n",
    "words_list.sort()\n",
    "print((' ').join(words_list))"
   ]
  },
  {
   "cell_type": "markdown",
   "id": "2951e3d8",
   "metadata": {},
   "source": [
    "5.Write a program that accepts a sentence and calculate the number of letters and digits.\n",
    "\n",
    "Suppose the following input is supplied to the program:\n",
    "\n",
    "hello world! 123\n",
    "\n",
    "Then, the output should be:\n",
    "\n",
    "LETTERS 10\n",
    "\n",
    "DIGITS 3"
   ]
  },
  {
   "cell_type": "code",
   "execution_count": 1,
   "id": "151a1d45",
   "metadata": {},
   "outputs": [
    {
     "name": "stdout",
     "output_type": "stream",
     "text": [
      "Type in: hello world! 123\n",
      "letters:  10\n",
      "Digits:  3\n"
     ]
    }
   ],
   "source": [
    "sentence = input('Type in: ')\n",
    "sentence = list(sentence)\n",
    "\n",
    "l, d = 0, 0\n",
    "for i in sentence:\n",
    "    if i.isalpha():\n",
    "        l = l + 1\n",
    "    if i.isdigit():\n",
    "        d = d + 1\n",
    "    else:\n",
    "        pass\n",
    "    \n",
    "print(\"letters: \", l)\n",
    "print(\"Digits: \", d)"
   ]
  },
  {
   "cell_type": "markdown",
   "id": "275ef4c2",
   "metadata": {},
   "source": [
    "6.A website requires the users to input username and password to register. Write a program to\n",
    "check the validity of password input by users.\n",
    "\n",
    "Following are the criteria for checking the password:\n",
    "\n",
    "1. At least 1 letter between [a-z]\n",
    "\n",
    "2. At least 1 number between [0-9]\n",
    "\n",
    "1. At least 1 letter between [A-Z]\n",
    "\n",
    "3. At least 1 character from [$#@]\n",
    "\n",
    "4. Minimum length of transaction password: 6\n",
    "\n",
    "5. Maximum length of transaction password: 12\n",
    "\n",
    "Your program should accept a sequence of comma separated passwords and will check them\n",
    "according to the above criteria. Passwords that match the criteria are to be printed, each\n",
    "separated by a comma.\n",
    "\n",
    "Example\n",
    "\n",
    "If the following passwords are given as input to the program:\n",
    "\n",
    "ABd1234@1,a F1#,2w3E*,2We3345\n",
    "\n",
    "Then, the output of the program should be:\n",
    "\n",
    "ABd1234@1"
   ]
  },
  {
   "cell_type": "code",
   "execution_count": 23,
   "id": "3a367d61",
   "metadata": {},
   "outputs": [
    {
     "name": "stdout",
     "output_type": "stream",
     "text": [
      "Enter comma-separated passwords: ABd1234@1,a F1#,2w3E*,2We3345\n",
      "ABd1234@1\n"
     ]
    }
   ],
   "source": [
    "import re\n",
    "validpassword = []\n",
    "passwords = input('Enter comma-separated passwords: ')\n",
    "passwords = passwords.split(',')\n",
    "\n",
    "for item in passwords:\n",
    "    if len(item) > 12 and len(item) < 6:\n",
    "        continue\n",
    "    else:\n",
    "        pass\n",
    "    if not re.search(\"[a-z]\", item):\n",
    "        continue\n",
    "    elif not re.search('[A-Z]', item):\n",
    "        continue\n",
    "    elif not re.search(\"[0-9]\", item):\n",
    "        continue\n",
    "    elif not re.search('[$#@]', item):\n",
    "        continue\n",
    "    elif re.search('\\s', item):\n",
    "        continue\n",
    "    validpassword.append(item)\n",
    "print(','.join(validpassword))"
   ]
  },
  {
   "cell_type": "code",
   "execution_count": null,
   "id": "b687df89",
   "metadata": {},
   "outputs": [],
   "source": []
  }
 ],
 "metadata": {
  "kernelspec": {
   "display_name": "Python 3 (ipykernel)",
   "language": "python",
   "name": "python3"
  },
  "language_info": {
   "codemirror_mode": {
    "name": "ipython",
    "version": 3
   },
   "file_extension": ".py",
   "mimetype": "text/x-python",
   "name": "python",
   "nbconvert_exporter": "python",
   "pygments_lexer": "ipython3",
   "version": "3.9.12"
  }
 },
 "nbformat": 4,
 "nbformat_minor": 5
}
