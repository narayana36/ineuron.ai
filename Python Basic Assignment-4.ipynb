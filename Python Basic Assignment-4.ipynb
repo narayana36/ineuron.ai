{
 "cells": [
  {
   "cell_type": "markdown",
   "id": "230bfcbb",
   "metadata": {},
   "source": [
    "1. What exactly is []?"
   ]
  },
  {
   "cell_type": "markdown",
   "id": "9cebf602",
   "metadata": {},
   "source": [
    "It is empty list. a list is created by placing element inside \"Square Brackets [], separated by commas. A list can have any number of items and they may be of different types (integer, float, string, etc.). Like as A = []"
   ]
  },
  {
   "cell_type": "markdown",
   "id": "7eac2829",
   "metadata": {},
   "source": [
    "2. In a list of values stored in a variable called spam, how would you assign the value 'hello' as the third value? (Assume [2, 4, 6, 8, 10] are in spam.)\n",
    "Let's pretend the spam includes the list ['a', 'b', 'c','d'] for the next three queries."
   ]
  },
  {
   "cell_type": "code",
   "execution_count": 6,
   "id": "f9b19ee6",
   "metadata": {},
   "outputs": [
    {
     "data": {
      "text/plain": [
       "[2, 4, 'hello', 8, 10]"
      ]
     },
     "execution_count": 6,
     "metadata": {},
     "output_type": "execute_result"
    }
   ],
   "source": [
    "spam = [2,4,6,8,10]\n",
    "spam[2] = 'hello'\n",
    "spam"
   ]
  },
  {
   "cell_type": "markdown",
   "id": "a82cae8f",
   "metadata": {},
   "source": [
    "3. What is the value of spam[int(int('3'* 2) / 11)]?"
   ]
  },
  {
   "cell_type": "code",
   "execution_count": 8,
   "id": "b939e79c",
   "metadata": {},
   "outputs": [
    {
     "data": {
      "text/plain": [
       "'d'"
      ]
     },
     "execution_count": 8,
     "metadata": {},
     "output_type": "execute_result"
    }
   ],
   "source": [
    "spam =['a','b','c','d']\n",
    "spam[int(int('3'*2)/11)]"
   ]
  },
  {
   "cell_type": "markdown",
   "id": "b1e9cfee",
   "metadata": {},
   "source": [
    "4. What is the value of spam[-1]?"
   ]
  },
  {
   "cell_type": "code",
   "execution_count": 10,
   "id": "32642d95",
   "metadata": {},
   "outputs": [
    {
     "data": {
      "text/plain": [
       "'d'"
      ]
     },
     "execution_count": 10,
     "metadata": {},
     "output_type": "execute_result"
    }
   ],
   "source": [
    "spam = ['a','b','c','d']\n",
    "spam[-1]"
   ]
  },
  {
   "cell_type": "markdown",
   "id": "4417f816",
   "metadata": {},
   "source": [
    "5. What is the value of spam[:2]?"
   ]
  },
  {
   "cell_type": "code",
   "execution_count": 11,
   "id": "cc20935a",
   "metadata": {},
   "outputs": [
    {
     "data": {
      "text/plain": [
       "['a', 'b']"
      ]
     },
     "execution_count": 11,
     "metadata": {},
     "output_type": "execute_result"
    }
   ],
   "source": [
    "spam = ['a','b','c','d']\n",
    "spam[:2]"
   ]
  },
  {
   "cell_type": "markdown",
   "id": "4e2d4ee4",
   "metadata": {},
   "source": [
    "Let&#39;s pretend bacon has the list [3.14, 'cat', 11, 'cat', True] for the next three questions."
   ]
  },
  {
   "cell_type": "markdown",
   "id": "2d114995",
   "metadata": {},
   "source": [
    "6. What is the value of bacon.index('cat')?"
   ]
  },
  {
   "cell_type": "code",
   "execution_count": 12,
   "id": "eab9aec3",
   "metadata": {},
   "outputs": [
    {
     "data": {
      "text/plain": [
       "1"
      ]
     },
     "execution_count": 12,
     "metadata": {},
     "output_type": "execute_result"
    }
   ],
   "source": [
    "bacon = [3.14,'cat',11,'cat',True]\n",
    "bacon.index('cat')"
   ]
  },
  {
   "cell_type": "markdown",
   "id": "9a75f16b",
   "metadata": {},
   "source": [
    "7. How does bacon.append(99) change the look of the list value in bacon?"
   ]
  },
  {
   "cell_type": "code",
   "execution_count": 14,
   "id": "4d602b69",
   "metadata": {},
   "outputs": [
    {
     "data": {
      "text/plain": [
       "[3.14, 'cat', 11, 'cat', True, 99]"
      ]
     },
     "execution_count": 14,
     "metadata": {},
     "output_type": "execute_result"
    }
   ],
   "source": [
    "bacon = [3.14,'cat',11,'cat',True]\n",
    "bacon.append(99)\n",
    "bacon"
   ]
  },
  {
   "cell_type": "markdown",
   "id": "5f42adeb",
   "metadata": {},
   "source": [
    "8. How does bacon.remove('cat') change the look of the list in bacon?"
   ]
  },
  {
   "cell_type": "code",
   "execution_count": 17,
   "id": "282f6a17",
   "metadata": {},
   "outputs": [
    {
     "data": {
      "text/plain": [
       "[3.14, 11, 'cat', True]"
      ]
     },
     "execution_count": 17,
     "metadata": {},
     "output_type": "execute_result"
    }
   ],
   "source": [
    "bacon = [3.14,'cat',11,'cat',True]\n",
    "bacon.remove('cat')\n",
    "bacon"
   ]
  },
  {
   "cell_type": "markdown",
   "id": "450f9b69",
   "metadata": {},
   "source": [
    "9. What are the list concatenation and list replication operators?"
   ]
  },
  {
   "cell_type": "code",
   "execution_count": 18,
   "id": "32fca2b0",
   "metadata": {},
   "outputs": [
    {
     "data": {
      "text/plain": [
       "[3, 9, 4, 7]"
      ]
     },
     "execution_count": 18,
     "metadata": {},
     "output_type": "execute_result"
    }
   ],
   "source": [
    "#(+) is list concatenation operator\n",
    "a = [3,9]\n",
    "b = [4,7]\n",
    "a+b"
   ]
  },
  {
   "cell_type": "code",
   "execution_count": 19,
   "id": "3f25e03f",
   "metadata": {},
   "outputs": [
    {
     "data": {
      "text/plain": [
       "[4, 8, 4, 8, 4, 8]"
      ]
     },
     "execution_count": 19,
     "metadata": {},
     "output_type": "execute_result"
    }
   ],
   "source": [
    "#(*) is list repalication operator\n",
    "a = [4,8]\n",
    "a*3"
   ]
  },
  {
   "cell_type": "markdown",
   "id": "21a5dda6",
   "metadata": {},
   "source": [
    "10. What is difference between the list methods append() and insert()?"
   ]
  },
  {
   "cell_type": "markdown",
   "id": "0b853c97",
   "metadata": {},
   "source": [
    "append()--where we can add the element only at end of the list , and\n",
    "\n",
    "insert()--insert function allows us to add a specific element at a specified index of the list"
   ]
  },
  {
   "cell_type": "code",
   "execution_count": 21,
   "id": "2a1efe7d",
   "metadata": {},
   "outputs": [
    {
     "data": {
      "text/plain": [
       "[2, 3, 4, 9]"
      ]
     },
     "execution_count": 21,
     "metadata": {},
     "output_type": "execute_result"
    }
   ],
   "source": [
    "a = [2,3,4]\n",
    "a.append(9)\n",
    "a"
   ]
  },
  {
   "cell_type": "code",
   "execution_count": 29,
   "id": "c0403a5c",
   "metadata": {},
   "outputs": [
    {
     "data": {
      "text/plain": [
       "[2, 3, 4, 5, 'hello']"
      ]
     },
     "execution_count": 29,
     "metadata": {},
     "output_type": "execute_result"
    }
   ],
   "source": [
    "bacon = [2,3,4,5]\n",
    "bacon.insert(4,'hello')\n",
    "bacon"
   ]
  },
  {
   "cell_type": "markdown",
   "id": "5330f333",
   "metadata": {},
   "source": [
    "11. What are the two methods for removing items from a list?"
   ]
  },
  {
   "cell_type": "code",
   "execution_count": 30,
   "id": "1c115971",
   "metadata": {},
   "outputs": [
    {
     "data": {
      "text/plain": [
       "[3.14, 11, 'cat', True]"
      ]
     },
     "execution_count": 30,
     "metadata": {},
     "output_type": "execute_result"
    }
   ],
   "source": [
    "bacon = [3.14,'cat',11,'cat',True]\n",
    "bacon.remove('cat')\n",
    "bacon"
   ]
  },
  {
   "cell_type": "code",
   "execution_count": 31,
   "id": "f4fb3140",
   "metadata": {},
   "outputs": [
    {
     "data": {
      "text/plain": [
       "[3.14, 'cat', 11, 'cat']"
      ]
     },
     "execution_count": 31,
     "metadata": {},
     "output_type": "execute_result"
    }
   ],
   "source": [
    "bacon = [3.14,'cat',11,'cat',True]\n",
    "bacon.pop()\n",
    "bacon"
   ]
  },
  {
   "cell_type": "markdown",
   "id": "44866aef",
   "metadata": {},
   "source": [
    "12. Describe how list values and string values are identical."
   ]
  },
  {
   "cell_type": "markdown",
   "id": "40b99e7b",
   "metadata": {},
   "source": [
    "1.Both lists and string can be passed to len()\n",
    "\n",
    "2.Have indexes and slices\n",
    "\n",
    "3.Can be used in for loops\n",
    "\n",
    "4.Can be used with the in and not in operators\n",
    "\n",
    "5.Can be concatenated and replicated"
   ]
  },
  {
   "cell_type": "markdown",
   "id": "a099cac0",
   "metadata": {},
   "source": [
    "13. What&#39;s the difference between tuples and lists?"
   ]
  },
  {
   "cell_type": "markdown",
   "id": "db7fa01e",
   "metadata": {},
   "source": [
    "Lists: mutable - they can be change of assigned the values. lists are the square brackets []\n",
    "\n",
    "Tuples: immutable - they cann't be change at once assigned the values. Tuples are parentheses brackets ()"
   ]
  },
  {
   "cell_type": "markdown",
   "id": "543758c8",
   "metadata": {},
   "source": [
    "14. How do you type a tuple value that only contains the integer 42?"
   ]
  },
  {
   "cell_type": "code",
   "execution_count": 35,
   "id": "01cd7d2b",
   "metadata": {},
   "outputs": [
    {
     "data": {
      "text/plain": [
       "tuple"
      ]
     },
     "execution_count": 35,
     "metadata": {},
     "output_type": "execute_result"
    }
   ],
   "source": [
    "a = (42,)\n",
    "type(a)"
   ]
  },
  {
   "cell_type": "markdown",
   "id": "0db5d3f3",
   "metadata": {},
   "source": [
    "15. How do you get a list value's tuple form? How do you get a tuple value's list form?"
   ]
  },
  {
   "cell_type": "code",
   "execution_count": 36,
   "id": "cb26dd97",
   "metadata": {},
   "outputs": [
    {
     "data": {
      "text/plain": [
       "(2, 5)"
      ]
     },
     "execution_count": 36,
     "metadata": {},
     "output_type": "execute_result"
    }
   ],
   "source": [
    "a = [2,5]\n",
    "b = tuple(a)\n",
    "b"
   ]
  },
  {
   "cell_type": "code",
   "execution_count": 37,
   "id": "6318ef2f",
   "metadata": {},
   "outputs": [
    {
     "data": {
      "text/plain": [
       "[3, 6]"
      ]
     },
     "execution_count": 37,
     "metadata": {},
     "output_type": "execute_result"
    }
   ],
   "source": [
    "c = (3,6)\n",
    "d = list(c)\n",
    "d"
   ]
  },
  {
   "cell_type": "markdown",
   "id": "296d3cdd",
   "metadata": {},
   "source": [
    "16. Variables that \"contain\" list values are not necessarily lists themselves. Instead, what do they\n",
    "contain?"
   ]
  },
  {
   "cell_type": "markdown",
   "id": "bf48da2a",
   "metadata": {},
   "source": [
    "They contains references to list values"
   ]
  },
  {
   "cell_type": "markdown",
   "id": "123c097f",
   "metadata": {},
   "source": [
    "17. How do you distinguish between copy.copy() and copy.deepcopy()?"
   ]
  },
  {
   "cell_type": "markdown",
   "id": "7e0429ac",
   "metadata": {},
   "source": [
    "The copy.copy() function will do a shallow copy of a list,\n",
    "\n",
    "The copy.deepcopy() function will do a deep copy of a list. only copy.deepcopy() will duplicate any lists inside the list"
   ]
  },
  {
   "cell_type": "code",
   "execution_count": null,
   "id": "b8f4f66f",
   "metadata": {},
   "outputs": [],
   "source": []
  }
 ],
 "metadata": {
  "kernelspec": {
   "display_name": "Python 3 (ipykernel)",
   "language": "python",
   "name": "python3"
  },
  "language_info": {
   "codemirror_mode": {
    "name": "ipython",
    "version": 3
   },
   "file_extension": ".py",
   "mimetype": "text/x-python",
   "name": "python",
   "nbconvert_exporter": "python",
   "pygments_lexer": "ipython3",
   "version": "3.9.12"
  }
 },
 "nbformat": 4,
 "nbformat_minor": 5
}
