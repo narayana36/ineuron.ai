{
 "cells": [
  {
   "cell_type": "markdown",
   "id": "1c15e327",
   "metadata": {},
   "source": [
    "1. Write a Python program to Extract Unique values dictionary values?"
   ]
  },
  {
   "cell_type": "code",
   "execution_count": 1,
   "id": "da931e40",
   "metadata": {},
   "outputs": [
    {
     "name": "stdout",
     "output_type": "stream",
     "text": [
      "unique values are: {0, 97, 1, 3, 36, 5, 4, 6, 8, 9, 43, 45, 78, 47, 21}\n"
     ]
    }
   ],
   "source": [
    "dict = {'a' : [3, 43, 97, 36],\n",
    "       'b' : [1, 21, 47, 45],\n",
    "       'c' : [3,0,5,8],\n",
    "       'd': [4,6,8,9,78]}\n",
    "\n",
    "un_val = set([ele for val in dict.values() for ele in val])\n",
    "print('unique values are: {}'.format(un_val))"
   ]
  },
  {
   "cell_type": "markdown",
   "id": "a8e9da47",
   "metadata": {},
   "source": [
    "2. Write a Python program to find the sum of all items in a dictionary?"
   ]
  },
  {
   "cell_type": "code",
   "execution_count": 2,
   "id": "dfaafd3c",
   "metadata": {},
   "outputs": [
    {
     "name": "stdout",
     "output_type": "stream",
     "text": [
      "Sum of all items: 895\n"
     ]
    }
   ],
   "source": [
    "dict1 = { 'a' : 78,\n",
    "       'b': 34,\n",
    "       'c': 56,\n",
    "        'd': 23}\n",
    "\n",
    "sum = 0\n",
    "for i in dict1.values():\n",
    "    sum+=sum + i\n",
    "print(\"Sum of all items: {}\".format(sum))"
   ]
  },
  {
   "cell_type": "markdown",
   "id": "f8b971a6",
   "metadata": {},
   "source": [
    "3. Write a Python program to Merging two Dictionaries?"
   ]
  },
  {
   "cell_type": "code",
   "execution_count": 3,
   "id": "acf5429d",
   "metadata": {},
   "outputs": [
    {
     "name": "stdout",
     "output_type": "stream",
     "text": [
      "Dict a:  {'x': 2, 'y': 5}\n",
      "Dict b:  {'y': 7, 'z': 8}\n",
      "updated dictionary : {'x': 2, 'y': 7, 'z': 8}\n"
     ]
    }
   ],
   "source": [
    "one = {'x': 2, 'y': 5}\n",
    "two = {'y': 7, 'z': 8}\n",
    "both = one.copy()\n",
    "both.update(two)\n",
    "print('Dict a: ', one)\n",
    "print('Dict b: ', two)\n",
    "print('updated dictionary : {}'.format(both))"
   ]
  },
  {
   "cell_type": "markdown",
   "id": "f46e1901",
   "metadata": {},
   "source": [
    "4. Write a Python program to convert key-values list to flat dictionary?"
   ]
  },
  {
   "cell_type": "code",
   "execution_count": 1,
   "id": "f0c3750f",
   "metadata": {},
   "outputs": [
    {
     "name": "stdout",
     "output_type": "stream",
     "text": [
      "The original dictionary is : {'month': [1, 2, 3], 'name': ['Jan', 'Feb', 'March']}\n",
      "Flattened dictionary : {1: 'Jan', 2: 'Feb', 3: 'March'}\n"
     ]
    }
   ],
   "source": [
    "test_dict = {'month' : [1, 2, 3],\n",
    "             'name' : ['Jan', 'Feb', 'March']} \n",
    "print(\"The original dictionary is : \" +str(test_dict))\n",
    "res = dict(zip(test_dict['month'], test_dict['name']))\n",
    "\n",
    "print(\"Flattened dictionary : \" + str(res))"
   ]
  },
  {
   "cell_type": "markdown",
   "id": "27976457",
   "metadata": {},
   "source": [
    "5. Write a Python program to insertion at the beginning in OrderedDict?"
   ]
  },
  {
   "cell_type": "code",
   "execution_count": 5,
   "id": "60093214",
   "metadata": {},
   "outputs": [
    {
     "name": "stdout",
     "output_type": "stream",
     "text": [
      "Results Dictionary: \n",
      "OrderedDict([('D', 400), ('A', '100'), ('B', '200'), ('C', '300')])\n"
     ]
    }
   ],
   "source": [
    "from collections import OrderedDict\n",
    "dic1 = OrderedDict([('A','100'), ('B','200'), (\"C\",'300')])\n",
    "insert = OrderedDict([('D',400)])\n",
    "final = OrderedDict(list(insert.items()) + list(dic1.items()))\n",
    "print(\"Results Dictionary: \")\n",
    "print(final)"
   ]
  },
  {
   "cell_type": "markdown",
   "id": "5534fc72",
   "metadata": {},
   "source": [
    "6. Write a Python program to check order of character in string using OrderedDict()?"
   ]
  },
  {
   "cell_type": "code",
   "execution_count": 6,
   "id": "568d6b90",
   "metadata": {},
   "outputs": [
    {
     "name": "stdout",
     "output_type": "stream",
     "text": [
      "False\n",
      "True\n"
     ]
    }
   ],
   "source": [
    "from collections import OrderedDict\n",
    "def checkOrder(string, pattern):\n",
    "    dic= OrderedDict.fromkeys(string)\n",
    "    ptr = 0\n",
    "    for key, value in dic.items():\n",
    "        if (key == pattern[ptr]):\n",
    "            ptr = ptr + 1\n",
    "        if (ptr == (len(pattern))):\n",
    "            return 'True'\n",
    "    return 'False'\n",
    "\n",
    "string = 'Good Morning'\n",
    "pattern = 'goo'\n",
    "print(checkOrder(string,pattern))\n",
    "\n",
    "string2= 'welocme'\n",
    "pattern2 = 'cm'\n",
    "print(checkOrder(string2,pattern2))"
   ]
  },
  {
   "cell_type": "markdown",
   "id": "a40d94ba",
   "metadata": {},
   "source": [
    "7. Write a Python program to sort Python Dictionaries by Key or Value?"
   ]
  },
  {
   "cell_type": "code",
   "execution_count": 7,
   "id": "3ce1c494",
   "metadata": {},
   "outputs": [
    {
     "name": "stdout",
     "output_type": "stream",
     "text": [
      "black: #000000\n",
      "green: #008000\n",
      "pink: #NNNNNN\n",
      "red: #FF0000\n",
      "white: #FFFFFF\n",
      "yellow: #00B000\n"
     ]
    }
   ],
   "source": [
    "color_dict = {'red':'#FF0000',\n",
    "             'green':'#008000',\n",
    "             'black':'#000000',\n",
    "             'white':'#FFFFFF',\n",
    "             'yellow':'#00B000',\n",
    "             'pink':'#NNNNNN'}\n",
    "\n",
    "for key in sorted(color_dict):\n",
    "    print('%s: %s'%(key, color_dict[key]))"
   ]
  },
  {
   "cell_type": "code",
   "execution_count": null,
   "id": "bfd0e79f",
   "metadata": {},
   "outputs": [],
   "source": []
  }
 ],
 "metadata": {
  "kernelspec": {
   "display_name": "Python 3 (ipykernel)",
   "language": "python",
   "name": "python3"
  },
  "language_info": {
   "codemirror_mode": {
    "name": "ipython",
    "version": 3
   },
   "file_extension": ".py",
   "mimetype": "text/x-python",
   "name": "python",
   "nbconvert_exporter": "python",
   "pygments_lexer": "ipython3",
   "version": "3.9.12"
  }
 },
 "nbformat": 4,
 "nbformat_minor": 5
}
