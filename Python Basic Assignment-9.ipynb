{
 "cells": [
  {
   "cell_type": "markdown",
   "id": "fe43e579",
   "metadata": {},
   "source": [
    "1. To what does a relative path refer?"
   ]
  },
  {
   "cell_type": "markdown",
   "id": "1a95e3a0",
   "metadata": {},
   "source": [
    "Ans: Relative paths are relative to the current working directory"
   ]
  },
  {
   "cell_type": "markdown",
   "id": "da199759",
   "metadata": {},
   "source": [
    "2. What does an absolute path start with your operating system?"
   ]
  },
  {
   "cell_type": "markdown",
   "id": "6f28f014",
   "metadata": {},
   "source": [
    "Ans: Absolute paths start with the roof folder, such as \\ or C: \\ ."
   ]
  },
  {
   "cell_type": "markdown",
   "id": "c3ef0780",
   "metadata": {},
   "source": [
    "3. What do the functions os.getcwd() and os.chdir() do?"
   ]
  },
  {
   "cell_type": "markdown",
   "id": "a042c389",
   "metadata": {},
   "source": [
    "Ans: The os.getcwd() function return the current working directory. The os.chidir() function changes the current working directory."
   ]
  },
  {
   "cell_type": "markdown",
   "id": "c74d137d",
   "metadata": {},
   "source": [
    "4. What are the . and .. folders?"
   ]
  },
  {
   "cell_type": "markdown",
   "id": "f53a7b41",
   "metadata": {},
   "source": [
    "Ans: The . folder is the current folder, and .. is the parent folder"
   ]
  },
  {
   "cell_type": "markdown",
   "id": "1dbf6f7c",
   "metadata": {},
   "source": [
    "5. In C:\\bacon\\eggs\\spam.txt, which part is the dir name, and which part is the base name?"
   ]
  },
  {
   "cell_type": "markdown",
   "id": "5affcc32",
   "metadata": {},
   "source": [
    "Ans: C: \\ bacon \\ eggs is the dir name, while spam.txt is the base name"
   ]
  },
  {
   "cell_type": "markdown",
   "id": "d4fa73bf",
   "metadata": {},
   "source": [
    "6. What are the three “mode” arguments that can be passed to the open() function?"
   ]
  },
  {
   "cell_type": "markdown",
   "id": "21102062",
   "metadata": {},
   "source": [
    "Ans: The string 'r' for read mode, 'w' for write mode, and 'a' for append mode"
   ]
  },
  {
   "cell_type": "markdown",
   "id": "7934a44d",
   "metadata": {},
   "source": [
    "7. What happens if an existing file is opened in write mode?"
   ]
  },
  {
   "cell_type": "markdown",
   "id": "fcd9bd24",
   "metadata": {},
   "source": [
    "Ans: An existing file is opened in write mode is erased and completely overwritten"
   ]
  },
  {
   "cell_type": "markdown",
   "id": "90e2bfd6",
   "metadata": {},
   "source": [
    "8. How do you tell the difference between read() and readlines()?"
   ]
  },
  {
   "cell_type": "markdown",
   "id": "8d33f200",
   "metadata": {},
   "source": [
    "Ans: The read() method returns the file's entire contents as a single string value. The readlines() method return a list of strings, where each string is a line from the file's contents"
   ]
  },
  {
   "cell_type": "markdown",
   "id": "8d6524d2",
   "metadata": {},
   "source": [
    "9. What data structure does a shelf value resemble?"
   ]
  },
  {
   "cell_type": "markdown",
   "id": "46d617ff",
   "metadata": {},
   "source": [
    "Ans: A shelf value resembles a dictionary value; it has keys and values, along with keys() and values() method that work similarly to the dictionary methods of the same names."
   ]
  },
  {
   "cell_type": "code",
   "execution_count": null,
   "id": "8c99ee13",
   "metadata": {},
   "outputs": [],
   "source": []
  }
 ],
 "metadata": {
  "kernelspec": {
   "display_name": "Python 3 (ipykernel)",
   "language": "python",
   "name": "python3"
  },
  "language_info": {
   "codemirror_mode": {
    "name": "ipython",
    "version": 3
   },
   "file_extension": ".py",
   "mimetype": "text/x-python",
   "name": "python",
   "nbconvert_exporter": "python",
   "pygments_lexer": "ipython3",
   "version": "3.9.12"
  }
 },
 "nbformat": 4,
 "nbformat_minor": 5
}
