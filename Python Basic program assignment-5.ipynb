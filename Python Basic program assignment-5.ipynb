{
 "cells": [
  {
   "cell_type": "markdown",
   "id": "28c92097",
   "metadata": {},
   "source": [
    "1. Write a Python Program to Find LCM?"
   ]
  },
  {
   "cell_type": "code",
   "execution_count": 1,
   "id": "8d08d0e6",
   "metadata": {},
   "outputs": [
    {
     "name": "stdout",
     "output_type": "stream",
     "text": [
      "Enter the first number45\n",
      "Enter the second number98\n",
      "LCM of 45 and 98 is 4410\n"
     ]
    }
   ],
   "source": [
    "n1 = int(input(\"Enter the first number\"))\n",
    "n2 = int(input(\"Enter the second number\"))\n",
    "\n",
    "if n1>n2:\n",
    "    higher = n1\n",
    "else: \n",
    "    higher = n2\n",
    "    \n",
    "value = higher\n",
    "while True:\n",
    "    if higher%n1== 0 and higher%n2 == 0:\n",
    "        print(\"LCM of\", n1,\"and\", n2,\"is\", higher)\n",
    "        break\n",
    "    else:\n",
    "        higher = higher + value\n",
    "        \n"
   ]
  },
  {
   "cell_type": "markdown",
   "id": "a3a7b678",
   "metadata": {},
   "source": [
    "2. Write a Python Program to Find HCF?"
   ]
  },
  {
   "cell_type": "code",
   "execution_count": 2,
   "id": "92523ca6",
   "metadata": {},
   "outputs": [
    {
     "name": "stdout",
     "output_type": "stream",
     "text": [
      "Enter the first number729\n",
      "Enter the second number98\n",
      "The HCF is 1\n"
     ]
    }
   ],
   "source": [
    "n1 = int(input(\"Enter the first number\"))\n",
    "n2 = int(input(\"Enter the second number\"))\n",
    "\n",
    "if n1>n2:\n",
    "    smaller = n1\n",
    "else: \n",
    "    smaller = n2\n",
    "for i in range(1, smaller+1):\n",
    "    if (n1%i==0 and n2%i==0):\n",
    "        hcf = i\n",
    "print(\"The HCF is \" +str(hcf))\n",
    "    "
   ]
  },
  {
   "cell_type": "markdown",
   "id": "b48b4090",
   "metadata": {},
   "source": [
    "3. Write a Python Program to Convert Decimal to Binary, Octal and Hexadecimal?"
   ]
  },
  {
   "cell_type": "code",
   "execution_count": 3,
   "id": "69733f19",
   "metadata": {},
   "outputs": [
    {
     "name": "stdout",
     "output_type": "stream",
     "text": [
      "Enter a decimal value: \n",
      "45\n",
      "Convert to:  [1] Binary [2] Octal [3] Hexadecimal: \n",
      "3\n",
      "Converted to hexadecimal \n",
      "  0x2d\n"
     ]
    }
   ],
   "source": [
    "decimal = int(input(\"Enter a decimal value: \\n\"))\n",
    "Convert = int(input(\"Convert to:  [1] Binary [2] Octal [3] Hexadecimal: \\n\"))\n",
    "\n",
    "if Convert == 1:\n",
    "    print(\"converted to Binary \\n \", bin(decimal))\n",
    "elif Convert == 2:\n",
    "    print(\"Converted to Octal \\n \", oct(decimal))\n",
    "elif Convert == 3:\n",
    "    print(\"Converted to hexadecimal \\n \", hex(decimal))\n",
    "else:\n",
    "    (\"please enter valid number\")"
   ]
  },
  {
   "cell_type": "markdown",
   "id": "4b4c8a15",
   "metadata": {},
   "source": [
    "4. Write a Python Program To Find ASCII value of a character?"
   ]
  },
  {
   "cell_type": "code",
   "execution_count": 4,
   "id": "0b9438cf",
   "metadata": {},
   "outputs": [
    {
     "name": "stdout",
     "output_type": "stream",
     "text": [
      " Enter a character: N\n",
      "The ASCII value is 78:"
     ]
    }
   ],
   "source": [
    "string = input(\" Enter a character: \")\n",
    "for i in string:\n",
    "    print(\"The ASCII value is\", ord(i), end = \":\")"
   ]
  },
  {
   "cell_type": "markdown",
   "id": "df1072f8",
   "metadata": {},
   "source": [
    "5. Write a Python Program to Make a Simple Calculator with 4 basic mathematical operations?"
   ]
  },
  {
   "cell_type": "code",
   "execution_count": 6,
   "id": "378d68ad",
   "metadata": {},
   "outputs": [
    {
     "name": "stdout",
     "output_type": "stream",
     "text": [
      "selection of process\n",
      "1.Adds\n",
      "2.substract\n",
      "3.Multiply\n",
      "4.Divides\n",
      "5.Power\n",
      "Enter choice (1/2/3/4/5):3\n",
      "Enter the first number:6\n",
      "Enter the second number:8\n",
      "6 * 8 = 48\n"
     ]
    }
   ],
   "source": [
    "def add(x,y):\n",
    "    '''This function adds two numbers'''\n",
    "    return x+y\n",
    "def substract(x,y):\n",
    "    '''This function substract two numbers'''\n",
    "    return x-y\n",
    "def Multiply(x,y):\n",
    "    '''This function Multiply two numbers'''\n",
    "    return x*y\n",
    "def Divide(x,y):\n",
    "    '''This function Divides two numbers'''\n",
    "    return x/y\n",
    "def Power(x,y):\n",
    "    '''This function Power two numbers'''\n",
    "    return pow(x,y)\n",
    "    \n",
    "print(\"selection of process\")\n",
    "print(\"1.Adds\")\n",
    "print(\"2.substract\")\n",
    "print(\"3.Multiply\")\n",
    "print(\"4.Divides\")\n",
    "print(\"5.Power\")\n",
    "\n",
    "choice = input(\"Enter choice (1/2/3/4/5):\")\n",
    "\n",
    "num1 = int(input(\"Enter the first number:\"))\n",
    "num2 = int(input(\"Enter the second number:\"))\n",
    "\n",
    "if choice =='1':\n",
    "    print(num1,\"+\", num2, \"=\", adds(num1,num2))\n",
    "elif choice == '2':\n",
    "    print(num1,\"-\", num2, \"=\", substract(num1,num2))\n",
    "elif choice == '3':\n",
    "    print(num1,\"*\", num2, \"=\", Multiply(num1,num2))\n",
    "elif choice == '4':\n",
    "    print(num1,\"/\", num2, \"=\", Divide(num1,num2))\n",
    "elif choice == '5':\n",
    "    print(num1, \"^\", num2, \"=\", power(num1,num2))\n",
    "else:\n",
    "    print(\"Invalid operation\")"
   ]
  },
  {
   "cell_type": "code",
   "execution_count": null,
   "id": "9d866cfa",
   "metadata": {},
   "outputs": [],
   "source": []
  }
 ],
 "metadata": {
  "kernelspec": {
   "display_name": "Python 3 (ipykernel)",
   "language": "python",
   "name": "python3"
  },
  "language_info": {
   "codemirror_mode": {
    "name": "ipython",
    "version": 3
   },
   "file_extension": ".py",
   "mimetype": "text/x-python",
   "name": "python",
   "nbconvert_exporter": "python",
   "pygments_lexer": "ipython3",
   "version": "3.9.12"
  }
 },
 "nbformat": 4,
 "nbformat_minor": 5
}
