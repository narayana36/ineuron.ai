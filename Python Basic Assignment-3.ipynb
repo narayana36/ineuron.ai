{
 "cells": [
  {
   "cell_type": "markdown",
   "id": "519e131a",
   "metadata": {},
   "source": [
    "1. Why are functions advantageous to have in your programs?"
   ]
  },
  {
   "cell_type": "markdown",
   "id": "e52bf109",
   "metadata": {},
   "source": [
    "Functions reduce the need for duplicate code. This makes programs shorter, easier to read, and easier to update."
   ]
  },
  {
   "cell_type": "markdown",
   "id": "f7de02c4",
   "metadata": {},
   "source": [
    "2. When does the code in a function run: when it's specified or when it's called?"
   ]
  },
  {
   "cell_type": "markdown",
   "id": "57a3d45d",
   "metadata": {},
   "source": [
    "when a function program is called the program leaves the current section of code and begins to excute the first line inside the function"
   ]
  },
  {
   "cell_type": "markdown",
   "id": "1de270d4",
   "metadata": {},
   "source": [
    "3. What statement creates a function?"
   ]
  },
  {
   "cell_type": "markdown",
   "id": "798940de",
   "metadata": {},
   "source": [
    "The \"def\" key word is a statement for defining a function in python. You start a function with the def keyword, specify a name followed by a colon(:) sign. The \"def\" call creates the function object and assigned it to name given. You can further re-assigns the same fucntion object to other names."
   ]
  },
  {
   "cell_type": "markdown",
   "id": "f9ead9b6",
   "metadata": {},
   "source": [
    "4. What is the difference between a function and a function call?"
   ]
  },
  {
   "cell_type": "markdown",
   "id": "b2163ca2",
   "metadata": {},
   "source": [
    "A Function is block of code that does a particular operation and return a results. It usually accepts inputs as parameters and returns a result. The parameters are not mandatory. A function call is the code used to pass contorl to a function."
   ]
  },
  {
   "cell_type": "markdown",
   "id": "87926ffb",
   "metadata": {},
   "source": [
    "5. How many global scopes are there in a Python program? How many local scopes?"
   ]
  },
  {
   "cell_type": "markdown",
   "id": "c77be5e9",
   "metadata": {},
   "source": [
    "Only one global python scope per program execution. Only One local scope"
   ]
  },
  {
   "cell_type": "markdown",
   "id": "f67acac1",
   "metadata": {},
   "source": [
    "6. What happens to variables in a local scope when the function call returns?"
   ]
  },
  {
   "cell_type": "markdown",
   "id": "0229bcde",
   "metadata": {},
   "source": [
    "When the execution of the function terminates, the local variables are destroyed. Condelens helps you visulaize this because the local variables disappear after the function returns. "
   ]
  },
  {
   "cell_type": "markdown",
   "id": "dd025feb",
   "metadata": {},
   "source": [
    "7. What is the concept of a return value? Is it possible to have a return value in an expression?"
   ]
  },
  {
   "cell_type": "markdown",
   "id": "b1060c65",
   "metadata": {},
   "source": [
    "A return statement is used to end the execution of the function call and \"returns\" the result (value of the expression following the return keyword) to the caller. The statement after the return statement are not executed. If the return statement is without any expression, then the special value None is returned."
   ]
  },
  {
   "cell_type": "markdown",
   "id": "7876191b",
   "metadata": {},
   "source": [
    "8. If a function does not have a return statement, what is the return value of a call to that function?"
   ]
  },
  {
   "cell_type": "markdown",
   "id": "82c2ead3",
   "metadata": {},
   "source": [
    "If no return statement appears in a function definition, control automatically returns to the calling function after the last statement of the called function is executed. In this case, the return value of the called function is \"undefined\"."
   ]
  },
  {
   "cell_type": "markdown",
   "id": "ff568864",
   "metadata": {},
   "source": [
    "9. How do you make a function variable refer to the global variable?"
   ]
  },
  {
   "cell_type": "markdown",
   "id": "60f6bd35",
   "metadata": {},
   "source": [
    "if you want to refer to a global variable in a function, you can \"use the global keyword to declare which variables are global\"."
   ]
  },
  {
   "cell_type": "markdown",
   "id": "de341aec",
   "metadata": {},
   "source": [
    "10. What is the data type of None?"
   ]
  },
  {
   "cell_type": "markdown",
   "id": "f5b10e2e",
   "metadata": {},
   "source": [
    "The None keyword is used to define a null value, or no value at all. None is not the same as 0, False, or an empty string. Only None can be None."
   ]
  },
  {
   "cell_type": "markdown",
   "id": "6327b19c",
   "metadata": {},
   "source": [
    "11. What does the sentence import areallyourpetsnamederic do?"
   ]
  },
  {
   "cell_type": "markdown",
   "id": "049e42a2",
   "metadata": {},
   "source": [
    "That import statement imports a module named areallyourpetsnamederic."
   ]
  },
  {
   "cell_type": "markdown",
   "id": "d3f96b73",
   "metadata": {},
   "source": [
    "12. If you had a bacon() feature in a spam module, what would you call it after importing spam?"
   ]
  },
  {
   "cell_type": "markdown",
   "id": "d8ccb02d",
   "metadata": {},
   "source": [
    "This function can be called with \"spam. bacon()\"."
   ]
  },
  {
   "cell_type": "markdown",
   "id": "dfc6bba1",
   "metadata": {},
   "source": [
    "13. What can you do to save a programme from crashing if it encounters an error?"
   ]
  },
  {
   "cell_type": "markdown",
   "id": "f2648629",
   "metadata": {},
   "source": [
    "when it encounters an error, the control is passed to the except block, skipping the code in between. As seen in the above code, we have moved our code inside a try and except statement. \"Try running the program\" and it should throw an error message instead of crashing the program"
   ]
  },
  {
   "cell_type": "markdown",
   "id": "2f1c090e",
   "metadata": {},
   "source": [
    "14. What is the purpose of the try clause? What is the purpose of the except clause?"
   ]
  },
  {
   "cell_type": "markdown",
   "id": "efe682ab",
   "metadata": {},
   "source": [
    "The try block lets you test a block of code for errors. The except block lets you handle the error. The else block lets you execute code when there is no error. The finally block lets you execute code, regardless of the result of the try- and except blocks."
   ]
  }
 ],
 "metadata": {
  "kernelspec": {
   "display_name": "Python 3 (ipykernel)",
   "language": "python",
   "name": "python3"
  },
  "language_info": {
   "codemirror_mode": {
    "name": "ipython",
    "version": 3
   },
   "file_extension": ".py",
   "mimetype": "text/x-python",
   "name": "python",
   "nbconvert_exporter": "python",
   "pygments_lexer": "ipython3",
   "version": "3.9.12"
  }
 },
 "nbformat": 4,
 "nbformat_minor": 5
}
