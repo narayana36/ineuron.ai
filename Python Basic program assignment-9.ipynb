{
 "cells": [
  {
   "cell_type": "markdown",
   "id": "32c9daf6",
   "metadata": {},
   "source": [
    "1. Write a Python program to check if the given number is a Disarium Number?"
   ]
  },
  {
   "cell_type": "code",
   "execution_count": 1,
   "id": "bb98a139",
   "metadata": {
    "scrolled": true
   },
   "outputs": [
    {
     "name": "stdout",
     "output_type": "stream",
     "text": [
      "Enter a number89\n",
      "Count = 2\n",
      "89 is a disarium Number\n"
     ]
    }
   ],
   "source": [
    "n=int(input(\"Enter a number\"))\n",
    "temp=n\n",
    "x=n\n",
    "count=0\n",
    "while temp>0:\n",
    "    temp=temp//10\n",
    "    count=count+1\n",
    "print(\"Count =\", count)\n",
    "\n",
    "sum=0\n",
    "while x>0:\n",
    "    rem=x%10\n",
    "    sum=sum+rem**count\n",
    "    x=x//10\n",
    "    count=count-1\n",
    "if sum==n:\n",
    "    print(n,\"is a disarium Number\")\n",
    "else:\n",
    "    print(n,\"is not a disarium Number\")"
   ]
  },
  {
   "cell_type": "markdown",
   "id": "85e30e46",
   "metadata": {},
   "source": [
    "2. Write a Python program to print all disarium numbers between 1 to 100?"
   ]
  },
  {
   "cell_type": "code",
   "execution_count": 2,
   "id": "4023d74b",
   "metadata": {},
   "outputs": [
    {
     "name": "stdout",
     "output_type": "stream",
     "text": [
      "2 3 5 7 11 13 17 19 23 29 31 37 41 43 47 53 59 61 67 71 73 79 83 89 97 "
     ]
    }
   ],
   "source": [
    "for i in range(1,100):\n",
    "    count=0\n",
    "    for j in range(1,i+1):\n",
    "        if (i%j == 0):\n",
    "            count = count+1\n",
    "    if (count == 2):\n",
    "        print(i, end=' ')"
   ]
  },
  {
   "cell_type": "markdown",
   "id": "bf4ad267",
   "metadata": {},
   "source": [
    "3. Write a Python program to check if the given number is Happy Number?"
   ]
  },
  {
   "cell_type": "code",
   "execution_count": 3,
   "id": "86fa7ea0",
   "metadata": {},
   "outputs": [
    {
     "name": "stdout",
     "output_type": "stream",
     "text": [
      "Enter a number19\n",
      "sum: 82\n",
      "sum: 68\n",
      "sum: 100\n",
      "sum: 1\n",
      "19 is a Happy Number\n"
     ]
    }
   ],
   "source": [
    "n=int(input(\"Enter a number\"))\n",
    "x=n\n",
    "while x>=10:\n",
    "    sum=0\n",
    "    while x>0:\n",
    "        r=x%10\n",
    "        sum=sum+(r**2)\n",
    "        x=x//10\n",
    "    print(\"sum:\",sum)\n",
    "    x=sum\n",
    "if x==1:\n",
    "    print(n,\"is a Happy Number\")\n",
    "else:\n",
    "    print(n,\"is not a Happy Number\")"
   ]
  },
  {
   "cell_type": "markdown",
   "id": "4adc0e88",
   "metadata": {},
   "source": [
    "4. Write a Python program to print all happy numbers between 1 and 100?"
   ]
  },
  {
   "cell_type": "code",
   "execution_count": 4,
   "id": "f67c99a5",
   "metadata": {},
   "outputs": [
    {
     "name": "stdout",
     "output_type": "stream",
     "text": [
      "1\n",
      "100\n",
      "Happy numbers between  1 and 100 are:\n",
      "1 7 10 13 19 23 28 31 32 44 49 68 70 79 82 86 91 94 97 100 "
     ]
    }
   ],
   "source": [
    "range1=int(input())\n",
    "range2=int(input())\n",
    "print(\"Happy numbers between \",range1,\"and\",range2,\"are:\")\n",
    "for i in range(range1,range2+1):\n",
    "    num=i\n",
    "    sum=0\n",
    "    while sum!=1 and sum!=4:\n",
    "        sum=0\n",
    "        while num!=0:\n",
    "            rem=num%10\n",
    "            sum+=(rem*rem)\n",
    "            num//=10\n",
    "        num = sum\n",
    "        \n",
    "    if sum == 1:\n",
    "        print(i, end=\" \")\n",
    "        "
   ]
  },
  {
   "cell_type": "markdown",
   "id": "7de7e277",
   "metadata": {},
   "source": [
    "5. Write a Python program to determine whether the given number is a Harshad Number?"
   ]
  },
  {
   "cell_type": "code",
   "execution_count": 5,
   "id": "89c8fded",
   "metadata": {},
   "outputs": [
    {
     "name": "stdout",
     "output_type": "stream",
     "text": [
      "Enter number18\n",
      "18 is Harshad Number\n"
     ]
    }
   ],
   "source": [
    "n=int(input(\"Enter number\"))\n",
    "x=n\n",
    "sum=0\n",
    "while x>0:\n",
    "    r=x%10\n",
    "    sum=sum+r\n",
    "    x=x//10\n",
    "if n%sum==0:\n",
    "    print(n,\"is Harshad Number\")\n",
    "else:\n",
    "    print(n,\"is not Harshad Number\")\n"
   ]
  },
  {
   "cell_type": "markdown",
   "id": "4bfbe2c2",
   "metadata": {},
   "source": [
    "6. Write a Python program to print all pronic numbers between 1 and 100?"
   ]
  },
  {
   "cell_type": "code",
   "execution_count": 6,
   "id": "a679bf71",
   "metadata": {},
   "outputs": [
    {
     "name": "stdout",
     "output_type": "stream",
     "text": [
      "1\n",
      "100\n",
      "Pronic numbers between  1 and 100 are:\n",
      "2 6 12 20 30 42 56 72 90 "
     ]
    }
   ],
   "source": [
    "range1=int(input())\n",
    "range2=int(input())\n",
    "print(\"Pronic numbers between \",range1,\"and\",range2,\"are:\")\n",
    "for i in range(range1,range2+1):\n",
    "    flag=0\n",
    "    for j in range(0,i+1):\n",
    "        if j*(j+1)==i:\n",
    "            flag=1\n",
    "            break\n",
    "    if flag == 1:\n",
    "        print(i, end=' ')"
   ]
  },
  {
   "cell_type": "code",
   "execution_count": null,
   "id": "4fc45d7c",
   "metadata": {},
   "outputs": [],
   "source": []
  }
 ],
 "metadata": {
  "kernelspec": {
   "display_name": "Python 3 (ipykernel)",
   "language": "python",
   "name": "python3"
  },
  "language_info": {
   "codemirror_mode": {
    "name": "ipython",
    "version": 3
   },
   "file_extension": ".py",
   "mimetype": "text/x-python",
   "name": "python",
   "nbconvert_exporter": "python",
   "pygments_lexer": "ipython3",
   "version": "3.9.12"
  }
 },
 "nbformat": 4,
 "nbformat_minor": 5
}
