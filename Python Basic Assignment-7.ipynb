{
 "cells": [
  {
   "cell_type": "raw",
   "id": "5d430e98",
   "metadata": {},
   "source": [
    "1. What is the name of the feature responsible for generating Regex objects?"
   ]
  },
  {
   "cell_type": "markdown",
   "id": "d59ab536",
   "metadata": {},
   "source": [
    "The re.compile()function returns Regex object"
   ]
  },
  {
   "cell_type": "raw",
   "id": "450f1de0",
   "metadata": {},
   "source": [
    "2. Why do raw strings often appear in Regex objects?"
   ]
  },
  {
   "cell_type": "markdown",
   "id": "98916d39",
   "metadata": {},
   "source": [
    "Raw strings are used so that backslashes do not have to be escaped."
   ]
  },
  {
   "cell_type": "raw",
   "id": "649cf334",
   "metadata": {},
   "source": [
    "3. What is the return value of the search() method?"
   ]
  },
  {
   "cell_type": "markdown",
   "id": "7bcfc64e",
   "metadata": {},
   "source": [
    "The serach() method returns Match objects"
   ]
  },
  {
   "cell_type": "raw",
   "id": "8d204bd1",
   "metadata": {},
   "source": [
    "4. From a Match item, how do you get the actual strings that match the pattern?"
   ]
  },
  {
   "cell_type": "markdown",
   "id": "06644e98",
   "metadata": {},
   "source": [
    "The group() method returns strings of the matched text."
   ]
  },
  {
   "cell_type": "raw",
   "id": "ff43667b",
   "metadata": {},
   "source": [
    "5. In the regex which created from the r'(\\d\\d\\d)-(\\d\\d\\d-\\d\\d\\d\\d)', what does group zero cover?\n",
    "Group 2? Group 1?"
   ]
  },
  {
   "cell_type": "markdown",
   "id": "d4738908",
   "metadata": {},
   "source": [
    "Group 0 is the entire match, group 1 covers the first set of parentheses, and group 2 covers the second set of parentheses."
   ]
  },
  {
   "cell_type": "raw",
   "id": "e2622b6c",
   "metadata": {},
   "source": [
    "6. In standard expression syntax, parentheses and intervals have distinct meanings. How can you tell\n",
    "a regex that you want it to fit real parentheses and periods?"
   ]
  },
  {
   "cell_type": "markdown",
   "id": "29a1f3dc",
   "metadata": {},
   "source": [
    "Periods and parentheses can be escaped with a blackslash:' \\ '.,' \\ '(,and' \\ ')."
   ]
  },
  {
   "cell_type": "raw",
   "id": "1b9a205a",
   "metadata": {},
   "source": [
    "7. The findall() method returns a string list or a list of string tuples. What causes it to return one of\n",
    "the two options?"
   ]
  },
  {
   "cell_type": "markdown",
   "id": "cb57af4d",
   "metadata": {},
   "source": [
    " If the regex has no groups, a list of strings is returned. If the regex has groups, a list of tuples of strings is returned."
   ]
  },
  {
   "cell_type": "raw",
   "id": "36af0b26",
   "metadata": {},
   "source": [
    "8. In standard expressions, what does the | character mean?"
   ]
  },
  {
   "cell_type": "markdown",
   "id": "21046f71",
   "metadata": {},
   "source": [
    "The | character signifies matching \"either, or\" between two groups."
   ]
  },
  {
   "cell_type": "raw",
   "id": "a69d9e82",
   "metadata": {},
   "source": [
    "9. In regular expressions, what does the character stand for?"
   ]
  },
  {
   "cell_type": "markdown",
   "id": "a3983fb3",
   "metadata": {},
   "source": [
    "which character ? not mentioned"
   ]
  },
  {
   "cell_type": "raw",
   "id": "c0ad9ba5",
   "metadata": {},
   "source": [
    "10.In regular expressions, what is the difference between the + and * characters?"
   ]
  },
  {
   "cell_type": "markdown",
   "id": "ec4db385",
   "metadata": {},
   "source": [
    "The + matches one or more. The * matches zero or more."
   ]
  },
  {
   "cell_type": "raw",
   "id": "6dd61160",
   "metadata": {},
   "source": [
    "11. What is the difference between {4} and {4,5} in regular expression?"
   ]
  },
  {
   "cell_type": "markdown",
   "id": "4cfb9a90",
   "metadata": {},
   "source": [
    "The {4} matches exactly three instances of the preceding group. \n",
    "The {4,5} matches between four and five instaces"
   ]
  },
  {
   "cell_type": "raw",
   "id": "fae22ae9",
   "metadata": {},
   "source": [
    "12. What do you mean by the \\d, \\w, and \\s shorthand character classes signify in regular\n",
    "expressions?"
   ]
  },
  {
   "cell_type": "markdown",
   "id": "73b72e69",
   "metadata": {},
   "source": [
    "The \\d, \\w, and \\s shorthand character classes match a single character that is a digit, word, or space character, respectively.\n",
    "\n",
    "\\d  is [0-9] characters\n",
    "\n",
    "\\w  is [a-z, A-Z, 0-9] characters\n",
    "\n",
    "\\s  is  whitespace character [a space, a tab, a carrige return, a line feed, or a form feed]"
   ]
  },
  {
   "cell_type": "raw",
   "id": "51600e8b",
   "metadata": {},
   "source": [
    "13. What do means by \\D, \\W, and \\S shorthand character classes signify in regular expressions?"
   ]
  },
  {
   "cell_type": "markdown",
   "id": "35962aa2",
   "metadata": {},
   "source": [
    "The \\D, \\W, and \\S shorthand character classes match a single character that is not a digit, word, or space character, respectively.\n",
    "\n",
    "\\D is [^ 0-9]\n",
    "\n",
    "\\W is [^ \\w]\n",
    "\n",
    "\\S is [^\\s] Non-Whitespace Character"
   ]
  },
  {
   "cell_type": "raw",
   "id": "1fb63798",
   "metadata": {},
   "source": [
    "14. What is the difference between .* and .*?"
   ]
  },
  {
   "cell_type": "markdown",
   "id": "96f7d023",
   "metadata": {},
   "source": [
    "The .* performs a greedy match, and the .*? performs a nongreedy match."
   ]
  },
  {
   "cell_type": "raw",
   "id": "038bd96f",
   "metadata": {},
   "source": [
    "15. What is the syntax for matching both numbers and lowercase letters with a character class?"
   ]
  },
  {
   "cell_type": "markdown",
   "id": "d78c0fc6",
   "metadata": {},
   "source": [
    "Either \"[o-9a-z]\" or \"[a-z0-9]\""
   ]
  },
  {
   "cell_type": "raw",
   "id": "49c5574d",
   "metadata": {},
   "source": [
    "16. What is the procedure for making a normal expression in regax case insensitive?"
   ]
  },
  {
   "cell_type": "markdown",
   "id": "aaf4c17d",
   "metadata": {},
   "source": [
    "Passing re.I or re.IGNORECASE as the second argument to re.compile() will make the matching case insenstive."
   ]
  },
  {
   "cell_type": "raw",
   "id": "9ef99869",
   "metadata": {},
   "source": [
    "17. What does the . character normally match? What does it match if re.DOTALL is passed as 2nd\n",
    "argument in re.compile()?"
   ]
  },
  {
   "cell_type": "markdown",
   "id": "4528a9e8",
   "metadata": {},
   "source": [
    "The . character normally matches any character except the newline character. If re.DOTALL is passed as the second argument to re.compile(), then the dot will also match newline characters."
   ]
  },
  {
   "cell_type": "raw",
   "id": "0c9bf305",
   "metadata": {},
   "source": [
    "18. If numReg = re.compile(r'\\d+'), what will numRegex.sub('X', '11 drummers, 10 pipers, five rings, 4\n",
    "hen') return?"
   ]
  },
  {
   "cell_type": "code",
   "execution_count": 1,
   "id": "5c420197",
   "metadata": {},
   "outputs": [
    {
     "data": {
      "text/plain": [
       "'X drummers, X pipers, five rings, X hen'"
      ]
     },
     "execution_count": 1,
     "metadata": {},
     "output_type": "execute_result"
    }
   ],
   "source": [
    "import re\n",
    "numReg= re.compile(r'\\d+')\n",
    "numReg.sub('X','11 drummers, 10 pipers, five rings, 4 hen')"
   ]
  },
  {
   "cell_type": "raw",
   "id": "a7ee8668",
   "metadata": {},
   "source": [
    "19. What does passing re.VERBOSE as the 2nd argument to re.compile() allow to do?"
   ]
  },
  {
   "cell_type": "markdown",
   "id": "b5e2e4a6",
   "metadata": {},
   "source": [
    "The re.VERBOSE argument allows you to \"add whitespace and comments to the string passed to re.compile()\"."
   ]
  },
  {
   "cell_type": "raw",
   "id": "c49f7dd9",
   "metadata": {},
   "source": [
    "20. How would you write a regex that match a number with comma for every three digits? It must\n",
    "match the given following:\n",
    "    \n",
    "'42'\n",
    "\n",
    "'1,234'\n",
    "\n",
    "'6,368,745'\n",
    "\n",
    "but not the following:\n",
    "\n",
    "'12,34,567' (which has only two digits between the commas)\n",
    "\n",
    "'1234' (which lacks commas)"
   ]
  },
  {
   "cell_type": "markdown",
   "id": "12893a8e",
   "metadata": {},
   "source": [
    "ANS:  re.compile(r'^\\d{1,3}(,{3})*$) will create this regex, but other regex strings can produce a similar regular expression."
   ]
  },
  {
   "cell_type": "raw",
   "id": "331a7204",
   "metadata": {},
   "source": [
    "21. How would you write a regex that matches the full name of someone whose last name is\n",
    "Watanabe? You can assume that the first name that comes before it will always be one word that\n",
    "begins with a capital letter. The regex must match the following:\n",
    "\n",
    "'Haruto Watanabe'\n",
    "\n",
    "'Alice Watanabe'\n",
    "\n",
    "'RoboCop Watanabe'\n",
    "\n",
    "but not the following:\n",
    "\n",
    "'haruto Watanabe' (where the first name is not capitalized)\n",
    "\n",
    "'Mr. Watanabe' (where the preceding word has a nonletter character)\n",
    "\n",
    "'Watanabe' (which has no first name)\n",
    "\n",
    "'Haruto watanabe' (where Watanabe is not capitalized)"
   ]
  },
  {
   "cell_type": "markdown",
   "id": "4ec9a98b",
   "metadata": {},
   "source": [
    "ANSWER:    re.compile(r'[A-Z][a-z]*\\sWatanabe')"
   ]
  },
  {
   "cell_type": "raw",
   "id": "e459f6a6",
   "metadata": {},
   "source": [
    "22. How would you write a regex that matches a sentence where the first word is either Alice, Bob,\n",
    "or Carol; the second word is either eats, pets, or throws; the third word is apples, cats, or baseballs;\n",
    "and the sentence ends with a period? This regex should be case-insensitive. It must match the\n",
    "following:\n",
    "\n",
    "'Alice eats apples'\n",
    "\n",
    "'Bob pets cats'\n",
    "\n",
    "'Carol throws baseballs'\n",
    "\n",
    "'Alice throws Apples'\n",
    "\n",
    "'BOB EATS CATS'\n",
    "\n",
    "but not the following:\n",
    "\n",
    "'RoboCop eats apples'\n",
    "\n",
    "'ALICE THROWS FOOTBALLS'\n",
    "\n",
    "'Carol eats 7 cats'"
   ]
  },
  {
   "cell_type": "markdown",
   "id": "fdb44306",
   "metadata": {},
   "source": [
    "ANSWER: re.compile(r'(Alice | Bob | Carol)\\s(eats | Pets | throws)\\s(apples | cats | baseballs)\\.', re.IGNORECASE)"
   ]
  },
  {
   "cell_type": "code",
   "execution_count": null,
   "id": "4f86ca0d",
   "metadata": {},
   "outputs": [],
   "source": []
  }
 ],
 "metadata": {
  "kernelspec": {
   "display_name": "Python 3 (ipykernel)",
   "language": "python",
   "name": "python3"
  },
  "language_info": {
   "codemirror_mode": {
    "name": "ipython",
    "version": 3
   },
   "file_extension": ".py",
   "mimetype": "text/x-python",
   "name": "python",
   "nbconvert_exporter": "python",
   "pygments_lexer": "ipython3",
   "version": "3.9.12"
  }
 },
 "nbformat": 4,
 "nbformat_minor": 5
}
