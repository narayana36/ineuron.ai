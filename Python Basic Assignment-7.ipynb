{
 "cells": [
  {
   "cell_type": "markdown",
   "id": "60e52055",
   "metadata": {},
   "source": [
    "1. What is the name of the feature responsible for generating Regex objects?"
   ]
  },
  {
   "cell_type": "markdown",
   "id": "5c62a0f7",
   "metadata": {},
   "source": [
    "Ans: The re.compile()function returns Regex object"
   ]
  },
  {
   "cell_type": "markdown",
   "id": "cd32a444",
   "metadata": {},
   "source": [
    "2. Why do raw strings often appear in Regex objects?"
   ]
  },
  {
   "cell_type": "markdown",
   "id": "98916d39",
   "metadata": {},
   "source": [
    "Ans: Raw strings are used so that backslashes do not have to be escaped."
   ]
  },
  {
   "cell_type": "markdown",
   "id": "c12bb384",
   "metadata": {},
   "source": [
    "3. What is the return value of the search() method?"
   ]
  },
  {
   "cell_type": "markdown",
   "id": "8fdbcb7b",
   "metadata": {},
   "source": [
    "Ans: The serach() method returns Match objects"
   ]
  },
  {
   "cell_type": "markdown",
   "id": "a3399c2d",
   "metadata": {},
   "source": [
    "4. From a Match item, how do you get the actual strings that match the pattern?"
   ]
  },
  {
   "cell_type": "markdown",
   "id": "06644e98",
   "metadata": {},
   "source": [
    "Ans: The group() method returns strings of the matched text."
   ]
  },
  {
   "cell_type": "markdown",
   "id": "08d3dda3",
   "metadata": {},
   "source": [
    "5. In the regex which created from the r'(\\d\\d\\d)-(\\d\\d\\d-\\d\\d\\d\\d)', what does group zero cover?\n",
    "Group 2? Group 1?"
   ]
  },
  {
   "cell_type": "markdown",
   "id": "d4738908",
   "metadata": {},
   "source": [
    "Ans: Group 0 is the entire match, group 1 covers the first set of parentheses, and group 2 covers the second set of parentheses."
   ]
  },
  {
   "cell_type": "markdown",
   "id": "8d6f9bbe",
   "metadata": {},
   "source": [
    "6. In standard expression syntax, parentheses and intervals have distinct meanings. How can you tell\n",
    "a regex that you want it to fit real parentheses and periods?"
   ]
  },
  {
   "cell_type": "markdown",
   "id": "ad127328",
   "metadata": {},
   "source": [
    "Ans: Periods and parentheses can be escaped with a blackslash:' \\ '.,' \\ '(,and' \\ ')."
   ]
  },
  {
   "cell_type": "markdown",
   "id": "9a5f8dfa",
   "metadata": {},
   "source": [
    "7. The findall() method returns a string list or a list of string tuples. What causes it to return one of\n",
    "the two options?"
   ]
  },
  {
   "cell_type": "markdown",
   "id": "b3a86916",
   "metadata": {},
   "source": [
    "Ans: If the regex has no groups, a list of strings is returned. If the regex has groups, a list of tuples of strings is returned."
   ]
  },
  {
   "cell_type": "markdown",
   "id": "5a3086e7",
   "metadata": {},
   "source": [
    "8. In standard expressions, what does the | character mean?"
   ]
  },
  {
   "cell_type": "markdown",
   "id": "5740b805",
   "metadata": {},
   "source": [
    "Ans: The | character signifies matching \"either, or\" between two groups."
   ]
  },
  {
   "cell_type": "markdown",
   "id": "ee62b2e8",
   "metadata": {},
   "source": [
    "9. In regular expressions, what does the character stand for?"
   ]
  },
  {
   "cell_type": "markdown",
   "id": "99d3c173",
   "metadata": {},
   "source": [
    "Ans: which character ? not mentioned"
   ]
  },
  {
   "cell_type": "markdown",
   "id": "b7994d41",
   "metadata": {},
   "source": [
    "10.In regular expressions, what is the difference between the + and * characters?"
   ]
  },
  {
   "cell_type": "markdown",
   "id": "213c2f43",
   "metadata": {},
   "source": [
    "Ans: The + matches one or more. The * matches zero or more."
   ]
  },
  {
   "cell_type": "markdown",
   "id": "d5a0f757",
   "metadata": {},
   "source": [
    "11. What is the difference between {4} and {4,5} in regular expression?"
   ]
  },
  {
   "cell_type": "markdown",
   "id": "3933c819",
   "metadata": {},
   "source": [
    "Ans: The {4} matches exactly three instances of the preceding group. \n",
    "The {4,5} matches between four and five instaces"
   ]
  },
  {
   "cell_type": "markdown",
   "id": "7283f241",
   "metadata": {},
   "source": [
    "12. What do you mean by the \\d, \\w, and \\s shorthand character classes signify in regular\n",
    "expressions?"
   ]
  },
  {
   "cell_type": "markdown",
   "id": "022e5f3a",
   "metadata": {},
   "source": [
    "Ans: The \\d, \\w, and \\s shorthand character classes match a single character that is a digit, word, or space character, respectively.\n",
    "\n",
    "\\d  is [0-9] characters\n",
    "\n",
    "\\w  is [a-z, A-Z, 0-9] characters\n",
    "\n",
    "\\s  is  whitespace character [a space, a tab, a carrige return, a line feed, or a form feed]"
   ]
  },
  {
   "cell_type": "markdown",
   "id": "1be3d41d",
   "metadata": {},
   "source": [
    "13. What do means by \\D, \\W, and \\S shorthand character classes signify in regular expressions?"
   ]
  },
  {
   "cell_type": "markdown",
   "id": "be4a9f0e",
   "metadata": {},
   "source": [
    "Ans: The \\D, \\W, and \\S shorthand character classes match a single character that is not a digit, word, or space character, respectively.\n",
    "\n",
    "\\D is [^ 0-9]\n",
    "\n",
    "\\W is [^ \\w]\n",
    "\n",
    "\\S is [^\\s] Non-Whitespace Character"
   ]
  },
  {
   "cell_type": "markdown",
   "id": "7b8aedf6",
   "metadata": {},
   "source": [
    "14. What is the difference between .* and .*?"
   ]
  },
  {
   "cell_type": "markdown",
   "id": "981c5917",
   "metadata": {},
   "source": [
    "Ans: The .* performs a greedy match, and the .*? performs a nongreedy match."
   ]
  },
  {
   "cell_type": "markdown",
   "id": "9be69e3d",
   "metadata": {},
   "source": [
    "15. What is the syntax for matching both numbers and lowercase letters with a character class?"
   ]
  },
  {
   "cell_type": "markdown",
   "id": "cd185c8a",
   "metadata": {},
   "source": [
    "Ans: Either \"[o-9a-z]\" or \"[a-z0-9]\""
   ]
  },
  {
   "cell_type": "markdown",
   "id": "47765f7b",
   "metadata": {},
   "source": [
    "16. What is the procedure for making a normal expression in regax case insensitive?"
   ]
  },
  {
   "cell_type": "markdown",
   "id": "82a17168",
   "metadata": {},
   "source": [
    "Ans: Passing re.I or re.IGNORECASE as the second argument to re.compile() will make the matching case insenstive."
   ]
  },
  {
   "cell_type": "markdown",
   "id": "faf92c8f",
   "metadata": {},
   "source": [
    "17. What does the . character normally match? What does it match if re.DOTALL is passed as 2nd\n",
    "argument in re.compile()?"
   ]
  },
  {
   "cell_type": "markdown",
   "id": "2febb3ad",
   "metadata": {},
   "source": [
    "Ans: The . character normally matches any character except the newline character. If re.DOTALL is passed as the second argument to re.compile(), then the dot will also match newline characters."
   ]
  },
  {
   "cell_type": "markdown",
   "id": "92bbd59e",
   "metadata": {},
   "source": [
    "18. If numReg = re.compile(r'\\d+'), what will numRegex.sub('X', '11 drummers, 10 pipers, five rings, 4\n",
    "hen') return?"
   ]
  },
  {
   "cell_type": "code",
   "execution_count": 1,
   "id": "5f94c1a7",
   "metadata": {},
   "outputs": [
    {
     "data": {
      "text/plain": [
       "'X drummers, X pipers, five rings, X hen'"
      ]
     },
     "execution_count": 1,
     "metadata": {},
     "output_type": "execute_result"
    }
   ],
   "source": [
    "import re\n",
    "numReg= re.compile(r'\\d+')\n",
    "numReg.sub('X','11 drummers, 10 pipers, five rings, 4 hen')"
   ]
  },
  {
   "cell_type": "markdown",
   "id": "b015c7e4",
   "metadata": {},
   "source": [
    "19. What does passing re.VERBOSE as the 2nd argument to re.compile() allow to do?"
   ]
  },
  {
   "cell_type": "markdown",
   "id": "fd6f230a",
   "metadata": {},
   "source": [
    "Ans: The re.VERBOSE argument allows you to \"add whitespace and comments to the string passed to re.compile()\"."
   ]
  },
  {
   "cell_type": "markdown",
   "id": "986d8b54",
   "metadata": {},
   "source": [
    "20. How would you write a regex that match a number with comma for every three digits? It must\n",
    "match the given following:\n",
    "    \n",
    "'42'\n",
    "\n",
    "'1,234'\n",
    "\n",
    "'6,368,745'\n",
    "\n",
    "but not the following:\n",
    "\n",
    "'12,34,567' (which has only two digits between the commas)\n",
    "\n",
    "'1234' (which lacks commas)"
   ]
  },
  {
   "cell_type": "markdown",
   "id": "8dddbeb5",
   "metadata": {},
   "source": [
    "ANS:  re.compile(r'^\\d{1,3}(,{3})*$) will create this regex, but other regex strings can produce a similar regular expression."
   ]
  },
  {
   "cell_type": "markdown",
   "id": "07c1ed78",
   "metadata": {},
   "source": [
    "21. How would you write a regex that matches the full name of someone whose last name is\n",
    "Watanabe? You can assume that the first name that comes before it will always be one word that\n",
    "begins with a capital letter. The regex must match the following:\n",
    "\n",
    "'Haruto Watanabe'\n",
    "\n",
    "'Alice Watanabe'\n",
    "\n",
    "'RoboCop Watanabe'\n",
    "\n",
    "but not the following:\n",
    "\n",
    "'haruto Watanabe' (where the first name is not capitalized)\n",
    "\n",
    "'Mr. Watanabe' (where the preceding word has a nonletter character)\n",
    "\n",
    "'Watanabe' (which has no first name)\n",
    "\n",
    "'Haruto watanabe' (where Watanabe is not capitalized)"
   ]
  },
  {
   "cell_type": "markdown",
   "id": "01e33f1e",
   "metadata": {},
   "source": [
    "ANSWER:    re.compile(r'[A-Z][a-z]*\\sWatanabe')"
   ]
  },
  {
   "cell_type": "markdown",
   "id": "fb8b85c6",
   "metadata": {},
   "source": [
    "22. How would you write a regex that matches a sentence where the first word is either Alice, Bob,\n",
    "or Carol; the second word is either eats, pets, or throws; the third word is apples, cats, or baseballs;\n",
    "and the sentence ends with a period? This regex should be case-insensitive. It must match the\n",
    "following:\n",
    "\n",
    "'Alice eats apples'\n",
    "\n",
    "'Bob pets cats'\n",
    "\n",
    "'Carol throws baseballs'\n",
    "\n",
    "'Alice throws Apples'\n",
    "\n",
    "'BOB EATS CATS'\n",
    "\n",
    "but not the following:\n",
    "\n",
    "'RoboCop eats apples'\n",
    "\n",
    "'ALICE THROWS FOOTBALLS'\n",
    "\n",
    "'Carol eats 7 cats'"
   ]
  },
  {
   "cell_type": "markdown",
   "id": "07dc38ad",
   "metadata": {},
   "source": [
    "ANSWER: re.compile(r'(Alice | Bob | Carol)\\s(eats | Pets | throws)\\s(apples | cats | baseballs)\\.', re.IGNORECASE)"
   ]
  },
  {
   "cell_type": "code",
   "execution_count": null,
   "id": "f64c6aba",
   "metadata": {},
   "outputs": [],
   "source": []
  }
 ],
 "metadata": {
  "kernelspec": {
   "display_name": "Python 3 (ipykernel)",
   "language": "python",
   "name": "python3"
  },
  "language_info": {
   "codemirror_mode": {
    "name": "ipython",
    "version": 3
   },
   "file_extension": ".py",
   "mimetype": "text/x-python",
   "name": "python",
   "nbconvert_exporter": "python",
   "pygments_lexer": "ipython3",
   "version": "3.9.12"
  }
 },
 "nbformat": 4,
 "nbformat_minor": 5
}
