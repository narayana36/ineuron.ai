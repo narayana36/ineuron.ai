{
 "cells": [
  {
   "cell_type": "markdown",
   "id": "427777bb",
   "metadata": {},
   "source": [
    "#### 1. Create a zoo.py file first. Define the hours() function, which prints the string &#39;Open 9-5 daily&#39;. Then, use the interactive interpreter to import the zoo module and call its hours() function."
   ]
  },
  {
   "cell_type": "code",
   "execution_count": 1,
   "id": "8769d7c5",
   "metadata": {
    "scrolled": true
   },
   "outputs": [
    {
     "data": {
      "text/plain": [
       "'Open 9-5 daily'"
      ]
     },
     "execution_count": 1,
     "metadata": {},
     "output_type": "execute_result"
    }
   ],
   "source": [
    "import zoo\n",
    "def hour():\n",
    "    return 'Open 9-5 daily'\n",
    "\n",
    "hour()"
   ]
  },
  {
   "cell_type": "markdown",
   "id": "647aab15",
   "metadata": {},
   "source": [
    "#### 2. In the interactive interpreter, import the zoo module as menagerie and call its hours() function."
   ]
  },
  {
   "cell_type": "code",
   "execution_count": 2,
   "id": "45b6ab4b",
   "metadata": {},
   "outputs": [
    {
     "data": {
      "text/plain": [
       "'Open 5-9 daily'"
      ]
     },
     "execution_count": 2,
     "metadata": {},
     "output_type": "execute_result"
    }
   ],
   "source": [
    "import zoo as menagerie\n",
    "menagerie.hours()"
   ]
  },
  {
   "cell_type": "markdown",
   "id": "bb4d6506",
   "metadata": {},
   "source": [
    "#### 3. Using the interpreter, explicitly import and call the hours() function from zoo."
   ]
  },
  {
   "cell_type": "code",
   "execution_count": 3,
   "id": "98143bb4",
   "metadata": {},
   "outputs": [
    {
     "data": {
      "text/plain": [
       "'Open 5-9 daily'"
      ]
     },
     "execution_count": 3,
     "metadata": {},
     "output_type": "execute_result"
    }
   ],
   "source": [
    "from zoo import hours\n",
    "hours()"
   ]
  },
  {
   "cell_type": "markdown",
   "id": "e3a40053",
   "metadata": {},
   "source": [
    "#### 4. Import the hours() function as info and call it."
   ]
  },
  {
   "cell_type": "code",
   "execution_count": 4,
   "id": "fa995573",
   "metadata": {},
   "outputs": [
    {
     "data": {
      "text/plain": [
       "'Open 5-9 daily'"
      ]
     },
     "execution_count": 4,
     "metadata": {},
     "output_type": "execute_result"
    }
   ],
   "source": [
    "from zoo import hours as info\n",
    "info()"
   ]
  },
  {
   "cell_type": "markdown",
   "id": "7112718c",
   "metadata": {},
   "source": [
    "#### 5. Create a plain dictionary with the key-value pairs &#39;a&#39;: 1, &#39;b&#39;: 2, and &#39;c&#39;: 3, and print it out."
   ]
  },
  {
   "cell_type": "code",
   "execution_count": 5,
   "id": "7b7b745f",
   "metadata": {},
   "outputs": [
    {
     "data": {
      "text/plain": [
       "{'a': 1, 'b': 2, 'c': 3}"
      ]
     },
     "execution_count": 5,
     "metadata": {},
     "output_type": "execute_result"
    }
   ],
   "source": [
    "dict = {'a': 1, 'b': 2, 'c': 3}\n",
    "dict"
   ]
  },
  {
   "cell_type": "markdown",
   "id": "557b1ba9",
   "metadata": {},
   "source": [
    "#### 6.Make an OrderedDict called fancy from the same pairs listed in 5 and print it. Did it print in the same order as plain?"
   ]
  },
  {
   "cell_type": "code",
   "execution_count": 6,
   "id": "e4d717fa",
   "metadata": {},
   "outputs": [
    {
     "data": {
      "text/plain": [
       "OrderedDict([('a', 1), ('b', 2), ('c', 3), ('d', 4), ('e', 5)])"
      ]
     },
     "execution_count": 6,
     "metadata": {},
     "output_type": "execute_result"
    }
   ],
   "source": [
    "#Yes\n",
    "from collections import OrderedDict\n",
    "fancy = OrderedDict([('a',1),('b',2),('c',3),('d',4),('e',5)])\n",
    "fancy"
   ]
  },
  {
   "cell_type": "markdown",
   "id": "698b2d03",
   "metadata": {},
   "source": [
    "#### 7. Make a default dictionary called dict_of_lists and pass it the argument list. Make the list dict_of_lists[&#39;a&#39;] and append the value &#39;something for a&#39; to it in one assignment. Print dict_of_lists[&#39;a&#39;]."
   ]
  },
  {
   "cell_type": "code",
   "execution_count": 7,
   "id": "96cd87ab",
   "metadata": {},
   "outputs": [
    {
     "data": {
      "text/plain": [
       "['something for a']"
      ]
     },
     "execution_count": 7,
     "metadata": {},
     "output_type": "execute_result"
    }
   ],
   "source": [
    "from collections import defaultdict\n",
    "dict_of_lists = defaultdict(list)\n",
    "dict_of_lists['a'].append('something for a')\n",
    "dict_of_lists['a']"
   ]
  },
  {
   "cell_type": "code",
   "execution_count": null,
   "id": "58fb810b",
   "metadata": {},
   "outputs": [],
   "source": []
  }
 ],
 "metadata": {
  "kernelspec": {
   "display_name": "Python 3 (ipykernel)",
   "language": "python",
   "name": "python3"
  },
  "language_info": {
   "codemirror_mode": {
    "name": "ipython",
    "version": 3
   },
   "file_extension": ".py",
   "mimetype": "text/x-python",
   "name": "python",
   "nbconvert_exporter": "python",
   "pygments_lexer": "ipython3",
   "version": "3.9.12"
  }
 },
 "nbformat": 4,
 "nbformat_minor": 5
}
