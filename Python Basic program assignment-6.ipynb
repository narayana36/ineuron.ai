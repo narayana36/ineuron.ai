{
 "cells": [
  {
   "cell_type": "markdown",
   "id": "cfa78dd7",
   "metadata": {},
   "source": [
    "1. Write a Python Program to Display Fibonacci Sequence Using Recursion?"
   ]
  },
  {
   "cell_type": "code",
   "execution_count": 5,
   "id": "cdd21834",
   "metadata": {},
   "outputs": [
    {
     "name": "stdout",
     "output_type": "stream",
     "text": [
      "610\n"
     ]
    }
   ],
   "source": [
    "def Fibonacci(n):\n",
    "    if n<0:\n",
    "        print(\"Incorrect input\")\n",
    "    elif n == 0:\n",
    "        return 0\n",
    "    elif n==1 or n==2:\n",
    "        return 1\n",
    "    else:\n",
    "        return Fibonacci(n-1) + Fibonacci(n-2)\n",
    "    \n",
    "print(Fibonacci(15))"
   ]
  },
  {
   "cell_type": "markdown",
   "id": "54a36734",
   "metadata": {},
   "source": [
    "2. Write a Python Program to Find Factorial of Number Using Recursion?"
   ]
  },
  {
   "cell_type": "code",
   "execution_count": 12,
   "id": "f1148877",
   "metadata": {},
   "outputs": [
    {
     "name": "stdout",
     "output_type": "stream",
     "text": [
      "The Number is: 6 \n",
      " Factorial:  720\n"
     ]
    }
   ],
   "source": [
    "def factorial(n):\n",
    "    if n==1 or n==1:\n",
    "        return 1\n",
    "    else:\n",
    "        return (n* factorial(n-1))\n",
    "num = 6;\n",
    "print(\"The Number is:\",num, \"\\n Factorial: \",factorial(num))"
   ]
  },
  {
   "cell_type": "markdown",
   "id": "da3139d1",
   "metadata": {},
   "source": [
    "3. Write a Python Program to calculate your Body Mass Index?"
   ]
  },
  {
   "cell_type": "code",
   "execution_count": 14,
   "id": "dcc7017a",
   "metadata": {},
   "outputs": [
    {
     "name": "stdout",
     "output_type": "stream",
     "text": [
      "Enter your height in cm: 170.98\n",
      "Enter your weight in kg: 63.500\n",
      "You BMI is 21.721164258235376\n",
      "You are healthy\n"
     ]
    }
   ],
   "source": [
    "height = float(input(\"Enter your height in cm: \"))\n",
    "weight = float(input(\"Enter your weight in kg: \"))\n",
    "\n",
    "BMI = weight/(height/100)**2\n",
    "\n",
    "print(f\"You BMI is {BMI}\")\n",
    "\n",
    "if BMI <= 18.4:\n",
    "    print(\"You are under weight\")\n",
    "elif BMI <= 24.9:\n",
    "    print(\"You are healthy\")\n",
    "elif BMI <= 29.9:\n",
    "    print(\"You are over weight\")\n",
    "elif BMI <= 34.9:\n",
    "      print(\"You are severely over weight\")\n",
    "elif BMI <= 39.9:\n",
    "      print(\"You are obese\")\n",
    "else:\n",
    "      print(\"You are severely obese\")"
   ]
  },
  {
   "cell_type": "markdown",
   "id": "40a2a9fa",
   "metadata": {},
   "source": [
    "4. Write a Python Program to calculate the natural logarithm of any number?"
   ]
  },
  {
   "cell_type": "code",
   "execution_count": 18,
   "id": "91fbafab",
   "metadata": {},
   "outputs": [
    {
     "name": "stdout",
     "output_type": "stream",
     "text": [
      " Natural logarithm of 14 is:  2.6390573296152584\n",
      " Loarithm base 5 of 14 is:  1.6397385131955606\n"
     ]
    }
   ],
   "source": [
    "import math\n",
    "\n",
    "print(\" Natural logarithm of 14 is: \", end = \" \")\n",
    "print(math.log(14))\n",
    "\n",
    "print(\" Loarithm base 5 of 14 is: \", end = \" \")\n",
    "print(math.log(14,5))"
   ]
  },
  {
   "cell_type": "markdown",
   "id": "d5b1f893",
   "metadata": {},
   "source": [
    "5. Write a Python Program for cube sum of first n natural numbers?"
   ]
  },
  {
   "cell_type": "code",
   "execution_count": 19,
   "id": "4ae2be1f",
   "metadata": {},
   "outputs": [
    {
     "name": "stdout",
     "output_type": "stream",
     "text": [
      "Enter a number5\n",
      "225\n"
     ]
    }
   ],
   "source": [
    "n = int(input(\"Enter a number\"))\n",
    "s=0\n",
    "for i in range(1,n+1):\n",
    "    s=s+pow(i,3)\n",
    "print(s)"
   ]
  },
  {
   "cell_type": "code",
   "execution_count": null,
   "id": "479bf80f",
   "metadata": {},
   "outputs": [],
   "source": []
  }
 ],
 "metadata": {
  "kernelspec": {
   "display_name": "Python 3 (ipykernel)",
   "language": "python",
   "name": "python3"
  },
  "language_info": {
   "codemirror_mode": {
    "name": "ipython",
    "version": 3
   },
   "file_extension": ".py",
   "mimetype": "text/x-python",
   "name": "python",
   "nbconvert_exporter": "python",
   "pygments_lexer": "ipython3",
   "version": "3.9.12"
  }
 },
 "nbformat": 4,
 "nbformat_minor": 5
}
