{
 "cells": [
  {
   "cell_type": "markdown",
   "id": "82dc9ac0",
   "metadata": {},
   "source": [
    "#### 1) . What is the difference between enclosing a list comprehension in square brackets and parentheses?"
   ]
  },
  {
   "cell_type": "markdown",
   "id": "2a25ff8e",
   "metadata": {},
   "source": [
    "The list comprehension is enclosed in square brackets [] while the Generator expression is enclosed in plain parentheses ()."
   ]
  },
  {
   "cell_type": "code",
   "execution_count": 15,
   "id": "09dbc9a0",
   "metadata": {},
   "outputs": [
    {
     "data": {
      "text/plain": [
       "[1, 2, 3, 4, 5, 6, 7, 8, 9]"
      ]
     },
     "execution_count": 15,
     "metadata": {},
     "output_type": "execute_result"
    }
   ],
   "source": [
    "list=[x for x in range(1,10)]\n",
    "list"
   ]
  },
  {
   "cell_type": "markdown",
   "id": "b47a2a3a",
   "metadata": {},
   "source": [
    "#### 2) What is the relationship between generators and iterators?"
   ]
  },
  {
   "cell_type": "markdown",
   "id": "256e1628",
   "metadata": {},
   "source": [
    "Iterators are the objects that use the next() method to get the next value of the sequnce. A genrator is a function that produces or yields a sequence of values using a yield statement."
   ]
  },
  {
   "cell_type": "markdown",
   "id": "f8eb6219",
   "metadata": {},
   "source": [
    "#### 3) What are the signs that a function is a generator function?"
   ]
  },
  {
   "cell_type": "markdown",
   "id": "0e96a21e",
   "metadata": {},
   "source": [
    "If a function contains at least one yield statement (it may contain other yield or return statement), it becomes a generator function. Both yield and return will return some value from function."
   ]
  },
  {
   "cell_type": "markdown",
   "id": "3318f35f",
   "metadata": {},
   "source": [
    "#### 4) What is the purpose of a yield statement?"
   ]
  },
  {
   "cell_type": "markdown",
   "id": "801dc521",
   "metadata": {},
   "source": [
    "A yield statement looks much like a return statement, except that instead of stopping execution of the fuction and returning, yield instead provides a value to the code looping over the generator and pauses execution of the generator function"
   ]
  },
  {
   "cell_type": "markdown",
   "id": "52cac38e",
   "metadata": {},
   "source": [
    "#### 5) What is the relationship between map calls and list comprehensions? Make a comparison and contrast between the two."
   ]
  },
  {
   "cell_type": "markdown",
   "id": "ea622d01",
   "metadata": {},
   "source": [
    "Map function: Suppose we have a function and we  want to compute this function for different values in a single line of code. This is where map() function plays its role. map() function returns a map object (which is an iterator) of the results after applying the given function to each item of a given iterable (list, tuple etc.)\n",
    "\n",
    "List comprehension: List Comprehension is a substitute for the lambda function, map(), filter() and reduce()\n",
    "\n",
    "List comprehension is more concise and easier to read as compared to map.\n",
    "\n",
    "List comprehension  allows filtering. In map, we have no such facility. For example, to print all even numbers in range of 100, we can write [n for n in range(100) if n%2  === 0]. There is no alternate for it in map.\n",
    "\n",
    "\n",
    "List comprehension are used when a list of results is required as map does not return any list. \n",
    "\n",
    "List comprehension is faster  than map when we need to evaluate expression that are too long or complicated tponexpress.\n",
    "\n",
    "Map is faster in case of calling an already defined function (as no lambda is reqiuried).\n"
   ]
  },
  {
   "cell_type": "code",
   "execution_count": null,
   "id": "87c6e4b5",
   "metadata": {},
   "outputs": [],
   "source": []
  }
 ],
 "metadata": {
  "kernelspec": {
   "display_name": "Python 3 (ipykernel)",
   "language": "python",
   "name": "python3"
  },
  "language_info": {
   "codemirror_mode": {
    "name": "ipython",
    "version": 3
   },
   "file_extension": ".py",
   "mimetype": "text/x-python",
   "name": "python",
   "nbconvert_exporter": "python",
   "pygments_lexer": "ipython3",
   "version": "3.9.12"
  }
 },
 "nbformat": 4,
 "nbformat_minor": 5
}
