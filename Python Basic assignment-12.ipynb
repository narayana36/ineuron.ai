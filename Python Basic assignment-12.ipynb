{
 "cells": [
  {
   "cell_type": "markdown",
   "id": "6dd137b6",
   "metadata": {},
   "source": [
    "#### 1. In what modes should the PdfFileReader() and PdfFileWriter() File objects will be opened?"
   ]
  },
  {
   "cell_type": "markdown",
   "id": "f3c61801",
   "metadata": {},
   "source": [
    "These files will be opened in binary modes: read binary (rb) for PdfFileReader() and write binary (wb) for PdfFileWriter()"
   ]
  },
  {
   "cell_type": "code",
   "execution_count": 3,
   "id": "176d40e7",
   "metadata": {},
   "outputs": [
    {
     "name": "stdout",
     "output_type": "stream",
     "text": [
      "Collecting PyPDF2\n",
      "  Downloading PyPDF2-2.7.0-py3-none-any.whl (202 kB)\n",
      "Requirement already satisfied: typing-extensions in c:\\users\\pagad\\anaconda3\\lib\\site-packages (from PyPDF2) (4.1.1)\n",
      "Installing collected packages: PyPDF2\n",
      "Successfully installed PyPDF2-2.7.0\n"
     ]
    }
   ],
   "source": [
    "!pip install PyPDF2"
   ]
  },
  {
   "cell_type": "markdown",
   "id": "2a1d49b0",
   "metadata": {},
   "source": [
    "#### 2. From a PdfFileReader object, how do you get a Page object for page 5?"
   ]
  },
  {
   "cell_type": "markdown",
   "id": "6fd07734",
   "metadata": {},
   "source": [
    "Calling getPage(4) will return Page object page 5 since Page 0 is the first page"
   ]
  },
  {
   "cell_type": "code",
   "execution_count": null,
   "id": "093f4475",
   "metadata": {},
   "outputs": [],
   "source": [
    "import PyPDF2 as pdf\n",
    "pdfFileObj  = open(\"Market_areas_of_car_dealerships.pdf\",'rb')\n",
    "pdfReader = pdf.PdfFileReader(pdfFileObj)\n",
    "pageObj = pdfReader.getPage(4)\n",
    "pageObj.extractText()"
   ]
  },
  {
   "cell_type": "markdown",
   "id": "ef6b16fc",
   "metadata": {},
   "source": [
    "#### 3. What PdfFileReader variable stores the number of pages in the PDF document?"
   ]
  },
  {
   "cell_type": "code",
   "execution_count": 14,
   "id": "a9213fff",
   "metadata": {},
   "outputs": [
    {
     "data": {
      "text/plain": [
       "38"
      ]
     },
     "execution_count": 14,
     "metadata": {},
     "output_type": "execute_result"
    }
   ],
   "source": [
    "import PyPDF2 as pdf\n",
    "pdfFileObj = open(\"Market_areas_of_car_dealerships.pdf\",'rb')\n",
    "pdfReader = pdf.PdfFileReader(pdfFileObj)\n",
    "pdfReader.numPages"
   ]
  },
  {
   "cell_type": "markdown",
   "id": "6fcb853b",
   "metadata": {},
   "source": [
    "#### 4. If a PdfFileReader object’s PDF is encrypted with the password swordfish, what must you do before you can obtain Page objects from it?"
   ]
  },
  {
   "cell_type": "markdown",
   "id": "b9209dc9",
   "metadata": {},
   "source": [
    "Before we obtain the page object, the pdf has to be decrypted by calling .decrypt('swordfish')"
   ]
  },
  {
   "cell_type": "markdown",
   "id": "575da7e7",
   "metadata": {},
   "source": [
    "#### 5. What methods do you use to rotate a page?"
   ]
  },
  {
   "cell_type": "markdown",
   "id": "649ae4bc",
   "metadata": {},
   "source": [
    "pageObje.rotationClockwise(180).\n",
    "\n",
    "The rotateClockwise() and rotatecounterClockwise() methods. The degrees to rotate is passed as an  integer argument"
   ]
  },
  {
   "cell_type": "markdown",
   "id": "da97b71e",
   "metadata": {},
   "source": [
    "#### 6. What is the difference between a Run object and a Paragraph object?"
   ]
  },
  {
   "cell_type": "markdown",
   "id": "612bc48c",
   "metadata": {},
   "source": [
    "Paragraph Object: A documnet contains multiple paragraphs. A paragraph begins on a new line and contains multiple runs. The documnet object contains a list of Paragraph objects for the paragraphs in the documnet. (A new paragraph begins whenever the user presses ENTER or RETURN while typing in a Word document.)\n",
    "\n",
    "Run Object: Runs are contiguous groups of characters within a paragraph with the same style    "
   ]
  },
  {
   "cell_type": "markdown",
   "id": "b2042c28",
   "metadata": {},
   "source": [
    "#### 7. How do you obtain a list of Paragraph objects for a Document object that’s stored in a variable named doc?"
   ]
  },
  {
   "cell_type": "code",
   "execution_count": null,
   "id": "de6e683a",
   "metadata": {},
   "outputs": [],
   "source": [
    "#!pip install python-docx\n",
    "import docx\n",
    "doc = docx.Document('abc.docx')\n",
    "doc.paragraphs"
   ]
  },
  {
   "cell_type": "markdown",
   "id": "89ebea31",
   "metadata": {},
   "source": [
    "#### 8. What type of object has bold, underline, italic, strike, and outline variables?"
   ]
  },
  {
   "cell_type": "markdown",
   "id": "ebdb49a3",
   "metadata": {},
   "source": [
    "A Run object has bold, underline, italic, strike and outline varaibles"
   ]
  },
  {
   "cell_type": "markdown",
   "id": "69bb496c",
   "metadata": {},
   "source": [
    "#### 9. What is the difference between False, True, and None for the bold variable?"
   ]
  },
  {
   "cell_type": "markdown",
   "id": "169a98d8",
   "metadata": {},
   "source": [
    "True always makes the Run object bolded and False makes it always not bolded, no matter what the style's bold setting is. None will make the Run object just use the style's bold setting"
   ]
  },
  {
   "cell_type": "markdown",
   "id": "74d77243",
   "metadata": {},
   "source": [
    "#### 10. How do you create a Document object for a new Word document?"
   ]
  },
  {
   "cell_type": "markdown",
   "id": "e6348ae8",
   "metadata": {},
   "source": [
    "By Calling the docx.Document() function"
   ]
  },
  {
   "cell_type": "markdown",
   "id": "e16eb23e",
   "metadata": {},
   "source": [
    "#### 11. How do you add a paragraph with the text 'Hello, there!' to a Document object stored in a variable named doc?"
   ]
  },
  {
   "cell_type": "code",
   "execution_count": null,
   "id": "cdd927bb",
   "metadata": {},
   "outputs": [],
   "source": [
    "import docx\n",
    "doc = docx.Document()\n",
    "doc.add_paragraph('Hello there!')\n",
    "doc.save('hellothere.docx')"
   ]
  },
  {
   "cell_type": "markdown",
   "id": "bcdd74ea",
   "metadata": {},
   "source": [
    "#### 12. What integers represent the levels of headings available in Word documents?"
   ]
  },
  {
   "cell_type": "markdown",
   "id": "e6544b7a",
   "metadata": {},
   "source": [
    "Integer from  0 to 4 levels\n",
    "\n",
    "The integer 0 makes the heading the Title style, which is used for the top of the document. Integer 1 to 4 are for various heading levels, with 1 being the main heading and 4 the lowest sub heading."
   ]
  },
  {
   "cell_type": "code",
   "execution_count": null,
   "id": "955279eb",
   "metadata": {},
   "outputs": [],
   "source": []
  }
 ],
 "metadata": {
  "kernelspec": {
   "display_name": "Python 3 (ipykernel)",
   "language": "python",
   "name": "python3"
  },
  "language_info": {
   "codemirror_mode": {
    "name": "ipython",
    "version": 3
   },
   "file_extension": ".py",
   "mimetype": "text/x-python",
   "name": "python",
   "nbconvert_exporter": "python",
   "pygments_lexer": "ipython3",
   "version": "3.9.12"
  }
 },
 "nbformat": 4,
 "nbformat_minor": 5
}
