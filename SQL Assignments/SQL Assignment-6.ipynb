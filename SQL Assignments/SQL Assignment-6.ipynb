{
 "cells": [
  {
   "cell_type": "code",
   "execution_count": 1,
   "id": "d13a8997",
   "metadata": {},
   "outputs": [],
   "source": [
    "%load_ext sql\n",
    "%reload_ext sql\n",
    "%sql sqlite://"
   ]
  },
  {
   "cell_type": "code",
   "execution_count": 2,
   "id": "7d3b8431",
   "metadata": {},
   "outputs": [
    {
     "name": "stdout",
     "output_type": "stream",
     "text": [
      " * sqlite://\n",
      "Done.\n"
     ]
    },
    {
     "data": {
      "text/plain": [
       "[]"
      ]
     },
     "execution_count": 2,
     "metadata": {},
     "output_type": "execute_result"
    }
   ],
   "source": [
    "%%sql\n",
    "CREATE TABLE Worker (\n",
    "WORKER_ID INT,\n",
    "FIRST_NAME CHAR(25),\n",
    "LAST_NAME CHAR(25),\n",
    "SALARY INT(15),\n",
    "JOINING_DATE DATETIME,\n",
    "DEPARTMENT CHAR(25)\n",
    ");"
   ]
  },
  {
   "cell_type": "code",
   "execution_count": 3,
   "id": "e43e6db8",
   "metadata": {},
   "outputs": [
    {
     "name": "stdout",
     "output_type": "stream",
     "text": [
      " * sqlite://\n",
      "1 rows affected.\n",
      "1 rows affected.\n",
      "1 rows affected.\n",
      "1 rows affected.\n",
      "1 rows affected.\n",
      "1 rows affected.\n",
      "1 rows affected.\n",
      "1 rows affected.\n"
     ]
    },
    {
     "data": {
      "text/plain": [
       "[]"
      ]
     },
     "execution_count": 3,
     "metadata": {},
     "output_type": "execute_result"
    }
   ],
   "source": [
    "%%sql\n",
    "INSERT INTO Worker VALUES(1, 'Monika', 'Arora', 100000, '14-02-20 09.00.00', 'HR');\n",
    "INSERT INTO Worker VALUES(2, 'Niharika', 'Verma', 80000, '14-06-11 09.00.00', 'Admin');\n",
    "INSERT INTO Worker VALUES(3, 'Vishal', 'Singhal', 300000, '14-02-20 09.00.00', 'HR');\n",
    "INSERT INTO Worker VALUES(4, 'Amitabh', 'Singh', 500000, '14-02-20 09.00.00', 'Admin');\n",
    "INSERT INTO Worker VALUES(5, 'Vivek', 'Bhati', 500000, '14-06-11 09.00.00', 'Admin');\n",
    "INSERT INTO Worker VALUES(6, 'Vipul', 'Diwan', 200000, '14-06-11 09.00.00', 'Account');\n",
    "INSERT INTO Worker VALUES(7, 'Satish', 'Kumar', 75000, '14-01-20 09.00.00', 'Account');\n",
    "INSERT INTO Worker VALUES(8, 'Geetika', 'Chauhan', 90000, '14-04-11 09.00.00', 'Admin');"
   ]
  },
  {
   "cell_type": "markdown",
   "id": "b994f2e2",
   "metadata": {},
   "source": [
    "#### Q-1. Write an SQL query to print details of the Workers who have joined in Feb’2014."
   ]
  },
  {
   "cell_type": "code",
   "execution_count": 4,
   "id": "eb4afda8",
   "metadata": {},
   "outputs": [
    {
     "name": "stdout",
     "output_type": "stream",
     "text": [
      " * sqlite://\n",
      "Done.\n"
     ]
    },
    {
     "data": {
      "text/html": [
       "<table>\n",
       "    <tr>\n",
       "        <th>WORKER_ID</th>\n",
       "        <th>FIRST_NAME</th>\n",
       "        <th>LAST_NAME</th>\n",
       "        <th>SALARY</th>\n",
       "        <th>JOINING_DATE</th>\n",
       "        <th>DEPARTMENT</th>\n",
       "    </tr>\n",
       "    <tr>\n",
       "        <td>1</td>\n",
       "        <td>Monika</td>\n",
       "        <td>Arora</td>\n",
       "        <td>100000</td>\n",
       "        <td>14-02-20 09.00.00</td>\n",
       "        <td>HR</td>\n",
       "    </tr>\n",
       "    <tr>\n",
       "        <td>3</td>\n",
       "        <td>Vishal</td>\n",
       "        <td>Singhal</td>\n",
       "        <td>300000</td>\n",
       "        <td>14-02-20 09.00.00</td>\n",
       "        <td>HR</td>\n",
       "    </tr>\n",
       "    <tr>\n",
       "        <td>4</td>\n",
       "        <td>Amitabh</td>\n",
       "        <td>Singh</td>\n",
       "        <td>500000</td>\n",
       "        <td>14-02-20 09.00.00</td>\n",
       "        <td>Admin</td>\n",
       "    </tr>\n",
       "</table>"
      ],
      "text/plain": [
       "[(1, 'Monika', 'Arora', 100000, '14-02-20 09.00.00', 'HR'),\n",
       " (3, 'Vishal', 'Singhal', 300000, '14-02-20 09.00.00', 'HR'),\n",
       " (4, 'Amitabh', 'Singh', 500000, '14-02-20 09.00.00', 'Admin')]"
      ]
     },
     "execution_count": 4,
     "metadata": {},
     "output_type": "execute_result"
    }
   ],
   "source": [
    "%%sql\n",
    "select * from worker where JOINING_DATE like '%14-02%'"
   ]
  },
  {
   "cell_type": "markdown",
   "id": "6c2e89c3",
   "metadata": {},
   "source": [
    "#### Q-2. Write an SQL query to fetch duplicate records having matching data in some fields of a table."
   ]
  },
  {
   "cell_type": "code",
   "execution_count": 6,
   "id": "21470804",
   "metadata": {},
   "outputs": [
    {
     "name": "stdout",
     "output_type": "stream",
     "text": [
      " * sqlite://\n",
      "Done.\n"
     ]
    },
    {
     "data": {
      "text/plain": [
       "[]"
      ]
     },
     "execution_count": 6,
     "metadata": {},
     "output_type": "execute_result"
    }
   ],
   "source": [
    "%%sql\n",
    "CREATE TABLE Employee (\n",
    "    ID INT PRIMARY KEY,\n",
    "    FIRST_NAME VARCHAR(50),\n",
    "    LAST_NAME VARCHAR(50),\n",
    "    COUNTRY VARCHAR(50)\n",
    ");"
   ]
  },
  {
   "cell_type": "code",
   "execution_count": 7,
   "id": "f6cadbb5",
   "metadata": {},
   "outputs": [
    {
     "name": "stdout",
     "output_type": "stream",
     "text": [
      " * sqlite://\n",
      "6 rows affected.\n"
     ]
    },
    {
     "data": {
      "text/plain": [
       "[]"
      ]
     },
     "execution_count": 7,
     "metadata": {},
     "output_type": "execute_result"
    }
   ],
   "source": [
    "%%sql\n",
    "INSERT INTO Employee VALUES \n",
    "(1,'ADITYA','VARMA','INDIA'),\n",
    "(2,'ADITYA','VARMA','INDIA'),\n",
    "(3,'ADITYA','VARMA','INDIA'),\n",
    "(4,'STEVE','JOBS','USA'),\n",
    "(5,'STEVE','JOBS','USA'),\n",
    "(6,'STEVE','JOBS','USA');"
   ]
  },
  {
   "cell_type": "code",
   "execution_count": 8,
   "id": "0abc1804",
   "metadata": {},
   "outputs": [
    {
     "name": "stdout",
     "output_type": "stream",
     "text": [
      " * sqlite://\n",
      "Done.\n"
     ]
    },
    {
     "data": {
      "text/html": [
       "<table>\n",
       "    <tr>\n",
       "        <th>FIRST_NAME</th>\n",
       "        <th>LAST_NAME</th>\n",
       "        <th>COUNTRY</th>\n",
       "        <th>COUNT(*)</th>\n",
       "    </tr>\n",
       "    <tr>\n",
       "        <td>ADITYA</td>\n",
       "        <td>VARMA</td>\n",
       "        <td>INDIA</td>\n",
       "        <td>3</td>\n",
       "    </tr>\n",
       "    <tr>\n",
       "        <td>STEVE</td>\n",
       "        <td>JOBS</td>\n",
       "        <td>USA</td>\n",
       "        <td>3</td>\n",
       "    </tr>\n",
       "</table>"
      ],
      "text/plain": [
       "[('ADITYA', 'VARMA', 'INDIA', 3), ('STEVE', 'JOBS', 'USA', 3)]"
      ]
     },
     "execution_count": 8,
     "metadata": {},
     "output_type": "execute_result"
    }
   ],
   "source": [
    "%%sql\n",
    "select first_name,last_name, country, COUNT(*) from employee GROUP BY first_name,last_name,country HAVING COUNT(*)>1;"
   ]
  },
  {
   "cell_type": "markdown",
   "id": "bb310049",
   "metadata": {},
   "source": [
    "#### Q-3. How to remove duplicate rows from Employees table."
   ]
  },
  {
   "cell_type": "code",
   "execution_count": 18,
   "id": "91677b90",
   "metadata": {
    "scrolled": true
   },
   "outputs": [
    {
     "name": "stdout",
     "output_type": "stream",
     "text": [
      " * sqlite://\n",
      "4 rows affected.\n"
     ]
    },
    {
     "data": {
      "text/plain": [
       "[]"
      ]
     },
     "execution_count": 18,
     "metadata": {},
     "output_type": "execute_result"
    }
   ],
   "source": [
    "%%sql\n",
    "DELETE FROM  Employee WHERE ID NOT IN (SELECT MAX(ID) FROM Employee GROUP BY FIRST_NAME,LAST_NAME,COUNTRY)"
   ]
  },
  {
   "cell_type": "code",
   "execution_count": 19,
   "id": "93aef7a0",
   "metadata": {},
   "outputs": [
    {
     "name": "stdout",
     "output_type": "stream",
     "text": [
      " * sqlite://\n",
      "Done.\n"
     ]
    },
    {
     "data": {
      "text/html": [
       "<table>\n",
       "    <tr>\n",
       "        <th>ID</th>\n",
       "        <th>FIRST_NAME</th>\n",
       "        <th>LAST_NAME</th>\n",
       "        <th>COUNTRY</th>\n",
       "    </tr>\n",
       "    <tr>\n",
       "        <td>3</td>\n",
       "        <td>ADITYA</td>\n",
       "        <td>VARMA</td>\n",
       "        <td>INDIA</td>\n",
       "    </tr>\n",
       "    <tr>\n",
       "        <td>6</td>\n",
       "        <td>STEVE</td>\n",
       "        <td>JOBS</td>\n",
       "        <td>USA</td>\n",
       "    </tr>\n",
       "</table>"
      ],
      "text/plain": [
       "[(3, 'ADITYA', 'VARMA', 'INDIA'), (6, 'STEVE', 'JOBS', 'USA')]"
      ]
     },
     "execution_count": 19,
     "metadata": {},
     "output_type": "execute_result"
    }
   ],
   "source": [
    "%%sql\n",
    "select * from Employee"
   ]
  },
  {
   "cell_type": "code",
   "execution_count": null,
   "id": "9445b9c8",
   "metadata": {},
   "outputs": [],
   "source": []
  }
 ],
 "metadata": {
  "kernelspec": {
   "display_name": "Python 3 (ipykernel)",
   "language": "python",
   "name": "python3"
  },
  "language_info": {
   "codemirror_mode": {
    "name": "ipython",
    "version": 3
   },
   "file_extension": ".py",
   "mimetype": "text/x-python",
   "name": "python",
   "nbconvert_exporter": "python",
   "pygments_lexer": "ipython3",
   "version": "3.9.12"
  }
 },
 "nbformat": 4,
 "nbformat_minor": 5
}
