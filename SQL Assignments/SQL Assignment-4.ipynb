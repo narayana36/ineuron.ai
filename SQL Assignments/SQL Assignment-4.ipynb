{
 "cells": [
  {
   "cell_type": "code",
   "execution_count": 1,
   "id": "177a16dc",
   "metadata": {},
   "outputs": [],
   "source": [
    "%load_ext sql\n",
    "%reload_ext sql\n",
    "%sql sqlite://"
   ]
  },
  {
   "cell_type": "code",
   "execution_count": 2,
   "id": "522c2006",
   "metadata": {},
   "outputs": [
    {
     "name": "stdout",
     "output_type": "stream",
     "text": [
      " * sqlite://\n",
      "Done.\n"
     ]
    },
    {
     "data": {
      "text/plain": [
       "[]"
      ]
     },
     "execution_count": 2,
     "metadata": {},
     "output_type": "execute_result"
    }
   ],
   "source": [
    "%%sql\n",
    "CREATE TABLE Worker (\n",
    "WORKER_ID INT,\n",
    "FIRST_NAME CHAR(25),\n",
    "LAST_NAME CHAR(25),\n",
    "SALARY INT(15),\n",
    "JOINING_DATE DATETIME,\n",
    "DEPARTMENT CHAR(25)\n",
    ");"
   ]
  },
  {
   "cell_type": "code",
   "execution_count": 3,
   "id": "48f122d0",
   "metadata": {},
   "outputs": [
    {
     "name": "stdout",
     "output_type": "stream",
     "text": [
      " * sqlite://\n",
      "1 rows affected.\n",
      "1 rows affected.\n",
      "1 rows affected.\n",
      "1 rows affected.\n",
      "1 rows affected.\n",
      "1 rows affected.\n",
      "1 rows affected.\n",
      "1 rows affected.\n"
     ]
    },
    {
     "data": {
      "text/plain": [
       "[]"
      ]
     },
     "execution_count": 3,
     "metadata": {},
     "output_type": "execute_result"
    }
   ],
   "source": [
    "%%sql\n",
    "INSERT INTO Worker VALUES(1, 'Monika', 'Arora', 100000, '14-02-20 09.00.00', 'HR');\n",
    "INSERT INTO Worker VALUES(2, 'Niharika', 'Verma', 80000, '14-06-11 09.00.00', 'Admin');\n",
    "INSERT INTO Worker VALUES(3, 'Vishal', 'Singhal', 300000, '14-02-20 09.00.00', 'HR');\n",
    "INSERT INTO Worker VALUES(4, 'Amitabh', 'Singh', 500000, '14-02-20 09.00.00', 'Admin');\n",
    "INSERT INTO Worker VALUES(5, 'Vivek', 'Bhati', 500000, '14-06-11 09.00.00', 'Admin');\n",
    "INSERT INTO Worker VALUES(6, 'Vipul', 'Diwan', 200000, '14-06-11 09.00.00', 'Account');\n",
    "INSERT INTO Worker VALUES(7, 'Satish', 'Kumar', 75000, '14-01-20 09.00.00', 'Account');\n",
    "INSERT INTO Worker VALUES(8, 'Geetika', 'Chauhan', 90000, '14-04-11 09.00.00', 'Admin');"
   ]
  },
  {
   "cell_type": "markdown",
   "id": "f85a51a8",
   "metadata": {},
   "source": [
    "#### Q-1. Write an SQL query to print the FIRST_NAME from Worker table after replacing ‘a’ with ‘A’."
   ]
  },
  {
   "cell_type": "code",
   "execution_count": 4,
   "id": "b4ac0eb4",
   "metadata": {},
   "outputs": [
    {
     "name": "stdout",
     "output_type": "stream",
     "text": [
      " * sqlite://\n",
      "Done.\n"
     ]
    },
    {
     "data": {
      "text/html": [
       "<table>\n",
       "    <tr>\n",
       "        <th>replace(first_name,&#x27;a&#x27;,&#x27;A&#x27;)</th>\n",
       "    </tr>\n",
       "    <tr>\n",
       "        <td>MonikA</td>\n",
       "    </tr>\n",
       "    <tr>\n",
       "        <td>NihArikA</td>\n",
       "    </tr>\n",
       "    <tr>\n",
       "        <td>VishAl</td>\n",
       "    </tr>\n",
       "    <tr>\n",
       "        <td>AmitAbh</td>\n",
       "    </tr>\n",
       "    <tr>\n",
       "        <td>Vivek</td>\n",
       "    </tr>\n",
       "    <tr>\n",
       "        <td>Vipul</td>\n",
       "    </tr>\n",
       "    <tr>\n",
       "        <td>SAtish</td>\n",
       "    </tr>\n",
       "    <tr>\n",
       "        <td>GeetikA</td>\n",
       "    </tr>\n",
       "</table>"
      ],
      "text/plain": [
       "[('MonikA',),\n",
       " ('NihArikA',),\n",
       " ('VishAl',),\n",
       " ('AmitAbh',),\n",
       " ('Vivek',),\n",
       " ('Vipul',),\n",
       " ('SAtish',),\n",
       " ('GeetikA',)]"
      ]
     },
     "execution_count": 4,
     "metadata": {},
     "output_type": "execute_result"
    }
   ],
   "source": [
    "%%sql\n",
    "select replace(first_name,'a','A') from worker"
   ]
  },
  {
   "cell_type": "markdown",
   "id": "7b30dda0",
   "metadata": {},
   "source": [
    "#### Q-2. Write an SQL query to print all Worker details from the Worker table order by FIRST_NAME Ascending and DEPARTMENT Descending."
   ]
  },
  {
   "cell_type": "code",
   "execution_count": 7,
   "id": "ce7dd601",
   "metadata": {},
   "outputs": [
    {
     "name": "stdout",
     "output_type": "stream",
     "text": [
      " * sqlite://\n",
      "Done.\n"
     ]
    },
    {
     "data": {
      "text/html": [
       "<table>\n",
       "    <tr>\n",
       "        <th>WORKER_ID</th>\n",
       "        <th>FIRST_NAME</th>\n",
       "        <th>LAST_NAME</th>\n",
       "        <th>SALARY</th>\n",
       "        <th>JOINING_DATE</th>\n",
       "        <th>DEPARTMENT</th>\n",
       "    </tr>\n",
       "    <tr>\n",
       "        <td>4</td>\n",
       "        <td>Amitabh</td>\n",
       "        <td>Singh</td>\n",
       "        <td>500000</td>\n",
       "        <td>14-02-20 09.00.00</td>\n",
       "        <td>Admin</td>\n",
       "    </tr>\n",
       "    <tr>\n",
       "        <td>8</td>\n",
       "        <td>Geetika</td>\n",
       "        <td>Chauhan</td>\n",
       "        <td>90000</td>\n",
       "        <td>14-04-11 09.00.00</td>\n",
       "        <td>Admin</td>\n",
       "    </tr>\n",
       "    <tr>\n",
       "        <td>1</td>\n",
       "        <td>Monika</td>\n",
       "        <td>Arora</td>\n",
       "        <td>100000</td>\n",
       "        <td>14-02-20 09.00.00</td>\n",
       "        <td>HR</td>\n",
       "    </tr>\n",
       "    <tr>\n",
       "        <td>2</td>\n",
       "        <td>Niharika</td>\n",
       "        <td>Verma</td>\n",
       "        <td>80000</td>\n",
       "        <td>14-06-11 09.00.00</td>\n",
       "        <td>Admin</td>\n",
       "    </tr>\n",
       "    <tr>\n",
       "        <td>7</td>\n",
       "        <td>Satish</td>\n",
       "        <td>Kumar</td>\n",
       "        <td>75000</td>\n",
       "        <td>14-01-20 09.00.00</td>\n",
       "        <td>Account</td>\n",
       "    </tr>\n",
       "    <tr>\n",
       "        <td>6</td>\n",
       "        <td>Vipul</td>\n",
       "        <td>Diwan</td>\n",
       "        <td>200000</td>\n",
       "        <td>14-06-11 09.00.00</td>\n",
       "        <td>Account</td>\n",
       "    </tr>\n",
       "    <tr>\n",
       "        <td>3</td>\n",
       "        <td>Vishal</td>\n",
       "        <td>Singhal</td>\n",
       "        <td>300000</td>\n",
       "        <td>14-02-20 09.00.00</td>\n",
       "        <td>HR</td>\n",
       "    </tr>\n",
       "    <tr>\n",
       "        <td>5</td>\n",
       "        <td>Vivek</td>\n",
       "        <td>Bhati</td>\n",
       "        <td>500000</td>\n",
       "        <td>14-06-11 09.00.00</td>\n",
       "        <td>Admin</td>\n",
       "    </tr>\n",
       "</table>"
      ],
      "text/plain": [
       "[(4, 'Amitabh', 'Singh', 500000, '14-02-20 09.00.00', 'Admin'),\n",
       " (8, 'Geetika', 'Chauhan', 90000, '14-04-11 09.00.00', 'Admin'),\n",
       " (1, 'Monika', 'Arora', 100000, '14-02-20 09.00.00', 'HR'),\n",
       " (2, 'Niharika', 'Verma', 80000, '14-06-11 09.00.00', 'Admin'),\n",
       " (7, 'Satish', 'Kumar', 75000, '14-01-20 09.00.00', 'Account'),\n",
       " (6, 'Vipul', 'Diwan', 200000, '14-06-11 09.00.00', 'Account'),\n",
       " (3, 'Vishal', 'Singhal', 300000, '14-02-20 09.00.00', 'HR'),\n",
       " (5, 'Vivek', 'Bhati', 500000, '14-06-11 09.00.00', 'Admin')]"
      ]
     },
     "execution_count": 7,
     "metadata": {},
     "output_type": "execute_result"
    }
   ],
   "source": [
    "%%sql\n",
    "select * from worker order by first_name asc, department desc"
   ]
  },
  {
   "cell_type": "markdown",
   "id": "ec46ae64",
   "metadata": {},
   "source": [
    "#### Q-3. Write an SQL query to fetch the names of workers who earn the highest salary."
   ]
  },
  {
   "cell_type": "code",
   "execution_count": 11,
   "id": "67d7ebcb",
   "metadata": {},
   "outputs": [
    {
     "name": "stdout",
     "output_type": "stream",
     "text": [
      " * sqlite://\n",
      "Done.\n"
     ]
    },
    {
     "data": {
      "text/html": [
       "<table>\n",
       "    <tr>\n",
       "        <th>FIRST_NAME</th>\n",
       "        <th>LAST_NAME</th>\n",
       "    </tr>\n",
       "    <tr>\n",
       "        <td>Amitabh</td>\n",
       "        <td>Singh</td>\n",
       "    </tr>\n",
       "    <tr>\n",
       "        <td>Vivek</td>\n",
       "        <td>Bhati</td>\n",
       "    </tr>\n",
       "</table>"
      ],
      "text/plain": [
       "[('Amitabh', 'Singh'), ('Vivek', 'Bhati')]"
      ]
     },
     "execution_count": 11,
     "metadata": {},
     "output_type": "execute_result"
    }
   ],
   "source": [
    "%%sql\n",
    "select first_name,last_name from worker where salary =(select max(salary) from worker)"
   ]
  },
  {
   "cell_type": "code",
   "execution_count": null,
   "id": "005d0f33",
   "metadata": {},
   "outputs": [],
   "source": []
  }
 ],
 "metadata": {
  "kernelspec": {
   "display_name": "Python 3 (ipykernel)",
   "language": "python",
   "name": "python3"
  },
  "language_info": {
   "codemirror_mode": {
    "name": "ipython",
    "version": 3
   },
   "file_extension": ".py",
   "mimetype": "text/x-python",
   "name": "python",
   "nbconvert_exporter": "python",
   "pygments_lexer": "ipython3",
   "version": "3.9.12"
  }
 },
 "nbformat": 4,
 "nbformat_minor": 5
}
