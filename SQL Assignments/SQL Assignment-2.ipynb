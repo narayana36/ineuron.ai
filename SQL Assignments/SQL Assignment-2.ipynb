{
 "cells": [
  {
   "cell_type": "code",
   "execution_count": 5,
   "id": "8c7b1ebd",
   "metadata": {},
   "outputs": [],
   "source": [
    "%load_ext sql"
   ]
  },
  {
   "cell_type": "code",
   "execution_count": 7,
   "id": "43c575da",
   "metadata": {},
   "outputs": [],
   "source": [
    "%reload_ext sql"
   ]
  },
  {
   "cell_type": "code",
   "execution_count": 9,
   "id": "ca287cec",
   "metadata": {},
   "outputs": [],
   "source": [
    "%sql sqlite://"
   ]
  },
  {
   "cell_type": "markdown",
   "id": "9ebd847d",
   "metadata": {},
   "source": [
    "#### Q-1. Write an SQL query to print the first three characters of  FIRST_NAME from Worker table."
   ]
  },
  {
   "cell_type": "code",
   "execution_count": 10,
   "id": "6aa31867",
   "metadata": {},
   "outputs": [
    {
     "name": "stdout",
     "output_type": "stream",
     "text": [
      " * sqlite://\n",
      "Done.\n"
     ]
    },
    {
     "data": {
      "text/plain": [
       "[]"
      ]
     },
     "execution_count": 10,
     "metadata": {},
     "output_type": "execute_result"
    }
   ],
   "source": [
    "%%sql\n",
    "CREATE TABLE WORKER(FIRST_NAME VARCHAR(50), LAST_NAME VARCHAR(50), DEPARTMENT VARCHAR(50), SALARY INT(10))"
   ]
  },
  {
   "cell_type": "code",
   "execution_count": 11,
   "id": "3f8180b0",
   "metadata": {},
   "outputs": [
    {
     "name": "stdout",
     "output_type": "stream",
     "text": [
      " * sqlite://\n",
      "1 rows affected.\n",
      "1 rows affected.\n",
      "1 rows affected.\n",
      "1 rows affected.\n",
      "1 rows affected.\n",
      "1 rows affected.\n",
      "1 rows affected.\n",
      "1 rows affected.\n",
      "1 rows affected.\n"
     ]
    },
    {
     "data": {
      "text/plain": [
       "[]"
      ]
     },
     "execution_count": 11,
     "metadata": {},
     "output_type": "execute_result"
    }
   ],
   "source": [
    "%%sql\n",
    "Insert into worker values(\"Amitabh\",'sam','Finance',145000);\n",
    "Insert into worker values(\"venky\",'suri','HR',65000);\n",
    "Insert into worker values(\"prasad\",'reddy','Telecom',55000);                                                                       \n",
    "Insert into worker values(\"babu\",'mohan','Markt',35000);                                                                       \n",
    "Insert into worker values(\"kalyan\",'ram','General',45000);                                                                       \n",
    "Insert into worker values(\"venkata\",'ram','HR',65000);                                                                       \n",
    "Insert into worker values(\"ram\",'sam','Techincal',36000);                                                                       \n",
    "Insert into worker values(\"Anji\",'Reddy','HOD',200000);                                                                       \n",
    "Insert into worker values(\"Nag\",'sam','Banking',125000);                                                                       \n"
   ]
  },
  {
   "cell_type": "code",
   "execution_count": 13,
   "id": "40c70c01",
   "metadata": {},
   "outputs": [
    {
     "name": "stdout",
     "output_type": "stream",
     "text": [
      " * sqlite://\n",
      "Done.\n"
     ]
    },
    {
     "data": {
      "text/html": [
       "<table>\n",
       "    <tr>\n",
       "        <th>FIRST_NAME</th>\n",
       "        <th>LAST_NAME</th>\n",
       "        <th>DEPARTMENT</th>\n",
       "        <th>SALARY</th>\n",
       "    </tr>\n",
       "    <tr>\n",
       "        <td>Amitabh</td>\n",
       "        <td>sam</td>\n",
       "        <td>Finance</td>\n",
       "        <td>145000</td>\n",
       "    </tr>\n",
       "    <tr>\n",
       "        <td>venky</td>\n",
       "        <td>suri</td>\n",
       "        <td>HR</td>\n",
       "        <td>65000</td>\n",
       "    </tr>\n",
       "    <tr>\n",
       "        <td>prasad</td>\n",
       "        <td>reddy</td>\n",
       "        <td>Telecom</td>\n",
       "        <td>55000</td>\n",
       "    </tr>\n",
       "    <tr>\n",
       "        <td>babu</td>\n",
       "        <td>mohan</td>\n",
       "        <td>Markt</td>\n",
       "        <td>35000</td>\n",
       "    </tr>\n",
       "    <tr>\n",
       "        <td>kalyan</td>\n",
       "        <td>ram</td>\n",
       "        <td>General</td>\n",
       "        <td>45000</td>\n",
       "    </tr>\n",
       "    <tr>\n",
       "        <td>venkata</td>\n",
       "        <td>ram</td>\n",
       "        <td>HR</td>\n",
       "        <td>65000</td>\n",
       "    </tr>\n",
       "    <tr>\n",
       "        <td>ram</td>\n",
       "        <td>sam</td>\n",
       "        <td>Techincal</td>\n",
       "        <td>36000</td>\n",
       "    </tr>\n",
       "    <tr>\n",
       "        <td>Anji</td>\n",
       "        <td>Reddy</td>\n",
       "        <td>HOD</td>\n",
       "        <td>200000</td>\n",
       "    </tr>\n",
       "    <tr>\n",
       "        <td>Nag</td>\n",
       "        <td>sam</td>\n",
       "        <td>Banking</td>\n",
       "        <td>125000</td>\n",
       "    </tr>\n",
       "</table>"
      ],
      "text/plain": [
       "[('Amitabh', 'sam', 'Finance', 145000),\n",
       " ('venky', 'suri', 'HR', 65000),\n",
       " ('prasad', 'reddy', 'Telecom', 55000),\n",
       " ('babu', 'mohan', 'Markt', 35000),\n",
       " ('kalyan', 'ram', 'General', 45000),\n",
       " ('venkata', 'ram', 'HR', 65000),\n",
       " ('ram', 'sam', 'Techincal', 36000),\n",
       " ('Anji', 'Reddy', 'HOD', 200000),\n",
       " ('Nag', 'sam', 'Banking', 125000)]"
      ]
     },
     "execution_count": 13,
     "metadata": {},
     "output_type": "execute_result"
    }
   ],
   "source": [
    "%%sql\n",
    "select * from worker"
   ]
  },
  {
   "cell_type": "code",
   "execution_count": 15,
   "id": "12f1d31c",
   "metadata": {},
   "outputs": [
    {
     "name": "stdout",
     "output_type": "stream",
     "text": [
      " * sqlite://\n",
      "Done.\n"
     ]
    },
    {
     "data": {
      "text/html": [
       "<table>\n",
       "    <tr>\n",
       "        <th>substring(FIRST_NAME,1,3)</th>\n",
       "    </tr>\n",
       "    <tr>\n",
       "        <td>Ami</td>\n",
       "    </tr>\n",
       "    <tr>\n",
       "        <td>ven</td>\n",
       "    </tr>\n",
       "    <tr>\n",
       "        <td>pra</td>\n",
       "    </tr>\n",
       "    <tr>\n",
       "        <td>bab</td>\n",
       "    </tr>\n",
       "    <tr>\n",
       "        <td>kal</td>\n",
       "    </tr>\n",
       "    <tr>\n",
       "        <td>ven</td>\n",
       "    </tr>\n",
       "    <tr>\n",
       "        <td>ram</td>\n",
       "    </tr>\n",
       "    <tr>\n",
       "        <td>Anj</td>\n",
       "    </tr>\n",
       "    <tr>\n",
       "        <td>Nag</td>\n",
       "    </tr>\n",
       "</table>"
      ],
      "text/plain": [
       "[('Ami',),\n",
       " ('ven',),\n",
       " ('pra',),\n",
       " ('bab',),\n",
       " ('kal',),\n",
       " ('ven',),\n",
       " ('ram',),\n",
       " ('Anj',),\n",
       " ('Nag',)]"
      ]
     },
     "execution_count": 15,
     "metadata": {},
     "output_type": "execute_result"
    }
   ],
   "source": [
    "%%sql\n",
    "select substring(FIRST_NAME,1,3)FROM worker"
   ]
  },
  {
   "cell_type": "markdown",
   "id": "f8020cc8",
   "metadata": {},
   "source": [
    "#### Q-2. Write an SQL query to find the position of the alphabet (‘a’) in the first name column ‘Amitabh’ from Worker table."
   ]
  },
  {
   "cell_type": "code",
   "execution_count": 22,
   "id": "566850a7",
   "metadata": {},
   "outputs": [
    {
     "name": "stdout",
     "output_type": "stream",
     "text": [
      " * sqlite://\n",
      "Done.\n"
     ]
    },
    {
     "data": {
      "text/html": [
       "<table>\n",
       "    <tr>\n",
       "        <th>instr(FIRST_NAME,&quot;a&quot;)</th>\n",
       "    </tr>\n",
       "    <tr>\n",
       "        <td>5</td>\n",
       "    </tr>\n",
       "</table>"
      ],
      "text/plain": [
       "[(5,)]"
      ]
     },
     "execution_count": 22,
     "metadata": {},
     "output_type": "execute_result"
    }
   ],
   "source": [
    "%%sql\n",
    "select instr(FIRST_NAME,\"a\") from WORKER WHERE FIRST_NAME='Amitabh';"
   ]
  },
  {
   "cell_type": "markdown",
   "id": "f4e95b1b",
   "metadata": {},
   "source": [
    "#### Q-3. Write an SQL query to print the name of employees having the highest salary in each department."
   ]
  },
  {
   "cell_type": "code",
   "execution_count": 29,
   "id": "684fe44a",
   "metadata": {},
   "outputs": [
    {
     "name": "stdout",
     "output_type": "stream",
     "text": [
      " * sqlite://\n",
      "Done.\n"
     ]
    },
    {
     "data": {
      "text/html": [
       "<table>\n",
       "    <tr>\n",
       "        <th>FIRST_NAME</th>\n",
       "        <th>LAST_NAME</th>\n",
       "        <th>DEPARTMENT</th>\n",
       "        <th>SALARY</th>\n",
       "    </tr>\n",
       "    <tr>\n",
       "        <td>Amitabh</td>\n",
       "        <td>sam</td>\n",
       "        <td>Finance</td>\n",
       "        <td>145000</td>\n",
       "    </tr>\n",
       "    <tr>\n",
       "        <td>venky</td>\n",
       "        <td>suri</td>\n",
       "        <td>HR</td>\n",
       "        <td>65000</td>\n",
       "    </tr>\n",
       "    <tr>\n",
       "        <td>prasad</td>\n",
       "        <td>reddy</td>\n",
       "        <td>Telecom</td>\n",
       "        <td>55000</td>\n",
       "    </tr>\n",
       "    <tr>\n",
       "        <td>babu</td>\n",
       "        <td>mohan</td>\n",
       "        <td>Markt</td>\n",
       "        <td>35000</td>\n",
       "    </tr>\n",
       "    <tr>\n",
       "        <td>kalyan</td>\n",
       "        <td>ram</td>\n",
       "        <td>General</td>\n",
       "        <td>45000</td>\n",
       "    </tr>\n",
       "    <tr>\n",
       "        <td>venkata</td>\n",
       "        <td>ram</td>\n",
       "        <td>HR</td>\n",
       "        <td>65000</td>\n",
       "    </tr>\n",
       "    <tr>\n",
       "        <td>ram</td>\n",
       "        <td>sam</td>\n",
       "        <td>Techincal</td>\n",
       "        <td>36000</td>\n",
       "    </tr>\n",
       "    <tr>\n",
       "        <td>Anji</td>\n",
       "        <td>Reddy</td>\n",
       "        <td>HOD</td>\n",
       "        <td>200000</td>\n",
       "    </tr>\n",
       "    <tr>\n",
       "        <td>Nag</td>\n",
       "        <td>sam</td>\n",
       "        <td>Banking</td>\n",
       "        <td>125000</td>\n",
       "    </tr>\n",
       "</table>"
      ],
      "text/plain": [
       "[('Amitabh', 'sam', 'Finance', 145000),\n",
       " ('venky', 'suri', 'HR', 65000),\n",
       " ('prasad', 'reddy', 'Telecom', 55000),\n",
       " ('babu', 'mohan', 'Markt', 35000),\n",
       " ('kalyan', 'ram', 'General', 45000),\n",
       " ('venkata', 'ram', 'HR', 65000),\n",
       " ('ram', 'sam', 'Techincal', 36000),\n",
       " ('Anji', 'Reddy', 'HOD', 200000),\n",
       " ('Nag', 'sam', 'Banking', 125000)]"
      ]
     },
     "execution_count": 29,
     "metadata": {},
     "output_type": "execute_result"
    }
   ],
   "source": [
    "%%sql\n",
    "SELECT * FROM Worker w WHERE salary = (select Max(salary) from Worker where department = w.department)"
   ]
  },
  {
   "cell_type": "code",
   "execution_count": null,
   "id": "8e18c106",
   "metadata": {},
   "outputs": [],
   "source": []
  }
 ],
 "metadata": {
  "kernelspec": {
   "display_name": "Python 3 (ipykernel)",
   "language": "python",
   "name": "python3"
  },
  "language_info": {
   "codemirror_mode": {
    "name": "ipython",
    "version": 3
   },
   "file_extension": ".py",
   "mimetype": "text/x-python",
   "name": "python",
   "nbconvert_exporter": "python",
   "pygments_lexer": "ipython3",
   "version": "3.9.12"
  }
 },
 "nbformat": 4,
 "nbformat_minor": 5
}
