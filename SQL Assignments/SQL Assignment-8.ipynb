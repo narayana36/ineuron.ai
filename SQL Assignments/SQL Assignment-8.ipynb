{
 "cells": [
  {
   "cell_type": "code",
   "execution_count": 1,
   "id": "0ccc342a",
   "metadata": {},
   "outputs": [],
   "source": [
    "%load_ext sql\n",
    "%reload_ext sql\n",
    "%sql sqlite://"
   ]
  },
  {
   "cell_type": "code",
   "execution_count": 2,
   "id": "b3fa0d11",
   "metadata": {},
   "outputs": [
    {
     "name": "stdout",
     "output_type": "stream",
     "text": [
      " * sqlite://\n",
      "Done.\n"
     ]
    },
    {
     "data": {
      "text/plain": [
       "[]"
      ]
     },
     "execution_count": 2,
     "metadata": {},
     "output_type": "execute_result"
    }
   ],
   "source": [
    "%%sql\n",
    "create table Table1(first_name varchar(20),last_name varchar(20))"
   ]
  },
  {
   "cell_type": "code",
   "execution_count": 3,
   "id": "cea5a721",
   "metadata": {},
   "outputs": [
    {
     "name": "stdout",
     "output_type": "stream",
     "text": [
      " * sqlite://\n",
      "1 rows affected.\n",
      "1 rows affected.\n",
      "1 rows affected.\n",
      "1 rows affected.\n"
     ]
    },
    {
     "data": {
      "text/plain": [
       "[]"
      ]
     },
     "execution_count": 3,
     "metadata": {},
     "output_type": "execute_result"
    }
   ],
   "source": [
    "%%sql \n",
    "insert into table1 values(\"venky\",'sanu');\n",
    "insert into table1 values(\"nag\",'bam');\n",
    "insert into table1 values(\"ram\",'sunny');\n",
    "insert into table1 values(\"babu\",'dadi');"
   ]
  },
  {
   "cell_type": "code",
   "execution_count": 4,
   "id": "4b948e1f",
   "metadata": {},
   "outputs": [
    {
     "name": "stdout",
     "output_type": "stream",
     "text": [
      " * sqlite://\n",
      "Done.\n"
     ]
    },
    {
     "data": {
      "text/plain": [
       "[]"
      ]
     },
     "execution_count": 4,
     "metadata": {},
     "output_type": "execute_result"
    }
   ],
   "source": [
    "%%sql\n",
    "create table Table2(first_name varchar(20),last_name varchar(20))"
   ]
  },
  {
   "cell_type": "code",
   "execution_count": 5,
   "id": "e70b60d9",
   "metadata": {},
   "outputs": [
    {
     "name": "stdout",
     "output_type": "stream",
     "text": [
      " * sqlite://\n",
      "1 rows affected.\n",
      "1 rows affected.\n",
      "1 rows affected.\n",
      "1 rows affected.\n"
     ]
    },
    {
     "data": {
      "text/plain": [
       "[]"
      ]
     },
     "execution_count": 5,
     "metadata": {},
     "output_type": "execute_result"
    }
   ],
   "source": [
    "%%sql \n",
    "insert into table2 values(\"venky\",'sanu');\n",
    "insert into table2 values(\"narayana\",'dam');\n",
    "insert into table2 values(\"sam\",'singer');\n",
    "insert into table2 values(\"babu\",'dadi');"
   ]
  },
  {
   "cell_type": "markdown",
   "id": "d27b0c9b",
   "metadata": {},
   "source": [
    "#### Q-15. Write an SQL query to fetch intersecting records of two tables."
   ]
  },
  {
   "cell_type": "code",
   "execution_count": 7,
   "id": "5c0f2f2b",
   "metadata": {},
   "outputs": [
    {
     "name": "stdout",
     "output_type": "stream",
     "text": [
      " * sqlite://\n",
      "Done.\n"
     ]
    },
    {
     "data": {
      "text/html": [
       "<table>\n",
       "    <tr>\n",
       "        <th>first_name</th>\n",
       "        <th>last_name</th>\n",
       "    </tr>\n",
       "    <tr>\n",
       "        <td>babu</td>\n",
       "        <td>dadi</td>\n",
       "    </tr>\n",
       "    <tr>\n",
       "        <td>venky</td>\n",
       "        <td>sanu</td>\n",
       "    </tr>\n",
       "</table>"
      ],
      "text/plain": [
       "[('babu', 'dadi'), ('venky', 'sanu')]"
      ]
     },
     "execution_count": 7,
     "metadata": {},
     "output_type": "execute_result"
    }
   ],
   "source": [
    "%%sql\n",
    "select * from table1 intersect select * from table2"
   ]
  },
  {
   "cell_type": "markdown",
   "id": "c16cc60d",
   "metadata": {},
   "source": [
    "#### Q-16. Write an SQL query to show records from one table that another table does not have."
   ]
  },
  {
   "cell_type": "code",
   "execution_count": 8,
   "id": "623b63ad",
   "metadata": {},
   "outputs": [
    {
     "name": "stdout",
     "output_type": "stream",
     "text": [
      " * sqlite://\n",
      "Done.\n"
     ]
    },
    {
     "data": {
      "text/html": [
       "<table>\n",
       "    <tr>\n",
       "        <th>first_name</th>\n",
       "        <th>last_name</th>\n",
       "    </tr>\n",
       "    <tr>\n",
       "        <td>nag</td>\n",
       "        <td>bam</td>\n",
       "    </tr>\n",
       "    <tr>\n",
       "        <td>ram</td>\n",
       "        <td>sunny</td>\n",
       "    </tr>\n",
       "</table>"
      ],
      "text/plain": [
       "[('nag', 'bam'), ('ram', 'sunny')]"
      ]
     },
     "execution_count": 8,
     "metadata": {},
     "output_type": "execute_result"
    }
   ],
   "source": [
    "%%sql\n",
    "select * from table1 except select * from table2"
   ]
  },
  {
   "cell_type": "code",
   "execution_count": null,
   "id": "e74a6af6",
   "metadata": {},
   "outputs": [],
   "source": []
  }
 ],
 "metadata": {
  "kernelspec": {
   "display_name": "Python 3 (ipykernel)",
   "language": "python",
   "name": "python3"
  },
  "language_info": {
   "codemirror_mode": {
    "name": "ipython",
    "version": 3
   },
   "file_extension": ".py",
   "mimetype": "text/x-python",
   "name": "python",
   "nbconvert_exporter": "python",
   "pygments_lexer": "ipython3",
   "version": "3.9.12"
  }
 },
 "nbformat": 4,
 "nbformat_minor": 5
}
