{
 "cells": [
  {
   "cell_type": "code",
   "execution_count": 1,
   "id": "85aaf585",
   "metadata": {},
   "outputs": [],
   "source": [
    "%load_ext sql"
   ]
  },
  {
   "cell_type": "code",
   "execution_count": 2,
   "id": "edc6debe",
   "metadata": {},
   "outputs": [],
   "source": [
    "%reload_ext sql"
   ]
  },
  {
   "cell_type": "code",
   "execution_count": 3,
   "id": "c9980568",
   "metadata": {},
   "outputs": [],
   "source": [
    "%sql sqlite://"
   ]
  },
  {
   "cell_type": "code",
   "execution_count": 4,
   "id": "7e71d24b",
   "metadata": {},
   "outputs": [
    {
     "name": "stdout",
     "output_type": "stream",
     "text": [
      " * sqlite://\n",
      "Done.\n"
     ]
    },
    {
     "data": {
      "text/plain": [
       "[]"
      ]
     },
     "execution_count": 4,
     "metadata": {},
     "output_type": "execute_result"
    }
   ],
   "source": [
    "%%sql\n",
    "CREATE TABLE Worker (\n",
    "WORKER_ID INT,\n",
    "FIRST_NAME CHAR(25),\n",
    "LAST_NAME CHAR(25),\n",
    "SALARY INT(15),\n",
    "JOINING_DATE DATETIME,\n",
    "DEPARTMENT CHAR(25)\n",
    ");"
   ]
  },
  {
   "cell_type": "code",
   "execution_count": 9,
   "id": "bf66785a",
   "metadata": {},
   "outputs": [
    {
     "name": "stdout",
     "output_type": "stream",
     "text": [
      " * sqlite://\n",
      "1 rows affected.\n",
      "1 rows affected.\n",
      "1 rows affected.\n",
      "1 rows affected.\n",
      "1 rows affected.\n",
      "1 rows affected.\n",
      "1 rows affected.\n",
      "1 rows affected.\n"
     ]
    },
    {
     "data": {
      "text/plain": [
       "[]"
      ]
     },
     "execution_count": 9,
     "metadata": {},
     "output_type": "execute_result"
    }
   ],
   "source": [
    "%%sql\n",
    "INSERT INTO Worker VALUES(1, 'Monika', 'Arora', 100000, '14-02-20 09.00.00', 'HR');\n",
    "INSERT INTO Worker VALUES(2, 'Niharika', 'Verma', 80000, '14-06-11 09.00.00', 'Admin');\n",
    "INSERT INTO Worker VALUES(3, 'Vishal', 'Singhal', 300000, '14-02-20 09.00.00', 'HR');\n",
    "INSERT INTO Worker VALUES(4, 'Amitabh', 'Singh', 500000, '14-02-20 09.00.00', 'Admin');\n",
    "INSERT INTO Worker VALUES(5, 'Vivek', 'Bhati', 500000, '14-06-11 09.00.00', 'Admin');\n",
    "INSERT INTO Worker VALUES(6, 'Vipul', 'Diwan', 200000, '14-06-11 09.00.00', 'Account');\n",
    "INSERT INTO Worker VALUES(7, 'Satish', 'Kumar', 75000, '14-01-20 09.00.00', 'Account');\n",
    "INSERT INTO Worker VALUES(8, 'Geetika', 'Chauhan', 90000, '14-04-11 09.00.00', 'Admin');"
   ]
  },
  {
   "cell_type": "markdown",
   "id": "ea3fa204",
   "metadata": {},
   "source": [
    "#### Q-1. Write an SQL query to print the FIRST_NAME from Worker table after removing white spaces from the right side."
   ]
  },
  {
   "cell_type": "code",
   "execution_count": 10,
   "id": "73ede81c",
   "metadata": {},
   "outputs": [
    {
     "name": "stdout",
     "output_type": "stream",
     "text": [
      " * sqlite://\n",
      "Done.\n"
     ]
    },
    {
     "data": {
      "text/html": [
       "<table>\n",
       "    <tr>\n",
       "        <th>RTRIM(First_name)</th>\n",
       "    </tr>\n",
       "    <tr>\n",
       "        <td>Monika</td>\n",
       "    </tr>\n",
       "    <tr>\n",
       "        <td>Niharika</td>\n",
       "    </tr>\n",
       "    <tr>\n",
       "        <td>Vishal</td>\n",
       "    </tr>\n",
       "    <tr>\n",
       "        <td>Amitabh</td>\n",
       "    </tr>\n",
       "    <tr>\n",
       "        <td>Vivek</td>\n",
       "    </tr>\n",
       "    <tr>\n",
       "        <td>Vipul</td>\n",
       "    </tr>\n",
       "    <tr>\n",
       "        <td>Satish</td>\n",
       "    </tr>\n",
       "    <tr>\n",
       "        <td>Geetika</td>\n",
       "    </tr>\n",
       "</table>"
      ],
      "text/plain": [
       "[('Monika',),\n",
       " ('Niharika',),\n",
       " ('Vishal',),\n",
       " ('Amitabh',),\n",
       " ('Vivek',),\n",
       " ('Vipul',),\n",
       " ('Satish',),\n",
       " ('Geetika',)]"
      ]
     },
     "execution_count": 10,
     "metadata": {},
     "output_type": "execute_result"
    }
   ],
   "source": [
    "%%sql\n",
    "select RTRIM(First_name) from worker"
   ]
  },
  {
   "cell_type": "markdown",
   "id": "d8dc6a69",
   "metadata": {},
   "source": [
    "#### Q-2. Write an SQL query that fetches the unique values of DEPARTMENT from Worker table and prints its length."
   ]
  },
  {
   "cell_type": "code",
   "execution_count": 15,
   "id": "1d808228",
   "metadata": {},
   "outputs": [
    {
     "name": "stdout",
     "output_type": "stream",
     "text": [
      " * sqlite://\n",
      "Done.\n"
     ]
    },
    {
     "data": {
      "text/html": [
       "<table>\n",
       "    <tr>\n",
       "        <th>DEPARTMENT</th>\n",
       "    </tr>\n",
       "    <tr>\n",
       "        <td>HR</td>\n",
       "    </tr>\n",
       "    <tr>\n",
       "        <td>Admin</td>\n",
       "    </tr>\n",
       "    <tr>\n",
       "        <td>Account</td>\n",
       "    </tr>\n",
       "</table>"
      ],
      "text/plain": [
       "[('HR',), ('Admin',), ('Account',)]"
      ]
     },
     "execution_count": 15,
     "metadata": {},
     "output_type": "execute_result"
    }
   ],
   "source": [
    "%%sql\n",
    "select distinct(department) from worker where length(department)"
   ]
  },
  {
   "cell_type": "markdown",
   "id": "6116479c",
   "metadata": {},
   "source": [
    "#### Q-3. Write an SQL query to fetch nth max salaries from a table."
   ]
  },
  {
   "cell_type": "code",
   "execution_count": 16,
   "id": "b2244286",
   "metadata": {},
   "outputs": [
    {
     "name": "stdout",
     "output_type": "stream",
     "text": [
      " * sqlite://\n",
      "Done.\n"
     ]
    },
    {
     "data": {
      "text/html": [
       "<table>\n",
       "    <tr>\n",
       "        <th>max(salary)</th>\n",
       "    </tr>\n",
       "    <tr>\n",
       "        <td>500000</td>\n",
       "    </tr>\n",
       "</table>"
      ],
      "text/plain": [
       "[(500000,)]"
      ]
     },
     "execution_count": 16,
     "metadata": {},
     "output_type": "execute_result"
    }
   ],
   "source": [
    "%%sql\n",
    "select max(salary) from worker"
   ]
  },
  {
   "cell_type": "code",
   "execution_count": null,
   "id": "fb76bfc3",
   "metadata": {},
   "outputs": [],
   "source": []
  }
 ],
 "metadata": {
  "kernelspec": {
   "display_name": "Python 3 (ipykernel)",
   "language": "python",
   "name": "python3"
  },
  "language_info": {
   "codemirror_mode": {
    "name": "ipython",
    "version": 3
   },
   "file_extension": ".py",
   "mimetype": "text/x-python",
   "name": "python",
   "nbconvert_exporter": "python",
   "pygments_lexer": "ipython3",
   "version": "3.9.12"
  }
 },
 "nbformat": 4,
 "nbformat_minor": 5
}
