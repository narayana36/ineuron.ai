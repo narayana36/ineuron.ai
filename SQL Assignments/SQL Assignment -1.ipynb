{
 "cells": [
  {
   "cell_type": "code",
   "execution_count": 1,
   "id": "0b076e15",
   "metadata": {},
   "outputs": [],
   "source": [
    "%load_ext sql"
   ]
  },
  {
   "cell_type": "code",
   "execution_count": 2,
   "id": "8d2851f5",
   "metadata": {},
   "outputs": [],
   "source": [
    "%reload_ext sql"
   ]
  },
  {
   "cell_type": "code",
   "execution_count": 3,
   "id": "1f239937",
   "metadata": {},
   "outputs": [],
   "source": [
    "%sql sqlite://"
   ]
  },
  {
   "cell_type": "markdown",
   "id": "f2de9718",
   "metadata": {},
   "source": [
    "#### Q-1. Write an SQL query to fetch “FIRST_NAME” from Worker table using the alias name as &lt;WORKER_NAME&gt;."
   ]
  },
  {
   "cell_type": "code",
   "execution_count": 5,
   "id": "44a8eaef",
   "metadata": {},
   "outputs": [
    {
     "name": "stdout",
     "output_type": "stream",
     "text": [
      " * sqlite://\n",
      "Done.\n"
     ]
    },
    {
     "data": {
      "text/plain": [
       "[]"
      ]
     },
     "execution_count": 5,
     "metadata": {},
     "output_type": "execute_result"
    }
   ],
   "source": [
    "%%sql\n",
    "CREATE TABLE WORKER(FIRST_NAME VARCHAR(50),LAST_NAME VARCHAR(50),DEPARTMENT VARCHAR(50))"
   ]
  },
  {
   "cell_type": "code",
   "execution_count": 6,
   "id": "99eb1616",
   "metadata": {},
   "outputs": [
    {
     "name": "stdout",
     "output_type": "stream",
     "text": [
      " * sqlite://\n",
      "1 rows affected.\n",
      "1 rows affected.\n",
      "1 rows affected.\n",
      "1 rows affected.\n",
      "1 rows affected.\n",
      "1 rows affected.\n",
      "1 rows affected.\n",
      "1 rows affected.\n",
      "1 rows affected.\n",
      "1 rows affected.\n",
      "1 rows affected.\n",
      "1 rows affected.\n",
      "1 rows affected.\n"
     ]
    },
    {
     "data": {
      "text/plain": [
       "[]"
      ]
     },
     "execution_count": 6,
     "metadata": {},
     "output_type": "execute_result"
    }
   ],
   "source": [
    "%%sql\n",
    "INSERT INTO WORKER VALUES(\"NARAYANA\",'REDDY','HR');\n",
    "INSERT INTO WORKER VALUES(\"VENKATA\",'REDDY','FINACE');\n",
    "INSERT INTO WORKER VALUES(\"VENKY\",'SANI','MARKETING');\n",
    "INSERT INTO WORKER VALUES(\"BABU\",'REDDY','MARKETING');\n",
    "INSERT INTO WORKER VALUES(\"NANI\",'REDDY','TECHNOLOGY');\n",
    "INSERT INTO WORKER VALUES(\"NARASIMHA\",'REDDY','HR');\n",
    "INSERT INTO WORKER VALUES(\"NAVEEN\",'REDDY','HR');\n",
    "INSERT INTO WORKER VALUES(\"PRASAD\",'REDDY','FINACE');\n",
    "INSERT INTO WORKER VALUES(\"AKILA\",'REDDY','FINACE');\n",
    "INSERT INTO WORKER VALUES(\"BABU\",'REDDY','TECHNOLOGY');\n",
    "INSERT INTO WORKER VALUES(\"MANI\",'REDDY','TECHNOLOGY');\n",
    "INSERT INTO WORKER VALUES(\"ANJI\",'REDDY','GENERAL');\n",
    "INSERT INTO WORKER VALUES(\"ANJALI\",'REDDY','GENERAL');"
   ]
  },
  {
   "cell_type": "code",
   "execution_count": 7,
   "id": "2925471c",
   "metadata": {},
   "outputs": [
    {
     "name": "stdout",
     "output_type": "stream",
     "text": [
      " * sqlite://\n",
      "Done.\n"
     ]
    },
    {
     "data": {
      "text/html": [
       "<table>\n",
       "    <tr>\n",
       "        <th>WORKER_NAME</th>\n",
       "    </tr>\n",
       "    <tr>\n",
       "        <td>NARAYANA</td>\n",
       "    </tr>\n",
       "    <tr>\n",
       "        <td>VENKATA</td>\n",
       "    </tr>\n",
       "    <tr>\n",
       "        <td>VENKY</td>\n",
       "    </tr>\n",
       "    <tr>\n",
       "        <td>BABU</td>\n",
       "    </tr>\n",
       "    <tr>\n",
       "        <td>NANI</td>\n",
       "    </tr>\n",
       "    <tr>\n",
       "        <td>NARASIMHA</td>\n",
       "    </tr>\n",
       "    <tr>\n",
       "        <td>NAVEEN</td>\n",
       "    </tr>\n",
       "    <tr>\n",
       "        <td>PRASAD</td>\n",
       "    </tr>\n",
       "    <tr>\n",
       "        <td>AKILA</td>\n",
       "    </tr>\n",
       "    <tr>\n",
       "        <td>BABU</td>\n",
       "    </tr>\n",
       "    <tr>\n",
       "        <td>MANI</td>\n",
       "    </tr>\n",
       "    <tr>\n",
       "        <td>ANJI</td>\n",
       "    </tr>\n",
       "    <tr>\n",
       "        <td>ANJALI</td>\n",
       "    </tr>\n",
       "</table>"
      ],
      "text/plain": [
       "[('NARAYANA',),\n",
       " ('VENKATA',),\n",
       " ('VENKY',),\n",
       " ('BABU',),\n",
       " ('NANI',),\n",
       " ('NARASIMHA',),\n",
       " ('NAVEEN',),\n",
       " ('PRASAD',),\n",
       " ('AKILA',),\n",
       " ('BABU',),\n",
       " ('MANI',),\n",
       " ('ANJI',),\n",
       " ('ANJALI',)]"
      ]
     },
     "execution_count": 7,
     "metadata": {},
     "output_type": "execute_result"
    }
   ],
   "source": [
    "%%sql\n",
    "select FIRST_NAME as WORKER_NAME from worker"
   ]
  },
  {
   "cell_type": "markdown",
   "id": "c84536e0",
   "metadata": {},
   "source": [
    "#### Q-2. Write an SQL query to fetch unique values of DEPARTMENT from Worker table."
   ]
  },
  {
   "cell_type": "code",
   "execution_count": 8,
   "id": "9337e4fe",
   "metadata": {},
   "outputs": [
    {
     "name": "stdout",
     "output_type": "stream",
     "text": [
      " * sqlite://\n",
      "Done.\n"
     ]
    },
    {
     "data": {
      "text/html": [
       "<table>\n",
       "    <tr>\n",
       "        <th>DEPARTMENT</th>\n",
       "    </tr>\n",
       "    <tr>\n",
       "        <td>HR</td>\n",
       "    </tr>\n",
       "    <tr>\n",
       "        <td>FINACE</td>\n",
       "    </tr>\n",
       "    <tr>\n",
       "        <td>MARKETING</td>\n",
       "    </tr>\n",
       "    <tr>\n",
       "        <td>TECHNOLOGY</td>\n",
       "    </tr>\n",
       "    <tr>\n",
       "        <td>GENERAL</td>\n",
       "    </tr>\n",
       "</table>"
      ],
      "text/plain": [
       "[('HR',), ('FINACE',), ('MARKETING',), ('TECHNOLOGY',), ('GENERAL',)]"
      ]
     },
     "execution_count": 8,
     "metadata": {},
     "output_type": "execute_result"
    }
   ],
   "source": [
    "%%sql\n",
    "select distinct department from worker"
   ]
  },
  {
   "cell_type": "markdown",
   "id": "b458e727",
   "metadata": {},
   "source": [
    "#### Q-3. Write an SQL query to show the last 5 record from a table."
   ]
  },
  {
   "cell_type": "code",
   "execution_count": 27,
   "id": "4d3fa356",
   "metadata": {},
   "outputs": [
    {
     "name": "stdout",
     "output_type": "stream",
     "text": [
      " * sqlite://\n",
      "Done.\n"
     ]
    },
    {
     "data": {
      "text/html": [
       "<table>\n",
       "    <tr>\n",
       "        <th>FIRST_NAME</th>\n",
       "        <th>LAST_NAME</th>\n",
       "        <th>DEPARTMENT</th>\n",
       "    </tr>\n",
       "    <tr>\n",
       "        <td>VENKY</td>\n",
       "        <td>SANI</td>\n",
       "        <td>MARKETING</td>\n",
       "    </tr>\n",
       "    <tr>\n",
       "        <td>VENKATA</td>\n",
       "        <td>REDDY</td>\n",
       "        <td>FINACE</td>\n",
       "    </tr>\n",
       "    <tr>\n",
       "        <td>PRASAD</td>\n",
       "        <td>REDDY</td>\n",
       "        <td>FINACE</td>\n",
       "    </tr>\n",
       "    <tr>\n",
       "        <td>NAVEEN</td>\n",
       "        <td>REDDY</td>\n",
       "        <td>HR</td>\n",
       "    </tr>\n",
       "    <tr>\n",
       "        <td>NARAYANA</td>\n",
       "        <td>REDDY</td>\n",
       "        <td>HR</td>\n",
       "    </tr>\n",
       "</table>"
      ],
      "text/plain": [
       "[('VENKY', 'SANI', 'MARKETING'),\n",
       " ('VENKATA', 'REDDY', 'FINACE'),\n",
       " ('PRASAD', 'REDDY', 'FINACE'),\n",
       " ('NAVEEN', 'REDDY', 'HR'),\n",
       " ('NARAYANA', 'REDDY', 'HR')]"
      ]
     },
     "execution_count": 27,
     "metadata": {},
     "output_type": "execute_result"
    }
   ],
   "source": [
    "%%sql\n",
    "select * from worker order by FIRST_NAME DESC LIMIT 5"
   ]
  },
  {
   "cell_type": "code",
   "execution_count": null,
   "id": "553229ff",
   "metadata": {},
   "outputs": [],
   "source": []
  }
 ],
 "metadata": {
  "kernelspec": {
   "display_name": "Python 3 (ipykernel)",
   "language": "python",
   "name": "python3"
  },
  "language_info": {
   "codemirror_mode": {
    "name": "ipython",
    "version": 3
   },
   "file_extension": ".py",
   "mimetype": "text/x-python",
   "name": "python",
   "nbconvert_exporter": "python",
   "pygments_lexer": "ipython3",
   "version": "3.9.12"
  }
 },
 "nbformat": 4,
 "nbformat_minor": 5
}
