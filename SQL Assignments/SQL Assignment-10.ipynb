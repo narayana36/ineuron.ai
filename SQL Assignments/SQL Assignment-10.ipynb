{
 "cells": [
  {
   "cell_type": "code",
   "execution_count": 1,
   "id": "bc2aa7bc",
   "metadata": {},
   "outputs": [],
   "source": [
    "%load_ext sql\n",
    "%reload_ext sql\n",
    "%sql sqlite://"
   ]
  },
  {
   "cell_type": "code",
   "execution_count": 3,
   "id": "aa38ea72",
   "metadata": {},
   "outputs": [
    {
     "name": "stdout",
     "output_type": "stream",
     "text": [
      " * sqlite://\n",
      "Done.\n"
     ]
    },
    {
     "data": {
      "text/plain": [
       "[]"
      ]
     },
     "execution_count": 3,
     "metadata": {},
     "output_type": "execute_result"
    }
   ],
   "source": [
    "%%sql\n",
    "CREATE TABLE employees (\n",
    "    emp_id INT PRIMARY KEY ,\n",
    "    first_name VARCHAR(50),\n",
    "    last_name VARCHAR(50),\n",
    "    salary INT);"
   ]
  },
  {
   "cell_type": "code",
   "execution_count": 4,
   "id": "612f54aa",
   "metadata": {},
   "outputs": [
    {
     "name": "stdout",
     "output_type": "stream",
     "text": [
      " * sqlite://\n",
      "6 rows affected.\n"
     ]
    },
    {
     "data": {
      "text/plain": [
       "[]"
      ]
     },
     "execution_count": 4,
     "metadata": {},
     "output_type": "execute_result"
    }
   ],
   "source": [
    "%%sql\n",
    "INSERT INTO employees VALUES\n",
    "(1,'Luke','Skywalker',100),\n",
    "(2,'Anakin','Skywalker',200),\n",
    "(3,'Liea','Skywalker',50),\n",
    "(4,'Rey','Skywalker',150),\n",
    "(5,'Han','Solo',100),\n",
    "(6,'Darth','Vader',150);"
   ]
  },
  {
   "cell_type": "markdown",
   "id": "efb35e69",
   "metadata": {},
   "source": [
    "#### Q-19. Write an SQL query to determine the 5th highest salary without using TOP or limitmethod."
   ]
  },
  {
   "cell_type": "code",
   "execution_count": 11,
   "id": "c75d2554",
   "metadata": {},
   "outputs": [
    {
     "name": "stdout",
     "output_type": "stream",
     "text": [
      " * sqlite://\n",
      "Done.\n"
     ]
    },
    {
     "data": {
      "text/html": [
       "<table>\n",
       "    <tr>\n",
       "        <th>R_NUM</th>\n",
       "        <th>first_name</th>\n",
       "        <th>salary</th>\n",
       "    </tr>\n",
       "    <tr>\n",
       "        <td>5</td>\n",
       "        <td>Han</td>\n",
       "        <td>100</td>\n",
       "    </tr>\n",
       "</table>"
      ],
      "text/plain": [
       "[(5, 'Han', 100)]"
      ]
     },
     "execution_count": 11,
     "metadata": {},
     "output_type": "execute_result"
    }
   ],
   "source": [
    "%%sql\n",
    "SELECT * FROM (SELECT ROW_NUMBER() OVER (ORDER BY salary DESC) AS R_NUM, first_name, salary FROM employees) as HEllO WHERE R_NUM=5;"
   ]
  },
  {
   "cell_type": "markdown",
   "id": "c6057c96",
   "metadata": {},
   "source": [
    "#### Q-20. Write an SQL query to fetch the list of employees with the same salary."
   ]
  },
  {
   "cell_type": "code",
   "execution_count": 9,
   "id": "206992e4",
   "metadata": {},
   "outputs": [
    {
     "name": "stdout",
     "output_type": "stream",
     "text": [
      " * sqlite://\n",
      "Done.\n"
     ]
    },
    {
     "data": {
      "text/html": [
       "<table>\n",
       "    <tr>\n",
       "        <th>emp_id</th>\n",
       "        <th>first_name</th>\n",
       "        <th>last_name</th>\n",
       "        <th>salary</th>\n",
       "    </tr>\n",
       "    <tr>\n",
       "        <td>3</td>\n",
       "        <td>Liea</td>\n",
       "        <td>Skywalker</td>\n",
       "        <td>50</td>\n",
       "    </tr>\n",
       "    <tr>\n",
       "        <td>1</td>\n",
       "        <td>Luke</td>\n",
       "        <td>Skywalker</td>\n",
       "        <td>100</td>\n",
       "    </tr>\n",
       "    <tr>\n",
       "        <td>5</td>\n",
       "        <td>Han</td>\n",
       "        <td>Solo</td>\n",
       "        <td>100</td>\n",
       "    </tr>\n",
       "    <tr>\n",
       "        <td>4</td>\n",
       "        <td>Rey</td>\n",
       "        <td>Skywalker</td>\n",
       "        <td>150</td>\n",
       "    </tr>\n",
       "    <tr>\n",
       "        <td>6</td>\n",
       "        <td>Darth</td>\n",
       "        <td>Vader</td>\n",
       "        <td>150</td>\n",
       "    </tr>\n",
       "    <tr>\n",
       "        <td>2</td>\n",
       "        <td>Anakin</td>\n",
       "        <td>Skywalker</td>\n",
       "        <td>200</td>\n",
       "    </tr>\n",
       "</table>"
      ],
      "text/plain": [
       "[(3, 'Liea', 'Skywalker', 50),\n",
       " (1, 'Luke', 'Skywalker', 100),\n",
       " (5, 'Han', 'Solo', 100),\n",
       " (4, 'Rey', 'Skywalker', 150),\n",
       " (6, 'Darth', 'Vader', 150),\n",
       " (2, 'Anakin', 'Skywalker', 200)]"
      ]
     },
     "execution_count": 9,
     "metadata": {},
     "output_type": "execute_result"
    }
   ],
   "source": [
    "%%sql\n",
    "SELECT * FROM employees ORDER BY salary ASC;"
   ]
  },
  {
   "cell_type": "code",
   "execution_count": null,
   "id": "33bebbb3",
   "metadata": {},
   "outputs": [],
   "source": []
  }
 ],
 "metadata": {
  "kernelspec": {
   "display_name": "Python 3 (ipykernel)",
   "language": "python",
   "name": "python3"
  },
  "language_info": {
   "codemirror_mode": {
    "name": "ipython",
    "version": 3
   },
   "file_extension": ".py",
   "mimetype": "text/x-python",
   "name": "python",
   "nbconvert_exporter": "python",
   "pygments_lexer": "ipython3",
   "version": "3.9.12"
  }
 },
 "nbformat": 4,
 "nbformat_minor": 5
}
