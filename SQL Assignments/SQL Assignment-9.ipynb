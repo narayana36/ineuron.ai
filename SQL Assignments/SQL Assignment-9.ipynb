{
 "cells": [
  {
   "cell_type": "code",
   "execution_count": 1,
   "id": "67bef34e",
   "metadata": {},
   "outputs": [],
   "source": [
    "%load_ext sql\n",
    "%reload_ext sql\n",
    "%sql sqlite://"
   ]
  },
  {
   "cell_type": "code",
   "execution_count": 2,
   "id": "82a73ffe",
   "metadata": {},
   "outputs": [
    {
     "name": "stdout",
     "output_type": "stream",
     "text": [
      " * sqlite://\n",
      "Done.\n"
     ]
    },
    {
     "data": {
      "text/plain": [
       "[]"
      ]
     },
     "execution_count": 2,
     "metadata": {},
     "output_type": "execute_result"
    }
   ],
   "source": [
    "%%sql\n",
    "CREATE TABLE Worker (\n",
    "WORKER_ID INT,\n",
    "FIRST_NAME CHAR(25),\n",
    "LAST_NAME CHAR(25),\n",
    "SALARY INT(15),\n",
    "JOINING_DATE DATETIME,\n",
    "DEPARTMENT CHAR(25)\n",
    ");"
   ]
  },
  {
   "cell_type": "code",
   "execution_count": 3,
   "id": "03765ff0",
   "metadata": {},
   "outputs": [
    {
     "name": "stdout",
     "output_type": "stream",
     "text": [
      " * sqlite://\n",
      "1 rows affected.\n",
      "1 rows affected.\n",
      "1 rows affected.\n",
      "1 rows affected.\n",
      "1 rows affected.\n",
      "1 rows affected.\n",
      "1 rows affected.\n",
      "1 rows affected.\n",
      "1 rows affected.\n",
      "1 rows affected.\n",
      "1 rows affected.\n"
     ]
    },
    {
     "data": {
      "text/plain": [
       "[]"
      ]
     },
     "execution_count": 3,
     "metadata": {},
     "output_type": "execute_result"
    }
   ],
   "source": [
    "%%sql\n",
    "INSERT INTO Worker VALUES(1, 'Monika', 'Arora', 100000, '14-02-20 09.00.00', 'HR');\n",
    "INSERT INTO Worker VALUES(2, 'Niharika', 'Verma', 80000, '14-06-11 09.00.00', 'Admin');\n",
    "INSERT INTO Worker VALUES(3, 'Vishal', 'Singhal', 300000, '14-02-20 09.00.00', 'HR');\n",
    "INSERT INTO Worker VALUES(4, 'Amitabh', 'Singh', 500000, '14-02-20 09.00.00', 'Admin');\n",
    "INSERT INTO Worker VALUES(5, 'Vivek', 'Bhati', 500000, '14-06-11 09.00.00', 'Admin');\n",
    "INSERT INTO Worker VALUES(6, 'Vipul', 'Diwan', 200000, '14-06-11 09.00.00', 'Account');\n",
    "INSERT INTO Worker VALUES(7, 'Satish', 'Kumar', 75000, '14-01-20 09.00.00', 'Account');\n",
    "INSERT INTO Worker VALUES(8, 'Geetika', 'Chauhan', 90000, '14-04-11 09.00.00', 'Admin');\n",
    "INSERT INTO Worker VALUES(9, 'Vipul', 'Diwan', 200000, '14-06-11 09.00.00', 'Account');\n",
    "INSERT INTO Worker VALUES(10, 'Amitabh', 'Singh', 500000, '14-02-20 09.00.00', 'Admin');\n",
    "INSERT INTO Worker VALUES(11, 'Niharika', 'Verma', 80000, '14-06-11 09.00.00', 'Admin');"
   ]
  },
  {
   "cell_type": "markdown",
   "id": "6c38ad6b",
   "metadata": {},
   "source": [
    "#### Q-17. Write an SQL query to show the top n (say 10) records of a table."
   ]
  },
  {
   "cell_type": "code",
   "execution_count": 8,
   "id": "829ddcb6",
   "metadata": {},
   "outputs": [
    {
     "name": "stdout",
     "output_type": "stream",
     "text": [
      " * sqlite://\n",
      "Done.\n"
     ]
    },
    {
     "data": {
      "text/html": [
       "<table>\n",
       "    <tr>\n",
       "        <th>WORKER_ID</th>\n",
       "        <th>FIRST_NAME</th>\n",
       "        <th>LAST_NAME</th>\n",
       "        <th>SALARY</th>\n",
       "        <th>JOINING_DATE</th>\n",
       "        <th>DEPARTMENT</th>\n",
       "    </tr>\n",
       "    <tr>\n",
       "        <td>1</td>\n",
       "        <td>Monika</td>\n",
       "        <td>Arora</td>\n",
       "        <td>100000</td>\n",
       "        <td>14-02-20 09.00.00</td>\n",
       "        <td>HR</td>\n",
       "    </tr>\n",
       "    <tr>\n",
       "        <td>2</td>\n",
       "        <td>Niharika</td>\n",
       "        <td>Verma</td>\n",
       "        <td>80000</td>\n",
       "        <td>14-06-11 09.00.00</td>\n",
       "        <td>Admin</td>\n",
       "    </tr>\n",
       "    <tr>\n",
       "        <td>3</td>\n",
       "        <td>Vishal</td>\n",
       "        <td>Singhal</td>\n",
       "        <td>300000</td>\n",
       "        <td>14-02-20 09.00.00</td>\n",
       "        <td>HR</td>\n",
       "    </tr>\n",
       "    <tr>\n",
       "        <td>4</td>\n",
       "        <td>Amitabh</td>\n",
       "        <td>Singh</td>\n",
       "        <td>500000</td>\n",
       "        <td>14-02-20 09.00.00</td>\n",
       "        <td>Admin</td>\n",
       "    </tr>\n",
       "    <tr>\n",
       "        <td>5</td>\n",
       "        <td>Vivek</td>\n",
       "        <td>Bhati</td>\n",
       "        <td>500000</td>\n",
       "        <td>14-06-11 09.00.00</td>\n",
       "        <td>Admin</td>\n",
       "    </tr>\n",
       "    <tr>\n",
       "        <td>6</td>\n",
       "        <td>Vipul</td>\n",
       "        <td>Diwan</td>\n",
       "        <td>200000</td>\n",
       "        <td>14-06-11 09.00.00</td>\n",
       "        <td>Account</td>\n",
       "    </tr>\n",
       "    <tr>\n",
       "        <td>7</td>\n",
       "        <td>Satish</td>\n",
       "        <td>Kumar</td>\n",
       "        <td>75000</td>\n",
       "        <td>14-01-20 09.00.00</td>\n",
       "        <td>Account</td>\n",
       "    </tr>\n",
       "    <tr>\n",
       "        <td>8</td>\n",
       "        <td>Geetika</td>\n",
       "        <td>Chauhan</td>\n",
       "        <td>90000</td>\n",
       "        <td>14-04-11 09.00.00</td>\n",
       "        <td>Admin</td>\n",
       "    </tr>\n",
       "    <tr>\n",
       "        <td>9</td>\n",
       "        <td>Vipul</td>\n",
       "        <td>Diwan</td>\n",
       "        <td>200000</td>\n",
       "        <td>14-06-11 09.00.00</td>\n",
       "        <td>Account</td>\n",
       "    </tr>\n",
       "    <tr>\n",
       "        <td>10</td>\n",
       "        <td>Amitabh</td>\n",
       "        <td>Singh</td>\n",
       "        <td>500000</td>\n",
       "        <td>14-02-20 09.00.00</td>\n",
       "        <td>Admin</td>\n",
       "    </tr>\n",
       "</table>"
      ],
      "text/plain": [
       "[(1, 'Monika', 'Arora', 100000, '14-02-20 09.00.00', 'HR'),\n",
       " (2, 'Niharika', 'Verma', 80000, '14-06-11 09.00.00', 'Admin'),\n",
       " (3, 'Vishal', 'Singhal', 300000, '14-02-20 09.00.00', 'HR'),\n",
       " (4, 'Amitabh', 'Singh', 500000, '14-02-20 09.00.00', 'Admin'),\n",
       " (5, 'Vivek', 'Bhati', 500000, '14-06-11 09.00.00', 'Admin'),\n",
       " (6, 'Vipul', 'Diwan', 200000, '14-06-11 09.00.00', 'Account'),\n",
       " (7, 'Satish', 'Kumar', 75000, '14-01-20 09.00.00', 'Account'),\n",
       " (8, 'Geetika', 'Chauhan', 90000, '14-04-11 09.00.00', 'Admin'),\n",
       " (9, 'Vipul', 'Diwan', 200000, '14-06-11 09.00.00', 'Account'),\n",
       " (10, 'Amitabh', 'Singh', 500000, '14-02-20 09.00.00', 'Admin')]"
      ]
     },
     "execution_count": 8,
     "metadata": {},
     "output_type": "execute_result"
    }
   ],
   "source": [
    "%%sql\n",
    "select * from worker limit 10"
   ]
  },
  {
   "cell_type": "markdown",
   "id": "d04a427b",
   "metadata": {},
   "source": [
    "#### Q-18. Write an SQL query to determine the nth (say n=5) highest salary from a table."
   ]
  },
  {
   "cell_type": "code",
   "execution_count": 15,
   "id": "5710a7e3",
   "metadata": {},
   "outputs": [
    {
     "name": "stdout",
     "output_type": "stream",
     "text": [
      " * sqlite://\n",
      "Done.\n"
     ]
    },
    {
     "data": {
      "text/html": [
       "<table>\n",
       "    <tr>\n",
       "        <th>SALARY</th>\n",
       "    </tr>\n",
       "    <tr>\n",
       "        <td>100000</td>\n",
       "    </tr>\n",
       "    <tr>\n",
       "        <td>80000</td>\n",
       "    </tr>\n",
       "    <tr>\n",
       "        <td>300000</td>\n",
       "    </tr>\n",
       "    <tr>\n",
       "        <td>500000</td>\n",
       "    </tr>\n",
       "    <tr>\n",
       "        <td>200000</td>\n",
       "    </tr>\n",
       "</table>"
      ],
      "text/plain": [
       "[(100000,), (80000,), (300000,), (500000,), (200000,)]"
      ]
     },
     "execution_count": 15,
     "metadata": {},
     "output_type": "execute_result"
    }
   ],
   "source": [
    "%%sql\n",
    "select distinct(salary) from Worker Desc LIMIT  5"
   ]
  },
  {
   "cell_type": "code",
   "execution_count": null,
   "id": "1f495a1f",
   "metadata": {},
   "outputs": [],
   "source": []
  }
 ],
 "metadata": {
  "kernelspec": {
   "display_name": "Python 3 (ipykernel)",
   "language": "python",
   "name": "python3"
  },
  "language_info": {
   "codemirror_mode": {
    "name": "ipython",
    "version": 3
   },
   "file_extension": ".py",
   "mimetype": "text/x-python",
   "name": "python",
   "nbconvert_exporter": "python",
   "pygments_lexer": "ipython3",
   "version": "3.9.12"
  }
 },
 "nbformat": 4,
 "nbformat_minor": 5
}
