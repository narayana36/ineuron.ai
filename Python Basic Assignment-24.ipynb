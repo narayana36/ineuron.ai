{
 "cells": [
  {
   "cell_type": "markdown",
   "id": "1ff0c3b4",
   "metadata": {},
   "source": [
    "#### 1. What is the relationship between def statements and lambda expressions ?"
   ]
  },
  {
   "cell_type": "markdown",
   "id": "1aa284be",
   "metadata": {},
   "source": [
    "The def keyword that makes the start of the function header. A function name to uniquely identify the function. Function naming follow the same rules of writting identifiers in python\n",
    "\n",
    "Lambdas are one-line methods without a name or we can say anonymous Function. They work practically the same as any other method in python Lambdas differ from normal python methods because they can have only one expression, can't contain any statements and their return type is a function object"
   ]
  },
  {
   "cell_type": "markdown",
   "id": "ec3c192a",
   "metadata": {},
   "source": [
    "#### 2. What is the benefit of lambda?"
   ]
  },
  {
   "cell_type": "markdown",
   "id": "188a9dfd",
   "metadata": {},
   "source": [
    "Fewer lines of Code Lambda functions are inline fuctions and thus execute comparatively faster Many times lambda functions make code much more readeble by avoiding the logical jumps caused by function calls"
   ]
  },
  {
   "cell_type": "markdown",
   "id": "1d333815",
   "metadata": {},
   "source": [
    "#### 3. Compare and contrast map, filter, and reduce."
   ]
  },
  {
   "cell_type": "markdown",
   "id": "5cd3992a",
   "metadata": {},
   "source": [
    "The first argument func is the name of a function and the second argument , iterable ,should be a sequence (e.g. a list , tuple ,string etc) or anything that can be used with for loop.\n",
    "\n",
    "map() applies the function func to all the elements of the sequence iterable Its syntax is r = map(func, iterable)\n",
    "\n",
    "The filter() function is used to create an output list consisting of values for which the function return true. its syntax is filter(function, iterable)\n",
    "\n",
    "The reduce() function, as the name describes, applies given function to the iterables and return a single value. its syntax is reduce(function, iterables)\n"
   ]
  },
  {
   "cell_type": "code",
   "execution_count": 1,
   "id": "9eaa5673",
   "metadata": {},
   "outputs": [
    {
     "name": "stdout",
     "output_type": "stream",
     "text": [
      "1\n",
      "4\n",
      "9\n",
      "16\n",
      "25\n"
     ]
    }
   ],
   "source": [
    "#Map function\n",
    "def square(num):\n",
    "    return num**2\n",
    "\n",
    "mynums=[1,2,3,4,5]\n",
    "for x in map(square,mynums):\n",
    "    print(x)\n"
   ]
  },
  {
   "cell_type": "code",
   "execution_count": 2,
   "id": "23cf1add",
   "metadata": {},
   "outputs": [
    {
     "name": "stdout",
     "output_type": "stream",
     "text": [
      "2\n",
      "4\n",
      "6\n"
     ]
    }
   ],
   "source": [
    "# Filter function\n",
    "def check_even(num):\n",
    "    return num%2==0\n",
    "\n",
    "mynums=[1,2,3,4,5,6]\n",
    "for x in filter(check_even,mynums):\n",
    "    print(x)"
   ]
  },
  {
   "cell_type": "code",
   "execution_count": 3,
   "id": "3a3caf9d",
   "metadata": {},
   "outputs": [
    {
     "name": "stdout",
     "output_type": "stream",
     "text": [
      "18\n"
     ]
    }
   ],
   "source": [
    "# Reduce function\n",
    "from functools import reduce\n",
    "\n",
    "list = [4, 3, 8, 3]\n",
    "print(reduce(lambda x, y: x + y, list))"
   ]
  },
  {
   "cell_type": "markdown",
   "id": "bef127e0",
   "metadata": {},
   "source": [
    "#### 4. What are function annotations, and how are they used?"
   ]
  },
  {
   "cell_type": "markdown",
   "id": "33ce4665",
   "metadata": {},
   "source": [
    "Function annotations are completely optional both for parameters and return value. Function annotations provide a way of associating various parts of a function with arbitrary python expressions at compile time.\n",
    "\n",
    "Syntax of function annotations for simple parameters and for excess parameters respectively:\n",
    "\n",
    "def foobar(a: expression, b: expression = 5):\n",
    "\n",
    "def foobar(args: expression, kwargs: expression):"
   ]
  },
  {
   "cell_type": "markdown",
   "id": "593f8741",
   "metadata": {},
   "source": [
    "#### 5. What are recursive functions, and how are they used?"
   ]
  },
  {
   "cell_type": "markdown",
   "id": "dee5e127",
   "metadata": {},
   "source": [
    "A recursive function is a function that calls itself during its execution. This means that the function will continue to call itself and repeat its behavior until some condition is met to return a result"
   ]
  },
  {
   "cell_type": "code",
   "execution_count": 4,
   "id": "e5b22f0c",
   "metadata": {},
   "outputs": [
    {
     "data": {
      "text/plain": [
       "24"
      ]
     },
     "execution_count": 4,
     "metadata": {},
     "output_type": "execute_result"
    }
   ],
   "source": [
    "def fact(x):\n",
    "    if x==1:\n",
    "        return 1\n",
    "    else:\n",
    "        return x* fact(x-1)\n",
    "    \n",
    "fact(4)"
   ]
  },
  {
   "cell_type": "markdown",
   "id": "c80be0ad",
   "metadata": {},
   "source": [
    "#### 6. What are some general design guidelines for coding functions?"
   ]
  },
  {
   "cell_type": "markdown",
   "id": "538ed062",
   "metadata": {},
   "source": [
    "Use 4-space indentation and no tabs.\n",
    "\n",
    "Use docstrings\n",
    "\n",
    "Wrap lines so that they don’t exceed 79 characters\n",
    "\n",
    "Use of regular and updated comments are valuable to both the coders and users\n",
    "\n",
    "Use of trailing commas : in case of tuple -> ('good',)"
   ]
  },
  {
   "cell_type": "markdown",
   "id": "3ec88e5a",
   "metadata": {},
   "source": [
    "#### 7. Name three or more ways that functions can communicate results to a caller."
   ]
  },
  {
   "cell_type": "markdown",
   "id": "6bf65e4b",
   "metadata": {},
   "source": [
    "To call a function, we spaecify the function name with the round brackets.\n",
    "\n",
    "Use of return keyword inside function which return the results to the caller.\n",
    "\n",
    "Use of print statement inside function which prints the results to the caller."
   ]
  },
  {
   "cell_type": "code",
   "execution_count": null,
   "id": "54543c8e",
   "metadata": {},
   "outputs": [],
   "source": []
  }
 ],
 "metadata": {
  "kernelspec": {
   "display_name": "Python 3 (ipykernel)",
   "language": "python",
   "name": "python3"
  },
  "language_info": {
   "codemirror_mode": {
    "name": "ipython",
    "version": 3
   },
   "file_extension": ".py",
   "mimetype": "text/x-python",
   "name": "python",
   "nbconvert_exporter": "python",
   "pygments_lexer": "ipython3",
   "version": "3.9.12"
  }
 },
 "nbformat": 4,
 "nbformat_minor": 5
}
