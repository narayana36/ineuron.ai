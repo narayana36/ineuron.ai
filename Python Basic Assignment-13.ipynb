{
 "cells": [
  {
   "cell_type": "markdown",
   "id": "b7188296",
   "metadata": {},
   "source": [
    "#### 1. What advantages do Excel spreadsheets have over CSV spreadsheets?"
   ]
  },
  {
   "cell_type": "markdown",
   "id": "6a05b21a",
   "metadata": {},
   "source": [
    "Excel is more suprior when compared with the CSV file format; thus, CSV consumes less amount of file size when the user is importing data; it is a much faster fromat compared to excel. CSV does not manipulate data and stores it as-is. Excel also allows the user the add-in feature."
   ]
  },
  {
   "cell_type": "markdown",
   "id": "1a9b1888",
   "metadata": {},
   "source": [
    "#### 2.What do you pass to csv.reader() and csv.writer() to create reader and writer objects?"
   ]
  },
  {
   "cell_type": "markdown",
   "id": "12b28383",
   "metadata": {},
   "source": [
    "csv.reader() is reading of each line of read object and csv.writer() is write a specific line of write something"
   ]
  },
  {
   "cell_type": "markdown",
   "id": "b44a81f9",
   "metadata": {},
   "source": [
    "#### 3. What modes do File objects for reader and writer objects need to be opened in?"
   ]
  },
  {
   "cell_type": "markdown",
   "id": "68b9a40f",
   "metadata": {},
   "source": [
    "'r'-Read Mode: This is the default mode for open(). The file is opended and a pointer is positioned at the beginnig of the file's content \n",
    "    \n",
    "'w'- Write mode: Using this mode will overwrite any existing content in a file. If the given file does not exist, a new one will be created.\n",
    "\n",
    "'r+'- Read/Write Mode: Use this mode if you need to simultaneously read and write to a file   "
   ]
  },
  {
   "cell_type": "markdown",
   "id": "5669e03c",
   "metadata": {},
   "source": [
    "#### 4. What method takes a list argument and writes it to a CSV file?"
   ]
  },
  {
   "cell_type": "markdown",
   "id": "2b2ee956",
   "metadata": {},
   "source": [
    "writer class provides two methods for writting to CSV. They are writerow() and writerows()"
   ]
  },
  {
   "cell_type": "markdown",
   "id": "c9f3540c",
   "metadata": {},
   "source": [
    "#### 5. What do the keyword arguments delimiter and line terminator do?"
   ]
  },
  {
   "cell_type": "markdown",
   "id": "4ae63f11",
   "metadata": {},
   "source": [
    "The delimiter is the character that appears between cells on a row. By default, the delimiter for a CSV file is a comma. The line terminator is the character that comes at the end of a row. by default, the line terminator is a newline."
   ]
  },
  {
   "cell_type": "markdown",
   "id": "c8f0b7a4",
   "metadata": {},
   "source": [
    "#### 6. What function takes a string of JSON data and returns a Python data structure?"
   ]
  },
  {
   "cell_type": "markdown",
   "id": "f09f9354",
   "metadata": {},
   "source": [
    "json.loads() method return Python data structure of JSON string or data"
   ]
  },
  {
   "cell_type": "markdown",
   "id": "e2b4b3a8",
   "metadata": {},
   "source": [
    "#### 7. What function takes a Python data structure and returns a string of JSON data?"
   ]
  },
  {
   "cell_type": "markdown",
   "id": "578fc764",
   "metadata": {},
   "source": [
    "json.dump() return a string of JSON data of Python data structure"
   ]
  },
  {
   "cell_type": "code",
   "execution_count": null,
   "id": "cce78141",
   "metadata": {},
   "outputs": [],
   "source": []
  }
 ],
 "metadata": {
  "kernelspec": {
   "display_name": "Python 3 (ipykernel)",
   "language": "python",
   "name": "python3"
  },
  "language_info": {
   "codemirror_mode": {
    "name": "ipython",
    "version": 3
   },
   "file_extension": ".py",
   "mimetype": "text/x-python",
   "name": "python",
   "nbconvert_exporter": "python",
   "pygments_lexer": "ipython3",
   "version": "3.9.12"
  }
 },
 "nbformat": 4,
 "nbformat_minor": 5
}
