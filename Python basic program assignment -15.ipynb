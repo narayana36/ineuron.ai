{
 "cells": [
  {
   "cell_type": "markdown",
   "id": "b4961820",
   "metadata": {},
   "source": [
    "1.Please write a program using generator to print the numbers which can be divisible by 5 and\n",
    "7 between 0 and n in comma separated form while n is input by console.\n",
    "\n",
    "Example:\n",
    "\n",
    "If the following n is given as input to the program:\n",
    "\n",
    "100\n",
    "\n",
    "Then, the output of the program should be:\n",
    "\n",
    "0,35,70"
   ]
  },
  {
   "cell_type": "code",
   "execution_count": 1,
   "id": "63aee972",
   "metadata": {},
   "outputs": [
    {
     "name": "stdout",
     "output_type": "stream",
     "text": [
      "enter n:100\n",
      "0,35,70\n"
     ]
    }
   ],
   "source": [
    "def gen(n):\n",
    "    i=0\n",
    "    while i<n:\n",
    "        j = i\n",
    "        i += 1\n",
    "        if j%7==0 and j%5 ==0:\n",
    "            yield j\n",
    "n= int(input('enter n:'))\n",
    "num= []\n",
    "for i in gen(n):\n",
    "    num.append(str(i))\n",
    "    \n",
    "print(','.join(num))"
   ]
  },
  {
   "cell_type": "markdown",
   "id": "b5166fc3",
   "metadata": {},
   "source": [
    "2.Please write a program using generator to print the even numbers between 0 and n in comma\n",
    "separated form while n is input by console.\n",
    "\n",
    "Example:\n",
    "\n",
    "If the following n is given as input to the program:\n",
    "\n",
    "10\n",
    "\n",
    "Then, the output of the program should be:\n",
    "\n",
    "0,2,4,6,8,10"
   ]
  },
  {
   "cell_type": "code",
   "execution_count": 2,
   "id": "c001e2bb",
   "metadata": {},
   "outputs": [
    {
     "name": "stdout",
     "output_type": "stream",
     "text": [
      "enter n: 10\n",
      "0,2,4,6,8\n"
     ]
    }
   ],
   "source": [
    "def gen(n):\n",
    "    i=0\n",
    "    while i<n:\n",
    "        j = i\n",
    "        i += 1\n",
    "        if i%2 != 0:\n",
    "            yield j\n",
    "n = int(input('enter n: '))\n",
    "num = []\n",
    "for i in gen(n):\n",
    "    num.append(str(i))\n",
    "            \n",
    "print(','.join(num))"
   ]
  },
  {
   "cell_type": "markdown",
   "id": "68c4aef2",
   "metadata": {},
   "source": [
    "3.The Fibonacci Sequence is computed based on the following formula:\n",
    "\n",
    "f(n)=0 if n=0\n",
    "\n",
    "f(n)=1 if n=1\n",
    "\n",
    "f(n)=f(n-1)+f(n-2) if n&gt;1\n",
    "\n",
    "Please write a program using list comprehension to print the Fibonacci Sequence in comma\n",
    "separated form with a given n input by console.\n",
    "\n",
    "Example:\n",
    "\n",
    "If the following n is given as input to the program:\n",
    "\n",
    "7\n",
    "\n",
    "Then, the output of the program should be:\n",
    "\n",
    "0,1,1,2,3,5,8,13"
   ]
  },
  {
   "cell_type": "code",
   "execution_count": 3,
   "id": "cbf2e14a",
   "metadata": {},
   "outputs": [
    {
     "name": "stdout",
     "output_type": "stream",
     "text": [
      "Enter a number: 7\n",
      "0,1,1,2,3,5,8,13\n"
     ]
    }
   ],
   "source": [
    "def fib(n):\n",
    "    if n == 0:\n",
    "        return 0\n",
    "    elif n==1:\n",
    "        return 1\n",
    "    else:\n",
    "        return fib(n-1)+fib(n-2)\n",
    "n = int(input('Enter a number: '))\n",
    "values = [str(fib(x)) for x in range(0,n+1)]\n",
    "print(','.join(values))"
   ]
  },
  {
   "cell_type": "markdown",
   "id": "feeb231a",
   "metadata": {},
   "source": [
    "4.Assuming that we have some email addresses in the &quot;username@companyname.com&quot; format,\n",
    "please write program to print the user name of a given email address. Both user names and\n",
    "company names are composed of letters only.\n",
    "\n",
    "Example:\n",
    "\n",
    "If the following email address is given as input to the program:\n",
    "\n",
    "john@google.com\n",
    "\n",
    "Then, the output of the program should be:\n",
    "\n",
    "john"
   ]
  },
  {
   "cell_type": "code",
   "execution_count": 4,
   "id": "4653435b",
   "metadata": {},
   "outputs": [
    {
     "name": "stdout",
     "output_type": "stream",
     "text": [
      "Enter the email address: john@google.com\n",
      "name is:  john\n",
      "comapany is:  google\n"
     ]
    }
   ],
   "source": [
    "email = input('Enter the email address: ').split('@')\n",
    "comapny = str(email[1]).split('.')\n",
    "print('name is: ',email[0])\n",
    "print('comapany is: ',comapny[0])"
   ]
  },
  {
   "cell_type": "markdown",
   "id": "b4c63bdb",
   "metadata": {},
   "source": [
    "5.Define a class named Shape and its subclass Square. The Square class has an init function\n",
    "which takes a length as argument. Both classes have a area function which can print the area\n",
    "of the shape where Shape&#39;s area is 0 by default."
   ]
  },
  {
   "cell_type": "code",
   "execution_count": 5,
   "id": "d915c875",
   "metadata": {},
   "outputs": [
    {
     "data": {
      "text/plain": [
       "36"
      ]
     },
     "execution_count": 5,
     "metadata": {},
     "output_type": "execute_result"
    }
   ],
   "source": [
    "class Shape(object):\n",
    "    def __init__(self):\n",
    "        pass\n",
    "    def area(self):\n",
    "        return 0\n",
    "    \n",
    "class Square(Shape):\n",
    "    def __init__(self,l):\n",
    "        self.length = l\n",
    "    \n",
    "    def area(self):\n",
    "        return self.length*self.length\n",
    "    \n",
    "    \n",
    "obsquare = Square(6)\n",
    "obsquare.area()"
   ]
  },
  {
   "cell_type": "code",
   "execution_count": null,
   "id": "19b8d2b5",
   "metadata": {},
   "outputs": [],
   "source": []
  }
 ],
 "metadata": {
  "kernelspec": {
   "display_name": "Python 3 (ipykernel)",
   "language": "python",
   "name": "python3"
  },
  "language_info": {
   "codemirror_mode": {
    "name": "ipython",
    "version": 3
   },
   "file_extension": ".py",
   "mimetype": "text/x-python",
   "name": "python",
   "nbconvert_exporter": "python",
   "pygments_lexer": "ipython3",
   "version": "3.9.12"
  }
 },
 "nbformat": 4,
 "nbformat_minor": 5
}
